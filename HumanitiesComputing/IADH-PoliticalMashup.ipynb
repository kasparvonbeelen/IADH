{
 "cells": [
  {
   "cell_type": "markdown",
   "metadata": {},
   "source": [
    "Before you start\n",
    "- Download Anaconda: https://www.anaconda.com/download\n",
    "        Choose Python 3.6 Version\n",
    "        Follow the installation instructions\n",
    "- Download the Notebook and data: https://github.com/kasparvonbeelen/Coding-the-Humanities\n",
    "        Open Anaconda Navigator\n",
    "        Launch Jupyter Notebook\n",
    "        This should open a tab in your browser\n",
    "        Go to the location where you cloned/unzipped the material downloaded from Github"
   ]
  },
  {
   "cell_type": "markdown",
   "metadata": {},
   "source": [
    "# Humanities Computing with Python\n",
    "\n",
    "Coding is not a gift but a skill acquired via practice. Coding is not the preserve of the computer scientists. It has value for almost any type of research, **also for the Humanities**. But for historians, linguists, philosophers learning how to make efficient use of computers takes more time; programming may, therefore,  seem a frustrating and pointless exercise at the beginning.\n",
    "\n",
    "Practice and persistency, here, are the key to success. Similar to learning a natural language, you only get proficient in coding through **exercise** (by doing it). Code, sleep, repeat, this is the mantra of this course, which is very hands-on: you will have to write a lot of programming code yourself from the very beginning.\n",
    "\n",
    "The theory is only secondary, more important is that you get the feel for coding."
   ]
  },
  {
   "cell_type": "markdown",
   "metadata": {},
   "source": [
    "Today\n",
    "- Setting up the Anacando Notebook Enviroment.\n",
    "- Reading and analysing Parliamentary data with Pandas (a Python library)."
   ]
  },
  {
   "cell_type": "markdown",
   "metadata": {},
   "source": [
    "### Hands-on? Run your own code\n",
    "\n",
    "For practising your coding skills, you can use the many 'code blocks' you will encounter below, such as the grey cell below. Place your cursor inside the cell and press ``ctrl+enter`` to \"run\" or execute the code. Let's begin right away: run your first little program! [MK]"
   ]
  },
  {
   "cell_type": "code",
   "execution_count": null,
   "metadata": {
    "collapsed": true
   },
   "outputs": [],
   "source": [
    "print('Hello, World!')"
   ]
  },
  {
   "cell_type": "markdown",
   "metadata": {},
   "source": [
    "### Questions:\n",
    "- Can you describe what the programme just did?\n",
    "- Can you adapt it to print your own name? (code block below)"
   ]
  },
  {
   "cell_type": "code",
   "execution_count": null,
   "metadata": {
    "collapsed": true
   },
   "outputs": [],
   "source": [
    "# Insert your own code here!\n",
    "# Use Python as a calculator\n",
    "print(??*??)"
   ]
  },
  {
   "cell_type": "markdown",
   "metadata": {},
   "source": [
    "## Teaching Method: Learning at Different Speeds\n",
    "\n",
    "At this point, you may think that, if we continue at this speed, we won't be getting very far. A problem with learning how to code is the **distance between obtaining the basics skills (the tedious part) and applying them to  real-world problems (the fun part)**.\n",
    "\n",
    "Therefore, we will make some bigger jumps (higher level functions from external libraries). I explain later in more detail with this means.\n",
    "\n",
    "Instead of following the classic sequence of 'variables', 'conditions', 'iterations' (and only introduce practical application later), we will jump to more practical application such as performing emotion mining a large set of JSON files.\n",
    "\n",
    "So remain **Zen**, and don't worry if everything is immediately clear."
   ]
  },
  {
   "cell_type": "code",
   "execution_count": null,
   "metadata": {
    "collapsed": true
   },
   "outputs": [],
   "source": [
    "# The Zen of Python. General coding guidelines.\n",
    "import this"
   ]
  },
  {
   "cell_type": "markdown",
   "metadata": {},
   "source": [
    "## The IPython Notebook Environment\n",
    "\n",
    "The document you opened in your browser is an IPython Notebook, an interactive coding environment in your browser. It broadly consists of two different types of cells: ``Code`` and ``Markdown``.\n",
    "** ``Code``** cells are preserved for running Python scripts.\n",
    "** ``Markdown``** cells can be used for adding notes to your Notebook document.\n",
    "The text you are reading now, is written using Markdown.\n",
    "\n",
    "\n",
    "**Click here**, the box should be marked by a black rectangle. If you **double click** the original [**Markdown**](https://en.wikipedia.org/wiki/Markdown) syntax appears, and you can add your own text. \n",
    "\n",
    "\n",
    "**Exercise**: Let's try. Enter your name below surrounded by ``**`` (two asterisks) to print it in bold type\n",
    "\n",
    "Hello, my name is [your name here]\n",
    "\n",
    "Then press ``run cell``, or press ``ctrl+enter``"
   ]
  },
  {
   "cell_type": "markdown",
   "metadata": {},
   "source": [
    "# Python and Support Libraries\n",
    "\n",
    "## Python\n",
    "\n",
    "#### **What** is Python?\n",
    "\n",
    "Python is a widely used **high-level** programming language for **general-purpose** programming.\n",
    "- **high level programming language**: In computer science, a high-level programming language is a programming language with **strong abstraction from the details of the computer**. In comparison to low-level programming languages, it may use natural language elements, be easier to use, or may automate (or even hide entirely) significant areas of computing systems (e.g. memory management), making the process of developing a program simpler and more understandable relative to a lower-level language. The amount of abstraction provided defines how \"high-level\" a programming language is.\n",
    "\n",
    "\n",
    "#### **Why** Python? \n",
    "\n",
    "In general Python is easier to learn and to read. The first example in this Notebook illustrates this point. In the C++ version the hello world programma looks like:\n",
    "\n",
    "C++ code below:\n",
    "``\n",
    "#include <iostream.h>\n",
    "\n",
    "void main()\n",
    "\n",
    "{\n",
    "    \n",
    "    cout << \"Hello, world.\" << endl;\n",
    "\n",
    "}\n",
    "\n",
    "``\n",
    "\n",
    "End of C++ code.\n",
    "\n",
    "while in Python version it simply was:\n",
    "\n",
    "``\n",
    "print(\"Hello, world.\")\n",
    "``\n",
    "\n",
    "\n",
    "So, why **Python**:\n",
    "\n",
    "- Software Quality: Python code is designed to be readable, and hence reusable and maintainable. \n",
    "- Developer Productivity: Python code is typically one-third to one-fifth the size of C++ or Java code. \n",
    "- Portability: Python code runs unchanged on all major computer platforms. \n",
    "- **General-purpose**: data analysis, web development etc.\n",
    "- **Support Libraries**: Standard, homegrown and third-party libraries.\n",
    "- **Widely used by the academic and scientific community!**"
   ]
  },
  {
   "cell_type": "markdown",
   "metadata": {},
   "source": [
    "## Pandas"
   ]
  },
  {
   "cell_type": "markdown",
   "metadata": {},
   "source": [
    "An example of such a third-party library that makes Python so powerful is [**Pandas**](https://pandas.pydata.org/), a.k.a. \"Excel on steroids\". Pandas facilitates data-analysis, and we will use some of its functionalities regularly in this lecture. Please check if you installed Pandas properly by running the cell below."
   ]
  },
  {
   "cell_type": "code",
   "execution_count": null,
   "metadata": {
    "collapsed": true
   },
   "outputs": [],
   "source": [
    "# Check if the Pandas Library is properly install\n",
    "import pandas as pd\n",
    "print('It works!')"
   ]
  },
  {
   "cell_type": "markdown",
   "metadata": {},
   "source": [
    "## Analyzing Parliamentary Speech with Python"
   ]
  },
  {
   "cell_type": "markdown",
   "metadata": {},
   "source": [
    "The previous section covered the most basic elements of Python. You know now how to assign values to variables. A variable is a **box** that can contain almost anything. Below we will take some bigger steps: instead of strings and integers, we scrutinize **a whole corpus of parliamentary speeches**. Don't worry if the code seems difficult--because it is hard at the first time (and we did not cover all the Python basics). The point of this sudden acceleration is to demonstrate the power of coding, to show you that with relatively few lines of code you can accomplish a lot."
   ]
  },
  {
   "cell_type": "markdown",
   "metadata": {
    "collapsed": true
   },
   "source": [
    "As an example we used all tweets of the current American President. These we obtained via the [Political Mashup] export function(http://search.politicalmashup.nl/"
   ]
  },
  {
   "cell_type": "markdown",
   "metadata": {
    "collapsed": true
   },
   "source": [
    "The database is a [CSV](https://en.wikipedia.org/wiki/Comma-separated_values) file in which each item is a speech. The cell below shows the first speech of the collection. "
   ]
  },
  {
   "cell_type": "markdown",
   "metadata": {},
   "source": [
    "Okay, let's have a closer look at the corpus, which includes all tweets after the inauguration. Pandas is a very useful library to load and interrogate data. Simply run the code below (and relax, you are not supposed to really understand everything, except maybe line 4)."
   ]
  },
  {
   "cell_type": "markdown",
   "metadata": {},
   "source": [
    "In Python the `=` notation means assigning a value (an object Python can manipulate) to a variable (a \"box\") in which we save the value."
   ]
  },
  {
   "cell_type": "code",
   "execution_count": null,
   "metadata": {},
   "outputs": [],
   "source": [
    "# assign value to a box with the name 22\n",
    "x = 22\n",
    "# print the content of the box\n",
    "print(x)"
   ]
  },
  {
   "cell_type": "markdown",
   "metadata": {},
   "source": [
    "We can also assign a whole CSV Table to a variable. \n",
    "\n",
    "CSV stands for Comma Separated Values: a table in which, on each row, the cells are separated by commas.\n",
    "\n",
    "Example of a CSV table:\n",
    "\n",
    "``\n",
    "A,B,C\n",
    "D,E,F\n",
    "``\n",
    "\n",
    "We can load a whole CSV Table in just one line, using the `read_csv()` function. In this table, each row contains a mention of a query term with limited context and metadata)."
   ]
  },
  {
   "cell_type": "code",
   "execution_count": null,
   "metadata": {},
   "outputs": [],
   "source": [
    "# import the pandas library`\n",
    "import pandas as pd\n",
    "\n",
    "dateparse = lambda x: pd.datetime.strptime(x,'%Y-%m-%d')\n",
    "\n",
    "# read the CSV file as assign \n",
    "df = pd.read_csv('data/immigration_uk.csv',\n",
    "                       header=0, # specify where the header is located\n",
    "                       sep=\",\", # specify the delimiter\n",
    "                       # additional \n",
    "                       escapechar=u'\\\\', # quotes inside the text are escaped\n",
    "                       parse_dates=['date'], # which column contains dates\n",
    "                       date_parser = dateparse # how to read dates\n",
    "                      )\n"
   ]
  },
  {
   "cell_type": "markdown",
   "metadata": {},
   "source": [
    "With these few lines, you managed to lead the whole corpus of Trump tweets."
   ]
  },
  {
   "cell_type": "code",
   "execution_count": null,
   "metadata": {},
   "outputs": [],
   "source": [
    "df.head(3)"
   ]
  },
  {
   "cell_type": "markdown",
   "metadata": {},
   "source": [
    "**Exercise 1**: What information does the table contain"
   ]
  },
  {
   "cell_type": "code",
   "execution_count": null,
   "metadata": {
    "collapsed": true
   },
   "outputs": [],
   "source": [
    "# wite in Markdown"
   ]
  },
  {
   "cell_type": "markdown",
   "metadata": {
    "collapsed": true
   },
   "source": [
    "**Exercise 2**: print the first 10 rows"
   ]
  },
  {
   "cell_type": "code",
   "execution_count": null,
   "metadata": {
    "collapsed": true
   },
   "outputs": [],
   "source": [
    "# your code here"
   ]
  },
  {
   "cell_type": "markdown",
   "metadata": {
    "scrolled": true
   },
   "source": [
    "**Exercise 3**:You can count the number of speeches by wrapping the \"len()\" function around the \"speeches\" variable. Try it!"
   ]
  },
  {
   "cell_type": "code",
   "execution_count": null,
   "metadata": {
    "collapsed": true
   },
   "outputs": [],
   "source": [
    "# your code here"
   ]
  },
  {
   "cell_type": "markdown",
   "metadata": {},
   "source": [
    "## Exploring Data"
   ]
  },
  {
   "cell_type": "markdown",
   "metadata": {},
   "source": [
    "Pandas allows you to inspect the data with the help of some descriptive statistics and plots. Run the cell below, otherwise the plots won't appear in the Notebook."
   ]
  },
  {
   "cell_type": "code",
   "execution_count": null,
   "metadata": {},
   "outputs": [],
   "source": [
    "# Run this cell to plot all figures in the Notebook\n",
    "%matplotlib inline\n",
    "df.describe()"
   ]
  },
  {
   "cell_type": "markdown",
   "metadata": {},
   "source": [
    "**Exercise 4**: What do these summary statistics mean?"
   ]
  },
  {
   "cell_type": "markdown",
   "metadata": {},
   "source": [
    "In Pandas we can easily plot a histogram to show us the distribution of the values. Below is a figure with the distribution of the paragraphs_count variable."
   ]
  },
  {
   "cell_type": "code",
   "execution_count": null,
   "metadata": {},
   "outputs": [],
   "source": [
    "df['paragraphs_count'].plot(kind='hist',bins=100)"
   ]
  },
  {
   "cell_type": "markdown",
   "metadata": {},
   "source": [
    "**Exercise 5**: can you explain in simple terms what the distribution plot actually shows?"
   ]
  },
  {
   "cell_type": "markdown",
   "metadata": {},
   "source": [
    "The variable `score` is one for each observation of the word immigration (i.e. is one for all rows). You can check this is true with:"
   ]
  },
  {
   "cell_type": "code",
   "execution_count": null,
   "metadata": {},
   "outputs": [],
   "source": [
    "sum(df.score) == len(df)"
   ]
  },
  {
   "cell_type": "markdown",
   "metadata": {},
   "source": [
    "Now let's make a barplot that shows how the speeches are distributed over the different parties"
   ]
  },
  {
   "cell_type": "code",
   "execution_count": null,
   "metadata": {},
   "outputs": [],
   "source": [
    "df['score'].groupby(df.party).sum().plot(kind='bar',alpha=0.75, rot=90)"
   ]
  },
  {
   "cell_type": "markdown",
   "metadata": {},
   "source": [
    "Obviously, Labour and Conservatives are overrepresented. Let's jus discard the other parties. In Pandas, there are different ways for selecting a subset of the data."
   ]
  },
  {
   "cell_type": "code",
   "execution_count": null,
   "metadata": {},
   "outputs": [],
   "source": [
    "print(df.shape)\n",
    "df_red = df[df.party.isin(['Labour','Conservative'])]\n",
    "print(df_red.shape)"
   ]
  },
  {
   "cell_type": "markdown",
   "metadata": {},
   "source": [
    "The line `df.party.isin(['Labour','Conservative']` says as much as: select all rows for which the value of column party is either equal to 'Labour' or 'Conservative'."
   ]
  },
  {
   "cell_type": "markdown",
   "metadata": {},
   "source": [
    "or using the `or` notation with `|`:"
   ]
  },
  {
   "cell_type": "code",
   "execution_count": null,
   "metadata": {},
   "outputs": [],
   "source": [
    "print(df.shape)\n",
    "df_red = df[(df.party=='Labour') | (df.party=='Conservative')]\n",
    "print(df_red.shape)"
   ]
  },
  {
   "cell_type": "markdown",
   "metadata": {},
   "source": [
    "In Pandas, we can easily plot how different subsections of the data compare to each other. For example, let's plot the distribtion of the paragraphs_count by party."
   ]
  },
  {
   "cell_type": "code",
   "execution_count": null,
   "metadata": {},
   "outputs": [],
   "source": [
    "df_red.loc[df_red.party=='Labour'].paragraphs_count.plot(kind='hist',bins=100)\n",
    "df_red.loc[df_red.party=='Conservative'].paragraphs_count.plot(kind='hist',bins=100)"
   ]
  },
  {
   "cell_type": "markdown",
   "metadata": {},
   "source": [
    "Or compare the means and standard deviations (spread around the mean)."
   ]
  },
  {
   "cell_type": "code",
   "execution_count": null,
   "metadata": {},
   "outputs": [],
   "source": [
    "import numpy as np\n",
    "m_con = np.mean(df_red[df_red.party=='Conservative'].paragraphs_count)\n",
    "std_con = np.mean(df_red[df_red.party=='Conservative'].paragraphs_count)\n",
    "print('Mean = ',m_con,'Standard Deviation = ', std_con)"
   ]
  },
  {
   "cell_type": "markdown",
   "metadata": {},
   "source": [
    "**Exercise 6**: Print the mean and standard deviation of the variable `paragraphs_count` for the Labour party"
   ]
  },
  {
   "cell_type": "code",
   "execution_count": null,
   "metadata": {
    "collapsed": true
   },
   "outputs": [],
   "source": []
  },
  {
   "cell_type": "markdown",
   "metadata": {},
   "source": [
    "For closer inspection, you can sort the table by a certain column. "
   ]
  },
  {
   "cell_type": "code",
   "execution_count": null,
   "metadata": {},
   "outputs": [],
   "source": [
    "long_sp = df_red.sort_values('paragraphs_count',ascending=False)[:10]\n",
    "long_sp"
   ]
  },
  {
   "cell_type": "markdown",
   "metadata": {},
   "source": [
    "**Exercise 7**: Inverse the sorting (from high to low). Tip: In Python the opposite of `False` is `True`."
   ]
  },
  {
   "cell_type": "code",
   "execution_count": null,
   "metadata": {
    "collapsed": true
   },
   "outputs": [],
   "source": []
  },
  {
   "cell_type": "markdown",
   "metadata": {},
   "source": [
    "## Vader Sentiment Analyzer\n",
    "The variable paragraphs counts is not the most interesting one, let's have a look at the semtiment values of these mentions of immigration.\n",
    "\n",
    "For this we use **VADER**.\n",
    "\n",
    "[from Github](https://github.com/cjhutto/vaderSentiment): VADER (Valence Aware Dictionary and sEntiment Reasoner) is a lexicon and rule-based sentiment analysis tool.\n",
    "\n",
    "VADER uses a lexicon (a mapping of words to sentiment values, e.g bad=-1.0, good=+1.0) to compute the sentiment (positivity or negativity) of a text."
   ]
  },
  {
   "cell_type": "code",
   "execution_count": null,
   "metadata": {
    "collapsed": true
   },
   "outputs": [],
   "source": [
    "# we need to install the vader lexicon first\n",
    "import nltk\n",
    "nltk.download('vader_lexicon')"
   ]
  },
  {
   "cell_type": "markdown",
   "metadata": {},
   "source": [
    "Now load the VADER Sentiment analyzer"
   ]
  },
  {
   "cell_type": "code",
   "execution_count": null,
   "metadata": {
    "collapsed": true
   },
   "outputs": [],
   "source": [
    "from nltk.sentiment import vader\n",
    "analyzer = vader.SentimentIntensityAnalyzer()"
   ]
  },
  {
   "cell_type": "markdown",
   "metadata": {},
   "source": [
    "Below you can test VADER yourself by changing the value of the ``text`` variable, and running the code block. \n",
    "\n",
    "Can you trick the system? Not very easy isn't it?!"
   ]
  },
  {
   "cell_type": "code",
   "execution_count": null,
   "metadata": {},
   "outputs": [],
   "source": [
    "text = \"Not interesting.\"\n",
    "sentiments_analysis = analyzer.polarity_scores(text)\n",
    "print(sentiments_analysis)"
   ]
  },
  {
   "cell_type": "markdown",
   "metadata": {},
   "source": [
    "We are interested here in the compound, the combination of positive and negative sentiments. We can select this by putting the string 'compound' between square brackets"
   ]
  },
  {
   "cell_type": "code",
   "execution_count": null,
   "metadata": {
    "collapsed": true
   },
   "outputs": [],
   "source": [
    "sentiments_analysis['compound']"
   ]
  },
  {
   "cell_type": "markdown",
   "metadata": {},
   "source": [
    "**Exercise 8**: Select and print the `neg` and `pos` values for two snippets of text"
   ]
  },
  {
   "cell_type": "code",
   "execution_count": null,
   "metadata": {
    "collapsed": true
   },
   "outputs": [],
   "source": []
  },
  {
   "cell_type": "markdown",
   "metadata": {},
   "source": [
    "Now we can easily calculate the sentiment of each reference to immigration."
   ]
  },
  {
   "cell_type": "code",
   "execution_count": null,
   "metadata": {},
   "outputs": [],
   "source": [
    "# this defines a function that calculates the sentiment and returns the compound sentiment\n",
    "compound_sentiment = lambda x: analyzer.polarity_scores(x)['compound']\n",
    "# here we apply this function to each cell in the 'text' column\n",
    "df_red['compound_sentiment'] = df_red['text'].apply(compound_sentiment)"
   ]
  },
  {
   "cell_type": "markdown",
   "metadata": {},
   "source": [
    "`df_red['text'].apply(compound_sentiment)` can be almost read as natural language: to all cells in the 'text' column `apply` the compound_sentiment calculater. We assign these values to a new column with the name `compound_sentiment`."
   ]
  },
  {
   "cell_type": "code",
   "execution_count": null,
   "metadata": {},
   "outputs": [],
   "source": [
    "df_red.head(3)"
   ]
  },
  {
   "cell_type": "markdown",
   "metadata": {},
   "source": [
    "**Exercise 9**: Plot the distribution of the sentiment values (tip copy the code for creating the histograms)"
   ]
  },
  {
   "cell_type": "markdown",
   "metadata": {},
   "source": [
    "Now we can sort the table by the sentiment value in each row."
   ]
  },
  {
   "cell_type": "markdown",
   "metadata": {},
   "source": [
    "**Exercise 10**: revisit the sorting the paragraphs_counts above. Now create two variable `negative_speeches` and `positive speeches`"
   ]
  },
  {
   "cell_type": "code",
   "execution_count": null,
   "metadata": {},
   "outputs": [],
   "source": []
  },
  {
   "cell_type": "markdown",
   "metadata": {},
   "source": [
    "You can print the party and the text with the `itterows()` method:"
   ]
  },
  {
   "cell_type": "code",
   "execution_count": null,
   "metadata": {},
   "outputs": [],
   "source": [
    "for index,row in negative_speeches.iterrows():\n",
    "    print('Party: ',row.party,'\\n','Text: ',row.text)"
   ]
  },
  {
   "cell_type": "markdown",
   "metadata": {},
   "source": [
    "Now we can compute if Conservatives are more negative about immigration than Labour MPs."
   ]
  },
  {
   "cell_type": "code",
   "execution_count": null,
   "metadata": {},
   "outputs": [],
   "source": [
    "df_red.groupby('party')['compound_sentiment'].mean()"
   ]
  },
  {
   "cell_type": "markdown",
   "metadata": {},
   "source": [
    "`groupby` simply groups all the rows by the distint values of the specified column. Here it groups all rows by party. In other words, it temporarily splits the table in 'Labour' and 'Conservative' camps. Then we select the 'compound sentiment' column of each of these subgroups and compute the mean `mean()`."
   ]
  },
  {
   "cell_type": "markdown",
   "metadata": {},
   "source": [
    "**Exercise 11**: Is there a difference between the role a speaker takes up and the sentiment he or she expresses on immigration? "
   ]
  },
  {
   "cell_type": "code",
   "execution_count": null,
   "metadata": {
    "collapsed": true
   },
   "outputs": [],
   "source": []
  },
  {
   "cell_type": "markdown",
   "metadata": {},
   "source": [
    "We plot the distribution of sentiment scores for different parties, but this largely confirms the simple statistics generated above (this time we use density plot to better compare the two groups):"
   ]
  },
  {
   "cell_type": "code",
   "execution_count": null,
   "metadata": {},
   "outputs": [],
   "source": [
    "df_red[(df_red.party=='Labour')].compound_sentiment.plot(kind='kde')\n",
    "df_red[(df_red.party=='Conservative')].compound_sentiment.plot(kind='kde')"
   ]
  },
  {
   "cell_type": "markdown",
   "metadata": {},
   "source": [
    "**Exercise 12**: Plot distributions for the different roles."
   ]
  },
  {
   "cell_type": "code",
   "execution_count": null,
   "metadata": {},
   "outputs": [],
   "source": []
  },
  {
   "cell_type": "markdown",
   "metadata": {},
   "source": [
    "## Studying changes in content "
   ]
  },
  {
   "cell_type": "markdown",
   "metadata": {},
   "source": [
    "The code below allows you to search for specific words in the speeches corpus."
   ]
  },
  {
   "cell_type": "code",
   "execution_count": null,
   "metadata": {
    "collapsed": true
   },
   "outputs": [],
   "source": [
    "contains_word = lambda x,w: x.lower().find(w)"
   ]
  },
  {
   "cell_type": "code",
   "execution_count": null,
   "metadata": {},
   "outputs": [],
   "source": [
    "print('lala crime criminal'.find('crime'))\n",
    "print('lala '.find('crime'))"
   ]
  },
  {
   "cell_type": "markdown",
   "metadata": {},
   "source": [
    "`find()` returns the start position of the word you are searching for. If the word is not found, it returns -1. \n",
    "\n",
    "We can now apply the `contains_word` function to all the speeches and append these results as a new column."
   ]
  },
  {
   "cell_type": "code",
   "execution_count": null,
   "metadata": {},
   "outputs": [],
   "source": [
    "df_red['contains_crime'] = df_red['text'].apply(contains_word,w='crime')\n",
    "df_red.head(3)"
   ]
  },
  {
   "cell_type": "markdown",
   "metadata": {},
   "source": [
    "To select all speeches with the word crime, we take those rows whose value for 'contains_crime' is higher than or equal to zero."
   ]
  },
  {
   "cell_type": "code",
   "execution_count": null,
   "metadata": {},
   "outputs": [],
   "source": [
    "about_crime = df_red[df_red.contains_crime >= 0]"
   ]
  },
  {
   "cell_type": "markdown",
   "metadata": {},
   "source": [
    "**Exercise 13**: How many speeches about crime are there?"
   ]
  },
  {
   "cell_type": "markdown",
   "metadata": {},
   "source": [
    "Instead of just matching one pattern, we can make a function that looks how often a given list of words appears in a text."
   ]
  },
  {
   "cell_type": "markdown",
   "metadata": {},
   "source": [
    "Below is a function that counts how often each word in a list of occurs. A lot is happening here, we dissect the code below."
   ]
  },
  {
   "cell_type": "code",
   "execution_count": null,
   "metadata": {
    "collapsed": true
   },
   "outputs": [],
   "source": [
    "from collections import Counter\n",
    "from nltk import word_tokenize\n",
    "\n",
    "def count_words_from_list(text,words2count):\n",
    "    tokens = word_tokenize(text.lower()) # convert string to tokens\n",
    "    wordfreq = Counter(tokens) # count the tokens, i.e. map tokens to their frequency\n",
    "    counter = 0\n",
    "    for w in words2count:\n",
    "        counter+=wordfreq.get(w,0)\n",
    "    \n",
    "    return counter"
   ]
  },
  {
   "cell_type": "markdown",
   "metadata": {},
   "source": [
    "Let's start with the example text: 'Crime is no fun kids. No, stay of the drugs you little criminals!' and print what the code does at each stage."
   ]
  },
  {
   "cell_type": "code",
   "execution_count": null,
   "metadata": {},
   "outputs": [],
   "source": [
    "text = 'Crime is no fun kids. No, stay of the drugs you little criminals!'\n",
    "text_lower = text.lower()\n",
    "print(text_lower)\n",
    "tokens = word_tokenize(text_lower)\n",
    "print(tokens)\n",
    "wordfreq = Counter(tokens)\n",
    "print(wordfreq)"
   ]
  },
  {
   "cell_type": "markdown",
   "metadata": {},
   "source": [
    "After calculating the word frequencies we can count those we are intereted in"
   ]
  },
  {
   "cell_type": "code",
   "execution_count": null,
   "metadata": {},
   "outputs": [],
   "source": [
    "# create a counter variable that keeps track of the word frequncies\n",
    "counter = 0\n",
    "\n",
    "words2count = ['crime','criminals']\n",
    "for w in words2count:\n",
    "        # add the frequency of word w to the counter, if the word is not found add zero\n",
    "        counter+=wordfreq.get(w,0)\n",
    "\n",
    "print(counter)"
   ]
  },
  {
   "cell_type": "markdown",
   "metadata": {},
   "source": [
    "Let's study how often migration is associated with crime over the years. We look at the words 'crime' and 'criminal' (and their plurals). We apply the `count_words_from_list` function we created earlier to the corpus."
   ]
  },
  {
   "cell_type": "code",
   "execution_count": null,
   "metadata": {
    "collapsed": true
   },
   "outputs": [],
   "source": [
    "words2count = ['crime','criminal','crimes','criminals']"
   ]
  },
  {
   "cell_type": "code",
   "execution_count": null,
   "metadata": {},
   "outputs": [],
   "source": [
    "df_red['contains_crime'] = df_red['text'].apply(count_words_from_list,\n",
    "                                                            words2count=words2count)\n"
   ]
  },
  {
   "cell_type": "markdown",
   "metadata": {},
   "source": [
    "**Exercise 14**: Do Conservatives mention crime more than Labour MPs. You answer this by using the `groupby` function. Revisit the sentiment example:\n",
    "\n",
    "`df_red.groupby('party')['compound_sentiment'].mean()`\n",
    "\n",
    "Instead of `mean()` use `count()`"
   ]
  },
  {
   "cell_type": "code",
   "execution_count": null,
   "metadata": {},
   "outputs": [],
   "source": []
  },
  {
   "cell_type": "markdown",
   "metadata": {},
   "source": [
    "**Exercise 15**: Sort the table by how often the fragments mention crime related words. Select and inspect the 20 highest ranked."
   ]
  },
  {
   "cell_type": "markdown",
   "metadata": {},
   "source": [
    "We can now plot the the mentions of crime over time:"
   ]
  },
  {
   "cell_type": "code",
   "execution_count": null,
   "metadata": {},
   "outputs": [],
   "source": [
    "df_red.groupby('date')['contains_crime'].sum().plot()"
   ]
  },
  {
   "cell_type": "code",
   "execution_count": null,
   "metadata": {},
   "outputs": [],
   "source": [
    "df_red[df_red.party=='Labour'].groupby('date')['contains_crime'].sum().plot()\n",
    "df_red[df_red.party=='Conservative'].groupby('date')['contains_crime'].sum().plot()"
   ]
  },
  {
   "cell_type": "markdown",
   "metadata": {},
   "source": [
    "To plot the result nicely by year:"
   ]
  },
  {
   "cell_type": "code",
   "execution_count": null,
   "metadata": {},
   "outputs": [],
   "source": [
    "df_red[df_red.party=='Labour'].groupby(df_red.date.map(lambda x: x.year))['contains_crime'].sum().plot(color='r')\n",
    "df_red[df_red.party=='Conservative'].groupby(df_red.date.map(lambda x: x.year))['contains_crime'].sum().plot(color='b')"
   ]
  },
  {
   "cell_type": "markdown",
   "metadata": {},
   "source": [
    "Instead of looking at the absulote frequencies, we better study the probabilities."
   ]
  },
  {
   "cell_type": "code",
   "execution_count": null,
   "metadata": {
    "collapsed": true
   },
   "outputs": [],
   "source": [
    "def token_length(text):\n",
    "    return len(word_tokenize(text))"
   ]
  },
  {
   "cell_type": "code",
   "execution_count": null,
   "metadata": {},
   "outputs": [],
   "source": [
    "df_red['fragment_length'] = df['text'].apply(token_length)"
   ]
  },
  {
   "cell_type": "code",
   "execution_count": null,
   "metadata": {},
   "outputs": [],
   "source": [
    "crimes = df_red.groupby('date')['contains_crime'].sum()\n",
    "speeches = df_red.groupby('date')['fragment_length'].sum()\n",
    "(crimes / speeches).plot()"
   ]
  },
  {
   "cell_type": "markdown",
   "metadata": {},
   "source": [
    "Now split the timeline by party:"
   ]
  },
  {
   "cell_type": "code",
   "execution_count": null,
   "metadata": {},
   "outputs": [],
   "source": [
    "crimes_lab = df_red[df_red.party=='Labour'].groupby(df_red.date.map(lambda x: x.year))['contains_crime'].sum()\n",
    "speeches_lab = df_red[df_red.party=='Labour'].groupby(df_red.date.map(lambda x: x.year))['fragment_length'].sum()\n",
    "\n",
    "                                            \n",
    "crimes_con = df_red[df_red.party=='Conservative'].groupby(df_red.date.map(lambda x: x.year))['contains_crime'].sum()                                                                                        \n",
    "speeches_con = df_red[df_red.party=='Conservative'].groupby(df_red.date.map(lambda x: x.year))['fragment_length'].sum()\n",
    "(crimes_con / speeches_con).plot(color='b')\n",
    "(crimes_lab / speeches_lab).plot(color='r')"
   ]
  },
  {
   "cell_type": "markdown",
   "metadata": {},
   "source": [
    "How to interpret this timeline?"
   ]
  },
  {
   "cell_type": "code",
   "execution_count": null,
   "metadata": {},
   "outputs": [],
   "source": [
    "((crimes_con / speeches_con) - (crimes_lab / speeches_lab)).plot()"
   ]
  }
 ],
 "metadata": {
  "kernelspec": {
   "display_name": "Python 3",
   "language": "python",
   "name": "python3"
  },
  "language_info": {
   "codemirror_mode": {
    "name": "ipython",
    "version": 3
   },
   "file_extension": ".py",
   "mimetype": "text/x-python",
   "name": "python",
   "nbconvert_exporter": "python",
   "pygments_lexer": "ipython3",
   "version": "3.6.3"
  }
 },
 "nbformat": 4,
 "nbformat_minor": 1
}
