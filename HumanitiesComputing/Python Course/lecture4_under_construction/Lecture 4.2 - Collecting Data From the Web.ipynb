{
 "cells": [
  {
   "cell_type": "markdown",
   "metadata": {},
   "source": [
    "# Collecting Data From the Web"
   ]
  },
  {
   "cell_type": "markdown",
   "metadata": {},
   "source": [
    "Lecture is partly borrowed (or scrupolously stolen) from Damina Trilling's \"Doing Computational Social Science with Python: An Introduction\", Chapter 8."
   ]
  },
  {
   "cell_type": "markdown",
   "metadata": {},
   "source": [
    "By know you should have a basic understanding of various steps and techniques for content analysis. But where to get your data? Many sources are availably, but ultimately it depends on your research questions, really. Nonetheless, the Web is becoming one of biggest sources of information--for both historians of the recent past, as scholars in media studies. \n",
    "\n",
    "In this lecture, we have a closer look at techniques that help you to collect information from the Web, either through Web scraping or working with APIs (Application Programming Interfaces)."
   ]
  },
  {
   "cell_type": "markdown",
   "metadata": {},
   "source": [
    "# 1 Scraping Web Pages"
   ]
  },
  {
   "cell_type": "markdown",
   "metadata": {},
   "source": [
    "Scraping, broadly, consists of two steps[OR]: \n",
    "- Retrieving HTML data from a domain name\n",
    "- Parsing that data for target information\n",
    "- Storing the target information\n",
    "- Optionally, moving to another page to repeat the process"
   ]
  },
  {
   "cell_type": "markdown",
   "metadata": {},
   "source": [
    "In many ways, scraping resembles surfing the web without the use of a web browser--these are by itself a rather recent invention. But you can most of the same operation you'd perform in your browser (such as navigating to a another pages via a link, or saving material you find) in Python. \n",
    "\n",
    "Especially with regard to collecting information that is available in specific a structure, scraping makes life easier. Image, manually downloading more than a thousand books and selecting the useful information--completing this taks would easily take more than a few days, and require quite some tedious work. Luckily, with Python this can be done in just a few lines of code (and less of your time, as the script handles every step)."
   ]
  },
  {
   "cell_type": "markdown",
   "metadata": {},
   "source": [
    "## 1.1 Downloading Webpages"
   ]
  },
  {
   "cell_type": "markdown",
   "metadata": {},
   "source": [
    "Downloading a webpage with Python requires just one line of code using the urllib module."
   ]
  },
  {
   "cell_type": "code",
   "execution_count": 5,
   "metadata": {},
   "outputs": [
    {
     "name": "stdout",
     "output_type": "stream",
     "text": [
      "b'<!DOCTYPE html>\\n<html lang=\"en-US\" prefix=\"og: http://ogp.me/ns#\" class=\"no-js\">\\n<head>\\n\\t<script>\\n\\t\\tdocument.documentElement.className = document.documentElement.className.replace(/\\\\bno-js\\\\b/, \\'js\\');\\n\\t\\tdocument.createElement(\\'picture\\');\\n\\t</script>\\n\\t<meta charset=\"UTF-8\">\\n\\t<meta http-equiv=\"x-ua-compatible\" content=\"ie=edge\"><script type=\"text/javascript\">window.NREUM||(NREUM={}),__nr_require=function(e,t,n){function r(n){if(!t[n]){var o=t[n]={exports:{}};e[n][0].call(o.exports,function(t){var o=e[n][1][t];return r(o||t)},o,o.exports)}return t[n].exports}if(\"function\"==typeof __nr_require)return __nr_require;for(var o=0;o<n.length;o++)r(n[o]);return r}({1:[function(e,t,n){function r(){}function o(e,t,n){return function(){return i(e,[f.now()].concat(u(arguments)),t?null:this,n),t?void 0:this}}var i=e(\"handle\"),a=e(2),u=e(3),c=e(\"ee\").get(\"tracer\"),f=e(\"loader\"),s=NREUM;\"undefined\"==typeof window.newrelic&&(newrelic=s);var p=[\"setPageViewName\",\"setCustomAttribute\",\"setErrorHandler\",\"finis'\n"
     ]
    }
   ],
   "source": [
    "from urllib.request import urlopen\n",
    "html = urlopen(\"https://www.whitehouse.gov/issues/immigration/\")\n",
    "print(html.read()[:1000])"
   ]
  },
  {
   "cell_type": "markdown",
   "metadata": {},
   "source": [
    "[OR]So how does Python do this? Thanks to the plain-English nature of Python, the line"
   ]
  },
  {
   "cell_type": "code",
   "execution_count": null,
   "metadata": {
    "collapsed": true
   },
   "outputs": [],
   "source": [
    "from urllib.request import urlopen"
   ]
  },
  {
   "cell_type": "markdown",
   "metadata": {},
   "source": [
    "[OR]means what it looks like it means: it looks at the Python module request (found within the urllib library) and imports only the function urlopen."
   ]
  },
  {
   "cell_type": "markdown",
   "metadata": {},
   "source": [
    "[OR]urlopen is used to open a remote object across a network and read it. Because it is a fairly generic library (it can read HTML files, image files, or any other file stream with ease), we will be using it quite frequently throughout this lecture"
   ]
  },
  {
   "cell_type": "markdown",
   "metadata": {},
   "source": [
    "Reading webpages with Python is also fairly easy with the BeautifulSoup (BS) module. \n",
    "From [OR]\n",
    "\n",
    "\"The BeautifulSoup library was named after a Lewis Carroll poem of the same name in Alice’s Adventures in Wonderland. In the story, this poem is sung by a character called the Mock Turtle (itself a pun on the popular Victorian dish Mock Turtle Soup made not of turtle but of cow). Like its Wonderland namesake, BeautifulSoup tries to make sense of the nonsensical; it helps format and organize the messy web by fixing bad HTML and presenting us\n",
    "with easily-traversible Python objects representing XML structures.\""
   ]
  },
  {
   "cell_type": "markdown",
   "metadata": {},
   "source": [
    "Let's have a closer look at how this works using the official webpage of the White House. To obtain the Html version of this "
   ]
  },
  {
   "cell_type": "code",
   "execution_count": 10,
   "metadata": {},
   "outputs": [
    {
     "name": "stdout",
     "output_type": "stream",
     "text": [
      "<h1 class=\"page-header__title\">Immigration</h1>\n"
     ]
    }
   ],
   "source": [
    "from urllib.request import urlopen\n",
    "from bs4 import BeautifulSoup as bs\n",
    "\n",
    "html = urlopen(\"https://www.whitehouse.gov/issues/immigration/\")\n",
    "\n",
    "page = bs(html.read(),\"lxml\")"
   ]
  },
  {
   "cell_type": "markdown",
   "metadata": {},
   "source": [
    "[OR] As in the example before, we are importing the urlopen library and calling `html.read()` in order to get the HTML content of the page. This HTML content is then transformed into a BeautifulSoup object named `page`.\n",
    "\n",
    "To print main header elements we simply print `page.h1`."
   ]
  },
  {
   "cell_type": "code",
   "execution_count": null,
   "metadata": {
    "collapsed": true
   },
   "outputs": [],
   "source": [
    "print(page.h1)"
   ]
  },
  {
   "cell_type": "markdown",
   "metadata": {},
   "source": [
    "## 1.2 What is HTML, and why is it important?"
   ]
  },
  {
   "cell_type": "markdown",
   "metadata": {},
   "source": [
    "HTML is the acronym for HyperText Markup Language. You can think of it as an additional layer to the text that instructs your browser how to interpret and represent the text--for this reason it belongs to the family of markup languages (another famous member is XML, the eXtensible Markup Language).\n",
    "\n",
    "[From Wikipedia](https://en.wikipedia.org/wiki/HTML):\n",
    "\n",
    "HTML describes the structure of a web page **semantically** and originally included cues for the appearance of the document.\n",
    "\n",
    "\"**HTML elements** are the building blocks of HTML pages. With HTML constructs, images and other objects, such as interactive forms, may be embedded into the rendered page. It provides a means to create **structured documents** by denoting **structural semantics** for text such as *headings, paragraphs, lists, links, quotes and other items*. \n",
    "\n",
    "HTML elements are delineated by **tags**, written using angle brackets. Tags such as <img /> and <input /> introduce content into the page directly. Others such as <p>...</p> surround and provide information about document text and may include other tags as sub-elements. Browsers do not display the HTML tags, but use them to interpret the content of the page.\""
   ]
  },
  {
   "cell_type": "markdown",
   "metadata": {},
   "source": [
    "HTML markup consists of several key components, including those called **tags** (and their **attributes**), character-based data types, character references and entity references. HTML tags most commonly come in **pairs** like `<h1>` and `</h1>`, although some represent empty elements and so are unpaired, for example `<img>`. The first tag in such a pair is the **start** tag, and the second is the **end** tag (they are also called opening tags and closing tags).\n",
    "\n",
    "Another important component is the HTML document type declaration, which triggers standards mode rendering.\n",
    "\n",
    "The following is an example of the classic \"Hello, World!\" program, a common test employed for comparing programming languages, scripting languages and markup languages. This example is made using 9 source lines of code:"
   ]
  },
  {
   "cell_type": "raw",
   "metadata": {},
   "source": [
    "<!DOCTYPE html>\n",
    "<html>\n",
    "  <head>\n",
    "    <title>This is a title</title>\n",
    "  </head>\n",
    "  <body>\n",
    "    <p>Hello world!</p>\n",
    "  </body>\n",
    "</html>"
   ]
  },
  {
   "cell_type": "markdown",
   "metadata": {},
   "source": [
    "(The text between `<html>` and `</html>` describes the web page, and the text between `<body>` and `</body>` is the visible page content. The markup text `<title>This is a title</title>` defines the browser page title."
   ]
  },
  {
   "cell_type": "markdown",
   "metadata": {},
   "source": [
    "### 1.2.1 Common HTML Elements \n",
    "See [this page](http://www.thuto.org/ubh/web/html/tags1.htm) for a more comprehensive overview."
   ]
  },
  {
   "cell_type": "markdown",
   "metadata": {},
   "source": [
    "| Tag | Description |\n",
    "|-------|---------|\n",
    "| `<a>` | anchor |\n",
    "| `<b>` | show content in bold type |\n",
    "| `<blokquote>` | content shown as indented block |\n",
    "| `<div>` | dummy element that contains block-level elements. |\n",
    "| `<h1>`| heading level 1 |\n",
    "| `<h2>`| heading level 2 etc. | \n",
    "| `<img>` | image, must have a `src` and `alt` attribute. \n",
    "| | `src` locates the image file (`src=\"cat.jpg\".`) |\n",
    "| | `alt` refers to a brief description (`alt=\"Picture of my Cat\"`) |\n",
    "| `<table>` | tags that enclose a table |\n",
    "| `<td>` | table data cell|\n",
    "| `<th>` | table header cell |\n",
    "| `<tr>` | table row | "
   ]
  },
  {
   "cell_type": "markdown",
   "metadata": {},
   "source": [
    "## 1.3 Scraping Data: Some Examples"
   ]
  },
  {
   "cell_type": "markdown",
   "metadata": {},
   "source": [
    "Even though HTML only comprises a handful of common elements, the makup of pages often differs significantly and the scraper needs to be adjusted to the specific pages. Therefore, you end up b. \n",
    "\n",
    "Nonetheless, you'll likely end reconfiguring existing code.\n",
    "Below you'll find a few examples and guidelines for collecting information from the web.\n",
    "- Gathering Links (traversing the page tree)\n",
    "- Reading and writing tables"
   ]
  },
  {
   "cell_type": "code",
   "execution_count": null,
   "metadata": {
    "collapsed": true
   },
   "outputs": [],
   "source": [
    "## 1.3.1 Migration on the whitehouse.gov"
   ]
  },
  {
   "cell_type": "code",
   "execution_count": 25,
   "metadata": {},
   "outputs": [],
   "source": [
    "from bs4 import BeautifulSoup as bs\n",
    "import requests\n",
    "\n",
    "start_url = \"https://www.whitehouse.gov/issues/immigration/\"\n",
    "\n",
    "start_content = requests.get(start_url).content\n",
    "start_soup = bs(content,'lxml')"
   ]
  },
  {
   "cell_type": "code",
   "execution_count": null,
   "metadata": {
    "collapsed": true
   },
   "outputs": [],
   "source": [
    "Retrieving the urls with a recursive function"
   ]
  },
  {
   "cell_type": "code",
   "execution_count": 39,
   "metadata": {},
   "outputs": [
    {
     "name": "stdout",
     "output_type": "stream",
     "text": [
      "['https://www.whitehouse.gov/issues/immigration/', 'https://www.whitehouse.gov/issues/immigration/page/2/', 'https://www.whitehouse.gov/issues/immigration/page/3/', 'https://www.whitehouse.gov/issues/immigration/page/4/', 'https://www.whitehouse.gov/issues/immigration/page/5/']\n"
     ]
    }
   ],
   "source": [
    "def get_next(url,collector):\n",
    "    collector.append(url)\n",
    "    soup = bs(requests.get(url).content,'lxml')\n",
    "    next_a = soup.find('a',attrs={'class': 'pagination__next'})\n",
    "    if next_a:\n",
    "        url = next_a['href']\n",
    "        get_next(url,collector)\n",
    "    return collector\n",
    "    \n",
    "urls=get_next(start_url,[])\n",
    "print(urls)"
   ]
  },
  {
   "cell_type": "code",
   "execution_count": 46,
   "metadata": {},
   "outputs": [
    {
     "name": "stdout",
     "output_type": "stream",
     "text": [
      "['https://www.whitehouse.gov/briefings-statements/president-donald-j-trumps-weekly-address-121617/', 'https://www.whitehouse.gov/briefings-statements/president-donald-j-trumps-weekly-address-26/', 'https://www.whitehouse.gov/briefings-statements/statement-press-secretary-kate-steinle-case/', 'https://www.whitehouse.gov/briefings-statements/immigration-reform-law-institutes-brian-lonergan-america-seen-enough-tragedies-result-open-boarders/', 'https://www.whitehouse.gov/briefings-statements/trump-administration-immigration-policy-priorities/', 'https://www.whitehouse.gov/briefings-statements/secure-border-deterring-swiftly-removing-illegal-entrants/', 'https://www.whitehouse.gov/briefings-statements/president-donald-j-trumps-letter-house-senate-leaders-immigration-principles-policies/', 'https://www.whitehouse.gov/briefings-statements/establish-merit-based-reforms-promote-assimilation-financial-success/']\n",
      "['https://www.whitehouse.gov/briefings-statements/president-donald-j-trumps-weekly-address-121617/', 'https://www.whitehouse.gov/briefings-statements/president-donald-j-trumps-weekly-address-26/', 'https://www.whitehouse.gov/briefings-statements/statement-press-secretary-kate-steinle-case/', 'https://www.whitehouse.gov/briefings-statements/immigration-reform-law-institutes-brian-lonergan-america-seen-enough-tragedies-result-open-boarders/', 'https://www.whitehouse.gov/briefings-statements/trump-administration-immigration-policy-priorities/', 'https://www.whitehouse.gov/briefings-statements/secure-border-deterring-swiftly-removing-illegal-entrants/', 'https://www.whitehouse.gov/briefings-statements/president-donald-j-trumps-letter-house-senate-leaders-immigration-principles-policies/', 'https://www.whitehouse.gov/briefings-statements/establish-merit-based-reforms-promote-assimilation-financial-success/']\n"
     ]
    }
   ],
   "source": [
    "def get_briefings(main_page_url):\n",
    "    briefing_urls = []\n",
    "    soup = bs(requests.get(main_page_url).content,'lxml')\n",
    "\n",
    "    briefings = soup.find_all('h2',attrs={'class':'briefing-statement__title'})\n",
    "    for brief in briefings:\n",
    "        briefing_urls.append(brief.find('a')['href'])\n",
    "    print(briefing_urls)\n",
    "    return briefing_urls\n",
    "        \n",
    "briefing_url = get_briefings('https://www.whitehouse.gov/issues/immigration')  \n",
    "print(briefing_url)"
   ]
  },
  {
   "cell_type": "code",
   "execution_count": null,
   "metadata": {
    "collapsed": true
   },
   "outputs": [],
   "source": [
    "Putting it together"
   ]
  },
  {
   "cell_type": "code",
   "execution_count": 52,
   "metadata": {},
   "outputs": [
    {
     "name": "stdout",
     "output_type": "stream",
     "text": [
      "At page https://www.whitehouse.gov/issues/immigration\n",
      "At page https://www.whitehouse.gov/issues/immigration/page/2/\n",
      "At page https://www.whitehouse.gov/issues/immigration/page/3/\n",
      "At page https://www.whitehouse.gov/issues/immigration/page/4/\n",
      "At page https://www.whitehouse.gov/issues/immigration/page/5/\n",
      "['https://www.whitehouse.gov/briefings-statements/president-donald-j-trumps-weekly-address-121617/', 'https://www.whitehouse.gov/briefings-statements/president-donald-j-trumps-weekly-address-26/', 'https://www.whitehouse.gov/briefings-statements/statement-press-secretary-kate-steinle-case/', 'https://www.whitehouse.gov/briefings-statements/immigration-reform-law-institutes-brian-lonergan-america-seen-enough-tragedies-result-open-boarders/', 'https://www.whitehouse.gov/briefings-statements/trump-administration-immigration-policy-priorities/', 'https://www.whitehouse.gov/briefings-statements/secure-border-deterring-swiftly-removing-illegal-entrants/', 'https://www.whitehouse.gov/briefings-statements/president-donald-j-trumps-letter-house-senate-leaders-immigration-principles-policies/', 'https://www.whitehouse.gov/briefings-statements/establish-merit-based-reforms-promote-assimilation-financial-success/', 'https://www.whitehouse.gov/briefings-statements/enforce-immigration-laws-across-united-states/', 'https://www.whitehouse.gov/briefings-statements/president-donald-j-trump-taking-responsible-humanitarian-approach-refugees/', 'https://www.whitehouse.gov/briefings-statements/statement-press-secretary-criminal-alien-gang-member-removal-act/', 'https://www.whitehouse.gov/briefings-statements/statement-president-donald-j-trump-7/', 'https://www.whitehouse.gov/briefings-statements/president-donald-j-trump-restores-responsibility-rule-law-immigration/', 'https://www.whitehouse.gov/briefings-statements/praise-president-trumps-commitment-border-security-2/', 'https://www.whitehouse.gov/briefings-statements/praise-president-trumps-commitment-border-security/', 'https://www.whitehouse.gov/briefings-statements/acting-dhs-secretary-elaine-duke-usa-today-editorial-border-walls-work-yuma-sector-proves/', 'https://www.whitehouse.gov/briefings-statements/fact-sheet-donald-j-trump-attorney-general-sessions-stand-lawless-sanctuary-cities/', 'https://www.whitehouse.gov/briefings-statements/sens-cotton-perdue-immigration-plan-pro-worker-pro-growth/', 'https://www.whitehouse.gov/briefings-statements/editorial-raise-act-reasoned-return-policy-sanity/', 'https://www.whitehouse.gov/briefings-statements/washington-times-editorial-raise-act-good-start-immigration-reform/', 'https://www.whitehouse.gov/briefings-statements/president-donald-j-trump-backs-raise-act/', 'https://www.whitehouse.gov/briefings-statements/praise-raise-act/', 'https://www.whitehouse.gov/briefings-statements/remarks-president-trump-law-enforcement-officials-ms-13/', 'https://www.whitehouse.gov/briefings-statements/victims-illegal-immigration-urge-senate-pass-legislation-save-american-lives/', 'https://www.whitehouse.gov/briefings-statements/president-donald-j-trumps-weekly-address-13/', 'https://www.whitehouse.gov/briefings-statements/statement-president-donald-j-trump-house-passage-kates-law-no-sanctuary-criminals-act/', 'https://www.whitehouse.gov/briefings-statements/ag-sessions-congress-must-pass-kates-law-make-america-safer/', 'https://www.whitehouse.gov/briefings-statements/remarks-president-trump-meeting-immigration-crime-victims/', 'https://www.whitehouse.gov/briefings-statements/president-donald-j-trump-taking-action-illegal-immigration/', 'https://www.whitehouse.gov/briefings-statements/h-r-3004-kates-law/', 'https://www.whitehouse.gov/briefings-statements/h-r-3003-no-sanctuary-criminals-act/', 'https://www.whitehouse.gov/briefings-statements/h-r-2581-verify-first-act/', 'https://www.whitehouse.gov/briefings-statements/statement-press-secretary-decline-southwest-border-apprehensions-2/', 'https://www.whitehouse.gov/briefings-statements/president-trump-delivering-immigration-enforcement-american-people/', 'https://www.whitehouse.gov/briefings-statements/president-donald-j-trump-statement-regarding-recent-executive-order-concerning-extreme-vetting/']\n"
     ]
    }
   ],
   "source": [
    "start_url = 'https://www.whitehouse.gov/issues/immigration'\n",
    "\n",
    "def get_briefings(soup):\n",
    "    \n",
    "    briefing_urls = []\n",
    "\n",
    "    briefings = soup.find_all('h2',attrs={'class':'briefing-statement__title'})\n",
    "    for brief in briefings:\n",
    "        briefing_urls.append(brief.find('a')['href'])\n",
    "    \n",
    "    return briefing_urls\n",
    "        \n",
    "def get_urls(url,collector):\n",
    "    print('At page %s'%url)\n",
    "    \n",
    "    soup = bs(requests.get(url).content,'lxml')\n",
    "    next_a = soup.find('a',attrs={'class': 'pagination__next'})\n",
    "    collector.extend(get_briefings(soup))\n",
    "    \n",
    "    if next_a:\n",
    "        url = next_a['href']\n",
    "        get_urls(url,collector)\n",
    "    \n",
    "    return collector\n",
    "    \n",
    "urls=get_urls(start_url,[])"
   ]
  },
  {
   "cell_type": "code",
   "execution_count": null,
   "metadata": {
    "collapsed": true
   },
   "outputs": [],
   "source": [
    "def read_brief(url):\n",
    "    pass\n",
    "    return text"
   ]
  },
  {
   "cell_type": "markdown",
   "metadata": {},
   "source": [
    "## 1.3.2 Bukowski's Poems"
   ]
  },
  {
   "cell_type": "code",
   "execution_count": null,
   "metadata": {
    "collapsed": true
   },
   "outputs": [],
   "source": [
    "from bs4 import BeautifulSoup as bs\n",
    "import requests\n",
    "\n",
    "base_url = \"https://www.poemhunter.com/charles-bukowski/poems\"\n",
    "\n",
    "content = requests.get(url).content"
   ]
  },
  {
   "cell_type": "code",
   "execution_count": null,
   "metadata": {
    "collapsed": true
   },
   "outputs": [],
   "source": [
    "soup = bs(content,'lxml')\n",
    "tables=soup.find_all('table')\n",
    "len(tables)"
   ]
  },
  {
   "cell_type": "code",
   "execution_count": null,
   "metadata": {
    "collapsed": true
   },
   "outputs": [],
   "source": [
    "#!pip install python-louvain==0.5"
   ]
  },
  {
   "cell_type": "code",
   "execution_count": null,
   "metadata": {
    "collapsed": true
   },
   "outputs": [],
   "source": [
    "for table in tables:\n",
    "    print(table.get('class','NaN'))"
   ]
  },
  {
   "cell_type": "code",
   "execution_count": null,
   "metadata": {
    "collapsed": true
   },
   "outputs": [],
   "source": [
    "poems=soup.find('table',{'class':'poems'})"
   ]
  },
  {
   "cell_type": "code",
   "execution_count": null,
   "metadata": {
    "collapsed": true
   },
   "outputs": [],
   "source": [
    "print(len(poems))"
   ]
  },
  {
   "cell_type": "code",
   "execution_count": null,
   "metadata": {
    "collapsed": true
   },
   "outputs": [],
   "source": [
    "links = poems.find_all('a')"
   ]
  },
  {
   "cell_type": "code",
   "execution_count": null,
   "metadata": {
    "collapsed": true
   },
   "outputs": [],
   "source": [
    "first_link = links[0]\n",
    "url = first_link['href']\n",
    "print(url)"
   ]
  },
  {
   "cell_type": "code",
   "execution_count": null,
   "metadata": {
    "collapsed": true
   },
   "outputs": [],
   "source": [
    "import urllib.parse\n",
    "poem_url = urllib.parse.urljoin(base_url,url)\n",
    "print(poem_url)"
   ]
  },
  {
   "cell_type": "code",
   "execution_count": null,
   "metadata": {
    "collapsed": true
   },
   "outputs": [],
   "source": [
    "poem = bs(requests.get(poem_url).content,'lxml')\n",
    "poem_div = poem.find('div',{'class':'KonaBody'}).find('p')#.find_all('br')\n",
    "#print(poem_div)\n",
    "print(str(poem_div).replace('<p>','').replace('</p>','').replace('<br/>','\\n').strip())"
   ]
  },
  {
   "cell_type": "markdown",
   "metadata": {},
   "source": [
    "## 2. APIs"
   ]
  },
  {
   "cell_type": "markdown",
   "metadata": {},
   "source": [
    "### 2.1 Google Books"
   ]
  },
  {
   "cell_type": "code",
   "execution_count": 70,
   "metadata": {},
   "outputs": [
    {
     "name": "stdout",
     "output_type": "stream",
     "text": [
      "{'items': [{'accessInfo': {'accessViewStatus': 'FULL_PUBLIC_DOMAIN',\n",
      "                           'country': 'NL',\n",
      "                           'embeddable': True,\n",
      "                           'epub': {'downloadLink': 'http://books.google.nl/books/download/The_Works_of_Shakespear.epub?id=wsPe-P8lb8AC&hl=&output=epub&source=gbs_api',\n",
      "                                    'isAvailable': False},\n",
      "                           'pdf': {'downloadLink': 'http://books.google.nl/books/download/The_Works_of_Shakespear.pdf?id=wsPe-P8lb8AC&hl=&output=pdf&sig=ACfU3U07OWCZj5Z2mMdO5J4MsPgtzmmiJg&source=gbs_api',\n",
      "                                   'isAvailable': True},\n",
      "                           'publicDomain': True,\n",
      "                           'quoteSharingAllowed': False,\n",
      "                           'textToSpeechPermission': 'ALLOWED',\n",
      "                           'viewability': 'ALL_PAGES',\n",
      "                           'webReaderLink': 'http://play.google.com/books/reader?id=wsPe-P8lb8AC&hl=&printsec=frontcover&source=gbs_api'},\n",
      "            'etag': 'U9SpIQV2BOQ',\n",
      "            'id': 'wsPe-P8lb8AC',\n",
      "            'kind': 'books#volume',\n",
      "            'saleInfo': {'buyLink': 'https://play.google.com/store/books/details?id=wsPe-P8lb8AC&rdid=book-wsPe-P8lb8AC&rdot=1&source=gbs_api',\n",
      "                         'country': 'NL',\n",
      "                         'isEbook': True,\n",
      "                         'saleability': 'FREE'},\n",
      "            'selfLink': 'https://www.googleapis.com/books/v1/volumes/wsPe-P8lb8AC',\n",
      "            'volumeInfo': {'allowAnonLogging': False,\n",
      "                           'authors': ['William Shakespeare'],\n",
      "                           'canonicalVolumeLink': 'https://market.android.com/details?id=book-wsPe-P8lb8AC',\n",
      "                           'contentVersion': 'full-1.0.0',\n",
      "                           'imageLinks': {'smallThumbnail': 'http://books.google.com/books/content?id=wsPe-P8lb8AC&printsec=frontcover&img=1&zoom=5&edge=curl&source=gbs_api',\n",
      "                                          'thumbnail': 'http://books.google.com/books/content?id=wsPe-P8lb8AC&printsec=frontcover&img=1&zoom=1&edge=curl&source=gbs_api'},\n",
      "                           'industryIdentifiers': [{'identifier': 'HARVARD:32044009761388',\n",
      "                                                    'type': 'OTHER'}],\n",
      "                           'infoLink': 'https://play.google.com/store/books/details?id=wsPe-P8lb8AC&source=gbs_api',\n",
      "                           'language': 'en',\n",
      "                           'maturityRating': 'NOT_MATURE',\n",
      "                           'panelizationSummary': {'containsEpubBubbles': False,\n",
      "                                                   'containsImageBubbles': False},\n",
      "                           'previewLink': 'http://books.google.nl/books?id=wsPe-P8lb8AC&printsec=frontcover&dq=shakespeare&hl=&cd=1&source=gbs_api',\n",
      "                           'printType': 'BOOK',\n",
      "                           'publishedDate': '1747',\n",
      "                           'readingModes': {'image': True, 'text': False},\n",
      "                           'subtitle': 'In Eight Volumes',\n",
      "                           'title': 'The Works of Shakespear'}},\n",
      "           {'accessInfo': {'accessViewStatus': 'SAMPLE',\n",
      "                           'country': 'NL',\n",
      "                           'embeddable': True,\n",
      "                           'epub': {'isAvailable': False},\n",
      "                           'pdf': {'isAvailable': False},\n",
      "                           'publicDomain': False,\n",
      "                           'quoteSharingAllowed': False,\n",
      "                           'textToSpeechPermission': 'ALLOWED',\n",
      "                           'viewability': 'PARTIAL',\n",
      "                           'webReaderLink': 'http://play.google.com/books/reader?id=MLIKP5BtUXMC&hl=&printsec=frontcover&source=gbs_api'},\n",
      "            'etag': 'UKbWOHryDpU',\n",
      "            'id': 'MLIKP5BtUXMC',\n",
      "            'kind': 'books#volume',\n",
      "            'saleInfo': {'country': 'NL',\n",
      "                         'isEbook': False,\n",
      "                         'saleability': 'NOT_FOR_SALE'},\n",
      "            'searchInfo': {'textSnippet': 'First published in 1951. &#39;The '\n",
      "                                          'book has the sterling qualities of '\n",
      "                                          'shrewd sense and acumen that mark '\n",
      "                                          'the &#39;rational&#39; classical '\n",
      "                                          'school of Shakespeare '\n",
      "                                          'criticism.&#39; Notes and Queries '\n",
      "                                          '&#39;Professor Duthie&#39;s '\n",
      "                                          'approach is direct and extremely '\n",
      "                                          'objective.'},\n",
      "            'selfLink': 'https://www.googleapis.com/books/v1/volumes/MLIKP5BtUXMC',\n",
      "            'volumeInfo': {'allowAnonLogging': False,\n",
      "                           'authors': ['George Ian Duthie'],\n",
      "                           'averageRating': 3.0,\n",
      "                           'canonicalVolumeLink': 'https://books.google.com/books/about/Shakespeare.html?hl=&id=MLIKP5BtUXMC',\n",
      "                           'categories': ['Literary Criticism'],\n",
      "                           'contentVersion': '1.0.1.0.preview.1',\n",
      "                           'description': \"First published in 1951. 'The book \"\n",
      "                                          'has the sterling qualities of '\n",
      "                                          'shrewd sense and acumen that mark '\n",
      "                                          \"the 'rational' classical school of \"\n",
      "                                          \"Shakespeare criticism.' Notes and \"\n",
      "                                          \"Queries 'Professor Duthie's \"\n",
      "                                          'approach is direct and extremely '\n",
      "                                          'objective. With no axe to grind, he '\n",
      "                                          'pays impartial court to most of the '\n",
      "                                          'great schools of Shakespearian '\n",
      "                                          \"criticism.' Cambridge Daily News \"\n",
      "                                          \"'Professor Duthie has much to say \"\n",
      "                                          \"that is wise and judicious'. Times \"\n",
      "                                          'Literary Supplement. Contents '\n",
      "                                          \"include: Shakespeare's Characters \"\n",
      "                                          'and Truth to Life; Shakespeare and '\n",
      "                                          'the Order-Disorder Antithesis; '\n",
      "                                          'Comedy; Imaginative Interpretation '\n",
      "                                          'and Troilus and Cressida; History; '\n",
      "                                          'Tragedy; The Last Plays.',\n",
      "                           'imageLinks': {'smallThumbnail': 'http://books.google.com/books/content?id=MLIKP5BtUXMC&printsec=frontcover&img=1&zoom=5&edge=curl&source=gbs_api',\n",
      "                                          'thumbnail': 'http://books.google.com/books/content?id=MLIKP5BtUXMC&printsec=frontcover&img=1&zoom=1&edge=curl&source=gbs_api'},\n",
      "                           'industryIdentifiers': [{'identifier': '0415352819',\n",
      "                                                    'type': 'ISBN_10'},\n",
      "                                                   {'identifier': '9780415352819',\n",
      "                                                    'type': 'ISBN_13'}],\n",
      "                           'infoLink': 'http://books.google.nl/books?id=MLIKP5BtUXMC&dq=shakespeare&hl=&source=gbs_api',\n",
      "                           'language': 'en',\n",
      "                           'maturityRating': 'NOT_MATURE',\n",
      "                           'pageCount': 206,\n",
      "                           'previewLink': 'http://books.google.nl/books?id=MLIKP5BtUXMC&printsec=frontcover&dq=shakespeare&hl=&cd=2&source=gbs_api',\n",
      "                           'printType': 'BOOK',\n",
      "                           'publishedDate': '1951',\n",
      "                           'publisher': 'Psychology Press',\n",
      "                           'ratingsCount': 1,\n",
      "                           'readingModes': {'image': True, 'text': False},\n",
      "                           'title': 'Shakespeare'}},\n",
      "           {'accessInfo': {'accessViewStatus': 'SAMPLE',\n",
      "                           'country': 'NL',\n",
      "                           'embeddable': True,\n",
      "                           'epub': {'isAvailable': False},\n",
      "                           'pdf': {'isAvailable': False},\n",
      "                           'publicDomain': False,\n",
      "                           'quoteSharingAllowed': False,\n",
      "                           'textToSpeechPermission': 'ALLOWED',\n",
      "                           'viewability': 'PARTIAL',\n",
      "                           'webReaderLink': 'http://play.google.com/books/reader?id=wIPZ3qbiXNQC&hl=&printsec=frontcover&source=gbs_api'},\n",
      "            'etag': 'zX8GWhkHLy4',\n",
      "            'id': 'wIPZ3qbiXNQC',\n",
      "            'kind': 'books#volume',\n",
      "            'saleInfo': {'country': 'NL',\n",
      "                         'isEbook': False,\n",
      "                         'saleability': 'NOT_FOR_SALE'},\n",
      "            'searchInfo': {'textSnippet': 'The main contention of the book is '\n",
      "                                          'that Shakespeare&#39;s life was the '\n",
      "                                          'lure of the stage itself which '\n",
      "                                          'inspired him to transform what '\n",
      "                                          'everyday life provided into the '\n",
      "                                          'worlds of Hamlet, King Lear and '\n",
      "                                          'Prospero.'},\n",
      "            'selfLink': 'https://www.googleapis.com/books/v1/volumes/wIPZ3qbiXNQC',\n",
      "            'volumeInfo': {'allowAnonLogging': False,\n",
      "                           'authors': ['M. C. Bradbrook'],\n",
      "                           'averageRating': 4.0,\n",
      "                           'canonicalVolumeLink': 'https://books.google.com/books/about/Shakespeare.html?hl=&id=wIPZ3qbiXNQC',\n",
      "                           'categories': ['Literary Criticism'],\n",
      "                           'contentVersion': '0.0.1.0.preview.1',\n",
      "                           'description': 'First published in 1978. In this '\n",
      "                                          \"study, Shakespeare's own life story \"\n",
      "                                          'and the development of English '\n",
      "                                          'theatrical history are placed in '\n",
      "                                          'the wider context of Elizabethan '\n",
      "                                          'and Jacobean times, but the works '\n",
      "                                          'themselves are the final objective '\n",
      "                                          \"of this 'applied biography'. The \"\n",
      "                                          'main contention of the book is that '\n",
      "                                          \"Shakespeare's life was the lure of \"\n",
      "                                          'the stage itself which inspired him '\n",
      "                                          'to transform what everyday life '\n",
      "                                          'provided into the worlds of Hamlet, '\n",
      "                                          'King Lear and Prospero.',\n",
      "                           'imageLinks': {'smallThumbnail': 'http://books.google.com/books/content?id=wIPZ3qbiXNQC&printsec=frontcover&img=1&zoom=5&edge=curl&source=gbs_api',\n",
      "                                          'thumbnail': 'http://books.google.com/books/content?id=wIPZ3qbiXNQC&printsec=frontcover&img=1&zoom=1&edge=curl&source=gbs_api'},\n",
      "                           'industryIdentifiers': [{'identifier': '0415352746',\n",
      "                                                    'type': 'ISBN_10'},\n",
      "                                                   {'identifier': '9780415352741',\n",
      "                                                    'type': 'ISBN_13'}],\n",
      "                           'infoLink': 'http://books.google.nl/books?id=wIPZ3qbiXNQC&dq=shakespeare&hl=&source=gbs_api',\n",
      "                           'language': 'en',\n",
      "                           'maturityRating': 'NOT_MATURE',\n",
      "                           'pageCount': 272,\n",
      "                           'previewLink': 'http://books.google.nl/books?id=wIPZ3qbiXNQC&printsec=frontcover&dq=shakespeare&hl=&cd=3&source=gbs_api',\n",
      "                           'printType': 'BOOK',\n",
      "                           'publishedDate': '2004-12-23',\n",
      "                           'publisher': 'Psychology Press',\n",
      "                           'ratingsCount': 1,\n",
      "                           'readingModes': {'image': True, 'text': False},\n",
      "                           'subtitle': 'The Poet in His World',\n",
      "                           'title': 'Shakespeare'}},\n",
      "           {'accessInfo': {'accessViewStatus': 'SAMPLE',\n",
      "                           'country': 'NL',\n",
      "                           'embeddable': True,\n",
      "                           'epub': {'acsTokenLink': 'http://books.google.nl/books/download/Shakespeare-sample-epub.acsm?id=KwTm1l6eD68C&format=epub&output=acs4_fulfillment_token&dl_type=sample&source=gbs_api',\n",
      "                                    'isAvailable': True},\n",
      "                           'pdf': {'acsTokenLink': 'http://books.google.nl/books/download/Shakespeare-sample-pdf.acsm?id=KwTm1l6eD68C&format=pdf&output=acs4_fulfillment_token&dl_type=sample&source=gbs_api',\n",
      "                                   'isAvailable': True},\n",
      "                           'publicDomain': False,\n",
      "                           'quoteSharingAllowed': False,\n",
      "                           'textToSpeechPermission': 'ALLOWED',\n",
      "                           'viewability': 'PARTIAL',\n",
      "                           'webReaderLink': 'http://play.google.com/books/reader?id=KwTm1l6eD68C&hl=&printsec=frontcover&source=gbs_api'},\n",
      "            'etag': 'a+Nx/g0PwDg',\n",
      "            'id': 'KwTm1l6eD68C',\n",
      "            'kind': 'books#volume',\n",
      "            'saleInfo': {'buyLink': 'https://play.google.com/store/books/details?id=KwTm1l6eD68C&rdid=book-KwTm1l6eD68C&rdot=1&source=gbs_api',\n",
      "                         'country': 'NL',\n",
      "                         'isEbook': True,\n",
      "                         'listPrice': {'amount': 45.71, 'currencyCode': 'EUR'},\n",
      "                         'offers': [{'finskyOfferType': 1,\n",
      "                                     'listPrice': {'amountInMicros': 45710000.0,\n",
      "                                                   'currencyCode': 'EUR'},\n",
      "                                     'retailPrice': {'amountInMicros': 32000000.0,\n",
      "                                                     'currencyCode': 'EUR'}}],\n",
      "                         'retailPrice': {'amount': 32.0, 'currencyCode': 'EUR'},\n",
      "                         'saleability': 'FOR_SALE'},\n",
      "            'searchInfo': {'textSnippet': 'In the process she contributed some '\n",
      "                                          'of the best work on Shakespeare '\n",
      "                                          'that was then extant, as this '\n",
      "                                          'collection demonstrates.'},\n",
      "            'selfLink': 'https://www.googleapis.com/books/v1/volumes/KwTm1l6eD68C',\n",
      "            'volumeInfo': {'allowAnonLogging': False,\n",
      "                           'authors': ['Susan Snyder'],\n",
      "                           'canonicalVolumeLink': 'https://market.android.com/details?id=book-KwTm1l6eD68C',\n",
      "                           'categories': ['Literary Criticism'],\n",
      "                           'contentVersion': '0.0.1.0.preview.3',\n",
      "                           'description': 'Before her death in September 2001, '\n",
      "                                          'Susan Snyder collected a number of '\n",
      "                                          'her essays that she felt '\n",
      "                                          'represented some of her best work '\n"
     ]
    },
    {
     "name": "stdout",
     "output_type": "stream",
     "text": [
      "                                          'in Shakespearean criticism over a '\n",
      "                                          'period of about three decades. Many '\n",
      "                                          'of them were written for specific '\n",
      "                                          'occasions or specific reasons '\n",
      "                                          'having to do with teaching or with '\n",
      "                                          'panel discussions before diverse '\n",
      "                                          'audiences, which she entered into '\n",
      "                                          'along with others. In the process '\n",
      "                                          'she contributed some of the best '\n",
      "                                          'work on Shakespeare that was then '\n",
      "                                          'extant, as this collection '\n",
      "                                          'demonstrates. Searching for a '\n",
      "                                          'principle of organization, '\n",
      "                                          'Professor Snyder decided that it '\n",
      "                                          'would be best to arrange the essays '\n",
      "                                          'in chronological order. The result '\n",
      "                                          'was a kind of \"intellectual '\n",
      "                                          'autobiography,\" as she calls it in '\n",
      "                                          'her Preface, and the title she '\n",
      "                                          'chose was Shakespeare: A Wayward '\n",
      "                                          'Journey, since it reflects her '\n",
      "                                          'travels over the various avenues of '\n",
      "                                          'Shakespearean criticism.',\n",
      "                           'imageLinks': {'smallThumbnail': 'http://books.google.com/books/content?id=KwTm1l6eD68C&printsec=frontcover&img=1&zoom=5&edge=curl&source=gbs_api',\n",
      "                                          'thumbnail': 'http://books.google.com/books/content?id=KwTm1l6eD68C&printsec=frontcover&img=1&zoom=1&edge=curl&source=gbs_api'},\n",
      "                           'industryIdentifiers': [{'identifier': '0874137950',\n",
      "                                                    'type': 'ISBN_10'},\n",
      "                                                   {'identifier': '9780874137958',\n",
      "                                                    'type': 'ISBN_13'}],\n",
      "                           'infoLink': 'https://play.google.com/store/books/details?id=KwTm1l6eD68C&source=gbs_api',\n",
      "                           'language': 'en',\n",
      "                           'maturityRating': 'NOT_MATURE',\n",
      "                           'pageCount': 237,\n",
      "                           'panelizationSummary': {'containsEpubBubbles': False,\n",
      "                                                   'containsImageBubbles': False},\n",
      "                           'previewLink': 'http://books.google.nl/books?id=KwTm1l6eD68C&printsec=frontcover&dq=shakespeare&hl=&cd=4&source=gbs_api',\n",
      "                           'printType': 'BOOK',\n",
      "                           'publishedDate': '2002',\n",
      "                           'publisher': 'University of Delaware Press',\n",
      "                           'readingModes': {'image': True, 'text': True},\n",
      "                           'subtitle': 'A Wayward Journey',\n",
      "                           'title': 'Shakespeare'}},\n",
      "           {'accessInfo': {'accessViewStatus': 'SAMPLE',\n",
      "                           'country': 'NL',\n",
      "                           'embeddable': True,\n",
      "                           'epub': {'isAvailable': False},\n",
      "                           'pdf': {'isAvailable': False},\n",
      "                           'publicDomain': False,\n",
      "                           'quoteSharingAllowed': False,\n",
      "                           'textToSpeechPermission': 'ALLOWED',\n",
      "                           'viewability': 'PARTIAL',\n",
      "                           'webReaderLink': 'http://play.google.com/books/reader?id=dkfqjidatFAC&hl=&printsec=frontcover&source=gbs_api'},\n",
      "            'etag': 'mDBU0Ajqnx8',\n",
      "            'id': 'dkfqjidatFAC',\n",
      "            'kind': 'books#volume',\n",
      "            'saleInfo': {'country': 'NL',\n",
      "                         'isEbook': False,\n",
      "                         'saleability': 'NOT_FOR_SALE'},\n",
      "            'searchInfo': {'textSnippet': 'Provides information on how to read '\n",
      "                                          'and understand Shakespeare, '\n",
      "                                          'including how to interpret his '\n",
      "                                          'language and prose, and how to '\n",
      "                                          'analyze his literary comedies, '\n",
      "                                          'dramas, and tragedies.'},\n",
      "            'selfLink': 'https://www.googleapis.com/books/v1/volumes/dkfqjidatFAC',\n",
      "            'volumeInfo': {'allowAnonLogging': False,\n",
      "                           'authors': ['Sean McEvoy'],\n",
      "                           'averageRating': 5.0,\n",
      "                           'canonicalVolumeLink': 'https://books.google.com/books/about/Shakespeare.html?hl=&id=dkfqjidatFAC',\n",
      "                           'categories': ['Literary Criticism'],\n",
      "                           'contentVersion': 'preview-1.0.0',\n",
      "                           'description': 'Provides information on how to read '\n",
      "                                          'and understand Shakespeare, '\n",
      "                                          'including how to interpret his '\n",
      "                                          'language and prose, and how to '\n",
      "                                          'analyze his literary comedies, '\n",
      "                                          'dramas, and tragedies.',\n",
      "                           'imageLinks': {'smallThumbnail': 'http://books.google.com/books/content?id=dkfqjidatFAC&printsec=frontcover&img=1&zoom=5&edge=curl&source=gbs_api',\n",
      "                                          'thumbnail': 'http://books.google.com/books/content?id=dkfqjidatFAC&printsec=frontcover&img=1&zoom=1&edge=curl&source=gbs_api'},\n",
      "                           'industryIdentifiers': [{'identifier': '9780415212892',\n",
      "                                                    'type': 'ISBN_13'},\n",
      "                                                   {'identifier': '0415212898',\n",
      "                                                    'type': 'ISBN_10'}],\n",
      "                           'infoLink': 'http://books.google.nl/books?id=dkfqjidatFAC&dq=shakespeare&hl=&source=gbs_api',\n",
      "                           'language': 'en',\n",
      "                           'maturityRating': 'NOT_MATURE',\n",
      "                           'pageCount': 282,\n",
      "                           'previewLink': 'http://books.google.nl/books?id=dkfqjidatFAC&printsec=frontcover&dq=shakespeare&hl=&cd=5&source=gbs_api',\n",
      "                           'printType': 'BOOK',\n",
      "                           'publishedDate': '2000',\n",
      "                           'publisher': 'Psychology Press',\n",
      "                           'ratingsCount': 1,\n",
      "                           'readingModes': {'image': True, 'text': False},\n",
      "                           'subtitle': 'The Basics',\n",
      "                           'title': 'Shakespeare'}},\n",
      "           {'accessInfo': {'accessViewStatus': 'SAMPLE',\n",
      "                           'country': 'NL',\n",
      "                           'embeddable': True,\n",
      "                           'epub': {'isAvailable': False},\n",
      "                           'pdf': {'isAvailable': False},\n",
      "                           'publicDomain': False,\n",
      "                           'quoteSharingAllowed': False,\n",
      "                           'textToSpeechPermission': 'ALLOWED',\n",
      "                           'viewability': 'PARTIAL',\n",
      "                           'webReaderLink': 'http://play.google.com/books/reader?id=ozCsAAAAIAAJ&hl=&printsec=frontcover&source=gbs_api'},\n",
      "            'etag': 'dp1/VK6StM4',\n",
      "            'id': 'ozCsAAAAIAAJ',\n",
      "            'kind': 'books#volume',\n",
      "            'saleInfo': {'country': 'NL',\n",
      "                         'isEbook': False,\n",
      "                         'saleability': 'NOT_FOR_SALE'},\n",
      "            'selfLink': 'https://www.googleapis.com/books/v1/volumes/ozCsAAAAIAAJ',\n",
      "            'volumeInfo': {'allowAnonLogging': False,\n",
      "                           'authors': ['Derek Traversi'],\n",
      "                           'canonicalVolumeLink': 'https://books.google.com/books/about/Shakespeare_the_Roman_Plays.html?hl=&id=ozCsAAAAIAAJ',\n",
      "                           'categories': ['Drama'],\n",
      "                           'contentVersion': 'preview-1.0.0',\n",
      "                           'imageLinks': {'smallThumbnail': 'http://books.google.com/books/content?id=ozCsAAAAIAAJ&printsec=frontcover&img=1&zoom=5&edge=curl&source=gbs_api',\n",
      "                                          'thumbnail': 'http://books.google.com/books/content?id=ozCsAAAAIAAJ&printsec=frontcover&img=1&zoom=1&edge=curl&source=gbs_api'},\n",
      "                           'industryIdentifiers': [{'identifier': '0804701822',\n",
      "                                                    'type': 'ISBN_10'},\n",
      "                                                   {'identifier': '9780804701822',\n",
      "                                                    'type': 'ISBN_13'}],\n",
      "                           'infoLink': 'http://books.google.nl/books?id=ozCsAAAAIAAJ&dq=shakespeare&hl=&source=gbs_api',\n",
      "                           'language': 'en',\n",
      "                           'maturityRating': 'NOT_MATURE',\n",
      "                           'pageCount': 288,\n",
      "                           'previewLink': 'http://books.google.nl/books?id=ozCsAAAAIAAJ&printsec=frontcover&dq=shakespeare&hl=&cd=6&source=gbs_api',\n",
      "                           'printType': 'BOOK',\n",
      "                           'publishedDate': '1963',\n",
      "                           'publisher': 'Stanford University Press',\n",
      "                           'readingModes': {'image': True, 'text': False},\n",
      "                           'title': 'Shakespeare: the Roman Plays'}},\n",
      "           {'accessInfo': {'accessViewStatus': 'SAMPLE',\n",
      "                           'country': 'NL',\n",
      "                           'embeddable': True,\n",
      "                           'epub': {'acsTokenLink': 'http://books.google.nl/books/download/Shakespeare_Italy_and_Intertextuality-sample-epub.acsm?id=HgfJe5zFMzIC&format=epub&output=acs4_fulfillment_token&dl_type=sample&source=gbs_api',\n",
      "                                    'isAvailable': True},\n",
      "                           'pdf': {'isAvailable': False},\n",
      "                           'publicDomain': False,\n",
      "                           'quoteSharingAllowed': False,\n",
      "                           'textToSpeechPermission': 'ALLOWED',\n",
      "                           'viewability': 'PARTIAL',\n",
      "                           'webReaderLink': 'http://play.google.com/books/reader?id=HgfJe5zFMzIC&hl=&printsec=frontcover&source=gbs_api'},\n",
      "            'etag': 'FNqANN4Qb+U',\n",
      "            'id': 'HgfJe5zFMzIC',\n",
      "            'kind': 'books#volume',\n",
      "            'saleInfo': {'country': 'NL',\n",
      "                         'isEbook': False,\n",
      "                         'saleability': 'NOT_FOR_SALE'},\n",
      "            'searchInfo': {'textSnippet': 'This collection of essays, written '\n",
      "                                          'by distinguished international '\n",
      "                                          'scholars, focuses on the structural '\n",
      "                                          'influence of Italian literature, '\n",
      "                                          'culture and society at large on '\n",
      "                                          'Shakespeare&#39;s dramatic canon.'},\n",
      "            'selfLink': 'https://www.googleapis.com/books/v1/volumes/HgfJe5zFMzIC',\n",
      "            'volumeInfo': {'allowAnonLogging': False,\n",
      "                           'authors': ['Michele Marrapodi'],\n",
      "                           'canonicalVolumeLink': 'https://books.google.com/books/about/Shakespeare_Italy_and_Intertextuality.html?hl=&id=HgfJe5zFMzIC',\n",
      "                           'categories': ['Drama'],\n",
      "                           'contentVersion': '0.0.2.0.preview.3',\n",
      "                           'description': 'Introduction; Part I: Theory And '\n",
      "                                          'Practice; Part II: Culture And '\n",
      "                                          'Tradition; Part III: Text And '\n",
      "                                          'Ideology; Part IV: Stage And '\n",
      "                                          'Spectacle; Afterword; Select '\n",
      "                                          'bibliography; Index.',\n",
      "                           'imageLinks': {'smallThumbnail': 'http://books.google.com/books/content?id=HgfJe5zFMzIC&printsec=frontcover&img=1&zoom=5&edge=curl&source=gbs_api',\n",
      "                                          'thumbnail': 'http://books.google.com/books/content?id=HgfJe5zFMzIC&printsec=frontcover&img=1&zoom=1&edge=curl&source=gbs_api'},\n",
      "                           'industryIdentifiers': [{'identifier': '0719066662',\n",
      "                                                    'type': 'ISBN_10'},\n",
      "                                                   {'identifier': '9780719066665',\n",
      "                                                    'type': 'ISBN_13'}],\n",
      "                           'infoLink': 'http://books.google.nl/books?id=HgfJe5zFMzIC&dq=shakespeare&hl=&source=gbs_api',\n",
      "                           'language': 'en',\n",
      "                           'maturityRating': 'NOT_MATURE',\n",
      "                           'pageCount': 278,\n",
      "                           'previewLink': 'http://books.google.nl/books?id=HgfJe5zFMzIC&printsec=frontcover&dq=shakespeare&hl=&cd=7&source=gbs_api',\n",
      "                           'printType': 'BOOK',\n",
      "                           'publishedDate': '2004',\n",
      "                           'publisher': 'Manchester University Press',\n",
      "                           'readingModes': {'image': True, 'text': True},\n",
      "                           'title': 'Shakespeare, Italy, and Intertextuality'}},\n",
      "           {'accessInfo': {'accessViewStatus': 'SAMPLE',\n",
      "                           'country': 'NL',\n",
      "                           'embeddable': True,\n",
      "                           'epub': {'isAvailable': False},\n",
      "                           'pdf': {'isAvailable': False},\n",
      "                           'publicDomain': False,\n",
      "                           'quoteSharingAllowed': False,\n",
      "                           'textToSpeechPermission': 'ALLOWED',\n",
      "                           'viewability': 'PARTIAL',\n",
      "                           'webReaderLink': 'http://play.google.com/books/reader?id=X2EJ5LS5HcsC&hl=&printsec=frontcover&source=gbs_api'},\n",
      "            'etag': 'tAAdY8uocA4',\n",
      "            'id': 'X2EJ5LS5HcsC',\n",
      "            'kind': 'books#volume',\n",
      "            'saleInfo': {'country': 'NL',\n",
      "                         'isEbook': False,\n",
      "                         'saleability': 'NOT_FOR_SALE'},\n",
      "            'searchInfo': {'textSnippet': 'Explores the life of Shakespeare '\n",
      "                                          'and his attitudes towards women '\n",
      "                                          'through his relationships with Anne '\n",
      "                                          'Hathaway and his daughters'},\n",
      "            'selfLink': 'https://www.googleapis.com/books/v1/volumes/X2EJ5LS5HcsC',\n",
      "            'volumeInfo': {'allowAnonLogging': False,\n",
      "                           'authors': ['Park Honan'],\n",
      "                           'averageRating': 4.0,\n",
      "                           'canonicalVolumeLink': 'https://books.google.com/books/about/Shakespeare.html?hl=&id=X2EJ5LS5HcsC',\n",
      "                           'categories': ['Biography & Autobiography'],\n",
      "                           'contentVersion': '1.1.1.0.preview.1',\n",
      "                           'description': 'Explores the life of Shakespeare '\n",
      "                                          'and his attitudes towards women '\n",
      "                                          'through his relationships with Anne '\n",
      "                                          'Hathaway and his daughters',\n",
      "                           'imageLinks': {'smallThumbnail': 'http://books.google.com/books/content?id=X2EJ5LS5HcsC&printsec=frontcover&img=1&zoom=5&edge=curl&source=gbs_api',\n",
      "                                          'thumbnail': 'http://books.google.com/books/content?id=X2EJ5LS5HcsC&printsec=frontcover&img=1&zoom=1&edge=curl&source=gbs_api'},\n",
      "                           'industryIdentifiers': [{'identifier': '9780198117926',\n",
      "                                                    'type': 'ISBN_13'},\n",
      "                                                   {'identifier': '0198117922',\n",
      "                                                    'type': 'ISBN_10'}],\n",
      "                           'infoLink': 'http://books.google.nl/books?id=X2EJ5LS5HcsC&dq=shakespeare&hl=&source=gbs_api',\n",
      "                           'language': 'en',\n",
      "                           'maturityRating': 'NOT_MATURE',\n",
      "                           'pageCount': 479,\n",
      "                           'previewLink': 'http://books.google.nl/books?id=X2EJ5LS5HcsC&printsec=frontcover&dq=shakespeare&hl=&cd=8&source=gbs_api',\n",
      "                           'printType': 'BOOK',\n",
      "                           'publishedDate': '1998-10-29',\n",
      "                           'publisher': 'Oxford University Press on Demand',\n",
      "                           'ratingsCount': 1,\n",
      "                           'readingModes': {'image': True, 'text': False},\n",
      "                           'subtitle': 'A Life',\n",
      "                           'title': 'Shakespeare'}},\n",
      "           {'accessInfo': {'accessViewStatus': 'SAMPLE',\n",
      "                           'country': 'NL',\n",
      "                           'embeddable': True,\n",
      "                           'epub': {'acsTokenLink': 'http://books.google.nl/books/download/Shakespeare-sample-epub.acsm?id=Nh4-pJmvpEIC&format=epub&output=acs4_fulfillment_token&dl_type=sample&source=gbs_api',\n",
      "                                    'isAvailable': True},\n",
      "                           'pdf': {'isAvailable': False},\n",
      "                           'publicDomain': False,\n",
      "                           'quoteSharingAllowed': False,\n",
      "                           'textToSpeechPermission': 'ALLOWED',\n",
      "                           'viewability': 'PARTIAL',\n",
      "                           'webReaderLink': 'http://play.google.com/books/reader?id=Nh4-pJmvpEIC&hl=&printsec=frontcover&source=gbs_api'},\n",
      "            'etag': 'NA9hY6r71RU',\n",
      "            'id': 'Nh4-pJmvpEIC',\n",
      "            'kind': 'books#volume',\n",
      "            'saleInfo': {'country': 'NL',\n",
      "                         'isEbook': False,\n",
      "                         'saleability': 'NOT_FOR_SALE'},\n",
      "            'selfLink': 'https://www.googleapis.com/books/v1/volumes/Nh4-pJmvpEIC',\n",
      "            'volumeInfo': {'allowAnonLogging': False,\n",
      "                           'authors': ['Derek Traversi'],\n",
      "                           'canonicalVolumeLink': 'https://books.google.com/books/about/Shakespeare.html?hl=&id=Nh4-pJmvpEIC',\n",
      "                           'categories': ['Literary Criticism'],\n",
      "                           'contentVersion': '0.0.2.0.preview.3',\n",
      "                           'imageLinks': {'smallThumbnail': 'http://books.google.com/books/content?id=Nh4-pJmvpEIC&printsec=frontcover&img=1&zoom=5&edge=curl&source=gbs_api',\n",
      "                                          'thumbnail': 'http://books.google.com/books/content?id=Nh4-pJmvpEIC&printsec=frontcover&img=1&zoom=1&edge=curl&source=gbs_api'},\n",
      "                           'industryIdentifiers': [{'identifier': '0804705089',\n",
      "                                                    'type': 'ISBN_10'},\n",
      "                                                   {'identifier': '9780804705080',\n",
      "                                                    'type': 'ISBN_13'}],\n",
      "                           'infoLink': 'http://books.google.nl/books?id=Nh4-pJmvpEIC&dq=shakespeare&hl=&source=gbs_api',\n",
      "                           'language': 'en',\n",
      "                           'maturityRating': 'NOT_MATURE',\n",
      "                           'pageCount': 272,\n",
      "                           'panelizationSummary': {'containsEpubBubbles': False,\n",
      "                                                   'containsImageBubbles': False},\n",
      "                           'previewLink': 'http://books.google.nl/books?id=Nh4-pJmvpEIC&printsec=frontcover&dq=shakespeare&hl=&cd=9&source=gbs_api',\n",
      "                           'printType': 'BOOK',\n",
      "                           'publishedDate': '1955-06-01',\n",
      "                           'publisher': 'Stanford University Press',\n",
      "                           'readingModes': {'image': True, 'text': True},\n",
      "                           'subtitle': 'The Last Phase',\n",
      "                           'title': 'Shakespeare'}},\n",
      "           {'accessInfo': {'accessViewStatus': 'SAMPLE',\n",
      "                           'country': 'NL',\n",
      "                           'embeddable': True,\n",
      "                           'epub': {'isAvailable': False},\n",
      "                           'pdf': {'isAvailable': False},\n",
      "                           'publicDomain': False,\n",
      "                           'quoteSharingAllowed': False,\n",
      "                           'textToSpeechPermission': 'ALLOWED',\n",
      "                           'viewability': 'PARTIAL',\n",
      "                           'webReaderLink': 'http://play.google.com/books/reader?id=tHFRZlXnxQ4C&hl=&printsec=frontcover&source=gbs_api'},\n",
      "            'etag': 'MURlOJ7tT7Y',\n",
      "            'id': 'tHFRZlXnxQ4C',\n",
      "            'kind': 'books#volume',\n",
      "            'saleInfo': {'country': 'NL',\n",
      "                         'isEbook': False,\n",
      "                         'saleability': 'NOT_FOR_SALE'},\n",
      "            'searchInfo': {'textSnippet': 'Updating the previous standard work '\n",
      "                                          '(E.'},\n",
      "            'selfLink': 'https://www.googleapis.com/books/v1/volumes/tHFRZlXnxQ4C',\n",
      "            'volumeInfo': {'allowAnonLogging': False,\n",
      "                           'authors': ['Jonathan Hope'],\n",
      "                           'canonicalVolumeLink': 'https://books.google.com/books/about/Shakespeare_s_Grammar.html?hl=&id=tHFRZlXnxQ4C',\n",
      "                           'categories': ['Drama'],\n",
      "                           'contentVersion': 'preview-1.0.0',\n",
      "                           'description': 'A comparative reference guide to '\n",
      "                                          \"Shakespeare's grammar, based on a \"\n",
      "                                          'complete revision of an extremely '\n",
      "                                          'elderly but still much-cited '\n",
      "                                          \"volume, Abbott's Shakespearean \"\n",
      "                                          'Grammar, first published in 1869 '\n",
      "                                          'and still regarded by default as an '\n",
      "                                          'essential component of Shakespeare '\n",
      "                                          'research. This volume meets the '\n",
      "                                          'identified need for an '\n",
      "                                          'authoritative and systematic '\n",
      "                                          'grammar of Shakespeare which takes '\n",
      "                                          'account both of current linguistic '\n",
      "                                          'developments and of the current '\n",
      "                                          'state of knowledge about Early '\n",
      "                                          'Modern English and enable editors '\n",
      "                                          'and readers both to understand and '\n",
      "                                          \"to contextualise Shakespeare's use \"\n",
      "                                          'and manipulation of language, i.e. '\n",
      "                                          'to locate it in the context of '\n",
      "                                          'other writings in Early Modern '\n",
      "                                          \"English.'Should be an essential \"\n",
      "                                          'reference tool not only for '\n",
      "                                          'Shakespeare editors but for '\n",
      "                                          \"university and school teachers' ' \"\n",
      "                                          'Professor Ernst Honigmann, editor '\n",
      "                                          \"of Arden 3 Othello'…should become \"\n",
      "                                          \"part of every reader's, and \"\n",
      "                                          \"certainly every teacher's, arsenal \"\n",
      "                                          \"of central reference books' - Ruth \"\n",
      "                                          'Morse, Shakespeare Survey',\n",
      "                           'imageLinks': {'smallThumbnail': 'http://books.google.com/books/content?id=tHFRZlXnxQ4C&printsec=frontcover&img=1&zoom=5&edge=curl&source=gbs_api',\n",
      "                                          'thumbnail': 'http://books.google.com/books/content?id=tHFRZlXnxQ4C&printsec=frontcover&img=1&zoom=1&edge=curl&source=gbs_api'},\n",
      "                           'industryIdentifiers': [{'identifier': '1903436362',\n",
      "                                                    'type': 'ISBN_10'},\n",
      "                                                   {'identifier': '9781903436363',\n",
      "                                                    'type': 'ISBN_13'}],\n",
      "                           'infoLink': 'http://books.google.nl/books?id=tHFRZlXnxQ4C&dq=shakespeare&hl=&source=gbs_api',\n",
      "                           'language': 'en',\n",
      "                           'maturityRating': 'NOT_MATURE',\n",
      "                           'pageCount': 210,\n",
      "                           'previewLink': 'http://books.google.nl/books?id=tHFRZlXnxQ4C&printsec=frontcover&dq=shakespeare&hl=&cd=10&source=gbs_api',\n",
      "                           'printType': 'BOOK',\n",
      "                           'publishedDate': '2003-06-05',\n",
      "                           'publisher': 'Cengage Learning EMEA',\n",
      "                           'readingModes': {'image': True, 'text': False},\n",
      "                           'title': \"Shakespeare's Grammar\"}}],\n",
      " 'kind': 'books#volumes',\n",
      " 'totalItems': 880}\n"
     ]
    }
   ],
   "source": [
    "from urllib.request import urlopen\n",
    "import json\n",
    "from pprint import pprint\n",
    "antwoord=urlopen(\"https://www.googleapis.com/books/v1/volumes?q=shakespeare\").read()\n",
    "data=json.loads(antwoord.decode(\"utf-8\"))\n",
    "pprint(data)"
   ]
  },
  {
   "cell_type": "markdown",
   "metadata": {},
   "source": [
    "### 2.2 Chronicling America"
   ]
  }
 ],
 "metadata": {
  "kernelspec": {
   "display_name": "Python 3",
   "language": "python",
   "name": "python3"
  },
  "language_info": {
   "codemirror_mode": {
    "name": "ipython",
    "version": 3
   },
   "file_extension": ".py",
   "mimetype": "text/x-python",
   "name": "python",
   "nbconvert_exporter": "python",
   "pygments_lexer": "ipython3",
   "version": "3.6.3"
  }
 },
 "nbformat": 4,
 "nbformat_minor": 2
}
