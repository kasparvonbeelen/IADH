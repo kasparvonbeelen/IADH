{
 "cells": [
  {
   "cell_type": "markdown",
   "metadata": {},
   "source": [
    "\n",
    "-- Materials are gently stolen from the following courses: \n",
    "- **[\"A Python Course for the Humanities\"](https://github.com/fbkarsdorp/python-course)** a course designed by Folgert Karsdorp and Maarten van Gompel\n",
    "- and later modified by Mike Kestemont and Lars Wieneke for the course **[\"Programming for Linguistics and Literature\"](https://github.com/mikekestemont/prog1617)**\n",
    "- **[\"Python for text analysis\"](https://github.com/cltl/python-for-text-analysis)** designed by H.D. van der Vliet and taught at the Vrije Universiteit\n",
    "- **[\"How to Think Like a Computer Scientist\"](http://www.greenteapress.com/thinkpython/thinkCSpy.pdf)** by Allen Downey, Jeffrey Elkner, Chris Meyers"
   ]
  },
  {
   "cell_type": "markdown",
   "metadata": {},
   "source": [
    "# 0. Before we kick off: Installing Jupyter Notebook\n",
    "\n",
    "- Download Anaconda: https://www.anaconda.com/download\n",
    "        Select the Python 3.6 Version\n",
    "        Follow the installation instructions\n",
    "- Download the Notebook and data: https://github.com/kasparvonbeelen/Coding-the-Humanities\n",
    "        Open Anaconda Navigator\n",
    "        Launch Jupyter Notebook\n",
    "        This should open a tab in your browser\n",
    "        Go to the location where you cloned/unzipped the material downloaded from Github"
   ]
  },
  {
   "cell_type": "markdown",
   "metadata": {},
   "source": [
    "# 1. Introduction\n",
    "## 1.1 Coding the Humanities\n",
    "\n",
    "Coding is not a gift but a skill acquired via practice. Coding is not the preserve of the computer scientists. It has value for almost any type of research, **also for the Humanities**. But for historians, linguists, philosophers learning how to make efficient use of computers takes more time; programming may, therefore,  seem a frustrating and pointless exercise at the beginning.\n",
    "\n",
    "** Practice** and **persistency**, here, are the key to success. Similar to learning a natural language, you only get proficient in coding through **exercise** (by doing it). Code, sleep, repeat, this is the mantra of this course, which is very hands-on: you will have to write a lot of programming code yourself from the very beginning.\n",
    "\n",
    "The theory is only secondary, more important is that you get the feel for coding."
   ]
  },
  {
   "cell_type": "markdown",
   "metadata": {},
   "source": [
    "### Question: What do you expect from this course? Why are you here?"
   ]
  },
  {
   "cell_type": "markdown",
   "metadata": {},
   "source": [
    "### An overview of Coding the Humanities\n",
    "\n",
    "**Week 1**: Basic Programming Skills\n",
    "    - Built-in data types: strings, list, dictionaries\n",
    "    - Elementary building block for writing larger programs: loops, conditions, functions\n",
    "\n",
    "**Week 2**: Text Processing, Collecting Data from the Web\n",
    "    - Natural Language Toolkit\n",
    "    - Distant Reading: analyzing large text corpora (books, but also twitter data)\n",
    "    - Collecting informations: scraping information by sites, using Application Programming Interfaces (Google Books, Twitter\n",
    "    - Basic data analytics\n",
    "\n",
    "**Week 3**: Data and Network Analysis and Visualisation:\n",
    "    - Making networks from text and social media data\n",
    "    - ?A gentle introduction to Machine Learning "
   ]
  },
  {
   "cell_type": "markdown",
   "metadata": {},
   "source": [
    "### Teaching Method: Workshop format\n",
    "- **Theory**: We go through the Notebook together (and complete some short exercises)\n",
    "- **Practice**: DIY - Do it yourself, after going through the Notebook again"
   ]
  },
  {
   "cell_type": "markdown",
   "metadata": {},
   "source": [
    "### Today\n",
    "Introducing the course\n",
    "    - Digital Humanities\n",
    "    - Python\n",
    "\n",
    "Introduction to coding\n",
    "    - Setting up the Anacando Notebook Enviroment.\n",
    "    - Python basics (variables, values, indexing, slicing).\n",
    "    - String Manipulation"
   ]
  },
  {
   "cell_type": "markdown",
   "metadata": {},
   "source": [
    "## 1.2 The Digital Humanities\n",
    "\n",
    "#### The Two Cultures Debate (1959) Charles Percy Snow\n",
    "- The intellectual life in the West in is split in two cultures that hardly communicate with each other\n",
    "    - Science (e.g. Physicists)\n",
    "    - Humanities (e.g. Literary Scholars/Writers)\n",
    "    - Really two different cultures (language and emotion)\n",
    "- “The degree of incomprehension on both sides is the kind of joke which has gone sour” (C. P. Snow)\n",
    "    - Digital Humanities as the platform where the “Two Cultures” meet?\n",
    "\n",
    "\n",
    "\n",
    "#### Defining the Digital Humanities\n",
    "- Humanities: \"The humanities study the expressions of the human mind.\" (Wilhelm Dilthey 1911)\n",
    "    - Studies human society and culture\n",
    "        - History, philosophy, language and literature\n",
    "    - but border with social sciences often fluid: \n",
    "        - sociology, psychology, economics\n",
    "\n",
    "- Digital: Everything that can be represented by discrete (non-continuous) values and can be read by a computer\n",
    "    - Digital Information and data\n",
    "\n",
    "Some definitions (recap lecture Rens Bod):\n",
    "- The **thoughtful** use of computing in humanistic inquiry and the **thinking through** of computing from the perspective of the traditions of the humanities (Geoffrey Rockwell)\n",
    "- Digital humanities is the use of **advanced digital technologies** (and the extended **social and discursive worlds** these technologies make possible) to investigate questions in the humanities. (Micki McGee)\n",
    "- Researchers **working** with digital materials, tools, or methods in the humanities; researchers **creating** new digital materials, tools, or methods in the humanities; researchers **studying computing** using humanities methods.(Stan Ruecker)\n",
    "- All the ways that the humanities and digital technologies **intersect**. (Rebecca Davis)\n",
    "- Digital Humanities is the use of digital technologies to generate and answer **new questions** relevant to humanities scholars and to share and transform scholarship and its modes of **creation/dissemination**. (Michael Widner)\n",
    "\n",
    "- \"Big Data\": Digital Humanities is proppeled by rapid increase in data. \n",
    "\n",
    "#### DH as Humanities 3.0\n",
    " - Humanities 1.0: interpretation, hermeneutics (‘traditional’ humanities)\n",
    " - Humanities 2.0: technology + humanities: in search of patterns \n",
    " - Humanities 3.0: combining 1.0 and 2.0: technology and reflection, patterns and interpretation!\n"
   ]
  },
  {
   "cell_type": "markdown",
   "metadata": {},
   "source": [
    "## Now back to coding...\n",
    "### Hands-on? Run your own code\n",
    "\n",
    "For practising your coding skills, you can use the many 'code blocks' in this Notebook, such as the grey cell below. Place your cursor inside the cell and press ``ctrl+enter`` to \"run\" or execute the code. Let's begin right away: run your first little program!"
   ]
  },
  {
   "cell_type": "code",
   "execution_count": null,
   "metadata": {
    "collapsed": true
   },
   "outputs": [],
   "source": [
    "print('Hello, World!')"
   ]
  },
  {
   "cell_type": "markdown",
   "metadata": {},
   "source": [
    "You just executed your first program!\n",
    "\n",
    "### Questions:\n",
    "- Can you describe what the programme just did?\n",
    "- Can you adapt it to print your own name? (code block below)"
   ]
  },
  {
   "cell_type": "code",
   "execution_count": null,
   "metadata": {
    "collapsed": true
   },
   "outputs": [],
   "source": [
    "# Insert your own code here!\n",
    "# print your own name ... or whatever you want, and press ctrl + en"
   ]
  },
  {
   "cell_type": "markdown",
   "metadata": {},
   "source": [
    "Apart from printing words to your screen, you can also use Python to do calculations. \n",
    "\n",
    "* Use the code block below to calculate (and print) how many minutes there are in one week? (Hint: multiplication is done using the `*` symbol in Python.)"
   ]
  },
  {
   "cell_type": "code",
   "execution_count": null,
   "metadata": {
    "collapsed": true
   },
   "outputs": [],
   "source": [
    "# Insert your own code here!\n",
    "# Use Python as a calculator"
   ]
  },
  {
   "cell_type": "markdown",
   "metadata": {},
   "source": [
    "## 1.3 What is a program?\n",
    "\n",
    "A program is a **sequence of instructions** that specifies how to perform a computation. The computation might be something **mathematical**, such as solving a system of equations or finding the roots of a polynomial, but it can also be a **symbolic** computation, such as searching and replacing text in a document.\n",
    "\n",
    "### Components:\n",
    "\n",
    "**input**: Get data from the keyboard, a file, the Web, or some other device.\n",
    "\n",
    "**output**: Display data on the screen or send data to a file or other device.\n",
    "\n",
    "**math**: Perform basic mathematical operations like addition and multiplication.\n",
    "\n",
    "**conditional execution**: Check for certain conditions and execute the appropriate sequence of statements.\n",
    "\n",
    "**repetition**: Perform some action repeatedly, usually with some variation."
   ]
  },
  {
   "cell_type": "markdown",
   "metadata": {},
   "source": [
    "## 1.4 The Jupyter Notebook Environment\n",
    "\n",
    "The document you opened is a Notebook, an **interactive coding environment** in your browser. It broadly consists of two different cell types: ``Code`` and ``Markdown``.\n",
    "** ``Code``** cells are preserved for running Python scripts.\n",
    "** ``Markdown``** cells can be used for adding notes to your Notebook document.\n",
    "The text you are reading now, is written using Markdown.\n",
    "\n",
    "\n",
    "**Click here**, the box should be marked by a black rectangle. If you **double click** the original [**Markdown**](https://en.wikipedia.org/wiki/Markdown) syntax appears, and you can add your own text. \n",
    "\n",
    "\n",
    "**Exercise**: Let's try Enter your name below surrounded by ``**`` (two asterisks) to print it in bold type\n",
    "\n",
    "Hello, my name is [your name here]\n",
    "\n",
    "Then press ``run cell``, or press ``ctrl+enter``"
   ]
  },
  {
   "cell_type": "code",
   "execution_count": null,
   "metadata": {
    "collapsed": true
   },
   "outputs": [],
   "source": []
  },
  {
   "cell_type": "markdown",
   "metadata": {},
   "source": [
    "You can add a cell by going to\n",
    "``Insert >> Insert Cell Below``\n",
    "\n",
    "An empty cell should appear.\n",
    "\n",
    "**Exercise**: Add two cells below. One for printing your name with the Python ``print`` function. In another you write down your name in in italic (enclosed in single asterisk) and bold type (double asterisk).\n",
    "\n",
    "You can always delete a cell by clicking on one and going to\n",
    "``Edit >> Delete Cells``"
   ]
  },
  {
   "cell_type": "code",
   "execution_count": null,
   "metadata": {
    "collapsed": true
   },
   "outputs": [],
   "source": [
    "# start here"
   ]
  },
  {
   "cell_type": "markdown",
   "metadata": {},
   "source": [
    "## 1.5 Python\n",
    "\n",
    "#### **What** is Python?\n",
    "\n",
    "[From Wikipedia](https://en.wikipedia.org/wiki/Python_(programming_language): Python is a widely used **high-level** programming language for **general-purpose** programming.\n",
    "- **high level programming language**: In computer science, a high-level programming language is a programming language with **strong abstraction from the details of the computer**. In comparison to low-level programming languages, it may use **natural language elements**, be easier to use, or may **automate** (or even **hide** entirely) significant areas of computing systems (e.g. memory management), making the process of developing a program simpler and more understandable relative to a lower-level language. The amount of **abstraction** provided defines how \"high-level\" a programming language is.\n",
    "\n",
    "\n",
    "#### **Why** Python?\n",
    "\n",
    "In general Python is **easier to learn and to read**. The first example in this Notebook (`print('Hello, World.')`) illustrates this point. In the C++ version the \"Hello World\" program would look like:\n",
    "\n",
    "C++ code below:\n",
    "``\n",
    "#include <iostream.h>\n",
    "\n",
    "void main()\n",
    "\n",
    "{\n",
    "    \n",
    "    cout << \"Hello, world.\" << endl;\n",
    "\n",
    "}\n",
    "\n",
    "``\n",
    "\n",
    "End of C++ code.\n",
    "\n",
    "while in Python version it simply was:\n",
    "\n",
    "``\n",
    "print(\"Hello, world.\")\n",
    "``\n",
    "\n",
    "So, why **Python**:\n",
    "\n",
    "- Software **Quality**: Python code is designed to be **readable**, and hence reusable and maintainable. \n",
    "- Developer **Productivity**: Python code is typically one-third to one-fifth the size of C++ or Java code. \n",
    "- **Portability**: Python code runs unchanged on all major computer platforms (Windows, Linux, MacOS). \n",
    "- **General-purpose**: data analysis, web development etc.\n",
    "- **Support Libraries**: Standard, homegrown and third-party libraries.\n",
    "- **Widely used by the academic and scientific community!**"
   ]
  },
  {
   "cell_type": "markdown",
   "metadata": {},
   "source": [
    "## Before we start, something about versions\n",
    "## Python 2.7 or 3.x?"
   ]
  },
  {
   "cell_type": "code",
   "execution_count": null,
   "metadata": {
    "collapsed": true
   },
   "outputs": [],
   "source": [
    "# Check version by making Python crash hard.\n",
    "# This press ctrl+enter; this should raise a SyntaxError\n",
    "print \"Hello, World.\""
   ]
  },
  {
   "cell_type": "markdown",
   "metadata": {},
   "source": [
    "## 1.6 De-bugging -- where it starts to become annoying\n",
    "\n",
    "### Errors\n",
    "\n",
    "Programming is a complex process, and because it is done by human beings, it often leads to errors. For whimsical reasons, programming errors are called  bugs and the process of tracking them down and correcting them is called\n",
    "debugging.\n",
    "Three kinds of errors can occur in a program: \n",
    "\n",
    "- **Syntax errors**: Python can only execute a program if the program is syntactically correct; otherwise, the process fails and returns an error message. Syntax refers to the **structure** of a program and the **rules about that structure**.\n",
    "- **Runtime errors**: the error does not appear until you run the program. These errors are also called **exceptions** because they usually indicate that something exceptional (and bad) has happened.\n",
    "- **Semantic errors**: If there is a semantic error in your program, it will run successfully, in the sense that the computer will not generate any error messages, but it will not do the right thing. It will do something else. Specifically, it will do what you told it to do. The problem is that the program you wrote is not the program you wanted to write. **The meaning of the program (its semantics) is wrong**."
   ]
  },
  {
   "cell_type": "markdown",
   "metadata": {},
   "source": [
    "### Finding Solutions\n",
    "\n",
    "We won't go into details here. More important is the question how to solve these errors. \n",
    "\n",
    "**Where to look for help**? Generally copy-pasting the Error message in the Google Search Box, will lead you to useful solutions. A very useful resource is [Stack Overflow](https://stackoverflow.com/). For example typing\n",
    "\n",
    "``\n",
    "Stack Overflow SyntaxError: Missing parentheses in call to 'print'.\n",
    "``\n",
    "\n",
    "...will show you the [correct answer](https://stackoverflow.com/questions/25445439/what-does-syntaxerror-missing-parentheses-in-call-to-print-mean-in-python) to your question."
   ]
  },
  {
   "cell_type": "markdown",
   "metadata": {},
   "source": [
    "#### What we learnt so far:\n",
    "\n",
    "- Installing the Notebook Environment\n",
    "- Digital Humanities\n",
    "- Python\n",
    "- Errors/ de-bugging"
   ]
  },
  {
   "cell_type": "markdown",
   "metadata": {},
   "source": [
    "# 2. Python Basics"
   ]
  },
  {
   "cell_type": "markdown",
   "metadata": {},
   "source": [
    "# Ok, let's start!\n",
    "... for real.\n",
    "\n",
    "## 2.1 Values and Variables"
   ]
  },
  {
   "cell_type": "markdown",
   "metadata": {},
   "source": [
    "### Values"
   ]
  },
  {
   "cell_type": "markdown",
   "metadata": {},
   "source": [
    "A value is one of the fundamental things like a letter or a number that a program can manipulate. The values we have seen so far are strings (\"Hello, World!\") string and integers (the number of minutes in one week)."
   ]
  },
  {
   "cell_type": "code",
   "execution_count": null,
   "metadata": {
    "collapsed": true
   },
   "outputs": [],
   "source": [
    "# run this cell\n",
    "print(2,type(2))\n",
    "print(\"Hello, World!\",type(\"Hello, World!\"))\n",
    "print(.5,type(0.5))"
   ]
  },
  {
   "cell_type": "markdown",
   "metadata": {},
   "source": [
    "The values are of a different **type**: integer, string, float. We have a closer look at them later, for now remember Python values belong to different built-in types.\n",
    "\n",
    "Can we just print anything?"
   ]
  },
  {
   "cell_type": "code",
   "execution_count": null,
   "metadata": {
    "collapsed": true
   },
   "outputs": [],
   "source": [
    "print(Hi)"
   ]
  },
  {
   "cell_type": "markdown",
   "metadata": {},
   "source": [
    "So how to define a variable and avoid these errors?"
   ]
  },
  {
   "cell_type": "markdown",
   "metadata": {},
   "source": [
    "### Variables\n",
    "\n",
    "One of the most powerful features of a programming language is the ability to **store and manipulate variables**. A variable is a **name** that refers to a value. The **assignment statement** creates new variables and relates them to concrete values. Instead of passing these elements as an argument to the `print()` function, we can store them, by creating an variable that refers to the \"Hello, World!\" string."
   ]
  },
  {
   "cell_type": "code",
   "execution_count": null,
   "metadata": {
    "collapsed": true
   },
   "outputs": [],
   "source": [
    "# declaring a variable\n",
    "x = 'Hello World.'\n",
    "# printing what is in the box\n",
    "print(x)"
   ]
  },
  {
   "cell_type": "markdown",
   "metadata": {},
   "source": [
    "Assigning numerical variables is also possible for sure."
   ]
  },
  {
   "cell_type": "code",
   "execution_count": null,
   "metadata": {
    "collapsed": true
   },
   "outputs": [],
   "source": [
    "# declaring a variable\n",
    "x = 22\n",
    "# printing what is in the box\n",
    "print(x)"
   ]
  },
  {
   "cell_type": "code",
   "execution_count": null,
   "metadata": {
    "collapsed": true
   },
   "outputs": [],
   "source": [
    "# Exercise create and print two values: your name and data of birth"
   ]
  },
  {
   "cell_type": "markdown",
   "metadata": {},
   "source": [
    "If you vaguely remember your math-classes in school, this should look familiar. It is basically the same notation with the name of **the variable on the left, the value on the right**, and the = sign in the middle. \n",
    "\n",
    "In the code block above, two things happen. **First**, we fill `x` with a value, in our case `22`. This variable x behaves pretty much like a **box** on which we write an `x` with a thick, black marker to find it back later. **Second**: We print the contents of this box, using the `print()` command. ![box](./images/box.png)\n",
    "\n",
    "* Now copy the outcome of your code calculating the number of minutes in one week and assign this number to `x`. Run the code again.\n"
   ]
  },
  {
   "cell_type": "code",
   "execution_count": null,
   "metadata": {
    "collapsed": true
   },
   "outputs": [],
   "source": [
    "# here!"
   ]
  },
  {
   "cell_type": "markdown",
   "metadata": {},
   "source": [
    "### Do not mix up variables and (string) values\n",
    "\n",
    "In Python, **string** values always have to be **enclosed with single or double quotes**. Both `'Hi!'` and `\"Hi\"` are interpreted as strings. Because variables never take quotes, Python will read `Hi` as a variable, and attempt to look upwhat is saved in the box. If the variable is not defined, it will raise a `NameError`."
   ]
  },
  {
   "cell_type": "code",
   "execution_count": null,
   "metadata": {
    "collapsed": true
   },
   "outputs": [],
   "source": [
    "# This works\n",
    "print('Hello')\n",
    "# This as well!\n",
    "print(\"Hello\")\n",
    "# This raises a NameError\n",
    "print(Hello)"
   ]
  },
  {
   "cell_type": "markdown",
   "metadata": {},
   "source": [
    "Variable names can be chosen **arbitrarily**. *We* give a certain value a name, and we are free to pick one to our liking. It is, however, recommended to use **senseful** names as we will use the variable names in our code directly and not the values they hold."
   ]
  },
  {
   "cell_type": "code",
   "execution_count": null,
   "metadata": {
    "collapsed": true
   },
   "outputs": [],
   "source": [
    "# not recommended...\n",
    "banana = \"The Lord of the Flies\"\n",
    "print(banana)"
   ]
  },
  {
   "cell_type": "markdown",
   "metadata": {},
   "source": [
    "You are free to use the name `banana` to hold the book title `\"The Lord of the Flies\"` but you will agree that this naming is not transparent. "
   ]
  },
  {
   "cell_type": "markdown",
   "metadata": {},
   "source": [
    "You are free to choose a name from a **semantic** point of view, but not all variable names are **syntactically valid** in Python. Variable names are only valid if they:\n",
    "\n",
    "- start with a letter or underscore (\\_)\n",
    "- only contain letters, numbers and underscores\n",
    "- are not a Python **keyword**: [Keywords]() define the language's rules and structure, and they cannot be used as variable names. To check if a variable name coincides with a keyword, run this code:"
   ]
  },
  {
   "cell_type": "code",
   "execution_count": null,
   "metadata": {
    "collapsed": true
   },
   "outputs": [],
   "source": [
    "import keyword\n",
    "print(keyword.kwlist)"
   ]
  },
  {
   "cell_type": "markdown",
   "metadata": {},
   "source": [
    "**Exercise:** Run the following code block and see what happens. \n",
    "- Try to run the block below by **commenting out** the invalid names. Add a `#` to comment out a specific line.\n",
    "- Then remove all `#` and fix the invalid variable names? You should get no error in the end."
   ]
  },
  {
   "cell_type": "code",
   "execution_count": null,
   "metadata": {
    "collapsed": true
   },
   "outputs": [],
   "source": [
    "eggs = 3\n",
    "_eggs = 6\n",
    "5eggs = 5\n",
    "eggs$ = 1\n",
    "def = 0.005\n",
    "Def = .1\n",
    "eggs123 = 9\n",
    "ten_eggs = 10\n",
    "class = 9\n",
    "Class = 10\n",
    "TwelveEggs = 8\n",
    "twelve.eggs = 12"
   ]
  },
  {
   "cell_type": "markdown",
   "metadata": {},
   "source": [
    "### Re-assigning variables\n",
    "The box metaphor for a variable goes a long way: in such a box you can put **whatever value you want**. When you **re-assign** a variable, you remove the content of the box and  put something new in it. "
   ]
  },
  {
   "cell_type": "code",
   "execution_count": null,
   "metadata": {
    "collapsed": true
   },
   "outputs": [],
   "source": [
    "# Re-assignmnet\n",
    "x = 5\n",
    "print(x)\n",
    "x = 7\n",
    "print(x)"
   ]
  },
  {
   "cell_type": "code",
   "execution_count": null,
   "metadata": {
    "collapsed": true
   },
   "outputs": [],
   "source": [
    "# Exercise: Reassign the variable name first your own name and then to the name of your personal hero"
   ]
  },
  {
   "cell_type": "markdown",
   "metadata": {},
   "source": [
    "### Copying/referencing variables\n",
    "Besides storing values in variables, you can also **pass the value of one variable to another**, i.e. copy the contant of a variable to another. "
   ]
  },
  {
   "cell_type": "markdown",
   "metadata": {},
   "source": [
    "we can assign the value of one variable to another variable. We will explain more about this later on, but here you just need to understand the basic mechanism. **Before** you evaluate the following code block, can you predict what Python will print?"
   ]
  },
  {
   "cell_type": "code",
   "execution_count": null,
   "metadata": {
    "collapsed": true
   },
   "outputs": [],
   "source": [
    "book = \"The Lord of the Flies\"\n",
    "reading = book\n",
    "print(reading)"
   ]
  },
  {
   "cell_type": "markdown",
   "metadata": {},
   "source": [
    "#### Exercise: can you correctly predict with Python will print now?"
   ]
  },
  {
   "cell_type": "code",
   "execution_count": null,
   "metadata": {
    "collapsed": true
   },
   "outputs": [],
   "source": [
    "first_number = 5\n",
    "print(first_number)\n",
    "second_number = first_number # copying\n",
    "first_number = 3 # reassignmnent\n",
    "print(first_number)\n",
    "print(second_number)"
   ]
  },
  {
   "cell_type": "markdown",
   "metadata": {},
   "source": [
    "### Manipulating Variables"
   ]
  },
  {
   "cell_type": "markdown",
   "metadata": {},
   "source": [
    "After assigning the values to variables (or storing the values inside the variable), you can do interesting stuff by applying operations on them."
   ]
  },
  {
   "cell_type": "code",
   "execution_count": null,
   "metadata": {
    "collapsed": true
   },
   "outputs": [],
   "source": [
    "x = 3\n",
    "print(x)\n",
    "print(x * x)\n",
    "print(x + x)\n",
    "print(x - 6)"
   ]
  },
  {
   "cell_type": "markdown",
   "metadata": {},
   "source": [
    "### Updating variables"
   ]
  },
  {
   "cell_type": "markdown",
   "metadata": {
    "collapsed": true
   },
   "source": [
    "When we obtain a new book, we can update the number of books accordingly:"
   ]
  },
  {
   "cell_type": "code",
   "execution_count": null,
   "metadata": {
    "collapsed": true
   },
   "outputs": [],
   "source": [
    "number_of_books = 5\n",
    "# now buy a new book\n",
    "number_of_books = number_of_books + 1\n",
    "# print the number of books bought\n",
    "print(number_of_books)"
   ]
  },
  {
   "cell_type": "code",
   "execution_count": null,
   "metadata": {
    "collapsed": true
   },
   "outputs": [],
   "source": [
    "# Copy paste the previous code but update with ten instead of one\n",
    "# What is the result?"
   ]
  },
  {
   "cell_type": "markdown",
   "metadata": {},
   "source": [
    "## 2.2 Statements and Operators\n",
    "\n",
    "### Statements and scripts\n",
    "A **statement** is an instruction that the Python interpreter can execute. We have\n",
    "seen two kinds of statements: ``print`` and assignment (``=``)."
   ]
  },
  {
   "cell_type": "code",
   "execution_count": null,
   "metadata": {
    "collapsed": true
   },
   "outputs": [],
   "source": [
    "# write here two statements: a print and an assignment statement"
   ]
  },
  {
   "cell_type": "markdown",
   "metadata": {},
   "source": [
    "A **script** usually contains a sequence of statements."
   ]
  },
  {
   "cell_type": "markdown",
   "metadata": {},
   "source": [
    "### Operators"
   ]
  },
  {
   "cell_type": "markdown",
   "metadata": {},
   "source": [
    "We can transform variables and values by applying **operators** to them. \n",
    "\n",
    "The symbols ``+``, ``-``, and ``/``, and the use of parenthesis for grouping, mean in\n",
    "Python what they mean in mathematics. The asterisk ``(*)`` is the symbol for\n",
    "multiplication, and ``**`` is the symbol for exponentiation."
   ]
  },
  {
   "cell_type": "code",
   "execution_count": null,
   "metadata": {
    "collapsed": true
   },
   "outputs": [],
   "source": [
    "# Using Python as a calculator\n",
    "x = 4\n",
    "y = 2\n",
    "print(x+y)\n",
    "print(x-y)\n",
    "print(x/y)\n",
    "print(x*2)\n",
    "print(y**2)"
   ]
  },
  {
   "cell_type": "markdown",
   "metadata": {},
   "source": [
    "### Operator precedence\n",
    "You will undoubtedly remember from your math classes in high school that there is something called **'operator precedence'**, meaning that multiplication, for instance, will always be executed before subtraction. In Python you can explicitly set the order in which arithmetic operations are executed, using parentheses. Compare the following lines of code:"
   ]
  },
  {
   "cell_type": "code",
   "execution_count": null,
   "metadata": {
    "collapsed": true
   },
   "outputs": [],
   "source": [
    "nr1 = 10-2/4\n",
    "nr2 = (10-2)/4\n",
    "nr3 = 10-(2/4)\n",
    "print(nr1)\n",
    "print(nr2)\n",
    "print(nr3)"
   ]
  },
  {
   "cell_type": "markdown",
   "metadata": {},
   "source": [
    "### Incremental count\n",
    "\n",
    "Remember that we can update a variable:"
   ]
  },
  {
   "cell_type": "code",
   "execution_count": null,
   "metadata": {
    "collapsed": true
   },
   "outputs": [],
   "source": [
    "number_of_books = 10\n",
    "number_of_books = number_of_books + 5\n",
    "print(number_of_books)"
   ]
  },
  {
   "cell_type": "markdown",
   "metadata": {},
   "source": [
    "Updates like these happen a lot. Python therefore provides a shortcut and you can write the same thing using `+=`:"
   ]
  },
  {
   "cell_type": "code",
   "execution_count": null,
   "metadata": {
    "collapsed": true
   },
   "outputs": [],
   "source": [
    "number_of_books += 5\n",
    "print(number_of_books)"
   ]
  },
  {
   "cell_type": "code",
   "execution_count": null,
   "metadata": {
    "collapsed": true
   },
   "outputs": [],
   "source": [
    "# Copy-paste the code of the previous cell here\n",
    "# What happens when you keep pressing ctrl + enter"
   ]
  },
  {
   "cell_type": "code",
   "execution_count": null,
   "metadata": {
    "collapsed": true
   },
   "outputs": [],
   "source": [
    "# Can you understand what happens here?\n",
    "number_of_books -= 5\n",
    "print(number_of_books)\n",
    "number_of_books *= 2\n",
    "print(number_of_books)\n",
    "number_of_books /= 2\n",
    "print(number_of_books)"
   ]
  },
  {
   "cell_type": "markdown",
   "metadata": {},
   "source": [
    "## 2.3 Types"
   ]
  },
  {
   "cell_type": "code",
   "execution_count": null,
   "metadata": {
    "collapsed": true
   },
   "outputs": [],
   "source": [
    "x = 10\n",
    "y = 3\n",
    "x/y"
   ]
  },
  {
   "cell_type": "markdown",
   "metadata": {},
   "source": [
    "You can see that ``x/y`` is not an integer. Numbers with a \"dot\" are called **``floats``**. We won't go into details here but you should be aware that Python includes different \"native\" data types. Why is this important? Try to run the following block. What do you expect it to return? 5 or 14?"
   ]
  },
  {
   "cell_type": "code",
   "execution_count": null,
   "metadata": {
    "collapsed": true
   },
   "outputs": [],
   "source": [
    "print(1+\"4\")"
   ]
  },
  {
   "cell_type": "markdown",
   "metadata": {},
   "source": [
    "This shoud raise a **TypeError**. The error message points out that you can not combine elements with different types. The check if the value belong the the same ``type``. Simply wrap the ``type`` function around the value. At this point you probably won't know what the previous sentence meant, but (to give you the answer), try to run variations of the code in cell below: ``print(type(put any value here))``"
   ]
  },
  {
   "cell_type": "code",
   "execution_count": null,
   "metadata": {
    "collapsed": true
   },
   "outputs": [],
   "source": [
    "# print the type of both values in the preceding code block"
   ]
  },
  {
   "cell_type": "markdown",
   "metadata": {},
   "source": [
    "You can force an item to change the type (**casting** a value). Run the cell below. Can you explain the differences between first and second print statement?"
   ]
  },
  {
   "cell_type": "code",
   "execution_count": null,
   "metadata": {
    "collapsed": true
   },
   "outputs": [],
   "source": [
    "print(str(1)+str(\"1\"))\n",
    "print(int(1)+int(\"1\"))"
   ]
  },
  {
   "cell_type": "markdown",
   "metadata": {},
   "source": [
    "Does this work?"
   ]
  },
  {
   "cell_type": "code",
   "execution_count": null,
   "metadata": {
    "collapsed": true
   },
   "outputs": [],
   "source": [
    "print(1 + .1)"
   ]
  },
  {
   "cell_type": "markdown",
   "metadata": {
    "collapsed": true
   },
   "source": [
    "### Strings variables"
   ]
  },
  {
   "cell_type": "markdown",
   "metadata": {},
   "source": [
    "Let's have a closer look at the ``'str'`` type (str stands for string)\n",
    "\n",
    "Not only numbers, but also strings can be added together. What do you think the below operation will produce?"
   ]
  },
  {
   "cell_type": "code",
   "execution_count": null,
   "metadata": {
    "collapsed": true
   },
   "outputs": [],
   "source": [
    "first_name = \"Kaspar\"\n",
    "last_name = \"Beelen\"\n",
    "print(first_name+last_name)"
   ]
  },
  {
   "cell_type": "markdown",
   "metadata": {},
   "source": [
    "This the last operation is called string **concatination**."
   ]
  },
  {
   "cell_type": "code",
   "execution_count": null,
   "metadata": {
    "collapsed": true
   },
   "outputs": [],
   "source": [
    "book = \"The Lord of the Flies\"\n",
    "print(first_name + \" likes \" + book + \"?\")"
   ]
  },
  {
   "cell_type": "code",
   "execution_count": null,
   "metadata": {
    "collapsed": true
   },
   "outputs": [],
   "source": [
    "# declare to variables first_name and last_name\n",
    "# print them neatly using concatenation"
   ]
  },
  {
   "cell_type": "code",
   "execution_count": null,
   "metadata": {
    "collapsed": true
   },
   "outputs": [],
   "source": [
    "# try other operators on the first and last names, what works, what does not? can you explain why?\n",
    "# e.g \"yourname\"*2"
   ]
  },
  {
   "cell_type": "markdown",
   "metadata": {},
   "source": [
    "You can do more than just applying operators to strings. We have a closer look at string manipulation later in the course, but at this stage it is useful to be aware of Python **`help()` function**. For example, create a variable with the name `bestseller` and assign it to the string `Fire and Fury`, then apply put this variable within the the parentheses of the `help()` function."
   ]
  },
  {
   "cell_type": "code",
   "execution_count": null,
   "metadata": {
    "collapsed": true
   },
   "outputs": [],
   "source": [
    "# call the help function with the bestseller variable as argument"
   ]
  },
  {
   "cell_type": "code",
   "execution_count": null,
   "metadata": {
    "collapsed": true
   },
   "outputs": [],
   "source": [
    "# or try\n",
    "help(str)"
   ]
  },
  {
   "cell_type": "markdown",
   "metadata": {},
   "source": [
    "### What we learnt so far\n",
    "To finish this section, here is an overview of what we have learnt. Go through the list and make sure you understand all the concepts.\n",
    "\n",
    "- variable\n",
    "- value\n",
    "- assignment operator (=)\n",
    "- difference between variables and values\n",
    "- integers vs. floats\n",
    "- operators for multiplication (*), subtraction (-), addition (+), division (/)\n",
    "- operator precedence\n",
    "- string concatination\n",
    "- print()\n",
    "- help()"
   ]
  },
  {
   "cell_type": "markdown",
   "metadata": {},
   "source": [
    "## 3. Indexing and slicing"
   ]
  },
  {
   "cell_type": "markdown",
   "metadata": {},
   "source": [
    "Often we want to select a substring (or more general a subset of elements). Python notation for index and slicing may be confusing at first, but very useful once you are familiar with it."
   ]
  },
  {
   "cell_type": "code",
   "execution_count": null,
   "metadata": {
    "collapsed": true
   },
   "outputs": [],
   "source": [
    "song = \"Naturkatastrophenkonzert\"\n",
    "print(song)"
   ]
  },
  {
   "cell_type": "markdown",
   "metadata": {},
   "source": [
    "As we know by now, such a piece of text (\"Naturkatastrophenkonzert\") is called a ``string`` in Python (cf. a **string of characters**). Strings in Python must always be enclosed with 'quotes' (either **single** or **double** quotes). *Without those quotes, Python will think it's dealing with the name of some variable that has been defined earlier, because variable names never take quotes.* The following distinction is confusing, but extremely important (thats why I repeat it here): variable names (without quotes) and string values (with quotes) look similar, but they serve a completely different purpose. Compare:"
   ]
  },
  {
   "cell_type": "code",
   "execution_count": null,
   "metadata": {
    "collapsed": true,
    "scrolled": true
   },
   "outputs": [],
   "source": [
    "name = \"Doris\"\n",
    "Doris = \"name\"\n",
    "D = \"D\"\n",
    "print(name)\n",
    "print (Doris)\n",
    "print(D)"
   ]
  },
  {
   "cell_type": "markdown",
   "metadata": {},
   "source": [
    "Now that you know the difference between variables and string values, we can inspect these strings further. Strings are called strings because they consist of a **series** (or ``'string'``) of **individual** characters. We can access these characters in Python with the help of **``'indexing'``**, because each character in a string has a unique **``'index'``** (i.e. an integer that points to the position of the character). To print the first letter of the variable `song`, you can type:"
   ]
  },
  {
   "cell_type": "code",
   "execution_count": null,
   "metadata": {
    "collapsed": true
   },
   "outputs": [],
   "source": [
    "song_startswith = song[0]\n",
    "print(song)\n",
    "print(song_startswith)"
   ]
  },
  {
   "cell_type": "markdown",
   "metadata": {},
   "source": [
    "\n",
    "### Or try:\n"
   ]
  },
  {
   "cell_type": "code",
   "execution_count": null,
   "metadata": {
    "collapsed": true
   },
   "outputs": [],
   "source": [
    "#print(\"Starts with: \",song_startwith)"
   ]
  },
  {
   "cell_type": "markdown",
   "metadata": {},
   "source": [
    "How does indexing work exactly?\n",
    "\n",
    "![Indexes of the string Monty Python starting with 0](https://i.stack.imgur.com/vIKaD.png)\n",
    "Take a look at the string \"Monty Python\". We use the index **`0`** to access the **first** character in the string. This might seem odd, but all indexes in Python start at **zero**. Whenever you count in Python, you start at `0` instead of `1`. Note that the **space character** gets an index too, namely 5. This is something you will have to get used to!\n",
    "\n",
    "How to access the last letter of \"Naturkatastrophenkonzert\"? Python has a `len()` function, which tells you how many elements the sequence contains"
   ]
  },
  {
   "cell_type": "code",
   "execution_count": null,
   "metadata": {
    "collapsed": true
   },
   "outputs": [],
   "source": [
    "# get the length of the song variable \n",
    "len(song)"
   ]
  },
  {
   "cell_type": "markdown",
   "metadata": {},
   "source": [
    "Because you know the length of the song name you can ask for the last letter of \"Naturkatastrophenkonzert\": "
   ]
  },
  {
   "cell_type": "code",
   "execution_count": null,
   "metadata": {
    "collapsed": true
   },
   "outputs": [],
   "source": [
    "last_letter = song[# fill in the last index of \"Naturkatastrophenkonzert\" (tip indexes start at 0)]\n",
    "print(last_letter)"
   ]
  },
  {
   "cell_type": "markdown",
   "metadata": {
    "collapsed": true
   },
   "source": [
    "Do you understand the following statement?"
   ]
  },
  {
   "cell_type": "code",
   "execution_count": null,
   "metadata": {
    "collapsed": true
   },
   "outputs": [],
   "source": [
    "print(name[len(name)-1])"
   ]
  },
  {
   "cell_type": "markdown",
   "metadata": {},
   "source": [
    "It is rather inconvenient having to know how long our strings are if we want to find out what its last letter is. Python provides a simple way of accessing a string 'from the rear':"
   ]
  },
  {
   "cell_type": "code",
   "execution_count": null,
   "metadata": {
    "collapsed": true
   },
   "outputs": [],
   "source": [
    "# Exercise print the last letter of your name using negative index\n",
    "last_letter = song[??]\n",
    "print(last_letter)"
   ]
  },
  {
   "cell_type": "markdown",
   "metadata": {},
   "source": [
    "Now can you write some code that defines a variable `but_last_letter` and assigns to this variable the *one but last* letter of your name?"
   ]
  },
  {
   "cell_type": "code",
   "execution_count": null,
   "metadata": {
    "collapsed": true
   },
   "outputs": [],
   "source": [
    "name = # enter your name as a string"
   ]
  },
  {
   "cell_type": "code",
   "execution_count": null,
   "metadata": {
    "collapsed": true
   },
   "outputs": [],
   "source": [
    "but_last_letter = name[# insert your code here]\n",
    "print(but_last_letter)"
   ]
  },
  {
   "cell_type": "markdown",
   "metadata": {},
   "source": [
    "You're starting to become a real expert in indexing strings. Now what if we would like to find out what the first two or three letters of our name are? In Python we can use so-called **'slice-indexes' or 'slices'** for short. To find the first two letters of our name we type in:"
   ]
  },
  {
   "cell_type": "code",
   "execution_count": null,
   "metadata": {
    "collapsed": true
   },
   "outputs": [],
   "source": [
    "first_two_letters = name[0:2]\n",
    "print(first_two_letters)"
   ]
  },
  {
   "cell_type": "markdown",
   "metadata": {},
   "source": [
    "The `0` index is optional, so we could just as well type in `name[:2]`. This says: take all characters of name until you reach index 2 (i.e. up to the third letter, but not including the third letter). We can also start at index 2 and leave the end index unspecified:"
   ]
  },
  {
   "cell_type": "code",
   "execution_count": null,
   "metadata": {
    "collapsed": true
   },
   "outputs": [],
   "source": [
    "without_first_two_letters = name[2:]\n",
    "print(without_first_two_letters)"
   ]
  },
  {
   "cell_type": "markdown",
   "metadata": {},
   "source": [
    "Because we did not specify the end index, Python continues until it reaches the end of our string. If we would like to find out what the last two letters of our name are, we can type in:"
   ]
  },
  {
   "cell_type": "code",
   "execution_count": null,
   "metadata": {
    "collapsed": true
   },
   "outputs": [],
   "source": [
    "last_two_letters = name[-2:]\n",
    "print(last_two_letters)"
   ]
  },
  {
   "cell_type": "markdown",
   "metadata": {},
   "source": [
    "### General Slice Syntax\n",
    "\n",
    "The more general form of the Python slicing syntax has the shape\n",
    "   \n",
    "   `object[start:stop:step]`\n",
    " \n",
    "Complete the three exercises below, to check if you properly understand this syntax."
   ]
  },
  {
   "cell_type": "code",
   "execution_count": null,
   "metadata": {
    "collapsed": true
   },
   "outputs": [],
   "source": [
    "# Exercise: print your name, but only the characters with and even index"
   ]
  },
  {
   "cell_type": "code",
   "execution_count": null,
   "metadata": {
    "collapsed": true
   },
   "outputs": [],
   "source": [
    "# Exercise: what happens when you use a negative step without defining the start and end of the slice?"
   ]
  },
  {
   "cell_type": "code",
   "execution_count": null,
   "metadata": {
    "collapsed": true
   },
   "outputs": [],
   "source": [
    "# Exercise: what happens if we apply [::] (or [:::]) to a variable?"
   ]
  },
  {
   "cell_type": "markdown",
   "metadata": {
    "collapsed": true
   },
   "source": [
    "To finish this section, here is an overview of what we have learnt. Go through the list and make sure you understand all the concepts.\n",
    "\n",
    "-  concatenation (e.g. addition of strings)\n",
    "-  indexing\n",
    "-  slicing\n",
    "-  `len()`"
   ]
  },
  {
   "cell_type": "markdown",
   "metadata": {},
   "source": [
    "## Exercises (DIY)"
   ]
  },
  {
   "cell_type": "markdown",
   "metadata": {},
   "source": [
    "Inspired by *Think Python* by Allen B. Downey (http://thinkpython.com), *Introduction to Programming Using Python* by Y. Liang (Pearson, 2013). Some exercises below have been taken from: http://www.ling.gu.se/~lager/python_exercises.html."
   ]
  },
  {
   "cell_type": "markdown",
   "metadata": {},
   "source": [
    "-  Ex. 1: Suppose the cover price of a book is 24.95 EUR, but bookstores get a 40 percent discount. Shipping costs 3 EUR for the first copy and 75 cents for each additional copy. What is the total wholesale cost for 60 copies? Print the result in a pretty fashion, using casting where necessary!"
   ]
  },
  {
   "cell_type": "code",
   "execution_count": null,
   "metadata": {
    "collapsed": true
   },
   "outputs": [],
   "source": []
  },
  {
   "cell_type": "markdown",
   "metadata": {},
   "source": [
    "-  Ex. 2: Can you identify and explain the errors in the following lines of code? Correct them please!"
   ]
  },
  {
   "cell_type": "code",
   "execution_count": null,
   "metadata": {
    "collapsed": true
   },
   "outputs": [],
   "source": [
    "print(\"A message\").\n",
    "print(\"A message')\n",
    "print('A messagef\"')"
   ]
  },
  {
   "cell_type": "markdown",
   "metadata": {},
   "source": [
    "-  Ex. 3: When something is wrong with your code, Python will raise errors. Often these will be 'syntax errors' that signal that something is wrong with the form of your code (i.e. a `SyntaxError` like the one thrown in the previous exercice). There are also 'runtime errors' that signal that your code was in itself formally correct, but that something went wrong during the code's execution. A good example is the `ZeroDivisionError`. Try to make Python throw such a ZeroDivisionError!"
   ]
  },
  {
   "cell_type": "code",
   "execution_count": null,
   "metadata": {
    "collapsed": true
   },
   "outputs": [],
   "source": [
    "# ZeroDivisionError"
   ]
  },
  {
   "cell_type": "markdown",
   "metadata": {},
   "source": [
    "- Ex. 4: Write a program that assigns the result of `9.5 * 4.5 - 2.5 * 345.5 - 3.5` to a variable. Print this variable. Use round parentheses to indicate 'operator precedence' and make sure that subtractions are performed before multiplications. When you convert the outcome to a string, how many characters does it count?"
   ]
  },
  {
   "cell_type": "code",
   "execution_count": null,
   "metadata": {
    "collapsed": true
   },
   "outputs": [],
   "source": []
  },
  {
   "cell_type": "markdown",
   "metadata": {},
   "source": [
    "- Ex. 5: Define the variables `a=2`, b=`20007` and c=`5`. Using only the operations you learned about above, can you now print the following numbers: `2005`, `252525252`, `2510`, `-60025` and `2002507`? (Hint: use type casting and string slicing to access parts of the original numbers!) "
   ]
  },
  {
   "cell_type": "code",
   "execution_count": null,
   "metadata": {
    "collapsed": true
   },
   "outputs": [],
   "source": []
  },
  {
   "cell_type": "markdown",
   "metadata": {},
   "source": [
    "-  Ex. 6: Define three variables `var1`, `var2` and `var3`. Calculate the average of these variables and assign it to `average`. Print the result in a fancy manner. Add three comments to this piece of code using three different ways."
   ]
  },
  {
   "cell_type": "code",
   "execution_count": null,
   "metadata": {
    "collapsed": true
   },
   "outputs": [],
   "source": []
  },
  {
   "cell_type": "markdown",
   "metadata": {},
   "source": [
    "-  Ex. 7: Write a little program that can compute the surface of circle, using the variables `radius` and `pi=3.14159`. The formula is of course radius, multiplied by radius, multiplied by `pi`. Print the outcome of your program as follows: 'The surface area of a circle with radius ... is: ...'."
   ]
  },
  {
   "cell_type": "code",
   "execution_count": null,
   "metadata": {
    "collapsed": true
   },
   "outputs": [],
   "source": []
  },
  {
   "cell_type": "markdown",
   "metadata": {},
   "source": [
    "- Ex. 8: There is one operator (like the ones for multiplication and subtraction) that we did not mention yet, namely the modulus operator `%`. Could you figure by yourself what it does when you place it between two numbers (e.g. 113 % 9)? (PS: It's OK to get help online...) You don't need this operator all that often, but when you do, it comes in really handy!"
   ]
  },
  {
   "cell_type": "code",
   "execution_count": null,
   "metadata": {
    "collapsed": true
   },
   "outputs": [],
   "source": []
  },
  {
   "cell_type": "markdown",
   "metadata": {},
   "source": [
    "#### Optional Exercise"
   ]
  },
  {
   "cell_type": "markdown",
   "metadata": {},
   "source": [
    "- Ex. 9: Can you use the modulus operator you just learned about to solve the following task? Write a code block that classifies a given amount of money into smaller monetary units. Set the `amount` variable to 11.56. You code should outputs a report listing the monetary equivalent in dollars, quarters, dimes, nickels, and pennies. Your program should report the maximum number of dollars, then the number of quarters, dimes, nickels, and pennies, in this order, to result in the minimum number of coins. Here are the steps in developing the program:\n",
    ">   Convert the amount (11.56) into cents (1156).\n",
    ">   Divide the cents by 100 to find the number of dollars, but first subtract the rest using the modulus operator!\n",
    ">   Divide the remaining cents by 25 to find the number of quarters, but, again, first subtract the rest using the modulus operator!\n",
    ">   Divide the remaining cents by 10 to find the number of dimes, etc.\n",
    ">   Divide the remaining cents by 5 to find the number of nickels, etc.\n",
    ">   The remaining cents are the pennies. Now display the result for your cashier!"
   ]
  },
  {
   "cell_type": "code",
   "execution_count": null,
   "metadata": {
    "collapsed": true
   },
   "outputs": [],
   "source": []
  }
 ],
 "metadata": {
  "kernelspec": {
   "display_name": "Python 3",
   "language": "python",
   "name": "python3"
  },
  "language_info": {
   "codemirror_mode": {
    "name": "ipython",
    "version": 3
   },
   "file_extension": ".py",
   "mimetype": "text/x-python",
   "name": "python",
   "nbconvert_exporter": "python",
   "pygments_lexer": "ipython3",
   "version": "3.6.3"
  }
 },
 "nbformat": 4,
 "nbformat_minor": 1
}
