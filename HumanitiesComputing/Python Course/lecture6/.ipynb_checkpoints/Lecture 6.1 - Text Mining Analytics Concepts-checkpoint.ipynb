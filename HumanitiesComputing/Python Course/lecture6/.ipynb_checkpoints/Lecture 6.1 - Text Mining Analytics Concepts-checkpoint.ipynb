{
 "cells": [
  {
   "cell_type": "markdown",
   "metadata": {},
   "source": [
    "# Vectors and Matrices: Basic Text Analytics"
   ]
  },
  {
   "cell_type": "markdown",
   "metadata": {},
   "source": [
    "## Bonus: A (Very) Advanced Example: Topic Modeling\n",
    "\n",
    "This example is a sneak peak into the more advanced features of data mining. We will try find topics in Marx Communist Manifesto. Many of the features shown below will be covered in more detail later in this course."
   ]
  },
  {
   "cell_type": "code",
   "execution_count": 34,
   "metadata": {},
   "outputs": [
    {
     "name": "stdout",
     "output_type": "stream",
     "text": [
      "﻿the project gutenberg ebook of the communist manifesto\r\n",
      "by karl marx and friedrich engels\r\n",
      "\r\n",
      "this e\n"
     ]
    }
   ],
   "source": [
    "import requests\n",
    "text = requests.get('http://www.gutenberg.org/cache/epub/61/pg61.txt').text.lower()\n",
    "print(text[:100])"
   ]
  },
  {
   "cell_type": "markdown",
   "metadata": {
    "collapsed": true
   },
   "source": [
    "We study the book by approximately paragraphs:"
   ]
  },
  {
   "cell_type": "code",
   "execution_count": 35,
   "metadata": {},
   "outputs": [
    {
     "data": {
      "text/plain": [
       "'party in opposition that has not been decried as\\r\\ncommunistic by its opponents in power?  where is the opposition\\r\\nthat has not hurled back the branding reproach of communism,\\r\\nagainst the more advanced opposition parties, as well as against\\r\\nits reactionary adversaries?\\r\\n\\r\\ntwo things result from this fact.\\r\\n\\r\\ni.  communism is already acknowledged by all european powers\\r\\nto be itself a power.\\r\\n\\r\\nii.  it is high time that communists should openly, in the\\r\\nface of the whole world, publish their vi'"
      ]
     },
     "execution_count": 35,
     "metadata": {},
     "output_type": "execute_result"
    }
   ],
   "source": [
    "text[1000:1500]"
   ]
  },
  {
   "cell_type": "code",
   "execution_count": 65,
   "metadata": {},
   "outputs": [
    {
     "name": "stdout",
     "output_type": "stream",
     "text": [
      "294\n",
      "by this, the long wished-for opportunity was offered to \"true\"\r\n",
      "socialism of confronting the political movement with the\r\n",
      "socialist demands, of hurling the traditional anathemas\r\n",
      "against liberalism, against representative government, against\r\n",
      "bourgeois competition, bourgeois freedom of the press, bourgeois\r\n",
      "legislation, bourgeois liberty and equality, and of preaching to\r\n",
      "the masses that they had nothing to gain, and everything to lose,\r\n",
      "by this bourgeois movement.  german socialism forgot, in the nick\r\n",
      "of time, that the french criticism, whose silly echo it was,\r\n",
      "presupposed the existence of modern bourgeois society, with its\r\n",
      "corresponding economic conditions of existence, and the political\r\n",
      "constitution adapted thereto, the very things whose attainment\r\n",
      "was the object of the pending struggle in germany.\n"
     ]
    }
   ],
   "source": [
    "# we split by two hard returns\n",
    "paras = text.split('\\r\\n\\r\\n')\n",
    "print(len(paras))\n",
    "print(paras[190])"
   ]
  },
  {
   "cell_type": "code",
   "execution_count": 66,
   "metadata": {},
   "outputs": [
    {
     "name": "stdout",
     "output_type": "stream",
     "text": [
      "\r\n",
      "*** start of this project gutenberg ebook the communist manifesto ***\n"
     ]
    }
   ],
   "source": [
    "# sonnets start here\n",
    "print(paras[6])"
   ]
  },
  {
   "cell_type": "code",
   "execution_count": 67,
   "metadata": {},
   "outputs": [
    {
     "name": "stdout",
     "output_type": "stream",
     "text": [
      "*** end of this project gutenberg ebook the communist manifesto ***\n"
     ]
    }
   ],
   "source": [
    "# sonnets end here\n",
    "print(paras[-55])"
   ]
  },
  {
   "cell_type": "markdown",
   "metadata": {
    "collapsed": true
   },
   "source": [
    "Then we properly tokenize the each sonnet, i.e. separate words from punctuation (for more details, see next lecture)."
   ]
  },
  {
   "cell_type": "code",
   "execution_count": 46,
   "metadata": {},
   "outputs": [
    {
     "name": "stdout",
     "output_type": "stream",
     "text": [
      "['This', 'example', ',', 'will', 'be', ':', 'properly', 'tokenized', '!']\n"
     ]
    }
   ],
   "source": [
    "from nltk.tokenize import word_tokenize\n",
    "sentence = 'This example, will be: properly tokenized!'\n",
    "tokens = word_tokenize(sentence)\n",
    "print(tokens)"
   ]
  },
  {
   "cell_type": "markdown",
   "metadata": {},
   "source": [
    "In the code below we do many things:\n",
    "    - Tokenize each sonnet\n",
    "    - Select longer sonnets, more than 5 tokens and store them in a variable long_poems\n",
    "    - Retain only alphabetical items"
   ]
  },
  {
   "cell_type": "code",
   "execution_count": 107,
   "metadata": {},
   "outputs": [
    {
     "name": "stdout",
     "output_type": "stream",
     "text": [
      "We selected  178  paragraphs of the total of  294\n"
     ]
    }
   ],
   "source": [
    "# code is rather hacky, but hey it works!\n",
    "long_paras = []\n",
    "\n",
    "for para in paras[7:-55]: # ignore the gutenberg appendices\n",
    "    \n",
    "    tokens = word_tokenize(para) # seperate words form interpunction     \n",
    "    if len(tokens) >= 20: # if we have more than 5 alphabetic tokens\n",
    "        long_paras.append(tokens) # add the sonnet to long poems\n",
    "            \n",
    "print('We selected ',len(long_paras),' paragraphs of the total of ', len(poems)) # print the result"
   ]
  },
  {
   "cell_type": "code",
   "execution_count": null,
   "metadata": {
    "collapsed": true
   },
   "outputs": [],
   "source": [
    "# demonstrate what happens in the loop "
   ]
  },
  {
   "cell_type": "markdown",
   "metadata": {},
   "source": [
    "To feed our data to Topic Modeling algorithm, we have to make a [document-term matrix](https://en.wikipedia.org/wiki/Document-term_matrix), for this we need to have a list with all types (distinct words) often called a vocabulary."
   ]
  },
  {
   "cell_type": "code",
   "execution_count": 108,
   "metadata": {},
   "outputs": [
    {
     "name": "stdout",
     "output_type": "stream",
     "text": [
      "16568\n",
      "2733\n"
     ]
    }
   ],
   "source": [
    "# tokenize the whole text at one\n",
    "all_tokens = word_tokenize(text)\n",
    "print(len(all_tokens))\n",
    "print(len(set(all_tokens)))\n",
    "vocab = set(all_tokens)"
   ]
  },
  {
   "cell_type": "markdown",
   "metadata": {},
   "source": [
    "`set()` transforms a list to unordered set and thereby removes all duplicates as in the example below. "
   ]
  },
  {
   "cell_type": "code",
   "execution_count": 50,
   "metadata": {},
   "outputs": [
    {
     "name": "stdout",
     "output_type": "stream",
     "text": [
      "[1, 1, 1, 2, 3, 4, 4]\n",
      "{1, 2, 3, 4}\n",
      "[1, 2, 3, 4]\n"
     ]
    }
   ],
   "source": [
    "l = [1,1,1,2,3,4,4]\n",
    "print(l)\n",
    "s = set(l)\n",
    "print(s)\n",
    "l = list(s)\n",
    "print(l)"
   ]
  },
  {
   "cell_type": "code",
   "execution_count": null,
   "metadata": {
    "collapsed": true
   },
   "outputs": [],
   "source": [
    "# same as\n",
    "list(set(l))"
   ]
  },
  {
   "cell_type": "code",
   "execution_count": 109,
   "metadata": {},
   "outputs": [
    {
     "name": "stdout",
     "output_type": "stream",
     "text": [
      "['\\ufeffthe', 'project', 'gutenberg', 'ebook', 'of', 'the', 'communist', 'manifesto', 'by', 'karl', 'marx', 'and', 'friedrich', 'engels', 'this', 'ebook', 'is', 'for', 'the', 'use', 'of', 'anyone', 'anywhere', 'at', 'no', 'cost', 'and', 'with', 'almost', 'no', 'restrictions', 'whatsoever', '.', 'you', 'may', 'copy', 'it', ',', 'give', 'it', 'away', 'or', 're-use', 'it', 'under', 'the', 'terms', 'of', 'the', 'project', 'gutenberg', 'license', 'included', 'with', 'this', 'ebook', 'or', 'online', 'at', 'www.gutenberg.net', 'title', ':', 'the', 'communist', 'manifesto', 'author', ':', 'karl', 'marx', 'and', 'friedrich', 'engels', 'release', 'date', ':', 'january', '25', ',', '2005', '[', 'ebook', '#', '61', ']', 'language', ':', 'english', '***', 'start', 'of', 'this', 'project', 'gutenberg', 'ebook', 'the', 'communist', 'manifesto', '***', 'transcribed', 'by']\n"
     ]
    }
   ],
   "source": [
    "# print the hundred first items of list(set())\n",
    "print(list(all_tokens)[:100])"
   ]
  },
  {
   "cell_type": "markdown",
   "metadata": {},
   "source": [
    "Function words are often discarded. This can be easily done using a membership condition."
   ]
  },
  {
   "cell_type": "code",
   "execution_count": 51,
   "metadata": {},
   "outputs": [
    {
     "name": "stdout",
     "output_type": "stream",
     "text": [
      "['i', 'me', 'my', 'myself', 'we', 'our', 'ours', 'ourselves', 'you', \"you're\", \"you've\", \"you'll\", \"you'd\", 'your', 'yours', 'yourself', 'yourselves', 'he', 'him', 'his', 'himself', 'she', \"she's\", 'her', 'hers', 'herself', 'it', \"it's\", 'its', 'itself', 'they', 'them', 'their', 'theirs', 'themselves', 'what', 'which', 'who', 'whom', 'this', 'that', \"that'll\", 'these', 'those', 'am', 'is', 'are', 'was', 'were', 'be', 'been', 'being', 'have', 'has', 'had', 'having', 'do', 'does', 'did', 'doing', 'a', 'an', 'the', 'and', 'but', 'if', 'or', 'because', 'as', 'until', 'while', 'of', 'at', 'by', 'for', 'with', 'about', 'against', 'between', 'into', 'through', 'during', 'before', 'after', 'above', 'below', 'to', 'from', 'up', 'down', 'in', 'out', 'on', 'off', 'over', 'under', 'again', 'further', 'then', 'once', 'here', 'there', 'when', 'where', 'why', 'how', 'all', 'any', 'both', 'each', 'few', 'more', 'most', 'other', 'some', 'such', 'no', 'nor', 'not', 'only', 'own', 'same', 'so', 'than', 'too', 'very', 's', 't', 'can', 'will', 'just', 'don', \"don't\", 'should', \"should've\", 'now', 'd', 'll', 'm', 'o', 're', 've', 'y', 'ain', 'aren', \"aren't\", 'couldn', \"couldn't\", 'didn', \"didn't\", 'doesn', \"doesn't\", 'hadn', \"hadn't\", 'hasn', \"hasn't\", 'haven', \"haven't\", 'isn', \"isn't\", 'ma', 'mightn', \"mightn't\", 'mustn', \"mustn't\", 'needn', \"needn't\", 'shan', \"shan't\", 'shouldn', \"shouldn't\", 'wasn', \"wasn't\", 'weren', \"weren't\", 'won', \"won't\", 'wouldn', \"wouldn't\"]\n"
     ]
    }
   ],
   "source": [
    "from nltk.corpus import stopwords\n",
    "stopw = stopwords.words('english') # get a list of stop words from an external library\n",
    "print(stopw)"
   ]
  },
  {
   "cell_type": "code",
   "execution_count": 110,
   "metadata": {},
   "outputs": [
    {
     "name": "stdout",
     "output_type": "stream",
     "text": [
      "2733\n",
      "2452\n"
     ]
    }
   ],
   "source": [
    "vocab_wo_punct = []\n",
    "print(len(vocab))\n",
    "for w in vocab: # iterate over all the tokens in all_tokens\n",
    "    if w.isalpha() and w not in stopw: # if an items is alphanumeric \n",
    "        vocab_wo_punct.append(w)\n",
    "print(len(vocab_wo_punct))"
   ]
  },
  {
   "cell_type": "markdown",
   "metadata": {},
   "source": [
    "`vocab` now contains all alphabetic words that are not stop words."
   ]
  },
  {
   "cell_type": "markdown",
   "metadata": {},
   "source": [
    "Now let's filter out the word that appear less than five times."
   ]
  },
  {
   "cell_type": "code",
   "execution_count": 111,
   "metadata": {},
   "outputs": [
    {
     "name": "stdout",
     "output_type": "stream",
     "text": [
      "261\n"
     ]
    }
   ],
   "source": [
    "from nltk import FreqDist\n",
    "vocab_filtered = []\n",
    "fd = FreqDist(all_tokens)\n",
    "for v in vocab_wo_punct:\n",
    "    if fd[v] > 5:\n",
    "        vocab_filtered.append(v)\n",
    "print(len(vocab_filtered))"
   ]
  },
  {
   "cell_type": "markdown",
   "metadata": {},
   "source": [
    "Now we will transform all the titles to a **count vector**: a list where each value indicates how often a word appears (int) or not (0):"
   ]
  },
  {
   "cell_type": "code",
   "execution_count": 112,
   "metadata": {},
   "outputs": [
    {
     "name": "stdout",
     "output_type": "stream",
     "text": [
      "['modern', 'industry', 'has', 'converted', 'the', 'little', 'workshop', 'of', 'the', 'patriarchal', 'master', 'into', 'the', 'great', 'factory', 'of', 'the', 'industrial', 'capitalist', '.', 'masses', 'of', 'labourers', ',', 'crowded', 'into', 'the', 'factory', ',', 'are', 'organised', 'like', 'soldiers', '.', 'as', 'privates', 'of', 'the', 'industrial', 'army', 'they', 'are', 'placed', 'under', 'the', 'command', 'of', 'a', 'perfect', 'hierarchy', 'of', 'officers', 'and', 'sergeants', '.', 'not', 'only', 'are', 'they', 'slaves', 'of', 'the', 'bourgeois', 'class', ',', 'and', 'of', 'the', 'bourgeois', 'state', ';', 'they', 'are', 'daily', 'and', 'hourly', 'enslaved', 'by', 'the', 'machine', ',', 'by', 'the', 'over-looker', ',', 'and', ',', 'above', 'all', ',', 'by', 'the', 'individual', 'bourgeois', 'manufacturer', 'himself', '.', 'the', 'more', 'openly', 'this', 'despotism', 'proclaims', 'gain', 'to', 'be', 'its', 'end', 'and', 'aim', ',', 'the', 'more', 'petty', ',', 'the', 'more', 'hateful', 'and', 'the', 'more', 'embittering', 'it', 'is', '.']\n"
     ]
    }
   ],
   "source": [
    "# Let's take a random example\n",
    "example = long_paras[30]\n",
    "print(example)\n",
    "fd_s = FreqDist(example)"
   ]
  },
  {
   "cell_type": "code",
   "execution_count": 113,
   "metadata": {},
   "outputs": [
    {
     "name": "stdout",
     "output_type": "stream",
     "text": [
      "[0, 0, 0, 0, 0, 0, 0, 0, 0, 0, 0, 0, 0, 0, 1, 0, 0, 0, 0, 0, 0, 0, 0, 0, 0, 0, 0, 0, 0, 0, 0, 0, 0, 0, 0, 0, 0, 0, 0, 3, 0, 0, 0, 0, 0, 1, 0, 0, 0, 0, 0, 0, 0, 0, 0, 0, 0, 0, 0, 0, 0, 0, 0, 0, 0, 0, 0, 0, 0, 0, 0, 0, 0, 0, 0, 0, 0, 0, 0, 0, 0, 0, 0, 0, 0, 0, 0, 0, 0, 0, 0, 0, 0, 0, 0, 0, 0, 0, 0, 0, 0, 0, 0, 0, 0, 0, 0, 0, 0, 0, 0, 0, 0, 0, 0, 0, 0, 0, 0, 0, 0, 0, 0, 0, 0, 0, 0, 0, 0, 0, 0, 0, 0, 0, 0, 0, 0, 0, 0, 0, 0, 0, 0, 0, 0, 0, 0, 0, 0, 0, 0, 0, 0, 0, 0, 0, 0, 2, 0, 0, 0, 0, 0, 0, 0, 0, 0, 0, 0, 0, 0, 0, 0, 0, 0, 0, 0, 0, 0, 1, 0, 0, 1, 0, 0, 1, 0, 0, 0, 0, 0, 0, 0, 0, 0, 0, 0, 0, 1, 0, 0, 0, 0, 0, 0, 0, 0, 0, 0, 0, 0, 0, 0, 0, 0, 0, 0, 0, 0, 0, 0, 0, 1, 0, 0, 0, 0, 0, 0, 0, 0, 0, 0, 0, 0, 0, 0, 0, 0, 0, 0, 0, 0, 0, 0, 0, 0, 0, 0, 1, 0, 0, 0, 0, 0, 0, 1, 0, 0, 0, 0]\n"
     ]
    }
   ],
   "source": [
    "vector = []\n",
    "for w in vocab_filtered:\n",
    "    count = fd_s.get(w,0)\n",
    "    vector.append(count)\n",
    "print(vector)"
   ]
  },
  {
   "cell_type": "markdown",
   "metadata": {},
   "source": [
    "Each row in the document-term matrix is a vector representing one sonnet."
   ]
  },
  {
   "cell_type": "markdown",
   "metadata": {},
   "source": [
    "Now we transform our corpus to a document term matrix: A matrix where the rows represent songs, and columns the presence of a word."
   ]
  },
  {
   "cell_type": "code",
   "execution_count": 114,
   "metadata": {},
   "outputs": [
    {
     "name": "stdout",
     "output_type": "stream",
     "text": [
      "True\n",
      "True\n"
     ]
    }
   ],
   "source": [
    "vectors = []\n",
    "for tokens in long_paras:\n",
    "    vector = []\n",
    "    freqdist = FreqDist(tokens)\n",
    "    for w in vocab_filtered:\n",
    "        \n",
    "        vector.append(freqdist.get(w,0))\n",
    "    vectors.append(vector)\n",
    "            \n",
    "print(len(vectors) == len(long_paras))\n",
    "print(len(vectors[0]) == len(vocab_filtered))"
   ]
  },
  {
   "cell_type": "markdown",
   "metadata": {},
   "source": [
    "Now we can train a topic model on the document-term matrix."
   ]
  },
  {
   "cell_type": "code",
   "execution_count": 115,
   "metadata": {},
   "outputs": [
    {
     "data": {
      "text/plain": [
       "LatentDirichletAllocation(batch_size=128, doc_topic_prior=None,\n",
       "             evaluate_every=-1, learning_decay=0.7,\n",
       "             learning_method='online', learning_offset=10.0,\n",
       "             max_doc_update_iter=100, max_iter=20, mean_change_tol=0.001,\n",
       "             n_jobs=1, n_topics=5, perp_tol=0.1, random_state=0,\n",
       "             topic_word_prior=None, total_samples=1000000.0, verbose=0)"
      ]
     },
     "execution_count": 115,
     "metadata": {},
     "output_type": "execute_result"
    }
   ],
   "source": [
    "from sklearn.decomposition import LatentDirichletAllocation\n",
    "lda = LatentDirichletAllocation(n_topics=5, max_iter=20, #maybe n_components\n",
    "                                learning_method='online',\n",
    "                                random_state=0,\n",
    "                                verbose=0,\n",
    "                                n_jobs=1)\n",
    "lda.fit(vectors)"
   ]
  },
  {
   "cell_type": "markdown",
   "metadata": {},
   "source": [
    "And print the different topics:"
   ]
  },
  {
   "cell_type": "code",
   "execution_count": 116,
   "metadata": {},
   "outputs": [
    {
     "name": "stdout",
     "output_type": "stream",
     "text": [
      "Topic #0: german socialism french ideas social society true one man class\n",
      "Topic #1: production selling buying industries common women free national country mere\n",
      "Topic #2: french family criticism philosophical money foundation state bourgeois everywhere german\n",
      "Topic #3: bourgeois property production society existence relations conditions old means labour\n",
      "Topic #4: class proletariat bourgeoisie society social bourgeois conditions political working revolutionary\n",
      "\n"
     ]
    }
   ],
   "source": [
    "# Example takes from: http://scikit-learn.org/stable/auto_examples/applications/plot_topics_extraction_with_nmf_lda.html\n",
    "def print_top_words(model, feature_names, n_top_words):\n",
    "    for topic_idx, topic in enumerate(model.components_):\n",
    "        message = \"Topic #%d: \" % topic_idx\n",
    "        message += \" \".join([feature_names[i]\n",
    "                             for i in topic.argsort()[:-n_top_words - 1:-1]])\n",
    "        print(message)\n",
    "    print()\n",
    "    \n",
    "print_top_words(lda, list(vocab_filtered), 10)"
   ]
  },
  {
   "cell_type": "markdown",
   "metadata": {},
   "source": [
    "We can improve the topic by deleting words based on their document frequency."
   ]
  },
  {
   "cell_type": "code",
   "execution_count": 117,
   "metadata": {
    "collapsed": true
   },
   "outputs": [],
   "source": [
    "flattened = []\n",
    "for p in long_paras:\n",
    "    flattened.extend(list(set(p)))\n",
    "\n",
    "fd_df = FreqDist(flattened)\n",
    "\n",
    "total_docs = len(long_paras)\n",
    "\n",
    "vocab_df = []\n",
    "for w in vocab_wo_punct:\n",
    "    if 0.01  < fd_df.get(w,0) / total_docs < 0.5:\n",
    "        vocab_df.append(w)"
   ]
  },
  {
   "cell_type": "code",
   "execution_count": 118,
   "metadata": {},
   "outputs": [
    {
     "name": "stdout",
     "output_type": "stream",
     "text": [
      "756\n"
     ]
    }
   ],
   "source": [
    "print(len(vocab_df))"
   ]
  },
  {
   "cell_type": "code",
   "execution_count": 119,
   "metadata": {},
   "outputs": [
    {
     "data": {
      "text/plain": [
       "['individuality',\n",
       " 'law',\n",
       " 'destroy',\n",
       " 'aims',\n",
       " 'overcome',\n",
       " 'chartists',\n",
       " 'continued',\n",
       " 'organised',\n",
       " 'revolutionary',\n",
       " 'openly',\n",
       " 'gospel',\n",
       " 'measures',\n",
       " 'members',\n",
       " 'masters',\n",
       " 'philosophy',\n",
       " 'war',\n",
       " 'live',\n",
       " 'distinctive',\n",
       " 'discovery',\n",
       " 'lose',\n",
       " 'raised',\n",
       " 'universal',\n",
       " 'opposition',\n",
       " 'forms',\n",
       " 'writings',\n",
       " 'element',\n",
       " 'mass',\n",
       " 'literate',\n",
       " 'accusation',\n",
       " 'improvement',\n",
       " 'could',\n",
       " 'strata',\n",
       " 'position',\n",
       " 'epoch',\n",
       " 'created',\n",
       " 'alone',\n",
       " 'prejudices',\n",
       " 'possible',\n",
       " 'attainment',\n",
       " 'gone',\n",
       " 'requiring',\n",
       " 'monopolised',\n",
       " 'globe',\n",
       " 'increased',\n",
       " 'absolute',\n",
       " 'marriage',\n",
       " 'revolutionising',\n",
       " 'naturally',\n",
       " 'appropriation',\n",
       " 'battles',\n",
       " 'requires',\n",
       " 'feet',\n",
       " 'socialists',\n",
       " 'rule',\n",
       " 'assumed',\n",
       " 'absolutism',\n",
       " 'others',\n",
       " 'half',\n",
       " 'product',\n",
       " 'compels',\n",
       " 'oppose',\n",
       " 'distinctions',\n",
       " 'future',\n",
       " 'wealth',\n",
       " 'things',\n",
       " 'end',\n",
       " 'market',\n",
       " 'practical',\n",
       " 'find',\n",
       " 'contrary',\n",
       " 'open',\n",
       " 'circumstances',\n",
       " 'struggles',\n",
       " 'aim',\n",
       " 'patriarchal',\n",
       " 'interest',\n",
       " 'producing',\n",
       " 'generally',\n",
       " 'nay',\n",
       " 'rest',\n",
       " 'recognition',\n",
       " 'let',\n",
       " 'general',\n",
       " 'lowest',\n",
       " 'socialism',\n",
       " 'feature',\n",
       " 'goes',\n",
       " 'transformed',\n",
       " 'summed',\n",
       " 'wife',\n",
       " 'simple',\n",
       " 'ties',\n",
       " 'immediate',\n",
       " 'illusions',\n",
       " 'want',\n",
       " 'jerusalem',\n",
       " 'buying',\n",
       " 'middle',\n",
       " 'differences',\n",
       " 'reproached',\n",
       " 'natural',\n",
       " 'purely',\n",
       " 'aristocracy',\n",
       " 'principles',\n",
       " 'eyes',\n",
       " 'emancipation',\n",
       " 'weapons',\n",
       " 'vanish',\n",
       " 'invented',\n",
       " 'strength',\n",
       " 'question',\n",
       " 'ruling',\n",
       " 'french',\n",
       " 'corresponding',\n",
       " 'different',\n",
       " 'scattered',\n",
       " 'rise',\n",
       " 'activity',\n",
       " 'traditional',\n",
       " 'regime',\n",
       " 'large',\n",
       " 'men',\n",
       " 'uninterrupted',\n",
       " 'following',\n",
       " 'see',\n",
       " 'times',\n",
       " 'advantage',\n",
       " 'set',\n",
       " 'gradually',\n",
       " 'known',\n",
       " 'bourgeoisie',\n",
       " 'distinction',\n",
       " 'stages',\n",
       " 'people',\n",
       " 'systematic',\n",
       " 'government',\n",
       " 'life',\n",
       " 'agitation',\n",
       " 'economical',\n",
       " 'combination',\n",
       " 'high',\n",
       " 'liberty',\n",
       " 'wish',\n",
       " 'workshop',\n",
       " 'owing',\n",
       " 'theoretically',\n",
       " 'workman',\n",
       " 'got',\n",
       " 'epochs',\n",
       " 'colonies',\n",
       " 'another',\n",
       " 'direction',\n",
       " 'least',\n",
       " 'domain',\n",
       " 'world',\n",
       " 'little',\n",
       " 'economic',\n",
       " 'went',\n",
       " 'express',\n",
       " 'bourgeois',\n",
       " 'national',\n",
       " 'radical',\n",
       " 'agriculture',\n",
       " 'christian',\n",
       " 'sink',\n",
       " 'appropriates',\n",
       " 'markets',\n",
       " 'immense',\n",
       " 'century',\n",
       " 'economists',\n",
       " 'interests',\n",
       " 'compatible',\n",
       " 'except',\n",
       " 'conquest',\n",
       " 'serfs',\n",
       " 'portions',\n",
       " 'ruin',\n",
       " 'class',\n",
       " 'belong',\n",
       " 'one',\n",
       " 'bound',\n",
       " 'common',\n",
       " 'complete',\n",
       " 'nations',\n",
       " 'consequence',\n",
       " 'meant',\n",
       " 'completely',\n",
       " 'philistine',\n",
       " 'motion',\n",
       " 'everywhere',\n",
       " 'burghers',\n",
       " 'especially',\n",
       " 'proletarian',\n",
       " 'basis',\n",
       " 'thus',\n",
       " 'existence',\n",
       " 'took',\n",
       " 'every',\n",
       " 'step',\n",
       " 'kind',\n",
       " 'america',\n",
       " 'matter',\n",
       " 'foundation',\n",
       " 'means',\n",
       " 'away',\n",
       " 'factories',\n",
       " 'slaves',\n",
       " 'pace',\n",
       " 'communist',\n",
       " 'socialist',\n",
       " 'disappear',\n",
       " 'disposal',\n",
       " 'handed',\n",
       " 'become',\n",
       " 'acquire',\n",
       " 'certain',\n",
       " 'cease',\n",
       " 'contact',\n",
       " 'functions',\n",
       " 'oppressed',\n",
       " 'enlightenment',\n",
       " 'leading',\n",
       " 'stripped',\n",
       " 'introduce',\n",
       " 'collisions',\n",
       " 'moment',\n",
       " 'past',\n",
       " 'small',\n",
       " 'significance',\n",
       " 'destroyed',\n",
       " 'compelled',\n",
       " 'country',\n",
       " 'capitalist',\n",
       " 'ancient',\n",
       " 'communism',\n",
       " 'wage',\n",
       " 'sought',\n",
       " 'working',\n",
       " 'constantly',\n",
       " 'conditions',\n",
       " 'gain',\n",
       " 'battle',\n",
       " 'socialistic',\n",
       " 'brutal',\n",
       " 'finds',\n",
       " 'concentration',\n",
       " 'true',\n",
       " 'direct',\n",
       " 'dependent',\n",
       " 'long',\n",
       " 'preceding',\n",
       " 'fight',\n",
       " 'living',\n",
       " 'speak',\n",
       " 'wonder',\n",
       " 'bare',\n",
       " 'barbarian',\n",
       " 'instruments',\n",
       " 'fighting',\n",
       " 'mode',\n",
       " 'category',\n",
       " 'always',\n",
       " 'attain',\n",
       " 'asceticism',\n",
       " 'reform',\n",
       " 'seek',\n",
       " 'lower',\n",
       " 'masses',\n",
       " 'productive',\n",
       " 'exploits',\n",
       " 'makes',\n",
       " 'capital',\n",
       " 'destructive',\n",
       " 'classes',\n",
       " 'produced',\n",
       " 'independent',\n",
       " 'properly',\n",
       " 'religion',\n",
       " 'commune',\n",
       " 'inevitable',\n",
       " 'personal',\n",
       " 'science',\n",
       " 'thereupon',\n",
       " 'us',\n",
       " 'sway',\n",
       " 'bitter',\n",
       " 'partly',\n",
       " 'family',\n",
       " 'undoubtedly',\n",
       " 'conjured',\n",
       " 'system',\n",
       " 'fruit',\n",
       " 'rapidly',\n",
       " 'total',\n",
       " 'spectre',\n",
       " 'destruction',\n",
       " 'constitute',\n",
       " 'served',\n",
       " 'asunder',\n",
       " 'take',\n",
       " 'appeal',\n",
       " 'publications',\n",
       " 'movements',\n",
       " 'literature',\n",
       " 'constant',\n",
       " 'monarchy',\n",
       " 'order',\n",
       " 'eternal',\n",
       " 'ground',\n",
       " 'recognised',\n",
       " 'extinction',\n",
       " 'harmony',\n",
       " 'reproach',\n",
       " 'put',\n",
       " 'critical',\n",
       " 'front',\n",
       " 'going',\n",
       " 'restricted',\n",
       " 'price',\n",
       " 'place',\n",
       " 'numerous',\n",
       " 'artisan',\n",
       " 'mere',\n",
       " 'reactionary',\n",
       " 'veiled',\n",
       " 'despite',\n",
       " 'commercial',\n",
       " 'fall',\n",
       " 'constitution',\n",
       " 'indeed',\n",
       " 'acquired',\n",
       " 'trade',\n",
       " 'cuts',\n",
       " 'part',\n",
       " 'enormous',\n",
       " 'centralisation',\n",
       " 'competition',\n",
       " 'come',\n",
       " 'support',\n",
       " 'anything',\n",
       " 'industries',\n",
       " 'exclusive',\n",
       " 'development',\n",
       " 'develops',\n",
       " 'slave',\n",
       " 'manifesto',\n",
       " 'developed',\n",
       " 'fantastic',\n",
       " 'springing',\n",
       " 'feudal',\n",
       " 'torn',\n",
       " 'dissolution',\n",
       " 'became',\n",
       " 'revolution',\n",
       " 'school',\n",
       " 'ever',\n",
       " 'however',\n",
       " 'various',\n",
       " 'directly',\n",
       " 'rising',\n",
       " 'party',\n",
       " 'human',\n",
       " 'man',\n",
       " 'within',\n",
       " 'keeps',\n",
       " 'struggle',\n",
       " 'commodity',\n",
       " 'education',\n",
       " 'radicals',\n",
       " 'united',\n",
       " 'clearly',\n",
       " 'fluctuating',\n",
       " 'may',\n",
       " 'wants',\n",
       " 'chiefly',\n",
       " 'benefit',\n",
       " 'determined',\n",
       " 'essential',\n",
       " 'age',\n",
       " 'machinery',\n",
       " 'labour',\n",
       " 'solely',\n",
       " 'intending',\n",
       " 'nation',\n",
       " 'much',\n",
       " 'rapid',\n",
       " 'far',\n",
       " 'lost',\n",
       " 'previous',\n",
       " 'formed',\n",
       " 'need',\n",
       " 'division',\n",
       " 'particular',\n",
       " 'almost',\n",
       " 'home',\n",
       " 'appropriating',\n",
       " 'supremacy',\n",
       " 'association',\n",
       " 'demands',\n",
       " 'proletarians',\n",
       " 'urban',\n",
       " 'thereto',\n",
       " 'formation',\n",
       " 'consciousness',\n",
       " 'stood',\n",
       " 'nobility',\n",
       " 'overthrow',\n",
       " 'factory',\n",
       " 'supply',\n",
       " 'carrying',\n",
       " 'reactionists',\n",
       " 'entire',\n",
       " 'manufacture',\n",
       " 'changes',\n",
       " 'view',\n",
       " 'england',\n",
       " 'vanishes',\n",
       " 'burgesses',\n",
       " 'accompanied',\n",
       " 'succumbed',\n",
       " 'landlord',\n",
       " 'daily',\n",
       " 'peasants',\n",
       " 'theoretical',\n",
       " 'instead',\n",
       " 'represent',\n",
       " 'bringing',\n",
       " 'mean',\n",
       " 'ones',\n",
       " 'fresh',\n",
       " 'plan',\n",
       " 'antagonisms',\n",
       " 'gradual',\n",
       " 'value',\n",
       " 'since',\n",
       " 'abolish',\n",
       " 'exploited',\n",
       " 'criticism',\n",
       " 'thereby',\n",
       " 'hateful',\n",
       " 'freedom',\n",
       " 'march',\n",
       " 'epidemic',\n",
       " 'moral',\n",
       " 'relation',\n",
       " 'ideas',\n",
       " 'becomes',\n",
       " 'sufficed',\n",
       " 'countries',\n",
       " 'contest',\n",
       " 'endeavour',\n",
       " 'peasant',\n",
       " 'adapted',\n",
       " 'called',\n",
       " 'towns',\n",
       " 'utopian',\n",
       " 'increase',\n",
       " 'mediaeval',\n",
       " 'exists',\n",
       " 'subjection',\n",
       " 'merely',\n",
       " 'raise',\n",
       " 'ii',\n",
       " 'status',\n",
       " 'resulting',\n",
       " 'union',\n",
       " 'two',\n",
       " 'extensive',\n",
       " 'longer',\n",
       " 'word',\n",
       " 'proportion',\n",
       " 'case',\n",
       " 'navigation',\n",
       " 'consequently',\n",
       " 'seriously',\n",
       " 'production',\n",
       " 'france',\n",
       " 'parties',\n",
       " 'well',\n",
       " 'lives',\n",
       " 'done',\n",
       " 'create',\n",
       " 'power',\n",
       " 'nothing',\n",
       " 'wages',\n",
       " 'necessarily',\n",
       " 'air',\n",
       " 'cropping',\n",
       " 'course',\n",
       " 'master',\n",
       " 'impossible',\n",
       " 'finally',\n",
       " 'charity',\n",
       " 'back',\n",
       " 'industrial',\n",
       " 'either',\n",
       " 'gave',\n",
       " 'exchange',\n",
       " 'vanishing',\n",
       " 'hitherto',\n",
       " 'advance',\n",
       " 'wives',\n",
       " 'expression',\n",
       " 'culture',\n",
       " 'required',\n",
       " 'political',\n",
       " 'undeveloped',\n",
       " 'chartered',\n",
       " 'growing',\n",
       " 'literary',\n",
       " 'momentary',\n",
       " 'impending',\n",
       " 'effected',\n",
       " 'exploitation',\n",
       " 'shape',\n",
       " 'children',\n",
       " 'fact',\n",
       " 'intellectual',\n",
       " 'best',\n",
       " 'history',\n",
       " 'pass',\n",
       " 'products',\n",
       " 'death',\n",
       " 'german',\n",
       " 'comprehend',\n",
       " 'commodities',\n",
       " 'also',\n",
       " 'serious',\n",
       " 'prostitution',\n",
       " 'historical',\n",
       " 'antagonism',\n",
       " 'cost',\n",
       " 'action',\n",
       " 'fetters',\n",
       " 'immediately',\n",
       " 'systems',\n",
       " 'person',\n",
       " 'pushed',\n",
       " 'period',\n",
       " 'antagonistic',\n",
       " 'single',\n",
       " 'change',\n",
       " 'labourers',\n",
       " 'english',\n",
       " 'secure',\n",
       " 'schools',\n",
       " 'silly',\n",
       " 'necessary',\n",
       " 'powers',\n",
       " 'town',\n",
       " 'labourer',\n",
       " 'made',\n",
       " 'reformers',\n",
       " 'stage',\n",
       " 'still',\n",
       " 'etc',\n",
       " 'real',\n",
       " 'state',\n",
       " 'moreover',\n",
       " 'subsistence',\n",
       " 'yet',\n",
       " 'point',\n",
       " 'hurled',\n",
       " 'entirely',\n",
       " 'modern',\n",
       " 'advanced',\n",
       " 'property',\n",
       " 'oppressing',\n",
       " 'echo',\n",
       " 'abolishing',\n",
       " 'continually',\n",
       " 'supreme',\n",
       " 'level',\n",
       " 'miserable',\n",
       " 'use',\n",
       " 'introduction',\n",
       " 'ends',\n",
       " 'due',\n",
       " 'workers',\n",
       " 'seen',\n",
       " 'organisation',\n",
       " 'first',\n",
       " 'hence',\n",
       " 'nature',\n",
       " 'swamped',\n",
       " 'words',\n",
       " 'original',\n",
       " 'conservative',\n",
       " 'hand',\n",
       " 'conscience',\n",
       " 'existing',\n",
       " 'whose',\n",
       " 'carried',\n",
       " 'commerce',\n",
       " 'exist',\n",
       " 'nationalities',\n",
       " 'taken',\n",
       " 'settle',\n",
       " 'truths',\n",
       " 'machine',\n",
       " 'process',\n",
       " 'attacks',\n",
       " 'individual',\n",
       " 'work',\n",
       " 'begin',\n",
       " 'representative',\n",
       " 'philosophical',\n",
       " 'section',\n",
       " 'skill',\n",
       " 'consisted',\n",
       " 'governments',\n",
       " 'degrees',\n",
       " 'movement',\n",
       " 'free',\n",
       " 'material',\n",
       " 'swept',\n",
       " 'water',\n",
       " 'without',\n",
       " 'community',\n",
       " 'cultivation',\n",
       " 'serf',\n",
       " 'civilised',\n",
       " 'centralise',\n",
       " 'agrarian',\n",
       " 'command',\n",
       " 'holy',\n",
       " 'preceded',\n",
       " 'sight',\n",
       " 'character',\n",
       " 'fettered',\n",
       " 'condition',\n",
       " 'new',\n",
       " 'acts',\n",
       " 'ages',\n",
       " 'crises',\n",
       " 'money',\n",
       " 'way',\n",
       " 'converted',\n",
       " 'proletariat',\n",
       " 'along',\n",
       " 'force',\n",
       " 'concentrated',\n",
       " 'altogether',\n",
       " 'religious',\n",
       " 'time',\n",
       " 'established',\n",
       " 'truth',\n",
       " 'hidden',\n",
       " 'relations',\n",
       " 'abolition',\n",
       " 'phrases',\n",
       " 'ended',\n",
       " 'extension',\n",
       " 'public',\n",
       " 'communistic',\n",
       " 'arose',\n",
       " 'win',\n",
       " 'antiquated',\n",
       " 'cut',\n",
       " 'railways',\n",
       " 'reason',\n",
       " 'existed',\n",
       " 'found',\n",
       " 'according',\n",
       " 'say',\n",
       " 'priest',\n",
       " 'sees',\n",
       " 'independence',\n",
       " 'standpoint',\n",
       " 'modes',\n",
       " 'communication',\n",
       " 'creates',\n",
       " 'among',\n",
       " 'forces',\n",
       " 'help',\n",
       " 'hands',\n",
       " 'hostile',\n",
       " 'effects',\n",
       " 'complement',\n",
       " 'industry',\n",
       " 'local',\n",
       " 'private',\n",
       " 'conscious',\n",
       " 'right',\n",
       " 'already',\n",
       " 'reality',\n",
       " 'less',\n",
       " 'old',\n",
       " 'selling',\n",
       " 'years',\n",
       " 'bring',\n",
       " 'intend',\n",
       " 'even',\n",
       " 'maintenance',\n",
       " 'though',\n",
       " 'civilisation',\n",
       " 'communists',\n",
       " 'shopkeeper',\n",
       " 'conceal',\n",
       " 'manufacturing',\n",
       " 'increases',\n",
       " 'breaks',\n",
       " 'form',\n",
       " 'earliest',\n",
       " 'elements',\n",
       " 'cash',\n",
       " 'eighteenth',\n",
       " 'whole',\n",
       " 'majority',\n",
       " 'showing',\n",
       " 'together',\n",
       " 'upon',\n",
       " 'christianity',\n",
       " 'changed',\n",
       " 'laws',\n",
       " 'manufacturer',\n",
       " 'like',\n",
       " 'violent',\n",
       " 'many',\n",
       " 'disappearance',\n",
       " 'land',\n",
       " 'upper',\n",
       " 'given',\n",
       " 'based',\n",
       " 'desire',\n",
       " 'therefore',\n",
       " 'progress',\n",
       " 'able',\n",
       " 'women',\n",
       " 'morality',\n",
       " 'present',\n",
       " 'victory',\n",
       " 'side',\n",
       " 'society',\n",
       " 'never',\n",
       " 'great',\n",
       " 'sense',\n",
       " 'must',\n",
       " 'earlier',\n",
       " 'face',\n",
       " 'social',\n",
       " 'chinese',\n",
       " 'conception',\n",
       " 'absence',\n",
       " 'views',\n",
       " 'standard',\n",
       " 'hallowed',\n",
       " 'germany',\n",
       " 'petty',\n",
       " 'foreign',\n",
       " 'vanished',\n",
       " 'last',\n",
       " 'distribution',\n",
       " 'population',\n",
       " 'result',\n",
       " 'plans']"
      ]
     },
     "execution_count": 119,
     "metadata": {},
     "output_type": "execute_result"
    }
   ],
   "source": [
    "vocab_df"
   ]
  },
  {
   "cell_type": "code",
   "execution_count": 120,
   "metadata": {},
   "outputs": [
    {
     "name": "stdout",
     "output_type": "stream",
     "text": [
      "True\n",
      "True\n"
     ]
    }
   ],
   "source": [
    "vectors = []\n",
    "for tokens in long_paras:\n",
    "    vector = []\n",
    "    freqdist = FreqDist(tokens)\n",
    "    for w in vocab_df:\n",
    "        \n",
    "        vector.append(freqdist.get(w,0))\n",
    "    vectors.append(vector)\n",
    "            \n",
    "print(len(vectors) == len(long_paras))\n",
    "print(len(vectors[0]) == len(vocab_df))"
   ]
  },
  {
   "cell_type": "code",
   "execution_count": 121,
   "metadata": {},
   "outputs": [
    {
     "data": {
      "text/plain": [
       "LatentDirichletAllocation(batch_size=128, doc_topic_prior=None,\n",
       "             evaluate_every=-1, learning_decay=0.7,\n",
       "             learning_method='online', learning_offset=10.0,\n",
       "             max_doc_update_iter=100, max_iter=20, mean_change_tol=0.001,\n",
       "             n_jobs=1, n_topics=5, perp_tol=0.1, random_state=0,\n",
       "             topic_word_prior=None, total_samples=1000000.0, verbose=0)"
      ]
     },
     "execution_count": 121,
     "metadata": {},
     "output_type": "execute_result"
    }
   ],
   "source": [
    "from sklearn.decomposition import LatentDirichletAllocation\n",
    "lda = LatentDirichletAllocation(n_topics=5, max_iter=20, #maybe n_components\n",
    "                                learning_method='online',\n",
    "                                random_state=0,\n",
    "                                verbose=0,\n",
    "                                n_jobs=1)\n",
    "lda.fit(vectors)"
   ]
  },
  {
   "cell_type": "code",
   "execution_count": 122,
   "metadata": {},
   "outputs": [
    {
     "name": "stdout",
     "output_type": "stream",
     "text": [
      "Topic #0: property bourgeois french ideas production german abolition ancient national capital\n",
      "Topic #1: action party socialism historical philosophical proletariat french society support everywhere\n",
      "Topic #2: class bourgeois bourgeoisie society proletariat conditions social production modern political\n",
      "Topic #3: conditions french revolution literature bourgeoisie german social demands appropriation nothing\n",
      "Topic #4: bourgeoisie socialism power german form section country property existence socialist\n",
      "\n"
     ]
    }
   ],
   "source": [
    "print_top_words(lda, list(vocab_df), 10)"
   ]
  }
 ],
 "metadata": {
  "kernelspec": {
   "display_name": "Python 3",
   "language": "python",
   "name": "python3"
  },
  "language_info": {
   "codemirror_mode": {
    "name": "ipython",
    "version": 3
   },
   "file_extension": ".py",
   "mimetype": "text/x-python",
   "name": "python",
   "nbconvert_exporter": "python",
   "pygments_lexer": "ipython3",
   "version": "3.6.3"
  }
 },
 "nbformat": 4,
 "nbformat_minor": 2
}
