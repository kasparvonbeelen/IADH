{
 "cells": [
  {
   "cell_type": "markdown",
   "metadata": {},
   "source": [
    "# Containers in Python"
   ]
  },
  {
   "cell_type": "markdown",
   "metadata": {},
   "source": [
    "By now, you are familiar with a few fundamental coding concepts. But it might now be immediately obvious how these techniques apply to humanities research. In what follows, cover  Python  "
   ]
  },
  {
   "cell_type": "markdown",
   "metadata": {},
   "source": [
    "## 1. Lists\n",
    "\n",
    "[VU] **At the end of this chapter, you will be able to:**\n",
    "* create a list\n",
    "* add items to a list\n",
    "* extract/inspect items in a list\n",
    "* perform basic list operations\n",
    "* use built-in functions on lists "
   ]
  },
  {
   "cell_type": "markdown",
   "metadata": {},
   "source": [
    "Lists resemble strings: both are a **sequence** of values. But whereas a string was a sequence of characters, a list can contain values of the any type. These values we call **elements** or **items**."
   ]
  },
  {
   "cell_type": "markdown",
   "metadata": {
    "collapsed": true
   },
   "source": [
    "## 1.1 Introduction\n",
    "\n",
    "Consider the first sentence (represented as a string) from Franz Kafka's the trial."
   ]
  },
  {
   "cell_type": "code",
   "execution_count": 2,
   "metadata": {
    "collapsed": true
   },
   "outputs": [],
   "source": [
    "sentence = \"Someone must have slandered Josef K., for one morning, without having done anything truly wrong, he was arrested. \""
   ]
  },
  {
   "cell_type": "markdown",
   "metadata": {},
   "source": [
    "[MK] Words are made up of characters, and so are strings in Python, like the string stored in the variable sentence in the block above. For the sentence above, it might seem more natural for humans to describe it as a series of words, rather than as a series of characters. Say we want to access the first word in our sentence. If we type in:"
   ]
  },
  {
   "cell_type": "code",
   "execution_count": 3,
   "metadata": {},
   "outputs": [
    {
     "name": "stdout",
     "output_type": "stream",
     "text": [
      "S\n"
     ]
    }
   ],
   "source": [
    "first_word = sentence[0]\n",
    "print(first_word)"
   ]
  },
  {
   "cell_type": "markdown",
   "metadata": {},
   "source": [
    "[MK]Python only prints the first character of our sentence. (Think about this if you do not understand why.) We can transform our sentence into a list of words (represented by strings) using the split() function as follows:"
   ]
  },
  {
   "cell_type": "code",
   "execution_count": 4,
   "metadata": {},
   "outputs": [
    {
     "name": "stdout",
     "output_type": "stream",
     "text": [
      "['Someone', 'must', 'have', 'slandered', 'Josef', 'K.,', 'for', 'one', 'morning,', 'without', 'having', 'done', 'anything', 'truly', 'wrong,', 'he', 'was', 'arrested.']\n"
     ]
    }
   ],
   "source": [
    "words = sentence.split()\n",
    "print(words)"
   ]
  },
  {
   "cell_type": "markdown",
   "metadata": {},
   "source": [
    "The variable `sentence` now holds to the whole first line of Kafka's Trial. Each element in the list is now (approximately) a word. Run the code below to see the difference."
   ]
  },
  {
   "cell_type": "code",
   "execution_count": 5,
   "metadata": {},
   "outputs": [
    {
     "name": "stdout",
     "output_type": "stream",
     "text": [
      "Someone\n"
     ]
    }
   ],
   "source": [
    "first_word = words[0]\n",
    "print(first_word)"
   ]
  },
  {
   "cell_type": "markdown",
   "metadata": {},
   "source": [
    "We apply the `split()` function to the variable `sentence` and we assign the result of the function (we call this the 'return value' of the function) to the new variable `words`. \n",
    "\n",
    "By default, the split() function in Python will split strings on the spaces between consecutive words and it will returns a list of words. However, we can pass an argument to `split()` that specifies explicitly the string we would like to split on. In the code block below, we will split a string on commas, instead of spaces. Do you get the syntax?\n",
    "\n",
    "This is often useful for parsing information from a csv file. For example, the line below has the structure of the [Google Ngram](https://books.google.com/ngrams). The Ngram Viewer allows researcher to explore long-term cultural [trends](https://books.google.com/ngrams/graph?content=king%2C+queen&case_insensitive=on&year_start=1800&year_end=2000&corpus=15&smoothing=3&share=&direct_url=t4%3B%2Cking%3B%2Cc0%3B%2Cs0%3B%3Bking%3B%2Cc0%3B%3BKing%3B%2Cc0%3B%3BKING%3B%2Cc0%3B.t4%3B%2Cqueen%3B%2Cc0%3B%2Cs0%3B%3BQueen%3B%2Cc0%3B%3Bqueen%3B%2Cc0%3B%3BQUEEN%3B%2Cc0). The source data of this corpus comprises the yearly word and document frequences for ~ 5 million books between 1500 and 2008. The lines are separated by hard returns (\"\\n\"). Each line holds four element: word, year, word frequency, document frequency.\n",
    "\n",
    "Using the split function, we can easily **parse** this file, i.e. recognize and read its content. First we split the string by their \"\\n\" and then each line by their \",\""
   ]
  },
  {
   "cell_type": "code",
   "execution_count": 9,
   "metadata": {},
   "outputs": [
    {
     "name": "stdout",
     "output_type": "stream",
     "text": [
      "['queen,1900,20394,3435', 'queen,1901,23340,2935', 'queen,1902,23120,3035']\n",
      "['queen', '1900', '20394', '3435']\n"
     ]
    }
   ],
   "source": [
    "google_ngram = \"queen,1900,20394,3435\\nqueen,1901,23340,2935\\nqueen,1902,23120,3035\"\n",
    "google_ngram = google_ngram.split(\"\\n\")\n",
    "print(google_ngram)\n",
    "first_line = google_ngram[0]\n",
    "print(first_line.split(','))"
   ]
  },
  {
   "cell_type": "markdown",
   "metadata": {},
   "source": [
    "The reverse of the `split()` function can be accomplished with `join()`, it turns a list into a string, with a specific 'delimiter' or the string you want to use to join the items."
   ]
  },
  {
   "cell_type": "code",
   "execution_count": 1,
   "metadata": {},
   "outputs": [
    {
     "name": "stdout",
     "output_type": "stream",
     "text": [
      "queen, 1900, 20394, 3435\n"
     ]
    }
   ],
   "source": [
    "observation = ['queen', '1900', '20394', '3435']\n",
    "delimiter = ', '\n",
    "csv_string = delimiter.join(observation)\n",
    "print(csv_string)"
   ]
  },
  {
   "cell_type": "markdown",
   "metadata": {},
   "source": [
    "In the previous chapter we argued that variables operates as \"boxes\"--you put a value in there, to save it for later. Until now the box could only contain one items, a string or a number. Lists expand the possibilities, they serve as \"container\". Now you can stuff your box with many elements as you'd like. Let's have a look at how this works."
   ]
  },
  {
   "cell_type": "code",
   "execution_count": null,
   "metadata": {
    "collapsed": true
   },
   "outputs": [],
   "source": []
  },
  {
   "cell_type": "markdown",
   "metadata": {},
   "source": [
    "**Exercise**: [To do]"
   ]
  },
  {
   "cell_type": "markdown",
   "metadata": {},
   "source": [
    "##  1.2 Creating a list--the basic rules "
   ]
  },
  {
   "cell_type": "markdown",
   "metadata": {},
   "source": [
    "To store an empty list in variable, simply assign ``[]`` (square brackets) to a variable name."
   ]
  },
  {
   "cell_type": "code",
   "execution_count": null,
   "metadata": {
    "collapsed": true
   },
   "outputs": [],
   "source": [
    "x = []"
   ]
  },
  {
   "cell_type": "markdown",
   "metadata": {},
   "source": [
    "For sure empty lists are not immediately useful. Create a list with content, enclose the individual items within square brackets, separated by a comma."
   ]
  },
  {
   "cell_type": "code",
   "execution_count": 10,
   "metadata": {},
   "outputs": [
    {
     "name": "stdout",
     "output_type": "stream",
     "text": [
      "[8, 9, 6, 7]\n"
     ]
    }
   ],
   "source": [
    "my_grades = [8,9,6,7]\n",
    "print(my_grades)\n",
    "my_favorite_songs = ['','']\n",
    "print(my_grades)\n",
    "my_garbage = ['Potatoe',[1,2,3],9.03434,'frogs']\n",
    "print(my_grades)"
   ]
  },
  {
   "cell_type": "markdown",
   "metadata": {},
   "source": [
    "[VU] \n",
    "### General rules:\n",
    "* Lists are surrounded by square brackets and the elements in the list are separated by commas\n",
    "* A list element can be **any Python object** - even another list (e.g. * List can be an collection of numbers, strings, floats (or a combination thereof))\n",
    "* A list can store values with different types\n",
    "* A list can be empty"
   ]
  },
  {
   "cell_type": "markdown",
   "metadata": {},
   "source": [
    "## 1.3 List operations\n",
    "Python allows at least the following very useful list operations:\n",
    "\n",
    "Arithmetic operators:\n",
    "* **concatenation**\n",
    "* **repetition**\n",
    "\n",
    "but also includes comparison and membership operators!"
   ]
  },
  {
   "cell_type": "markdown",
   "metadata": {},
   "source": [
    "### Arithmetic operators"
   ]
  },
  {
   "cell_type": "code",
   "execution_count": null,
   "metadata": {
    "collapsed": true
   },
   "outputs": [],
   "source": [
    "Similar to strings, Python comes with specific operations (``*`` and ``+``) that you can apply to a list."
   ]
  },
  {
   "cell_type": "code",
   "execution_count": null,
   "metadata": {
    "collapsed": true
   },
   "outputs": [],
   "source": [
    "The ``+`` operator concatenates lists"
   ]
  },
  {
   "cell_type": "code",
   "execution_count": 12,
   "metadata": {},
   "outputs": [
    {
     "name": "stdout",
     "output_type": "stream",
     "text": [
      "[1, 2, 3, 4, 5, 6]\n"
     ]
    }
   ],
   "source": [
    "a = [1, 2, 3]\n",
    "b = [4, 5, 6]\n",
    "c = a + b\n",
    "print(c)"
   ]
  },
  {
   "cell_type": "code",
   "execution_count": null,
   "metadata": {
    "collapsed": true
   },
   "outputs": [],
   "source": [
    "Similarly, the * operator repeats a list a given number of times:"
   ]
  },
  {
   "cell_type": "code",
   "execution_count": 14,
   "metadata": {},
   "outputs": [
    {
     "name": "stdout",
     "output_type": "stream",
     "text": [
      "[0, 0, 0, 0]\n"
     ]
    }
   ],
   "source": [
    "# First example of the * operator\n",
    "print([0]*4)"
   ]
  },
  {
   "cell_type": "code",
   "execution_count": 13,
   "metadata": {},
   "outputs": [
    {
     "name": "stdout",
     "output_type": "stream",
     "text": [
      "['spam', 'Spam', 'SPAMMM', 'spam', 'Spam', 'SPAMMM', 'spam', 'Spam', 'SPAMMM', 'spam', 'Spam', 'SPAMMM', 'spam', 'Spam', 'SPAMMM']\n"
     ]
    }
   ],
   "source": [
    "# First example of the * operator\n",
    "a = ['spam','Spam','SPAMMM']\n",
    "b = a * 5\n",
    "print(b)"
   ]
  },
  {
   "cell_type": "markdown",
   "metadata": {},
   "source": [
    "The first example multiplies the single-itemed list four times. The second repeats the list with typographic variations on the word 'spam' five times."
   ]
  },
  {
   "cell_type": "markdown",
   "metadata": {
    "collapsed": true
   },
   "source": [
    "[VU] Of course, you can use lists in membership boolean expressions. The `in` operator checks whether the items 'meaning' appears in the variable `life`."
   ]
  },
  {
   "cell_type": "code",
   "execution_count": 47,
   "metadata": {},
   "outputs": [
    {
     "name": "stdout",
     "output_type": "stream",
     "text": [
      "False\n"
     ]
    }
   ],
   "source": [
    "life = ['a', 'lot', 'of', 'stuff']\n",
    "print('meaning' in life)"
   ]
  },
  {
   "cell_type": "markdown",
   "metadata": {},
   "source": [
    "And you can use lists in comparison boolean expressions"
   ]
  },
  {
   "cell_type": "code",
   "execution_count": 46,
   "metadata": {},
   "outputs": [
    {
     "name": "stdout",
     "output_type": "stream",
     "text": [
      "False\n"
     ]
    }
   ],
   "source": [
    "print([3, 2] == [2, 3])"
   ]
  },
  {
   "cell_type": "markdown",
   "metadata": {},
   "source": [
    "## 1.4 Indexing, slicing and replacing\n",
    "**[To do: similar to strings, point out the mutability]**\n",
    "[VU] **Indexing** and **slicing** works the same way as with strings. Every item in the list has hence its own index number. We start counting at 0! The indices for our\n",
    "list ['J.S. Bach', 'W.A. Mozart', 'F. Mendelssohn'] are as follows:\n",
    "\n",
    "\n",
    "J.S. Bach|W.A. Mozart|F. Mendelssohn\n",
    "---|---\n",
    "0|1|2\n",
    "-3|-2|-1\n"
   ]
  },
  {
   "cell_type": "markdown",
   "metadata": {},
   "source": [
    "[VU] We can hence use this index number to extract items from a list (just as with strings)"
   ]
  },
  {
   "cell_type": "code",
   "execution_count": 11,
   "metadata": {},
   "outputs": [
    {
     "name": "stdout",
     "output_type": "stream",
     "text": [
      "J.S. Bach\n",
      "W.A. Mozart\n",
      "F. Mendelssohn\n"
     ]
    }
   ],
   "source": [
    "composer_list = ['J.S. Bach', 'W.A. Mozart', 'F. Mendelssohn']\n",
    "print(composer_list[0])\n",
    "print(composer_list[1])\n",
    "print(composer_list[2])"
   ]
  },
  {
   "cell_type": "code",
   "execution_count": null,
   "metadata": {
    "collapsed": true
   },
   "outputs": [],
   "source": []
  },
  {
   "cell_type": "markdown",
   "metadata": {},
   "source": [
    "Obviously, we can also use **negative indices**:"
   ]
  },
  {
   "cell_type": "code",
   "execution_count": 13,
   "metadata": {},
   "outputs": [
    {
     "name": "stdout",
     "output_type": "stream",
     "text": [
      "F. Mendelssohn\n",
      "W.A. Mozart\n",
      "J.S. Bach\n"
     ]
    }
   ],
   "source": [
    "composer_list = ['J.S. Bach', 'W.A. Mozart', 'F. Mendelssohn']\n",
    "print(composer_list[-1])\n",
    "print(composer_list[-2])\n",
    "print(composer_list[-3])"
   ]
  },
  {
   "cell_type": "markdown",
   "metadata": {},
   "source": [
    "If you wondered, `-0` just returns the first element."
   ]
  },
  {
   "cell_type": "code",
   "execution_count": 14,
   "metadata": {},
   "outputs": [
    {
     "name": "stdout",
     "output_type": "stream",
     "text": [
      "J.S. Bach\n"
     ]
    }
   ],
   "source": [
    "print(composer_list[-0])"
   ]
  },
  {
   "cell_type": "markdown",
   "metadata": {},
   "source": [
    "And we can extract one part of a list using **slicing**:"
   ]
  },
  {
   "cell_type": "code",
   "execution_count": 27,
   "metadata": {},
   "outputs": [
    {
     "name": "stdout",
     "output_type": "stream",
     "text": [
      "['J.S. Bach', 'W.A. Mozart']\n"
     ]
    }
   ],
   "source": [
    "composer_list = ['J.S. Bach', 'W.A. Mozart', 'F. Mendelssohn']\n",
    "list_with_less_composers = composer_list[:2]\n",
    "print(list_with_less_composers)"
   ]
  },
  {
   "cell_type": "markdown",
   "metadata": {
    "collapsed": true
   },
   "source": [
    "A common error is to retrieve elements by indices greater than the length of the list (minus -1)."
   ]
  },
  {
   "cell_type": "code",
   "execution_count": 18,
   "metadata": {},
   "outputs": [
    {
     "ename": "IndexError",
     "evalue": "list index out of range",
     "output_type": "error",
     "traceback": [
      "\u001b[0;31m---------------------------------------------------------------------------\u001b[0m",
      "\u001b[0;31mIndexError\u001b[0m                                Traceback (most recent call last)",
      "\u001b[0;32m<ipython-input-18-10f1fb428dd4>\u001b[0m in \u001b[0;36m<module>\u001b[0;34m()\u001b[0m\n\u001b[0;32m----> 1\u001b[0;31m \u001b[0mprint\u001b[0m\u001b[0;34m(\u001b[0m\u001b[0mcomposer_list\u001b[0m\u001b[0;34m[\u001b[0m\u001b[0;36m5\u001b[0m\u001b[0;34m]\u001b[0m\u001b[0;34m)\u001b[0m\u001b[0;34m\u001b[0m\u001b[0m\n\u001b[0m",
      "\u001b[0;31mIndexError\u001b[0m: list index out of range"
     ]
    }
   ],
   "source": [
    "print(composer_list[5])"
   ]
  },
  {
   "cell_type": "markdown",
   "metadata": {},
   "source": [
    "The `IndexError` tells you that it could not find an items at position five, as the range of the positions only goes from 0 till 2."
   ]
  },
  {
   "cell_type": "markdown",
   "metadata": {},
   "source": [
    "Index notation can be used to replace elements in the list. Let's  say, we want to get rid of John (at position 1) en replace him with Copernicus. As lists are **mutable** you replace the items."
   ]
  },
  {
   "cell_type": "code",
   "execution_count": 28,
   "metadata": {},
   "outputs": [
    {
     "name": "stdout",
     "output_type": "stream",
     "text": [
      "['J.S. Bach', 'Elvis P.', 'F. Mendelssohn']\n"
     ]
    }
   ],
   "source": [
    "composer_list = ['J.S. Bach', 'W.A. Mozart', 'F. Mendelssohn']\n",
    "composer_list[1] = 'Elvis P.'\n",
    "print(composer_list)"
   ]
  },
  {
   "cell_type": "markdown",
   "metadata": {},
   "source": [
    "Similarly, a slice operator on the left side of an assignment can update multiple elements:"
   ]
  },
  {
   "cell_type": "code",
   "execution_count": 22,
   "metadata": {},
   "outputs": [
    {
     "name": "stdout",
     "output_type": "stream",
     "text": [
      "['J.S. Bach', 'L. van Beethoven', 'A. Webern']\n"
     ]
    }
   ],
   "source": [
    "composer_list = ['J.S. Bach', 'W.A. Mozart', 'F. Mendelssohn']\n",
    "composer_list[1:] = ['L. van Beethoven','A. Webern']\n",
    "print(composer_list)"
   ]
  },
  {
   "cell_type": "markdown",
   "metadata": {},
   "source": [
    "## Intermezzo: Mutability"
   ]
  },
  {
   "cell_type": "markdown",
   "metadata": {},
   "source": [
    "The fact that you were able to replace an element by index (as in the above cell) relates to the mutability of lists. For example, performing a similar manipulation on a string object, will cause a `TypeError`."
   ]
  },
  {
   "cell_type": "code",
   "execution_count": 30,
   "metadata": {},
   "outputs": [
    {
     "ename": "TypeError",
     "evalue": "'str' object does not support item assignment",
     "output_type": "error",
     "traceback": [
      "\u001b[0;31m---------------------------------------------------------------------------\u001b[0m",
      "\u001b[0;31mTypeError\u001b[0m                                 Traceback (most recent call last)",
      "\u001b[0;32m<ipython-input-30-ad6421b824cc>\u001b[0m in \u001b[0;36m<module>\u001b[0;34m()\u001b[0m\n\u001b[1;32m      1\u001b[0m \u001b[0mmisspelled\u001b[0m \u001b[0;34m=\u001b[0m \u001b[0;34m'Pythvn'\u001b[0m\u001b[0;34m\u001b[0m\u001b[0m\n\u001b[0;32m----> 2\u001b[0;31m \u001b[0mmisspelled\u001b[0m\u001b[0;34m[\u001b[0m\u001b[0;36m5\u001b[0m\u001b[0;34m]\u001b[0m \u001b[0;34m=\u001b[0m \u001b[0;34m'o'\u001b[0m\u001b[0;34m\u001b[0m\u001b[0m\n\u001b[0m",
      "\u001b[0;31mTypeError\u001b[0m: 'str' object does not support item assignment"
     ]
    }
   ],
   "source": [
    "misspelled = 'Pythvn'\n",
    "misspelled[4] = 'o'"
   ]
  },
  {
   "cell_type": "markdown",
   "metadata": {},
   "source": [
    "If we convert the string to a list we can get rid of this naughty typo."
   ]
  },
  {
   "cell_type": "code",
   "execution_count": 33,
   "metadata": {},
   "outputs": [
    {
     "name": "stdout",
     "output_type": "stream",
     "text": [
      "['P', 'y', 't', 'h', 'v', 'n']\n",
      "['P', 'y', 't', 'h', 'o', 'n']\n"
     ]
    }
   ],
   "source": [
    "misspelled = list('Pythvn')\n",
    "print(misspelled)\n",
    "misspelled[4] = 'o'\n",
    "print(misspelled)"
   ]
  },
  {
   "cell_type": "markdown",
   "metadata": {},
   "source": [
    "In short: lists are **mutable**--you can manipulate the content of list variables--whereas strings are not. Question: can you predict whether the following code raises an error?"
   ]
  },
  {
   "cell_type": "code",
   "execution_count": 36,
   "metadata": {},
   "outputs": [
    {
     "data": {
      "text/plain": [
       "'kittens'"
      ]
     },
     "execution_count": 36,
     "metadata": {},
     "output_type": "execute_result"
    }
   ],
   "source": [
    "word = 'kitten'\n",
    "word+='s'\n",
    "print(word)"
   ]
  },
  {
   "cell_type": "markdown",
   "metadata": {},
   "source": [
    "This remember that this is equivalent to word = word + 's', i.e. it does not change the variable, but creates a new one  and assigns it to a variable with the same name, effectively replacing the content of the box."
   ]
  },
  {
   "cell_type": "code",
   "execution_count": null,
   "metadata": {
    "collapsed": true
   },
   "outputs": [],
   "source": [
    "[TO DO]Index operator list[start:stop:step]"
   ]
  },
  {
   "cell_type": "code",
   "execution_count": 7,
   "metadata": {},
   "outputs": [
    {
     "name": "stdout",
     "output_type": "stream",
     "text": [
      "[0, 1, 2, 3, 4, 5, 6, 7, 8, 9, 10, 11, 12, 13, 14, 15, 16, 17, 18, 19, 20]\n",
      "[2, 4, 6, 8, 10, 12, 14, 16, 18]\n"
     ]
    }
   ],
   "source": [
    "till_twenty = list(range(0,21))\n",
    "print(till_twenty)\n",
    "\n",
    "evens = till_twenty[2:-1:2]\n",
    "print(evens)"
   ]
  },
  {
   "cell_type": "markdown",
   "metadata": {},
   "source": [
    "## 1.5 List methods\n",
    "\n",
    "As lists are mutable, they provide a much more flexible data type. Lists come with specific **methods**, a set of powerful tools that Python already pre-cooked for you. These tools help you with building and manipulating lists.\n",
    "\n",
    "### Adding items to a list\n",
    "Most of the crucial list functionalities are provided by the in-built list **methods**: functions attached to the list object. For an overview of the available methods run the code below (scroll down, for this course you can ignore the methods starting and ending with double underscores.)"
   ]
  },
  {
   "cell_type": "code",
   "execution_count": 30,
   "metadata": {},
   "outputs": [
    {
     "name": "stdout",
     "output_type": "stream",
     "text": [
      "<class 'list'>\n"
     ]
    }
   ],
   "source": [
    "writers_list = []\n",
    "print(type(a_list))"
   ]
  },
  {
   "cell_type": "markdown",
   "metadata": {},
   "source": [
    "We learn, unsurprisingle to that the variable a_list is of type `list`. Let's inspect the functionalities Python provides for working with lists."
   ]
  },
  {
   "cell_type": "code",
   "execution_count": 26,
   "metadata": {
    "collapsed": true
   },
   "outputs": [],
   "source": [
    "help(list)"
   ]
  },
  {
   "cell_type": "markdown",
   "metadata": {},
   "source": [
    "### 1.5.1 append() and extend()"
   ]
  },
  {
   "cell_type": "markdown",
   "metadata": {},
   "source": [
    "The first method we encounter is ``append``. To see what this method does use the same `help` function as before"
   ]
  },
  {
   "cell_type": "code",
   "execution_count": 27,
   "metadata": {},
   "outputs": [
    {
     "name": "stdout",
     "output_type": "stream",
     "text": [
      "Help on method_descriptor:\n",
      "\n",
      "append(...)\n",
      "    L.append(object) -> None -- append object to end\n",
      "\n"
     ]
    }
   ],
   "source": [
    "help(list.append)"
   ]
  },
  {
   "cell_type": "markdown",
   "metadata": {},
   "source": [
    "`append` is method that adds new items to the end of a list. It has one positional argument and returns `None` (we come back to this a few block below)"
   ]
  },
  {
   "cell_type": "markdown",
   "metadata": {},
   "source": [
    "The Python help functionalities helps you exploring the methods attached to an object. \n",
    "\n",
    "**Exercise**: find out what the method ``extend`` does, and how to apply it to the writers_list."
   ]
  },
  {
   "cell_type": "code",
   "execution_count": 23,
   "metadata": {},
   "outputs": [
    {
     "name": "stdout",
     "output_type": "stream",
     "text": [
      "['J.S. Bach', 'W.A. Mozart', 'F. Mendelssohn']\n",
      "['J.S. Bach', 'W.A. Mozart', 'F. Mendelssohn', 'L. van Beethoven']\n"
     ]
    }
   ],
   "source": [
    "composer_list = ['J.S. Bach', 'W.A. Mozart', 'F. Mendelssohn']\n",
    "print(composer_list)\n",
    "composer_list.append('L. van Beethoven')\n",
    "print(composer_list)"
   ]
  },
  {
   "cell_type": "code",
   "execution_count": null,
   "metadata": {
    "collapsed": true
   },
   "outputs": [],
   "source": [
    "# add some other writers to the list here"
   ]
  },
  {
   "cell_type": "markdown",
   "metadata": {},
   "source": [
    "Do you get the syntax that goes with the `append()` function? The list we wish to append the item to goes first and we join the `append()` function to this list using a dot (`.`). In between the round brackets that go with the function name, we place the actual string that we wish to add to the list. We call such a input **value** an **'argument'** or a **'parameter'** that we **'pass'** to a function. Next, the function will return a 'return value'. \n",
    "\n",
    "Make sure that you are familiar with this terminology because you will often come across such terms when you look for help online!"
   ]
  },
  {
   "cell_type": "markdown",
   "metadata": {},
   "source": [
    "Functions in Python are generally divided into **fruitful** and **void** functions? `append` is a void function, similar to `print`, it performs an operation (adds one element to the list) but returns nothing. Understanding this distinction may help you tracing bugs in your code."
   ]
  },
  {
   "cell_type": "code",
   "execution_count": 24,
   "metadata": {},
   "outputs": [
    {
     "name": "stdout",
     "output_type": "stream",
     "text": [
      "['J.S. Bach', 'W.A. Mozart', 'F. Mendelssohn', 'L. van Beethoven', 'J. des Prez']\n",
      "None\n"
     ]
    }
   ],
   "source": [
    "a = composer_list.append('J. des Prez')\n",
    "print(composer_list)\n",
    "print(a)"
   ]
  },
  {
   "cell_type": "markdown",
   "metadata": {},
   "source": [
    "[VU] It might be a bit confusing at first that a list method returns None. Please carefully look at the difference between the two following examples. Please predict what will be printed in each code snippet below:"
   ]
  },
  {
   "cell_type": "code",
   "execution_count": 25,
   "metadata": {},
   "outputs": [
    {
     "name": "stdout",
     "output_type": "stream",
     "text": [
      "[1, 3, 4, 5]\n"
     ]
    }
   ],
   "source": [
    "a_list = [1, 3, 4]\n",
    "a_list.append(5)\n",
    "print(a_list)"
   ]
  },
  {
   "cell_type": "code",
   "execution_count": 26,
   "metadata": {
    "scrolled": true
   },
   "outputs": [
    {
     "name": "stdout",
     "output_type": "stream",
     "text": [
      "None\n"
     ]
    }
   ],
   "source": [
    "a_list = [1, 3, 4]\n",
    "a_list = a_list.append(5)\n",
    "print(a_list)"
   ]
  },
  {
   "cell_type": "markdown",
   "metadata": {},
   "source": [
    "[CS] It is important to distinguish between operations that modify lists and operations that create\n",
    "new lists. For example, the append method modifies a list, but the + operator creates a\n",
    "new list"
   ]
  },
  {
   "cell_type": "code",
   "execution_count": null,
   "metadata": {
    "collapsed": true
   },
   "outputs": [],
   "source": [
    "# find out what extend does\n",
    "# apply the method to the writers_list"
   ]
  },
  {
   "cell_type": "markdown",
   "metadata": {},
   "source": [
    "The `append()` method is especially powerful in a `for` loop. We have a closer look at loops later, but the code below show a context in which the `append()` method is often applied. For example, we have a .tsv table which lists composers by their country of origin. Imagine, we want study composers by nationality. The code below shows how to extact the relevant information from this table."
   ]
  },
  {
   "cell_type": "code",
   "execution_count": 45,
   "metadata": {
    "collapsed": true
   },
   "outputs": [],
   "source": [
    "data = 'Justus Johann Friedrich Dotzauer\\tGermany\\nSaid Rustamov\\tAzerbaijan\\nFlor Alpaerts\\tBelgium\\nPetko Staynov\\tBulgaria\\nTheodor Ludwig Wiesengrund Adorno\\tGermany\\nAnna Amalia, Duchess of Brunswick-Wolfenbüttel\\tGermany'"
   ]
  },
  {
   "cell_type": "code",
   "execution_count": 46,
   "metadata": {},
   "outputs": [
    {
     "name": "stdout",
     "output_type": "stream",
     "text": [
      "Justus Johann Friedrich Dotzauer\tGermany\n",
      "Said Rustamov\tAzerbaijan\n",
      "Flor Alpaerts\tBelgium\n",
      "Petko Staynov\tBulgaria\n",
      "Theodor Ludwig Wiesengrund Adorno\tGermany\n",
      "Anna Amalia, Duchess of Brunswick-Wolfenbüttel\tGermany\n"
     ]
    }
   ],
   "source": [
    "print(data)"
   ]
  },
  {
   "cell_type": "markdown",
   "metadata": {},
   "source": [
    "As previously shown, we parse this table with the `split()` function. First we the identify the rows (seperated by hard returns or \"\\n\") and later the cells within each row (seperated by tabs or \"\\t\")"
   ]
  },
  {
   "cell_type": "code",
   "execution_count": 40,
   "metadata": {},
   "outputs": [
    {
     "name": "stdout",
     "output_type": "stream",
     "text": [
      "['Said Rustamov\\tAzerbaijan', 'Flor Alpaerts\\tBelgium', 'Petko Staynov\\tBulgaria', 'Theodor Ludwig Wiesengrund Adorno\\tGermany', 'Anna Amalia, Duchess of Brunswick-Wolfenbüttel\\tGermany']\n"
     ]
    }
   ],
   "source": [
    "rows = data.split('\\n')\n",
    "print(rows)"
   ]
  },
  {
   "cell_type": "markdown",
   "metadata": {},
   "source": [
    "To process the seperate cells, we first create an empy list called `table`. Then we iterate over each row created by `split('\\n')` and split each row by their tab-symbol. The last step converts each row (which is still a string) to a list. "
   ]
  },
  {
   "cell_type": "code",
   "execution_count": 49,
   "metadata": {},
   "outputs": [
    {
     "name": "stdout",
     "output_type": "stream",
     "text": [
      "<class 'list'>\n",
      "<class 'str'>\n"
     ]
    }
   ],
   "source": [
    "rows = data.split('\\n')\n",
    "# The rows are of type list\n",
    "print(type(rows))\n",
    "# But the first element in this list is still a string\n",
    "print(type(rows[0]))"
   ]
  },
  {
   "cell_type": "markdown",
   "metadata": {},
   "source": [
    "The code below makes clear during every iteration in the for loop."
   ]
  },
  {
   "cell_type": "code",
   "execution_count": 50,
   "metadata": {},
   "outputs": [
    {
     "name": "stdout",
     "output_type": "stream",
     "text": [
      "Justus Johann Friedrich Dotzauer\tGermany\n",
      "['Justus Johann Friedrich Dotzauer', 'Germany']\n",
      "Said Rustamov\tAzerbaijan\n",
      "['Said Rustamov', 'Azerbaijan']\n",
      "Flor Alpaerts\tBelgium\n",
      "['Flor Alpaerts', 'Belgium']\n",
      "Petko Staynov\tBulgaria\n",
      "['Petko Staynov', 'Bulgaria']\n",
      "Theodor Ludwig Wiesengrund Adorno\tGermany\n",
      "['Theodor Ludwig Wiesengrund Adorno', 'Germany']\n",
      "Anna Amalia, Duchess of Brunswick-Wolfenbüttel\tGermany\n",
      "['Anna Amalia, Duchess of Brunswick-Wolfenbüttel', 'Germany']\n"
     ]
    }
   ],
   "source": [
    "# get the rows from the string\n",
    "for row in rows:\n",
    "    print(row)\n",
    "    tsv_splitted = row.split('\\t')\n",
    "    print(tsv_splitted)"
   ]
  },
  {
   "cell_type": "markdown",
   "metadata": {},
   "source": [
    "Remember, we wanted to study the nationality of these composer. Let's therefore store the countries in a seperate list names `nationalities` using the `append()`. First we have to create an empty list, in which we can store our information later. The we iterate over the rows and get the second cell (index=1) where the country of birth is stored."
   ]
  },
  {
   "cell_type": "code",
   "execution_count": 51,
   "metadata": {},
   "outputs": [
    {
     "name": "stdout",
     "output_type": "stream",
     "text": [
      "['Germany', 'Azerbaijan', 'Belgium', 'Bulgaria', 'Germany', 'Germany']\n"
     ]
    }
   ],
   "source": [
    "# Create an empty list\n",
    "nationalities = []\n",
    "\n",
    "# Iterate of the all the rows\n",
    "for row in rows:\n",
    "    # Create a new variable tsv_splitted which stores the list\n",
    "    # returned by the split() function\n",
    "    tsv_splitted = row.split('\\t')\n",
    "    # Append the second/last item in tsv_split to the nationalities list\n",
    "    nationalities.append(tsv_splitted[1])\n",
    "\n",
    "print(nationalities)"
   ]
  },
  {
   "cell_type": "markdown",
   "metadata": {},
   "source": [
    "Creating the empty list might seem like a superflous step, but is crucial nonetheless--if a variable is not explicitly defined, Python does not now where to store the selected items.\n",
    "\n",
    "Note also that the list keeps the order in which the rows are processed."
   ]
  },
  {
   "cell_type": "markdown",
   "metadata": {},
   "source": [
    "### 1.5.2 count()\n",
    "\n",
    "Once we collected the information, we can start counting: how many of these composers come from Germany?"
   ]
  },
  {
   "cell_type": "code",
   "execution_count": 55,
   "metadata": {},
   "outputs": [
    {
     "name": "stdout",
     "output_type": "stream",
     "text": [
      "Help on method_descriptor:\n",
      "\n",
      "count(...)\n",
      "    L.count(value) -> integer -- return number of occurrences of value\n",
      "\n"
     ]
    }
   ],
   "source": [
    "help(list.count)"
   ]
  },
  {
   "cell_type": "markdown",
   "metadata": {},
   "source": [
    "The *count()* method has one positional argument **value** and returns an integer. As the name already indicates, the method returns an integero that represents how often the value occurs in the list."
   ]
  },
  {
   "cell_type": "code",
   "execution_count": 87,
   "metadata": {},
   "outputs": [
    {
     "name": "stdout",
     "output_type": "stream",
     "text": [
      "3\n",
      "1\n"
     ]
    }
   ],
   "source": [
    "countries = ['Germany', 'Azerbaijan', 'Belgium','Germany', 'Bulgaria', 'Germany']\n",
    "print(countries.count('Germany'))\n",
    "print(countries.count('Belgium'))"
   ]
  },
  {
   "cell_type": "markdown",
   "metadata": {},
   "source": [
    "### 1.5.3 sort()\n",
    "\n",
    "The `sort()` function is a void function that sorts strings in alphabetical and numbers ascending order."
   ]
  },
  {
   "cell_type": "code",
   "execution_count": 61,
   "metadata": {},
   "outputs": [
    {
     "name": "stdout",
     "output_type": "stream",
     "text": [
      "Help on method_descriptor:\n",
      "\n",
      "sort(...)\n",
      "    L.sort(key=None, reverse=False) -> None -- stable sort *IN PLACE*\n",
      "\n"
     ]
    }
   ],
   "source": [
    "help(list.sort)"
   ]
  },
  {
   "cell_type": "code",
   "execution_count": 59,
   "metadata": {},
   "outputs": [
    {
     "name": "stdout",
     "output_type": "stream",
     "text": [
      "['Azerbaijan', 'Belgium', 'Bulgaria', 'Germany', 'Germany', 'Germany']\n"
     ]
    }
   ],
   "source": [
    "countries.sort()\n",
    "print(countries)"
   ]
  },
  {
   "cell_type": "code",
   "execution_count": 64,
   "metadata": {},
   "outputs": [
    {
     "name": "stdout",
     "output_type": "stream",
     "text": [
      "[7, 8, 9, 9, 9, 10]\n"
     ]
    }
   ],
   "source": [
    "my_grades = [9,8,10,7,9,9]\n",
    "my_grades.sort()\n",
    "print(my_grades)"
   ]
  },
  {
   "cell_type": "markdown",
   "metadata": {},
   "source": [
    "The `reverse` argument allows you to sort in ascending (reverse=False) or descending (reverse=True) order."
   ]
  },
  {
   "cell_type": "code",
   "execution_count": null,
   "metadata": {
    "collapsed": true
   },
   "outputs": [],
   "source": [
    "my_grades.sort(reverse=True)\n",
    "print(my_grades)"
   ]
  },
  {
   "cell_type": "markdown",
   "metadata": {},
   "source": [
    "Before evaluating the cell block below, can you guess what resulting order will look like?"
   ]
  },
  {
   "cell_type": "code",
   "execution_count": 67,
   "metadata": {},
   "outputs": [
    {
     "name": "stdout",
     "output_type": "stream",
     "text": [
      "[9, 8, 10, 7, 9, 9, 'Germany', 'Azerbaijan', 'Belgium', 'Germany', 'Bulgaria', 'Germany']\n"
     ]
    },
    {
     "ename": "TypeError",
     "evalue": "'<' not supported between instances of 'str' and 'int'",
     "output_type": "error",
     "traceback": [
      "\u001b[0;31m---------------------------------------------------------------------------\u001b[0m",
      "\u001b[0;31mTypeError\u001b[0m                                 Traceback (most recent call last)",
      "\u001b[0;32m<ipython-input-67-4dbc7cbef47b>\u001b[0m in \u001b[0;36m<module>\u001b[0;34m()\u001b[0m\n\u001b[1;32m      5\u001b[0m \u001b[0mprint\u001b[0m\u001b[0;34m(\u001b[0m\u001b[0mgrades_and_countries\u001b[0m\u001b[0;34m)\u001b[0m\u001b[0;34m\u001b[0m\u001b[0m\n\u001b[1;32m      6\u001b[0m \u001b[0;34m\u001b[0m\u001b[0m\n\u001b[0;32m----> 7\u001b[0;31m \u001b[0mgrades_and_countries\u001b[0m\u001b[0;34m.\u001b[0m\u001b[0msort\u001b[0m\u001b[0;34m(\u001b[0m\u001b[0mreverse\u001b[0m\u001b[0;34m=\u001b[0m\u001b[0;32mFalse\u001b[0m\u001b[0;34m)\u001b[0m\u001b[0;34m\u001b[0m\u001b[0m\n\u001b[0m\u001b[1;32m      8\u001b[0m \u001b[0mprint\u001b[0m\u001b[0;34m(\u001b[0m\u001b[0mgrades_and_countries\u001b[0m\u001b[0;34m)\u001b[0m\u001b[0;34m\u001b[0m\u001b[0m\n",
      "\u001b[0;31mTypeError\u001b[0m: '<' not supported between instances of 'str' and 'int'"
     ]
    }
   ],
   "source": [
    "my_grades = [9,8,10,7,9,9]\n",
    "countries = ['Germany', 'Azerbaijan', 'Belgium','Germany', 'Bulgaria', 'Germany']\n",
    "\n",
    "grades_and_countries = my_grades + countries\n",
    "print(grades_and_countries)\n",
    "\n",
    "grades_and_countries.sort(reverse=False)\n",
    "print(grades_and_countries)"
   ]
  },
  {
   "cell_type": "markdown",
   "metadata": {},
   "source": [
    "Unfortunately the standard Python `order()` method is not smart enough to deal with a mixed list (type-wise). As an aside: a convenient solution solution would be to cast the integers as strings."
   ]
  },
  {
   "cell_type": "code",
   "execution_count": 69,
   "metadata": {},
   "outputs": [
    {
     "name": "stdout",
     "output_type": "stream",
     "text": [
      "['10', '7', '8', '9', '9', '9', 'Azerbaijan', 'Belgium', 'Bulgaria', 'Germany', 'Germany', 'Germany']\n"
     ]
    }
   ],
   "source": [
    "my_grades = ['9','8','10','7','9','9']\n",
    "countries = ['Germany', 'Azerbaijan', 'Belgium','Germany', 'Bulgaria', 'Germany']\n",
    "\n",
    "grades_and_countries = my_grades + countries\n",
    "grades_and_countries.sort(reverse=False)\n",
    "\n",
    "print(grades_and_countries)"
   ]
  },
  {
   "cell_type": "markdown",
   "metadata": {},
   "source": [
    "The `key` argument allows you to further refine your sorting. As we have not covered yet enough Python concepts for you to properly understand how this works, we leave it for the moment at two examples."
   ]
  },
  {
   "cell_type": "markdown",
   "metadata": {},
   "source": [
    "Basically, you pass a function for the argument `key`, for example `len` which counts how many items a value contains. If you pass the function `len` as an argument, this will count how many characters each string contains, and order the list by the length of each item."
   ]
  },
  {
   "cell_type": "code",
   "execution_count": 96,
   "metadata": {},
   "outputs": [
    {
     "name": "stdout",
     "output_type": "stream",
     "text": [
      "['Azerbaijan', 'Bulgaria', 'Germany', 'Belgium', 'Germany', 'Germany']\n"
     ]
    }
   ],
   "source": [
    "# Sorting by the length of string\n",
    "countries = ['Germany', 'Azerbaijan', 'Belgium','Germany', 'Bulgaria', 'Germany']\n",
    "countries.sort(key=len,reverse=True)\n",
    "print(countries)"
   ]
  },
  {
   "cell_type": "markdown",
   "metadata": {},
   "source": [
    "Or sort the list by the frequency in which the items occur."
   ]
  },
  {
   "cell_type": "code",
   "execution_count": 98,
   "metadata": {},
   "outputs": [
    {
     "name": "stdout",
     "output_type": "stream",
     "text": [
      "['Germany', 'Germany', 'Germany', 'Azerbaijan', 'Bulgaria', 'Belgium']\n"
     ]
    }
   ],
   "source": [
    "\n",
    "# Sorting by frequency of occurence\n",
    "countries_ref = ['Germany', 'Azerbaijan', 'Belgium','Germany', 'Bulgaria', 'Germany']\n",
    "# Actually this is more elegant:\n",
    "# from collections import Counter\n",
    "# countries.sort(key=Counter(countries).get,reverse=True)\n",
    "countries.sort(key=countries_ref.count,reverse=True)\n",
    "print(countries)"
   ]
  },
  {
   "cell_type": "markdown",
   "metadata": {},
   "source": [
    "### 1.5.3 remove()\n",
    "\n",
    "Let's assume our good read collection has grown a lot and we would like to remove some of the books from the list. Python provides the function `remove()` that you can call on a list and which takes as argument the item we would like to remove. "
   ]
  },
  {
   "cell_type": "code",
   "execution_count": null,
   "metadata": {
    "collapsed": true
   },
   "outputs": [],
   "source": [
    "good_reads = [\"The Hunger games\", \"A Clockwork Orange\", \n",
    "             \"Pride and Prejudice\", \"Water for Elephants\", \"Illias\"]\n",
    "print(good_reads)\n",
    "good_reads.remove(\"Water for Elephants\")\n",
    "print(good_reads)"
   ]
  },
  {
   "cell_type": "markdown",
   "metadata": {},
   "source": [
    "If we try to remove a book that is not in our collection, Python raises an error to signal that something is wrong."
   ]
  },
  {
   "cell_type": "code",
   "execution_count": null,
   "metadata": {
    "collapsed": true
   },
   "outputs": [],
   "source": [
    "good_reads.remove(\"White Oleander\")"
   ]
  },
  {
   "cell_type": "markdown",
   "metadata": {},
   "source": [
    "Note, however, that `remove()` will only delete the *first* item in the list that is identical to the argument which you passed to the function. Execute the code in the block below and you will see that only the first instance of \"Pride and Prejudice\" gets deleted."
   ]
  },
  {
   "cell_type": "code",
   "execution_count": null,
   "metadata": {
    "collapsed": true
   },
   "outputs": [],
   "source": [
    "good_reads = [\"The Hunger games\", \"A Clockwork Orange\", \n",
    "             \"Pride and Prejudice\", \"Water for Elephants\", \"Pride and Prejudice\"]\n",
    "good_reads.remove(\"Pride and Prejudice\")\n",
    "print(good_reads)"
   ]
  },
  {
   "cell_type": "markdown",
   "metadata": {},
   "source": [
    "## An overview of list methods"
   ]
  },
  {
   "cell_type": "code",
   "execution_count": null,
   "metadata": {
    "collapsed": true
   },
   "outputs": [],
   "source": [
    "#define some lists and variables\n",
    "a = [1,2,3]\n",
    "b = 4\n",
    "c = [5,6,7]\n",
    "x = 1\n",
    "i = 2\n",
    "\n",
    "#do some operations \n",
    "a.append(b)     # Add item b to the end of a\n",
    "a.extend(c)     # Add the elements of list c at the end of a\n",
    "a.insert(i,b)   # Insert item b at position i\n",
    "a.pop(i)        # Remove from a the i'th element and return it. If i is not specified, remove the last element\n",
    "a.index(x)      # Return the index of the first element of a with value x. Error if it does not exist\n",
    "a.count(x)      # Return how often value x is found in a\n",
    "a.remove(x)     # Remove from a the first element with value x. Error if it does not exist\n",
    "a.sort()        # Sort the elements of list a\n",
    "a.reverse()     # Reverses list a (no return value!)\n",
    "\n",
    "print(a)"
   ]
  },
  {
   "cell_type": "markdown",
   "metadata": {},
   "source": [
    "## 1.6 Nested Lists\n",
    "\n",
    "### Tables\n",
    "\n",
    "Lists can even contain lists. Why is this useful you may wonder? Nested list are a convenient\n",
    "\n"
   ]
  },
  {
   "cell_type": "markdown",
   "metadata": {},
   "source": [
    "### Matrices\n",
    " A nested list can also represent a **matrix**, a notion we will often encounter further in this course.\n",
    "\n",
    "[FROM WIKIPedia] In mathematics, a matrix (plural: matrices) is a rectangular array[1] of numbers, symbols, or expressions, arranged in rows and columns. For example, the dimensions of the matrix below are 2 × 3 (read \"two by three\"), because there are two rows and three columns:\n",
    "![An example of a matrix](https://wikimedia.org/api/rest_v1/media/math/render/svg/d16330f5f99566fa754114ff04cd176d6185c796)\n",
    "\n",
    "We can represent this matrix as a nested list an assign it to the variable `nested_list`."
   ]
  },
  {
   "cell_type": "code",
   "execution_count": 99,
   "metadata": {
    "collapsed": true
   },
   "outputs": [],
   "source": [
    "nested_list = [[1,9,-13],[20,5,-6]]"
   ]
  },
  {
   "cell_type": "markdown",
   "metadata": {
    "collapsed": true
   },
   "source": [
    "To retrieve elements of the matrix, we use indexing and slicing techniques from previous course."
   ]
  },
  {
   "cell_type": "code",
   "execution_count": 35,
   "metadata": {},
   "outputs": [
    {
     "name": "stdout",
     "output_type": "stream",
     "text": [
      "[1, 9, -13]\n",
      "1\n",
      "-6\n",
      "[1]\n"
     ]
    }
   ],
   "source": [
    "print(nested_list[0])\n",
    "print(nested_list[0][0])\n",
    "print(nested_list[1][2])\n",
    "print(nested_list[0][:-2])"
   ]
  },
  {
   "cell_type": "markdown",
   "metadata": {},
   "source": [
    "To finish this section, here is an overview of the new concepts and functions you have learnt. Go through them and make sure you understand them all.\n",
    "\n",
    "-  list\n",
    "\n",
    "-  `.split()`\n",
    "-  `.append()`\n",
    "-  `.count()`\n",
    "-  `.remove()`\n",
    "-  `.sort()`\n",
    "-  nested lists\n",
    "-  *mutable* versus *immutable*"
   ]
  },
  {
   "cell_type": "markdown",
   "metadata": {},
   "source": [
    "# 2. Dictionaries"
   ]
  },
  {
   "cell_type": "markdown",
   "metadata": {},
   "source": [
    "## 2.1 Introduction\n",
    "\n",
    "[CS] A dictionary is like a list, but more general. In a list, the indices have to be integers; in a dictionary they can be (almost) any type.\n",
    "\n",
    "For example, using the index operator, we can retrieve the element at a certain position:"
   ]
  },
  {
   "cell_type": "code",
   "execution_count": 49,
   "metadata": {},
   "outputs": [
    {
     "name": "stdout",
     "output_type": "stream",
     "text": [
      "John\n"
     ]
    }
   ],
   "source": [
    "# Example \n",
    "all_my_friends = ['John','Mary','Benny']\n",
    "# retrieve element by index\n",
    "my_first_friend = all_my_friends[0]\n",
    "print(my_first_friend)"
   ]
  },
  {
   "cell_type": "markdown",
   "metadata": {},
   "source": [
    "You can think of a dictionary as a mapping between a set of indices (which are called keys) and a set of values. Each key maps to a value. The association of a key and a value is called a **key-value** pair or sometimes an item.\n",
    "\n",
    "Imagine having to look up someone's number. Here the index (or key) would be the names of all citizens with a telephone, and the values the numbers. Here a numerical index does not make sense, because we want to retrieve the number by name, not by position in the book.\n",
    "\n",
    "For example, what is Susan's phone number?\n",
    "\n",
    "Dictionaries privode you with the data structure that make such tasks (looking up values by keys) exceptionally  easy.\n",
    "\n",
    "For example, let's have a look at the `telephone_numbers` variable below:"
   ]
  },
  {
   "cell_type": "code",
   "execution_count": 51,
   "metadata": {
    "collapsed": true
   },
   "outputs": [],
   "source": [
    "telephone_numbers = {'Frank': 4334030, 'Susan': 400230, 'Guido': 487239}"
   ]
  },
  {
   "cell_type": "markdown",
   "metadata": {},
   "source": [
    "... and now print Susan's telephone number"
   ]
  },
  {
   "cell_type": "code",
   "execution_count": 52,
   "metadata": {},
   "outputs": [
    {
     "data": {
      "text/plain": [
       "4334030"
      ]
     },
     "execution_count": 52,
     "metadata": {},
     "output_type": "execute_result"
    }
   ],
   "source": [
    "print(telephone_numbers['Susan'])"
   ]
  },
  {
   "cell_type": "markdown",
   "metadata": {},
   "source": [
    "Note how similar this looks to retrieving the nth element in a list, e.g. `my_list[n]`.\n",
    "\n",
    "Of course, you could do something similar with a list (the look-up by key), but that would be very impractical."
   ]
  },
  {
   "cell_type": "code",
   "execution_count": 53,
   "metadata": {},
   "outputs": [
    {
     "name": "stdout",
     "output_type": "stream",
     "text": [
      "400230\n"
     ]
    }
   ],
   "source": [
    "telephone_numbers = ['Frank', 4334030, 'Susan', 400230, 'Guido', 487239]\n",
    "print(telephone_numbers[telephone_numbers.index('Susan')+1])"
   ]
  },
  {
   "cell_type": "markdown",
   "metadata": {},
   "source": [
    "[VU] That's pretty inefficient. The take home message here is **that lists are not really good if we want two pieces of information together**. Dictionaries for the rescue!"
   ]
  },
  {
   "cell_type": "markdown",
   "metadata": {},
   "source": [
    "## 2.2 Creating a dictionary\n",
    "\n",
    "\n",
    "[VU]\n",
    "* a dictionary is surrounded by curly brackets and the key/value pairs are separated by commas.\n",
    "* A dictionary consists of one or more **key:value pairs**, the key is the 'identifier' or \"name\" that is used to describe the value.\n",
    "* the **keys** in a dictionary are unique\n",
    "* the syntax for a key/value pair is: KEY : VALUE\n",
    "* the keys (e.g. 'Frank') in a dictionary have to be **immutable**\n",
    "* the values (e.g. 8) in a dictionary can by **any python object**\n",
    "* a dictionary can be empty\n"
   ]
  },
  {
   "cell_type": "code",
   "execution_count": null,
   "metadata": {
    "collapsed": true
   },
   "outputs": [],
   "source": [
    "english2deutsch = {'ambulance':'Krankenwagen',\n",
    "                  'clever':'klug',\n",
    "                  'concrete':'Beton'}\n"
   ]
  },
  {
   "cell_type": "markdown",
   "metadata": {
    "collapsed": true
   },
   "source": [
    "* Please note that **keys** in a dictionary have to **immutable**. Lists can not appear as key. \n",
    "* Anything can be a value."
   ]
  },
  {
   "cell_type": "markdown",
   "metadata": {},
   "source": [
    "\n",
    "Because keys have to be immutable, a list can not appear in this location. This should raise an error:"
   ]
  },
  {
   "cell_type": "code",
   "execution_count": 56,
   "metadata": {},
   "outputs": [
    {
     "ename": "TypeError",
     "evalue": "unhashable type: 'list'",
     "output_type": "error",
     "traceback": [
      "\u001b[0;31m---------------------------------------------------------------------------\u001b[0m",
      "\u001b[0;31mTypeError\u001b[0m                                 Traceback (most recent call last)",
      "\u001b[0;32m<ipython-input-56-917710d35007>\u001b[0m in \u001b[0;36m<module>\u001b[0;34m()\u001b[0m\n\u001b[0;32m----> 1\u001b[0;31m \u001b[0ma_dict\u001b[0m \u001b[0;34m=\u001b[0m \u001b[0;34m{\u001b[0m\u001b[0;34m[\u001b[0m\u001b[0;34m'a'\u001b[0m\u001b[0;34m,\u001b[0m \u001b[0;34m'list'\u001b[0m\u001b[0;34m]\u001b[0m\u001b[0;34m:\u001b[0m \u001b[0;36m8\u001b[0m\u001b[0;34m}\u001b[0m\u001b[0;34m\u001b[0m\u001b[0m\n\u001b[0m\u001b[1;32m      2\u001b[0m \u001b[0mprint\u001b[0m\u001b[0;34m(\u001b[0m\u001b[0ma_dict\u001b[0m\u001b[0;34m)\u001b[0m\u001b[0;34m\u001b[0m\u001b[0m\n",
      "\u001b[0;31mTypeError\u001b[0m: unhashable type: 'list'"
     ]
    }
   ],
   "source": [
    "a_dict = {['a', 'list']: 8}\n",
    "print(a_dict)"
   ]
  },
  {
   "cell_type": "markdown",
   "metadata": {},
   "source": [
    "This should work:"
   ]
  },
  {
   "cell_type": "code",
   "execution_count": 55,
   "metadata": {},
   "outputs": [
    {
     "name": "stdout",
     "output_type": "stream",
     "text": [
      "{8: ['a', 'list']}\n"
     ]
    }
   ],
   "source": [
    "a_dict = { 8:['a', 'list']}\n",
    "print(a_dict)"
   ]
  },
  {
   "cell_type": "markdown",
   "metadata": {
    "collapsed": true
   },
   "source": [
    "### 2.2.1 Adding items to a dictionary"
   ]
  },
  {
   "cell_type": "markdown",
   "metadata": {},
   "source": [
    "[VU]There is one very simple way in order to add a **key:value** pair to a dictionary. Please look at the following code snippet:"
   ]
  },
  {
   "cell_type": "code",
   "execution_count": 101,
   "metadata": {},
   "outputs": [
    {
     "name": "stdout",
     "output_type": "stream",
     "text": [
      "{}\n"
     ]
    }
   ],
   "source": [
    "english2deutsch = dict()\n",
    "#or try english2deutsch = {}\n",
    "print(english2deutsch)"
   ]
  },
  {
   "cell_type": "code",
   "execution_count": 102,
   "metadata": {},
   "outputs": [
    {
     "name": "stdout",
     "output_type": "stream",
     "text": [
      "{'one': 'einz', 'two': 'zwei', 'three': 'drei'}\n"
     ]
    }
   ],
   "source": [
    "english2deutsch['one'] = 'einz'\n",
    "english2deutsch['two'] = 'zwei'\n",
    "english2deutsch['three'] = 'drei'\n",
    "print(english2deutsch)"
   ]
  },
  {
   "cell_type": "markdown",
   "metadata": {},
   "source": [
    "[VU]Please note that key:value pairs get overwritten if you assign a different value to an existing key."
   ]
  },
  {
   "cell_type": "code",
   "execution_count": 103,
   "metadata": {},
   "outputs": [
    {
     "name": "stdout",
     "output_type": "stream",
     "text": [
      "{}\n",
      "{'one': 'einz?'}\n",
      "{'one': 'zwei?'}\n",
      "{'one': 'drei?'}\n"
     ]
    }
   ],
   "source": [
    "english2deutsch = dict()\n",
    "print(english2deutsch)\n",
    "english2deutsch['one'] = 'einz?'\n",
    "print(english2deutsch)\n",
    "english2deutsch['one'] = 'zwei?'\n",
    "print(english2deutsch)\n",
    "english2deutsch['one'] = 'drei?'\n",
    "print(english2deutsch)"
   ]
  },
  {
   "cell_type": "markdown",
   "metadata": {},
   "source": [
    "## 2.3 Inspecting the dictionary\n",
    "[VU] The most basic operation on a dictionary is a **look-up**. Simply enter the key and the dictionary returns the value. In the example below we mapped movies to their box-office performance. Keys are the Movie Titles, and values represent the ticket sales."
   ]
  },
  {
   "cell_type": "code",
   "execution_count": 104,
   "metadata": {
    "collapsed": true
   },
   "outputs": [],
   "source": [
    "bo = {'Avatar': 27879650875, 'Titanic': 2187463944, 'Star Wars: The Force Awakens': 2068223624}"
   ]
  },
  {
   "cell_type": "code",
   "execution_count": 107,
   "metadata": {},
   "outputs": [
    {
     "name": "stdout",
     "output_type": "stream",
     "text": [
      "27879650875\n"
     ]
    }
   ],
   "source": [
    "print(bo['Avatar'])"
   ]
  },
  {
   "cell_type": "markdown",
   "metadata": {
    "collapsed": true
   },
   "source": [
    "[VU] If the key is not in the dictionary, it will return a ``KeyError``."
   ]
  },
  {
   "cell_type": "code",
   "execution_count": 108,
   "metadata": {},
   "outputs": [
    {
     "ename": "KeyError",
     "evalue": "'The Lion King'",
     "output_type": "error",
     "traceback": [
      "\u001b[0;31m---------------------------------------------------------------------------\u001b[0m",
      "\u001b[0;31mKeyError\u001b[0m                                  Traceback (most recent call last)",
      "\u001b[0;32m<ipython-input-108-87dd55428c2b>\u001b[0m in \u001b[0;36m<module>\u001b[0;34m()\u001b[0m\n\u001b[0;32m----> 1\u001b[0;31m \u001b[0mbo\u001b[0m\u001b[0;34m[\u001b[0m\u001b[0;34m'The Lion King'\u001b[0m\u001b[0;34m]\u001b[0m\u001b[0;34m\u001b[0m\u001b[0m\n\u001b[0m",
      "\u001b[0;31mKeyError\u001b[0m: 'The Lion King'"
     ]
    }
   ],
   "source": [
    "bo['The Lion King']"
   ]
  },
  {
   "cell_type": "markdown",
   "metadata": {},
   "source": [
    "## 2.3 Dictionary Methods\n",
    "### .get()"
   ]
  },
  {
   "cell_type": "markdown",
   "metadata": {},
   "source": [
    "In order to avoid getting an error, you can use the ``get`` method. The first argument is the key to loop-uk, the second one defines the value to be returned if the key is not found"
   ]
  },
  {
   "cell_type": "code",
   "execution_count": 109,
   "metadata": {},
   "outputs": [
    {
     "name": "stdout",
     "output_type": "stream",
     "text": [
      "Not in Dictionary\n",
      "False\n"
     ]
    }
   ],
   "source": [
    "print(bo.get('The Lion King','Not in Dictionary'))\n",
    "# a good alternative could be \n",
    "print(bo.get('The Lion King',False))"
   ]
  },
  {
   "cell_type": "markdown",
   "metadata": {},
   "source": [
    "### .keys()"
   ]
  },
  {
   "cell_type": "markdown",
   "metadata": {},
   "source": [
    "the **keys** method returns the keys in a dictionary "
   ]
  },
  {
   "cell_type": "code",
   "execution_count": 65,
   "metadata": {},
   "outputs": [
    {
     "name": "stdout",
     "output_type": "stream",
     "text": [
      "dict_keys(['Frank', 'Susan', 'Guido'])\n"
     ]
    }
   ],
   "source": [
    "student_grades = {'Frank': 8, 'Susan': 7, 'Guido': 10}\n",
    "the_keys = student_grades.keys()\n",
    "print(the_keys)"
   ]
  },
  {
   "cell_type": "markdown",
   "metadata": {},
   "source": [
    "### .values()"
   ]
  },
  {
   "cell_type": "markdown",
   "metadata": {},
   "source": [
    "the **values** method returns the values in a dictionary"
   ]
  },
  {
   "cell_type": "code",
   "execution_count": null,
   "metadata": {
    "collapsed": true
   },
   "outputs": [],
   "source": [
    "the_values = student_grades.values()\n",
    "print(the_values)"
   ]
  },
  {
   "cell_type": "markdown",
   "metadata": {},
   "source": [
    "We can use the built-in functions to inspect the keys and values. For example:"
   ]
  },
  {
   "cell_type": "code",
   "execution_count": 66,
   "metadata": {},
   "outputs": [
    {
     "name": "stdout",
     "output_type": "stream",
     "text": [
      "3\n",
      "10\n",
      "7\n",
      "25\n"
     ]
    }
   ],
   "source": [
    "the_values = student_grades.values()\n",
    "print(len(the_values)) # number of values in a dict\n",
    "print(max(the_values)) # highest value of values in a dict\n",
    "print(min(the_values)) # lowest value of values in a dict\n",
    "print(sum(the_values)) # sum of all values of values in a dict"
   ]
  },
  {
   "cell_type": "markdown",
   "metadata": {},
   "source": [
    "### .items()"
   ]
  },
  {
   "cell_type": "markdown",
   "metadata": {},
   "source": [
    "the **items** method returns a list of tuples, which allows us to easily loop through a dictionary."
   ]
  },
  {
   "cell_type": "code",
   "execution_count": 67,
   "metadata": {},
   "outputs": [
    {
     "name": "stdout",
     "output_type": "stream",
     "text": [
      "dict_items([('Frank', 8), ('Susan', 7), ('Guido', 10)])\n"
     ]
    }
   ],
   "source": [
    "student_grades = {'Frank': 8, 'Susan': 7, 'Guido': 10}\n",
    "print(student_grades.items())"
   ]
  },
  {
   "cell_type": "markdown",
   "metadata": {},
   "source": [
    "## 2.4 Example Counting with dictionaries\n",
    "\n",
    "Dictionaries are very useful to derive statistics, for example counting words"
   ]
  },
  {
   "cell_type": "code",
   "execution_count": 69,
   "metadata": {},
   "outputs": [
    {
     "name": "stdout",
     "output_type": "stream",
     "text": [
      "Obama {'Obama': 1}\n",
      "was {'Obama': 1, 'was': 1}\n",
      "the {'Obama': 1, 'was': 1, 'the': 1}\n",
      "president {'Obama': 1, 'was': 1, 'the': 1, 'president': 1}\n",
      "of {'Obama': 1, 'was': 1, 'the': 1, 'president': 1, 'of': 1}\n",
      "the {'Obama': 1, 'was': 1, 'the': 2, 'president': 1, 'of': 1}\n",
      "USA {'Obama': 1, 'was': 1, 'the': 2, 'president': 1, 'of': 1, 'USA': 1}\n",
      "\n",
      "{'Obama': 1, 'was': 1, 'the': 2, 'president': 1, 'of': 1, 'USA': 1}\n"
     ]
    }
   ],
   "source": [
    "sentence = 'Obama was the president of the USA'\n",
    "words = sentence.split()\n",
    "word2freq = dict()\n",
    "\n",
    "for word in words: \n",
    "    \n",
    "    if word in word2freq: # add 1 to the dictionary if the keys exists\n",
    "        word2freq[word] += 1 \n",
    "    else:\n",
    "        word2freq[word] = 1 # set default value to 1 if key does not exists \n",
    "\n",
    "    print(word, word2freq)\n",
    "\n",
    "print()\n",
    "print(word2freq)"
   ]
  },
  {
   "cell_type": "markdown",
   "metadata": {},
   "source": [
    "## 2.5 Recap\n",
    "\n",
    "To finish this section, here is an overview of the new concepts and functions you have learnt. Make sure you understand them all.\n",
    "\n",
    "-  dictionary\n",
    "-  indexing or accessing keys of dictionaries\n",
    "-  adding items to a dictionary\n",
    "-  `.keys()`\n",
    "-  `.values()`"
   ]
  },
  {
   "cell_type": "markdown",
   "metadata": {},
   "source": [
    "## Exercises - DIY Lists and dictionaries"
   ]
  },
  {
   "cell_type": "markdown",
   "metadata": {},
   "source": [
    "Inspired by *Think Python* by Allen B. Downey (http://thinkpython.com), *Introduction to Programming Using Python* by Y. Liang (Pearson, 2013). Some exercises below have been taken from: http://www.ling.gu.se/~lager/python_exercises.html."
   ]
  },
  {
   "cell_type": "markdown",
   "metadata": {},
   "source": [
    "- Ex. 1: Consider the following strings `sentence1 = \"Mike and Lars kick the bucket\"` and `sentence2 = \"Bonny and Clyde are really famous\"`. Split these strings into words and create the following strings via list manipulation: `sentence3 = \"Mike and Lars are really famous\"` and `sentence4=\"Bonny+and+Clyde+kick+the+bucket\"` (mind the plus signs!). Can you print the middle letter of the fourth sentence?"
   ]
  },
  {
   "cell_type": "code",
   "execution_count": null,
   "metadata": {
    "collapsed": true
   },
   "outputs": [],
   "source": []
  },
  {
   "cell_type": "markdown",
   "metadata": {},
   "source": [
    "- Ex. 2: [VU]Create an empty list and add three names (strings) to it using the *append* method"
   ]
  },
  {
   "cell_type": "code",
   "execution_count": null,
   "metadata": {
    "collapsed": true
   },
   "outputs": [],
   "source": []
  },
  {
   "cell_type": "code",
   "execution_count": null,
   "metadata": {
    "collapsed": true
   },
   "outputs": [],
   "source": [
    "Please use a built-in function to determine the number of strings in the list below"
   ]
  },
  {
   "cell_type": "code",
   "execution_count": null,
   "metadata": {
    "collapsed": true
   },
   "outputs": [],
   "source": [
    "friend_list = ['John', 'Bob', 'John', 'Marry', 'Bob']\n",
    "#  your code here"
   ]
  },
  {
   "cell_type": "code",
   "execution_count": null,
   "metadata": {
    "collapsed": true
   },
   "outputs": [],
   "source": []
  },
  {
   "cell_type": "code",
   "execution_count": null,
   "metadata": {
    "collapsed": true
   },
   "outputs": [],
   "source": [
    "Please remove both *John* names from the list below using a list method"
   ]
  },
  {
   "cell_type": "code",
   "execution_count": null,
   "metadata": {
    "collapsed": true
   },
   "outputs": [],
   "source": [
    "friend_list = ['John', 'Bob', 'John', 'Marry', 'Bob']\n",
    "# your code here"
   ]
  },
  {
   "cell_type": "markdown",
   "metadata": {},
   "source": [
    "-  Ex. 3: Consider the `lookup` dictionary below. The following letters are still missing from it: 'k':'kilo', 'l':'lima', 'm':'mike'. Add them to `lookup`! Could you spell the word \"marvellous\" in code language now? Collect these codes into the list object `msg`. Next, join the items in this list together with a comma and print the spelled out version!\n",
    "\n",
    "> lookup = {'a':'alfa', 'b':'bravo', 'c':'charlie', 'd':'delta', 'e':'echo', 'f':'foxtrot', 'g':'golf', 'h':'hotel', 'i':'india', 'j':'juliett', 'n':'november', 'o':'oscar', 'p':'papa', 'q':'quebec', 'r':'romeo', 's':'sierra', 't':'tango', 'u':'uniform', 'v':'victor', 'w':'whiskey', 'x':'x-ray', 'y':'yankee', 'z':'zulu'}\n"
   ]
  },
  {
   "cell_type": "code",
   "execution_count": null,
   "metadata": {
    "collapsed": true
   },
   "outputs": [],
   "source": []
  },
  {
   "cell_type": "markdown",
   "metadata": {},
   "source": [
    "-  Ex. 4: Collect the code terms in the lookup dict (`alpha`, `bravo`, ...) from the previous exercise into a list called `code_words`. Is this list alphabetically sorted? No? Then make sure that this list is sorted alphabetically. Now remove the items `victor`, `india` and `papa`. Append the words `pigeon` and `potato` at the end of this list. Combine this new list of items into a single string, using a semicolon as a delimiter and print this string. "
   ]
  },
  {
   "cell_type": "code",
   "execution_count": null,
   "metadata": {
    "collapsed": true
   },
   "outputs": [],
   "source": []
  },
  {
   "cell_type": "markdown",
   "metadata": {},
   "source": [
    "- Ex. 5: Write a program that given a long string containing multiple words, prints  the same string, except with the words in backwards order. For example, say I type the string:\n",
    "\n",
    "`My name is Kaspar von Beelen`\n",
    "Then I would see the string:\n",
    "\n",
    "`Beelen von Kaspar is name My`\n",
    "\n",
    "**Tip**: Try using a negative `step`.\n",
    "\n",
    "Extra: Try to do this in just one line of code!"
   ]
  }
 ],
 "metadata": {
  "kernelspec": {
   "display_name": "Python 3",
   "language": "python",
   "name": "python3"
  },
  "language_info": {
   "codemirror_mode": {
    "name": "ipython",
    "version": 3
   },
   "file_extension": ".py",
   "mimetype": "text/x-python",
   "name": "python",
   "nbconvert_exporter": "python",
   "pygments_lexer": "ipython3",
   "version": "3.6.3"
  }
 },
 "nbformat": 4,
 "nbformat_minor": 2
}
