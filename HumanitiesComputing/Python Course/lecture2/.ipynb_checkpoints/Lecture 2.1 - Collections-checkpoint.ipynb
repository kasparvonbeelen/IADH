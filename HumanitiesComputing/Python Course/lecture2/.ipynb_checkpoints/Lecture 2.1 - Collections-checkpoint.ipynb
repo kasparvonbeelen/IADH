{
 "cells": [
  {
   "cell_type": "markdown",
   "metadata": {},
   "source": [
    "# Containers in Python"
   ]
  },
  {
   "cell_type": "markdown",
   "metadata": {},
   "source": [
    "By now, you are familiar with a few fundamental coding concepts. But it might now be immediately obvious how these techniques apply to humanities research. In what follows, we start covering some more realistic scenarios for using Python.\n",
    "\n",
    "Today we look at lists and dictionaries, and inspect how these data types can help us studying the evolution of pop music [song titles after 1922](https://labrosa.ee.columbia.edu/millionsong/)."
   ]
  },
  {
   "cell_type": "markdown",
   "metadata": {},
   "source": [
    "## 1. Lists\n",
    "\n",
    "**At the end of this section, you will be able to:**\n",
    "* create a list\n",
    "* add items to a list\n",
    "* extract/inspect items in a list\n",
    "* perform basic list operations\n",
    "* use built-in functions on lists "
   ]
  },
  {
   "cell_type": "markdown",
   "metadata": {},
   "source": [
    "Lists resemble strings: both are a **sequence** of values. But whereas a string was a sequence of characters, a list can contain values of any type. These values we call **elements** or **items**."
   ]
  },
  {
   "cell_type": "code",
   "execution_count": null,
   "metadata": {
    "collapsed": true
   },
   "outputs": [],
   "source": [
    "this_is_a_string = 'Hello Newman'\n",
    "this_is_a_list = ['Hello','Jerry',42,3.1415]"
   ]
  },
  {
   "cell_type": "markdown",
   "metadata": {
    "collapsed": true
   },
   "source": [
    "## 1.1 Introduction\n",
    "\n",
    "Consider the first sentence (represented as a string) from Franz Kafka's book 'The Trial'. Image for a moment we would have assigned the whole book to the `trial` variable."
   ]
  },
  {
   "cell_type": "code",
   "execution_count": null,
   "metadata": {
    "collapsed": true
   },
   "outputs": [],
   "source": [
    "trial = \"Someone must have slandered Josef K., for one morning, without having done anything truly wrong, he was arrested. \""
   ]
  },
  {
   "cell_type": "markdown",
   "metadata": {},
   "source": [
    "**A string is a sequence of characters.**\n",
    "\n",
    "How can we select specific words from this book? For the sentence above, it might seem more natural for humans to describe it as a series of words, rather than as a series of characters. Say, we want to access the first word in our sentence. If we enter:"
   ]
  },
  {
   "cell_type": "code",
   "execution_count": null,
   "metadata": {
    "collapsed": true
   },
   "outputs": [],
   "source": [
    "first_word = trial[0]\n",
    "print(first_word)"
   ]
  },
  {
   "cell_type": "markdown",
   "metadata": {},
   "source": [
    "**`split()` converts this string to a list of words.**\n",
    "\n",
    "Python only prints the first character of our sentence. (Think about this if you do not understand why.) We can, however, transform our sentence into a list of words (represented by strings) using the split() function as follows:"
   ]
  },
  {
   "cell_type": "code",
   "execution_count": null,
   "metadata": {
    "collapsed": true
   },
   "outputs": [],
   "source": [
    "words = trial.split()\n",
    "print(words)"
   ]
  },
  {
   "cell_type": "markdown",
   "metadata": {},
   "source": [
    "The variable `trial` now holds the first line of Kafka's Trial as a list. Each element in this list is now (approximately) a word. Run the code below to see the difference."
   ]
  },
  {
   "cell_type": "code",
   "execution_count": null,
   "metadata": {
    "collapsed": true
   },
   "outputs": [],
   "source": [
    "first_word = words[0]\n",
    "print(first_word)"
   ]
  },
  {
   "cell_type": "markdown",
   "metadata": {},
   "source": [
    "We apply the `split()` function to the variable `trial` and we assign the result of the function (we call this the 'return value' of the function) to the new variable `words`. "
   ]
  },
  {
   "cell_type": "code",
   "execution_count": null,
   "metadata": {
    "collapsed": true
   },
   "outputs": [],
   "source": [
    "# Exercise: split the first line of Genesis and assign the list to the variable `bible`\n",
    "# In the beginning God created the heaven and the earth."
   ]
  },
  {
   "cell_type": "markdown",
   "metadata": {},
   "source": [
    "**`split()` takes other delimiters as arguments.**\n",
    "\n",
    "By default, the split() function in Python will split strings on the **spaces** between consecutive words and it will return a list of words. However, we can pass an **argument** to `split()` that specifies explicitly the string we would like to split on. \n",
    "\n",
    "This is often useful for **parsing** information from a CSV file (or other structured data). For example, the line below has the structure of the [Google Ngram](https://books.google.com/ngrams). The Ngram Viewer allows the researcher to explore long-term cultural [trends](https://books.google.com/ngrams/graph?content=king%2C+queen&case_insensitive=on&year_start=1800&year_end=2000&corpus=15&smoothing=3&share=&direct_url=t4%3B%2Cking%3B%2Cc0%3B%2Cs0%3B%3Bking%3B%2Cc0%3B%3BKing%3B%2Cc0%3B%3BKING%3B%2Cc0%3B.t4%3B%2Cqueen%3B%2Cc0%3B%2Cs0%3B%3BQueen%3B%2Cc0%3B%3Bqueen%3B%2Cc0%3B%3BQUEEN%3B%2Cc0). The source data of this corpus comprises the yearly word and document frequencies for ~ 5 million books printed between 1500 and 2008. The lines are separated by hard returns (\"\\n\"). Each line holds four elements: word, year, word frequency, document frequency.\n",
    "\n",
    "Using the split function, we can easily **parse** this file, i.e. recognize and read its content. First, we split the string by their \"\\n\" and then each line by their \"\\t\" which is stands for a \"tab\".\n",
    "\n",
    "In the code block below, we will split a string on tabs, instead of spaces. Do you get the syntax?"
   ]
  },
  {
   "cell_type": "code",
   "execution_count": null,
   "metadata": {},
   "outputs": [],
   "source": [
    "# note the `\\n` symbol\n",
    "google_ngram = \"queen\\t1900\\t20394\\t3435\\nqueen\\t1901\\t23340\\t2935\\nqueen\\t1902\\t23120\\t3035\"\n",
    "print(google_ngram)\n",
    "google_ngram = google_ngram.split(\"\\n\")\n",
    "print(google_ngram)\n",
    "first_line = google_ngram[0]\n",
    "print(first_line.split('\\t'))"
   ]
  },
  {
   "cell_type": "markdown",
   "metadata": {},
   "source": [
    "**`join()` is the reverse of `split()`**\n",
    "\n",
    "The reverse of the `split()` function can be accomplished with `join()`, it turns a list into a **string**, with a specific 'delimiter' or the string you want to use to join the items."
   ]
  },
  {
   "cell_type": "code",
   "execution_count": null,
   "metadata": {
    "collapsed": true
   },
   "outputs": [],
   "source": [
    "observation = ['queen', '1900', '20394', '3435']\n",
    "delimiter = ', '\n",
    "csv_string = delimiter.join(observation)\n",
    "print(csv_string)"
   ]
  },
  {
   "cell_type": "markdown",
   "metadata": {},
   "source": [
    "In the previous chapter, we argued that variables operate as \"boxes\"--you put a value in there, to save it for later. Until now the box could only contain **one item**, a string or a number. Lists expand the possibilities, they serve as \"containers\". **With lists, you can stuff your box with as many different elements as you'd like**. Let's have a look at how this works."
   ]
  },
  {
   "cell_type": "markdown",
   "metadata": {},
   "source": [
    "##  1.2 Creating a list--the basic rules "
   ]
  },
  {
   "cell_type": "markdown",
   "metadata": {},
   "source": [
    "To store an empty list in variable `x`, simply assign `x` to ``[]`` (square brackets)."
   ]
  },
  {
   "cell_type": "code",
   "execution_count": null,
   "metadata": {
    "collapsed": true
   },
   "outputs": [],
   "source": [
    "# create an empty list\n",
    "x = []"
   ]
  },
  {
   "cell_type": "markdown",
   "metadata": {},
   "source": [
    "We can also create lists with some content: enclose the individual items within square brackets, separated by a comma."
   ]
  },
  {
   "cell_type": "code",
   "execution_count": null,
   "metadata": {
    "collapsed": true
   },
   "outputs": [],
   "source": [
    "my_grades = [8,9,6,7]\n",
    "print(my_grades)\n",
    "my_garbage = ['Potatoe',[1,2,3],9.03434,'frogs']\n",
    "print(my_garbage)"
   ]
  },
  {
   "cell_type": "markdown",
   "metadata": {},
   "source": [
    "### General rules:\n",
    "* Lists are surrounded by square brackets and the elements in the list are separated by commas\n",
    "* A list element can be **any Python object** - even another list (e.g. * List can be an collection of numbers, strings, floats (or a combination thereof))\n",
    "* A list can store values with different types\n",
    "* A list can be empty"
   ]
  },
  {
   "cell_type": "markdown",
   "metadata": {},
   "source": [
    "## 1.3 List operations\n",
    "Python allows at least the following very useful list operations:\n",
    "\n",
    "Arithmetic operators:\n",
    "* **concatenation**\n",
    "* **repetition**\n",
    "\n",
    "but also includes comparison and membership operators (more about this in the next Notebook)!"
   ]
  },
  {
   "cell_type": "markdown",
   "metadata": {},
   "source": [
    "### Arithmetic operators"
   ]
  },
  {
   "cell_type": "markdown",
   "metadata": {
    "collapsed": true
   },
   "source": [
    "Similar to strings, Python comes with specific operations (``*`` and ``+``) that you can apply to a list."
   ]
  },
  {
   "cell_type": "markdown",
   "metadata": {
    "collapsed": true
   },
   "source": [
    "The ``+`` operator **concatenates** lists:"
   ]
  },
  {
   "cell_type": "code",
   "execution_count": null,
   "metadata": {
    "collapsed": true
   },
   "outputs": [],
   "source": [
    "a = [1, 2, 3]\n",
    "b = [4, 5, 6]\n",
    "c = a + b\n",
    "print(c)"
   ]
  },
  {
   "cell_type": "markdown",
   "metadata": {
    "collapsed": true
   },
   "source": [
    "Similarly, the ``*`` operator repeats a list for a given number of times:"
   ]
  },
  {
   "cell_type": "code",
   "execution_count": null,
   "metadata": {
    "collapsed": true
   },
   "outputs": [],
   "source": [
    "# First example of the * operator\n",
    "print([0]*4)"
   ]
  },
  {
   "cell_type": "code",
   "execution_count": null,
   "metadata": {
    "collapsed": true
   },
   "outputs": [],
   "source": [
    "# First example of the * operator\n",
    "a = ['spam','Spam','SPAMMM']\n",
    "b = a * 5\n",
    "print(b)"
   ]
  },
  {
   "cell_type": "markdown",
   "metadata": {},
   "source": [
    "The first example multiplies the single-item-list four times. The second repeats the list with typographic variations on the word 'spam' five times."
   ]
  },
  {
   "cell_type": "markdown",
   "metadata": {
    "collapsed": true
   },
   "source": [
    "You can use lists in **membership boolean expressions** (See Notebook 2.2). The `in` operator checks whether the items 'God' appears in the variable `bible`."
   ]
  },
  {
   "cell_type": "code",
   "execution_count": null,
   "metadata": {},
   "outputs": [],
   "source": [
    "bible = ['In', 'the', 'beginning', 'God', 'created', 'the', 'heaven', 'and', 'the', 'earth.']\n",
    "print('God' in bible)"
   ]
  },
  {
   "cell_type": "markdown",
   "metadata": {},
   "source": [
    "This is often useful for checking if a text contains a specific word. For sure, the line below returns the same result."
   ]
  },
  {
   "cell_type": "code",
   "execution_count": null,
   "metadata": {
    "collapsed": true
   },
   "outputs": [],
   "source": [
    "'God' in 'In the beginning God created the heaven and the earth.'"
   ]
  },
  {
   "cell_type": "markdown",
   "metadata": {},
   "source": [
    "But it matches the string **not** the \"word\"!"
   ]
  },
  {
   "cell_type": "code",
   "execution_count": null,
   "metadata": {
    "collapsed": true
   },
   "outputs": [],
   "source": [
    "print('God' in 'My Godess created the heaven and the earth.')\n",
    "print('God' in ['My', 'Godess', 'created', 'the', 'heaven', 'and', 'the', 'earth.'])"
   ]
  },
  {
   "cell_type": "markdown",
   "metadata": {},
   "source": [
    "Later on, this code can help you finding sentences with specific words in text."
   ]
  },
  {
   "cell_type": "code",
   "execution_count": null,
   "metadata": {
    "collapsed": true
   },
   "outputs": [],
   "source": [
    "import requests\n",
    "url = 'https://labrosa.ee.columbia.edu/millionsong/sites/default/files/AdditionalFiles/tracks_per_year.txt'\n",
    "#small data set for those with a slower laptop/computer\n",
    "#url = ‘https://raw.githubusercontent.com/kasparvonbeelen/Coding-the-Humanities/master/lecture2/subsample.txt’\n",
    "data = requests.get(url).text.strip() # download the song titles"
   ]
  },
  {
   "cell_type": "markdown",
   "metadata": {},
   "source": [
    "Now we downloaded a corpus of more 500k title with their year of publication. Let's explore it a bit more!"
   ]
  },
  {
   "cell_type": "code",
   "execution_count": null,
   "metadata": {},
   "outputs": [],
   "source": [
    "# print the first 100 characters\n",
    "data[:100]"
   ]
  },
  {
   "cell_type": "code",
   "execution_count": null,
   "metadata": {
    "collapsed": true
   },
   "outputs": [],
   "source": [
    "# split the database by line and assign this list to the variable song_titles\n",
    "song_titles = data.split('\\n')"
   ]
  },
  {
   "cell_type": "code",
   "execution_count": null,
   "metadata": {},
   "outputs": [],
   "source": [
    "# print the first 5 and last 5 rows\n",
    "print(song_titles[:5])\n",
    "print(song_titles[-5:])"
   ]
  },
  {
   "cell_type": "markdown",
   "metadata": {},
   "source": [
    "Now let's try to print titles that contain certain words.\n",
    "\n",
    "**First** we print all lines in the song titles corpus that contain the sequence of character 'love'."
   ]
  },
  {
   "cell_type": "code",
   "execution_count": null,
   "metadata": {},
   "outputs": [],
   "source": [
    "\n",
    "search = 'love'\n",
    "for row in song_titles:\n",
    "    if search in row:# enter the membership check, end the line with a colon\n",
    "        print(row)"
   ]
  },
  {
   "cell_type": "markdown",
   "metadata": {},
   "source": [
    "Obviously, we are including rows that are not relevant (for example \"love\" appears in the band name or in the middle of a word, such as in \"beloved\"). But we also exclude some relevant rows. Those for example with \"Love\" (occurrences that start with a capital \"L\") are not matched. To make our program more accurate we have to process each line a bit more. The code block below shows how to handle one row in the corpus, then we can just copy paste this into the larger program."
   ]
  },
  {
   "cell_type": "markdown",
   "metadata": {},
   "source": [
    "**Note**: The program below introduces quite some new elements of the Python language. Don't worry too much about it now, we inspect the new syntax in more detail later today and in the following session. Today, I just want to show how a combination of simple Python concepts, allows you to build some rather useful programs.\n",
    "\n",
    "**Suggestion**: Please insert `print()` between each statement if you don't understand what is happening:"
   ]
  },
  {
   "cell_type": "code",
   "execution_count": null,
   "metadata": {},
   "outputs": [],
   "source": [
    "row = '1959<SEP>TRKSPUF128F92E5356<SEP>John Lee Hooker<SEP>I Love you honey'\n",
    "print('love' in row) # check, this shoud match but does not\n",
    "cells = row.split('<SEP>') # split the row into a list called cells, split on the <SEP> sequence\n",
    "title = cells[-1] # get the last item of the cells list, i.e. the title\n",
    "title_lower = title.lower() # convert capitals in the string to lowercase characters\n",
    "words = title_lower.split() # split the title string into words\n",
    "print('love' in words) # not it works!"
   ]
  },
  {
   "cell_type": "markdown",
   "metadata": {},
   "source": [
    "Let's insert this code in the program, just after the first colon of the `for` loop:"
   ]
  },
  {
   "cell_type": "code",
   "execution_count": null,
   "metadata": {},
   "outputs": [],
   "source": [
    "search = 'love'\n",
    "for row in song_titles:\n",
    "    cells = row.split('<SEP>') # split the row into a list called cells, split on the <SEP> sequence\n",
    "    title = cells[-1] # get the last item of the cells list, i.e. the title\n",
    "    title_lower = title.lower() # convert capitals in the string to lowercase characters\n",
    "    words = title_lower.split() # split the title string into words\n",
    "    if search in words: # !! IMPORTANT we changed `row` to `words` in the if condition\n",
    "                        # we want to check if the word appears in the list of words NOT the row string!\n",
    "        print(row)"
   ]
  },
  {
   "cell_type": "markdown",
   "metadata": {},
   "source": [
    "## 1.4 Indexing, slicing and replacing\n",
    "\n",
    "**Indexing** and **slicing** works the same way as with strings. Every item in the list has hence its own index number. We start counting at 0! The indices for our\n",
    "list ['J.S. Bach', 'W.A. Mozart', 'F. Mendelssohn'] are as follows:\n",
    "\n",
    "\n",
    "J.S. Bach|W.A. Mozart|F. Mendelssohn\n",
    "---|---\n",
    "0|1|2\n",
    "-3|-2|-1\n"
   ]
  },
  {
   "cell_type": "markdown",
   "metadata": {},
   "source": [
    "[VU] We can hence use this index number to extract items from a list (just as with strings)"
   ]
  },
  {
   "cell_type": "code",
   "execution_count": null,
   "metadata": {
    "collapsed": true
   },
   "outputs": [],
   "source": [
    "composer_list = ['J.S. Bach', 'W.A. Mozart', 'F. Mendelssohn']\n",
    "print(composer_list[0])\n",
    "print(composer_list[1])\n",
    "print(composer_list[2])"
   ]
  },
  {
   "cell_type": "markdown",
   "metadata": {},
   "source": [
    "Obviously, we can also use **negative indices**:"
   ]
  },
  {
   "cell_type": "code",
   "execution_count": null,
   "metadata": {
    "collapsed": true
   },
   "outputs": [],
   "source": [
    "composer_list = ['J.S. Bach', 'W.A. Mozart', 'F. Mendelssohn']\n",
    "print(composer_list[-1])\n",
    "print(composer_list[-2])\n",
    "print(composer_list[-3])"
   ]
  },
  {
   "cell_type": "markdown",
   "metadata": {},
   "source": [
    "And we can extract one part of a list using **slicing**:"
   ]
  },
  {
   "cell_type": "code",
   "execution_count": null,
   "metadata": {
    "collapsed": true
   },
   "outputs": [],
   "source": [
    "composer_list = ['J.S. Bach', 'W.A. Mozart', 'F. Mendelssohn']\n",
    "list_with_less_composers = composer_list[:2]\n",
    "print(list_with_less_composers)"
   ]
  },
  {
   "cell_type": "markdown",
   "metadata": {
    "collapsed": true
   },
   "source": [
    "A common error is to retrieve elements by indices greater than the length of the list (minus -1)."
   ]
  },
  {
   "cell_type": "code",
   "execution_count": null,
   "metadata": {
    "collapsed": true
   },
   "outputs": [],
   "source": [
    "print(composer_list[5])"
   ]
  },
  {
   "cell_type": "markdown",
   "metadata": {},
   "source": [
    "The `IndexError` tells you that it could not find an items at position five, as the range of the positions only goes from 0 till 2."
   ]
  },
  {
   "cell_type": "markdown",
   "metadata": {},
   "source": [
    "Index notation can be used to replace elements in the list. Let's  say, we want to get rid of Mozart (at position 1) en replace him with Elvis. As lists are **mutable** you replace the items."
   ]
  },
  {
   "cell_type": "code",
   "execution_count": null,
   "metadata": {
    "collapsed": true
   },
   "outputs": [],
   "source": [
    "composer_list = ['J.S. Bach', 'W.A. Mozart', 'F. Mendelssohn']\n",
    "composer_list[1] = 'Elvis P.'\n",
    "print(composer_list)"
   ]
  },
  {
   "cell_type": "markdown",
   "metadata": {},
   "source": [
    "Similarly, a **slice operator** on the left side of an assignment can update multiple elements:"
   ]
  },
  {
   "cell_type": "code",
   "execution_count": null,
   "metadata": {
    "collapsed": true
   },
   "outputs": [],
   "source": [
    "composer_list = ['J.S. Bach', 'W.A. Mozart', 'F. Mendelssohn']\n",
    "composer_list[1:] = ['L. van Beethoven','A. Webern']\n",
    "print(composer_list)"
   ]
  },
  {
   "cell_type": "markdown",
   "metadata": {},
   "source": [
    "## Intermezzo: Mutability"
   ]
  },
  {
   "cell_type": "markdown",
   "metadata": {},
   "source": [
    "The fact that you were able to replace an element by index (as in the above cell) relates to the mutability of lists. For example, performing a similar manipulation on a string object, will cause a `TypeError`."
   ]
  },
  {
   "cell_type": "code",
   "execution_count": null,
   "metadata": {
    "collapsed": true
   },
   "outputs": [],
   "source": [
    "misspelled = 'Pythvn'\n",
    "misspelled[4] = 'o'"
   ]
  },
  {
   "cell_type": "markdown",
   "metadata": {},
   "source": [
    "If we convert the string to a list we can get rid of this naughty typo."
   ]
  },
  {
   "cell_type": "code",
   "execution_count": null,
   "metadata": {
    "collapsed": true
   },
   "outputs": [],
   "source": [
    "misspelled = 'Pythvn'\n",
    "print(misspelled)\n",
    "misspelled = list(misspelled)\n",
    "print(misspelled)\n",
    "misspelled[4] = 'o'\n",
    "print(misspelled)\n",
    "misspelled = ''.join(misspelled)\n",
    "print(misspelled)"
   ]
  },
  {
   "cell_type": "markdown",
   "metadata": {},
   "source": [
    "In short: lists are **mutable**--you can manipulate the content of list variables--whereas strings are not. Question: can you predict whether the following code raises an error?\n",
    "\n",
    "### End of Intermezzo, back to indexing"
   ]
  },
  {
   "cell_type": "markdown",
   "metadata": {
    "collapsed": true
   },
   "source": [
    "The more general slicing notation have the form list[start:stop:step]"
   ]
  },
  {
   "cell_type": "code",
   "execution_count": null,
   "metadata": {
    "collapsed": true
   },
   "outputs": [],
   "source": [
    "till_twenty = list(range(0,21))\n",
    "print(till_twenty)\n",
    "\n",
    "# Exercise: how can we print all even numbers?\n",
    "evens = till_twenty[]\n",
    "print(evens)\n",
    "\n",
    "# Exercise: how can we print all odd numbers?"
   ]
  },
  {
   "cell_type": "markdown",
   "metadata": {},
   "source": [
    "## 1.5 List methods\n",
    "\n",
    "As lists are mutable, they provide a much more **flexible** data type. Lists come with specific **methods**, a set of powerful tools that Python already pre-cooked for you. These tools help you with building and manipulating lists.\n",
    "\n",
    "### Adding items to a list\n",
    "Most of the crucial list functionalities are provided by the inbuilt list **methods**: functions attached to the list object. For an overview of the available methods run the code below (scroll down, for this course you can ignore the methods starting and ending with double underscores.)"
   ]
  },
  {
   "cell_type": "code",
   "execution_count": null,
   "metadata": {
    "collapsed": true
   },
   "outputs": [],
   "source": [
    "writers_list = []\n",
    "print(type(a_list))"
   ]
  },
  {
   "cell_type": "markdown",
   "metadata": {},
   "source": [
    "We learn, unsurprisingle to that the variable a_list is of type `list`. Let's inspect the functionalities Python provides for working with lists."
   ]
  },
  {
   "cell_type": "code",
   "execution_count": null,
   "metadata": {
    "collapsed": true
   },
   "outputs": [],
   "source": [
    "help(list)"
   ]
  },
  {
   "cell_type": "markdown",
   "metadata": {},
   "source": [
    "### 1.5.1 append() and extend()"
   ]
  },
  {
   "cell_type": "markdown",
   "metadata": {},
   "source": [
    "**``append()`` and ``extend()`` extend the list with other values**\n",
    "\n",
    "The first method we encounter is ``append``. To see what this method does use the same `help` function as before"
   ]
  },
  {
   "cell_type": "code",
   "execution_count": null,
   "metadata": {
    "collapsed": true
   },
   "outputs": [],
   "source": [
    "help(list.append)"
   ]
  },
  {
   "cell_type": "markdown",
   "metadata": {},
   "source": [
    "`append` is a method that **adds new items** to the end of a list. It has one positional argument and **returns `None`** (we come back to this a few blocks below)."
   ]
  },
  {
   "cell_type": "code",
   "execution_count": null,
   "metadata": {
    "collapsed": true
   },
   "outputs": [],
   "source": [
    "composer_list = ['J.S. Bach', 'W.A. Mozart', 'F. Mendelssohn']\n",
    "print(composer_list)\n",
    "composer_list.append('L. van Beethoven')\n",
    "print(composer_list)"
   ]
  },
  {
   "cell_type": "code",
   "execution_count": null,
   "metadata": {
    "collapsed": true
   },
   "outputs": [],
   "source": [
    "# Exercise: add some other composers to the composer_list here"
   ]
  },
  {
   "cell_type": "markdown",
   "metadata": {},
   "source": [
    "The Python help functionalities helps you exploring the methods attached to an object. \n",
    "\n",
    "**Exercise**: find out what the method ``extend`` does, and how to apply it to the writers_list."
   ]
  },
  {
   "cell_type": "code",
   "execution_count": null,
   "metadata": {},
   "outputs": [],
   "source": [
    "help(list.extend)"
   ]
  },
  {
   "cell_type": "markdown",
   "metadata": {},
   "source": [
    "An example of `extend()` is given below:"
   ]
  },
  {
   "cell_type": "code",
   "execution_count": null,
   "metadata": {},
   "outputs": [],
   "source": [
    "composer_list = ['J.S. Bach', 'W.A. Mozart','B Bartok']\n",
    "print(composer_list)\n",
    "composer_list.extend(['L. van Beethoven','F. Mendelssohn'])\n",
    "print(composer_list)"
   ]
  },
  {
   "cell_type": "markdown",
   "metadata": {},
   "source": [
    "To understand the difference between `extend()` and `append()`, compare the output above with the result of the print of this cell:"
   ]
  },
  {
   "cell_type": "code",
   "execution_count": null,
   "metadata": {},
   "outputs": [],
   "source": [
    "composer_list = ['J.S. Bach', 'W.A. Mozart','B Bartok']\n",
    "print(composer_list)\n",
    "composer_list.append(['L. van Beethoven','F. Mendelssohn'])\n",
    "print(composer_list)"
   ]
  },
  {
   "cell_type": "markdown",
   "metadata": {},
   "source": [
    "**dot notation in Python**\n",
    "\n",
    "Do you get the syntax that goes with the `append()` function? The list we wish to append the item to goes first and we join the `append()` function to this list using a dot (`.`). In between the round brackets that go with the function name, we place the actual string that we wish to add to the list. \n",
    "\n",
    "We call such a input **value** an **'argument'** that we **'pass'** to the `append()` function. \n",
    "\n",
    "Please reread the previous sentence, to get used to the terminology.\n",
    "\n",
    "Make sure that you are familiar with this terminology because you will often come across such terms when you look for help online!"
   ]
  },
  {
   "cell_type": "markdown",
   "metadata": {},
   "source": [
    "**fruitful and void functions**\n",
    "\n",
    "Functions in Python are generally divided into **fruitful** and **void** functions? `append` is a **void** function: similar to `print`, it performs an operation (adds one element to the list) but **returns nothing**. Understanding this distinction may help you tracing bugs in future code."
   ]
  },
  {
   "cell_type": "code",
   "execution_count": null,
   "metadata": {
    "collapsed": true
   },
   "outputs": [],
   "source": [
    "a = composer_list.append('J. des Prez')\n",
    "print(composer_list)\n",
    "print(a)"
   ]
  },
  {
   "cell_type": "markdown",
   "metadata": {},
   "source": [
    "It might be a bit confusing at first that a list method returns None. Please carefully look at the difference between the two following examples. To repeat: Please predict what will be printed in each code snippet below:"
   ]
  },
  {
   "cell_type": "code",
   "execution_count": null,
   "metadata": {
    "collapsed": true
   },
   "outputs": [],
   "source": [
    "a_list = [1, 3, 4]\n",
    "a_list.append(5)\n",
    "print(a_list)"
   ]
  },
  {
   "cell_type": "code",
   "execution_count": null,
   "metadata": {
    "collapsed": true,
    "scrolled": true
   },
   "outputs": [],
   "source": [
    "a_list = [1, 3, 4]\n",
    "a_list = a_list.append(5)\n",
    "print(a_list)"
   ]
  },
  {
   "cell_type": "markdown",
   "metadata": {},
   "source": [
    "It is important to distinguish between operations that **modify** lists and operations that **create\n",
    "new lists**. For example, the `append()` method modifies a list, but the `+` operator creates a\n",
    "new list!"
   ]
  },
  {
   "cell_type": "markdown",
   "metadata": {},
   "source": [
    "**The `append()` method is especially powerful in a `for` loop.**\n",
    "\n",
    "We have a closer look at loops later, but the code below shows a context in which the `append()` method is often applied. For example, we have a .tsv table which lists composers by their country of origin. Imagine, we want **study composers by nationality**. The code below demonstrates how to extract the relevant information from this table."
   ]
  },
  {
   "cell_type": "code",
   "execution_count": null,
   "metadata": {
    "collapsed": true
   },
   "outputs": [],
   "source": [
    "data = 'Justus Johann Friedrich Dotzauer\\tGermany\\nSaid Rustamov\\tAzerbaijan\\nFlor Alpaerts\\tBelgium\\nPetko Staynov\\tBulgaria\\nTheodor Ludwig Wiesengrund Adorno\\tGermany\\nAnna Amalia, Duchess of Brunswick-Wolfenbüttel\\tGermany'"
   ]
  },
  {
   "cell_type": "code",
   "execution_count": null,
   "metadata": {
    "collapsed": true
   },
   "outputs": [],
   "source": [
    "print(data)"
   ]
  },
  {
   "cell_type": "markdown",
   "metadata": {},
   "source": [
    "As previously shown, we parse this table with the `split()` function. First we the identify the rows (separated by hard returns or \"\\n\") and later the cells within each row (separated by tabs or \"\\t\")"
   ]
  },
  {
   "cell_type": "code",
   "execution_count": null,
   "metadata": {
    "collapsed": true
   },
   "outputs": [],
   "source": [
    "rows = data.split('\\n')\n",
    "print(rows)"
   ]
  },
  {
   "cell_type": "code",
   "execution_count": null,
   "metadata": {
    "collapsed": true
   },
   "outputs": [],
   "source": [
    "rows = data.split('\\n')\n",
    "# The rows are of type list\n",
    "print(type(rows))\n",
    "# But the first element in this list is still a string\n",
    "print(type(rows[0]))"
   ]
  },
  {
   "cell_type": "markdown",
   "metadata": {},
   "source": [
    "To process the separate cells, we first create an empty list called `table`. Then we iterate over each row created by `split('\\n')` and split each row by their tab-symbol. The last step converts each row (which is still a string) to a list. "
   ]
  },
  {
   "cell_type": "markdown",
   "metadata": {},
   "source": [
    "The code below makes clear what happens at every iteration in the `for` loop:"
   ]
  },
  {
   "cell_type": "code",
   "execution_count": null,
   "metadata": {},
   "outputs": [],
   "source": [
    "# get the rows from the string\n",
    "for row in rows:\n",
    "    print(row)\n",
    "    tsv_splitted = row.split('\\t')\n",
    "    print(tsv_splitted)"
   ]
  },
  {
   "cell_type": "markdown",
   "metadata": {},
   "source": [
    "Remember, we wanted to study the nationality of these composers. Let's therefore store the countries in a seperate list names `nationalities` using the `append()`. **First** we have to create an empty list, in which we can store our information later. **Then** we iterate over the rows and get the second cell (index=1) where the country of birth is stored."
   ]
  },
  {
   "cell_type": "code",
   "execution_count": null,
   "metadata": {
    "collapsed": true
   },
   "outputs": [],
   "source": [
    "# Create an empty list\n",
    "nationalities = []\n",
    "\n",
    "# Iterate of the all the rows\n",
    "for row in rows:\n",
    "    # Create a new variable tsv_splitted which stores the list\n",
    "    # returned by the split() function\n",
    "    tsv_splitted = row.split('\\t')\n",
    "    # Append the second/last item in tsv_split to the nationalities list\n",
    "    nationalities.append(tsv_splitted[1])\n",
    "\n",
    "print(nationalities)"
   ]
  },
  {
   "cell_type": "markdown",
   "metadata": {},
   "source": [
    "Creating the empty list might seem like a superfluous step at first, but it is crucial nonetheless--if a variable is not explicitly defined, Python does not know where to store the selected items.\n",
    "\n",
    "Note also that the list keeps the order in which the rows are processed."
   ]
  },
  {
   "cell_type": "code",
   "execution_count": null,
   "metadata": {
    "collapsed": true
   },
   "outputs": [],
   "source": [
    "# Exercise: collect all song titles about love"
   ]
  },
  {
   "cell_type": "markdown",
   "metadata": {},
   "source": [
    "There are, of course, other useful list methods."
   ]
  },
  {
   "cell_type": "markdown",
   "metadata": {},
   "source": [
    "### 1.5.2 count()\n",
    "\n",
    "Once we collected the information, we can start counting: how many of these composers come from Germany?"
   ]
  },
  {
   "cell_type": "code",
   "execution_count": null,
   "metadata": {
    "collapsed": true
   },
   "outputs": [],
   "source": [
    "help(list.count)"
   ]
  },
  {
   "cell_type": "markdown",
   "metadata": {},
   "source": [
    "The *count()* method has one positional argument **value** and returns an integer. As the name suggests, the method returns an integer that represents how often the value occurs in the list."
   ]
  },
  {
   "cell_type": "code",
   "execution_count": null,
   "metadata": {
    "collapsed": true
   },
   "outputs": [],
   "source": [
    "countries = ['Germany', 'Azerbaijan', 'Belgium','Germany', 'Bulgaria', 'Germany']\n",
    "print(countries.count('Germany'))\n",
    "print(countries.count('Belgium'))"
   ]
  },
  {
   "cell_type": "markdown",
   "metadata": {},
   "source": [
    "Now, try to print the songs which mention a search term twice or more:"
   ]
  },
  {
   "cell_type": "code",
   "execution_count": null,
   "metadata": {},
   "outputs": [],
   "source": [
    "search = 'love'\n",
    "for row in song_titles:\n",
    "    cells = row.split('<SEP>') # split the row into a list called cells, split on the <SEP> sequence\n",
    "    title = cells[-1] # get the last item of the cells list, i.e. the title\n",
    "    title_lower = title.lower() # convert capitals in the string to lowercase characters\n",
    "    words = title_lower.split() # split the title string into words\n",
    "    if words.count(search) > 1: # print if string defined by the search variable appears at least twice\n",
    "        print(row)"
   ]
  },
  {
   "cell_type": "code",
   "execution_count": null,
   "metadata": {},
   "outputs": [],
   "source": [
    "# create to empty list old_songs \n",
    "# get song before 1960 about love and append to them to old_songs\n",
    "search = 'love'\n",
    "\n",
    "old_songs = []\n",
    "\n",
    "for row in song_titles:\n",
    "    cells = row.split('<SEP>') # split the row into a list called cells, split on the <SEP> sequence\n",
    "    title = cells[-1] # get the last item of the cells list, i.e. the title\n",
    "    year = int(cells[0]) # the year is the first cell, cast the year as an integer\n",
    "    title_lower = title.lower() # convert capitals in the string to lowercase characters\n",
    "    words = title_lower.split() # split the title string into words\n",
    "    if search in words and year < 1960 : # print string if it contains the search term and is older than 1960\n",
    "        old_songs.append(row)\n",
    "\n",
    "print(len(old_songs))"
   ]
  },
  {
   "cell_type": "markdown",
   "metadata": {},
   "source": [
    "### 1.5.3 `sort()` and `sorted()`\n",
    "\n",
    "The `sort()` function is a void function that sorts strings in alphabetical and numbers ascending order."
   ]
  },
  {
   "cell_type": "code",
   "execution_count": null,
   "metadata": {
    "collapsed": true
   },
   "outputs": [],
   "source": [
    "help(list.sort)"
   ]
  },
  {
   "cell_type": "code",
   "execution_count": null,
   "metadata": {
    "collapsed": true
   },
   "outputs": [],
   "source": [
    "countries.sort()\n",
    "print(countries)"
   ]
  },
  {
   "cell_type": "code",
   "execution_count": null,
   "metadata": {
    "collapsed": true
   },
   "outputs": [],
   "source": [
    "my_grades = [9,8,10,7,9,9]\n",
    "my_grades.sort()\n",
    "print(my_grades)"
   ]
  },
  {
   "cell_type": "markdown",
   "metadata": {},
   "source": [
    "The `reverse` argument allows you to sort in ascending (reverse=False) or descending (reverse=True) order."
   ]
  },
  {
   "cell_type": "code",
   "execution_count": null,
   "metadata": {
    "collapsed": true
   },
   "outputs": [],
   "source": [
    "my_grades.sort(reverse=True)\n",
    "print(my_grades)"
   ]
  },
  {
   "cell_type": "markdown",
   "metadata": {},
   "source": [
    "Before evaluating the cell block below, can you guess what resulting order will look like?"
   ]
  },
  {
   "cell_type": "code",
   "execution_count": null,
   "metadata": {
    "collapsed": true
   },
   "outputs": [],
   "source": [
    "my_grades = [9,8,10,7,9,9]\n",
    "countries = ['Germany', 'Azerbaijan', 'Belgium','Germany', 'Bulgaria', 'Germany']\n",
    "\n",
    "grades_and_countries = my_grades + countries\n",
    "print(grades_and_countries)\n",
    "\n",
    "grades_and_countries.sort(reverse=False)\n",
    "print(grades_and_countries)"
   ]
  },
  {
   "cell_type": "markdown",
   "metadata": {},
   "source": [
    "Unfortunately the standard Python `order()` method is not smart enough to deal with a mixed list (type-wise). As an aside: a convenient solution would be to cast the integers as strings."
   ]
  },
  {
   "cell_type": "code",
   "execution_count": null,
   "metadata": {
    "collapsed": true
   },
   "outputs": [],
   "source": [
    "my_grades = ['9','8','10','7','9','9']\n",
    "countries = ['Germany', 'Azerbaijan', 'Belgium','Germany', 'Bulgaria', 'Germany']\n",
    "\n",
    "grades_and_countries = my_grades + countries\n",
    "grades_and_countries.sort(reverse=False)\n",
    "\n",
    "print(grades_and_countries)"
   ]
  },
  {
   "cell_type": "markdown",
   "metadata": {},
   "source": [
    "The **`key`** argument allows you to further refine your sorting. As we have not covered yet enough Python concepts for you to properly understand how this works, we leave it for the moment at two examples."
   ]
  },
  {
   "cell_type": "markdown",
   "metadata": {},
   "source": [
    "Basically, you pass a function for the argument `key`. For example `len` which counts how many items a value contains (the length of a value). If you pass the function `len` as an argument, this will count how many characters each string contains, and order the list by the length of each item."
   ]
  },
  {
   "cell_type": "code",
   "execution_count": null,
   "metadata": {
    "collapsed": true
   },
   "outputs": [],
   "source": [
    "# Sorting by the length of string\n",
    "countries = ['Germany', 'Azerbaijan', 'Belgium','Germany', 'Bulgaria', 'Germany']\n",
    "countries.sort(key=len,reverse=True)\n",
    "print(countries)"
   ]
  },
  {
   "cell_type": "code",
   "execution_count": null,
   "metadata": {
    "collapsed": true
   },
   "outputs": [],
   "source": [
    "# get the longest song title about love"
   ]
  },
  {
   "cell_type": "markdown",
   "metadata": {},
   "source": [
    "**Extra**: Or sort the items by their frequency of occurrence."
   ]
  },
  {
   "cell_type": "code",
   "execution_count": null,
   "metadata": {
    "collapsed": true
   },
   "outputs": [],
   "source": [
    "# Sorting by frequency of occurence\n",
    "countries_ref = ['Germany', 'Azerbaijan', 'Belgium','Germany', 'Bulgaria', 'Germany']\n",
    "# Actually this is more elegant:\n",
    "# from collections import Counter\n",
    "# countries.sort(key=Counter(countries).get,reverse=True)\n",
    "countries.sort(key=countries_ref.count,reverse=True)\n",
    "print(countries)"
   ]
  },
  {
   "cell_type": "markdown",
   "metadata": {},
   "source": [
    "### `sorted()`\n",
    "\n",
    "`sorted()` is a fruitful function that returns a sorted list:"
   ]
  },
  {
   "cell_type": "code",
   "execution_count": null,
   "metadata": {},
   "outputs": [],
   "source": [
    "countries_ref = ['Germany', 'Azerbaijan', 'Belgium','Germany', 'Bulgaria', 'Germany']\n",
    "countries_sorted = sorted(countries_ref)\n",
    "print(countries_sorted)"
   ]
  },
  {
   "cell_type": "markdown",
   "metadata": {},
   "source": [
    "### 1.5.3 remove()\n",
    "\n",
    "Let's assume a collection has grown a lot and we would like to remove some of the items from the list. Python provides the function `remove()` that you can call on a list and which takes as argument the item we would like to remove. "
   ]
  },
  {
   "cell_type": "code",
   "execution_count": null,
   "metadata": {
    "collapsed": true
   },
   "outputs": [],
   "source": [
    "good_reads = [\"The Hunger games\", \"A Clockwork Orange\", \n",
    "             \"Pride and Prejudice\", \"Water for Elephants\", \"Illias\"]\n",
    "print(good_reads)\n",
    "good_reads.remove(\"Water for Elephants\")\n",
    "print(good_reads)"
   ]
  },
  {
   "cell_type": "markdown",
   "metadata": {},
   "source": [
    "If we try to remove a book that is not in our collection, Python raises an error to signal that something is wrong."
   ]
  },
  {
   "cell_type": "code",
   "execution_count": null,
   "metadata": {
    "collapsed": true
   },
   "outputs": [],
   "source": [
    "good_reads.remove(\"White Oleander\")"
   ]
  },
  {
   "cell_type": "markdown",
   "metadata": {},
   "source": [
    "Note, however, that `remove()` will only delete the *first* item in the list that is identical to the argument which you passed to the function. Execute the code in the block below and you will see that only the first instance of \"Pride and Prejudice\" gets deleted."
   ]
  },
  {
   "cell_type": "code",
   "execution_count": null,
   "metadata": {
    "collapsed": true
   },
   "outputs": [],
   "source": [
    "good_reads = [\"The Hunger games\", \"A Clockwork Orange\", \n",
    "             \"Pride and Prejudice\", \"Water for Elephants\", \"Pride and Prejudice\"]\n",
    "good_reads.remove(\"Pride and Prejudice\")\n",
    "print(good_reads)"
   ]
  },
  {
   "cell_type": "markdown",
   "metadata": {},
   "source": [
    "## An overview of list methods"
   ]
  },
  {
   "cell_type": "code",
   "execution_count": null,
   "metadata": {
    "collapsed": true
   },
   "outputs": [],
   "source": [
    "#define some lists and variables\n",
    "a = [1,2,3]\n",
    "b = 4\n",
    "c = [5,6,7]\n",
    "x = 1\n",
    "i = 2\n",
    "\n",
    "#do some operations \n",
    "a.append(b)     # Add item b to the end of a\n",
    "a.extend(c)     # Add the elements of list c at the end of a\n",
    "a.insert(i,b)   # Insert item b at position i\n",
    "a.pop(i)        # Remove from a the i'th element and return it. If i is not specified, remove the last element\n",
    "a.index(x)      # Return the index of the first element of a with value x. Error if it does not exist\n",
    "a.count(x)      # Return how often value x is found in a\n",
    "a.remove(x)     # Remove from a the first element with value x. Error if it does not exist\n",
    "a.sort()        # Sort the elements of list a\n",
    "a.reverse()     # Reverses list a (no return value!)\n",
    "\n",
    "print(a)"
   ]
  },
  {
   "cell_type": "markdown",
   "metadata": {},
   "source": [
    "## 1.6 Nested Lists\n",
    "\n",
    "### Tables\n",
    "\n",
    "Lists can even contain lists. Below we cover a few useful examples of nested lists."
   ]
  },
  {
   "cell_type": "markdown",
   "metadata": {},
   "source": [
    "### Matrices\n",
    " A nested list can also represent a **matrix**, a notion we will often encounter further in this course.\n",
    "\n",
    "[FROM WIKIPedia] In mathematics, a matrix (plural: matrices) is a rectangular array[1] of numbers, symbols, or expressions, arranged in rows and columns. For example, the dimensions of the matrix below are 2 × 3 (read \"two by three\"), because there are two rows and three columns:\n",
    "![An example of a matrix](https://wikimedia.org/api/rest_v1/media/math/render/svg/d16330f5f99566fa754114ff04cd176d6185c796)\n",
    "\n",
    "We can represent this matrix as a nested list an assign it to the variable `nested_list`."
   ]
  },
  {
   "cell_type": "code",
   "execution_count": null,
   "metadata": {},
   "outputs": [],
   "source": [
    "nested_list = [[1,9,-13],[20,5,-6]]\n",
    "print(nested_list)"
   ]
  },
  {
   "cell_type": "markdown",
   "metadata": {
    "collapsed": true
   },
   "source": [
    "To retrieve elements of the matrix, we use indexing and slicing techniques from the previous course."
   ]
  },
  {
   "cell_type": "code",
   "execution_count": null,
   "metadata": {
    "collapsed": true
   },
   "outputs": [],
   "source": [
    "print(nested_list[0])\n",
    "print(nested_list[0][0])\n",
    "print(nested_list[1][2])\n",
    "print(nested_list[0][:-2])"
   ]
  },
  {
   "cell_type": "markdown",
   "metadata": {},
   "source": [
    "To finish this section, here is an overview of the new concepts and functions you have learnt. Go through them and make sure you understand them all.\n",
    "\n",
    "-  list\n",
    "-  `.split()`\n",
    "-  `.append()`\n",
    "-  `.count()`\n",
    "-  `.remove()`\n",
    "-  `.sort()`\n",
    "-  `sorted()`\n",
    "-  nested lists\n",
    "-  *mutable* versus *immutable*"
   ]
  },
  {
   "cell_type": "markdown",
   "metadata": {},
   "source": [
    "# 2. Dictionaries"
   ]
  },
  {
   "cell_type": "markdown",
   "metadata": {},
   "source": [
    "## 2.1 Introduction\n",
    "\n",
    "A dictionary is like a list, but more generic. In a list, the indices have to be **integers** (i.e. to the position of an item in a sequence); in a dictionary, the indices can be of (almost) **any type**. \n",
    "\n",
    "In text-mining, dictionary are often useful to keep track of word counts. How this works exactly will be shown below.\n",
    "\n",
    "But first: to understand why this is useful let's return to lists for just a moment.\n",
    "\n",
    "Using the index operator, we can retrieve the elements at a certain position (for example my first friend):"
   ]
  },
  {
   "cell_type": "code",
   "execution_count": null,
   "metadata": {},
   "outputs": [],
   "source": [
    "# Example \n",
    "all_my_friends = ['John','Mary','Benny']\n",
    "# retrieve element by index\n",
    "my_first_friend = all_my_friends[0]\n",
    "print(my_first_friend)"
   ]
  },
  {
   "cell_type": "markdown",
   "metadata": {},
   "source": [
    "Imagine having to look up someone's number. Here the index (or key) would be the names of all citizens with a telephone, and the values the numbers. A numerical index does not make sense because **we want to retrieve the number by name, not by position in the book**. The same applies, of course, to a normal dictionary, where we'd look up translations or descriptions of specific words. \n",
    "\n",
    "Dictionaries provide you with the data structure that makes such tasks (looking up values by keys) exceptionally easy.\n",
    "\n",
    "For example, if we look at the dictionary `telephone_numbers` below, what is Susan's phone number?\n",
    "\n",
    "In Pyhon you can easily look-up a key (the element before the `:`) in a dictionary:"
   ]
  },
  {
   "cell_type": "code",
   "execution_count": null,
   "metadata": {},
   "outputs": [],
   "source": [
    "telephone_numbers = {'Frank': 4334030, 'Susan': 400230, 'Guido': 487239}\n",
    "print(telephone_numbers)"
   ]
  },
  {
   "cell_type": "markdown",
   "metadata": {},
   "source": [
    "... and now print Susan's telephone number:"
   ]
  },
  {
   "cell_type": "code",
   "execution_count": null,
   "metadata": {
    "collapsed": true
   },
   "outputs": [],
   "source": [
    "print(telephone_numbers['Susan'])"
   ]
  },
  {
   "cell_type": "markdown",
   "metadata": {},
   "source": [
    "More generally, you can think of a dictionary as **a mapping** between a set of indices (which are called keys) and a set of values. **Each key maps to a value.** The association of a key and a value is called a **key-value** pair or sometimes an **item**."
   ]
  },
  {
   "cell_type": "code",
   "execution_count": null,
   "metadata": {
    "collapsed": true
   },
   "outputs": [],
   "source": [
    "# What is Guido's phone number?"
   ]
  },
  {
   "cell_type": "markdown",
   "metadata": {},
   "source": [
    "Note how similar `telephone_numbers['Susan']` looks to retrieving the *n*-th element in a list, e.g. `my_list[n]`.\n",
    "\n",
    "Of course, you could do something similar with a list (the look-up by key), but that would be very impractical."
   ]
  },
  {
   "cell_type": "code",
   "execution_count": null,
   "metadata": {
    "collapsed": true
   },
   "outputs": [],
   "source": [
    "telephone_numbers = ['Frank', 4334030, 'Susan', 400230, 'Guido', 487239]\n",
    "print(telephone_numbers[telephone_numbers.index('Susan')+1])"
   ]
  },
  {
   "cell_type": "markdown",
   "metadata": {},
   "source": [
    " That's pretty inefficient. The take-home message here is **that lists are not really good if we want two pieces of information together**. Dictionaries for the rescue!"
   ]
  },
  {
   "cell_type": "markdown",
   "metadata": {},
   "source": [
    "## 2.2 Creating a dictionary\n",
    "\n",
    "* a dictionary is surrounded by **curly brackets** \n",
    "* and the **key/value** pairs are separated by **commas**.\n",
    "* A dictionary consists of one or more **key:value pairs**, the key is the 'identifier' or \"name\" that is used to describe the value.\n",
    "* the **keys** in a dictionary are unique\n",
    "* the syntax for a key/value pair is: KEY : VALUE\n",
    "* the keys (e.g. 'Frank') in a dictionary have to be **immutable**\n",
    "* the values (e.g. 8) in a dictionary can by **any python object**\n",
    "* a dictionary can be empty\n"
   ]
  },
  {
   "cell_type": "markdown",
   "metadata": {},
   "source": [
    "An empty dictionary:"
   ]
  },
  {
   "cell_type": "code",
   "execution_count": null,
   "metadata": {
    "collapsed": true
   },
   "outputs": [],
   "source": [
    "x = {}"
   ]
  },
  {
   "cell_type": "markdown",
   "metadata": {},
   "source": [
    "A mapping between English and German words:"
   ]
  },
  {
   "cell_type": "code",
   "execution_count": null,
   "metadata": {
    "collapsed": true
   },
   "outputs": [],
   "source": [
    "english2deutsch = {'ambulance':'Krankenwagen',\n",
    "                  'clever':'klug',\n",
    "                  'concrete':'Beton'}\n"
   ]
  },
  {
   "cell_type": "markdown",
   "metadata": {
    "collapsed": true
   },
   "source": [
    "* Please note that **keys** in a dictionary have to **immutable**. Lists can not appear as key. \n",
    "* Anything can be a value."
   ]
  },
  {
   "cell_type": "markdown",
   "metadata": {},
   "source": [
    "\n",
    "Because keys have to be immutable, a list can not appear in this location. This should raise an error:"
   ]
  },
  {
   "cell_type": "code",
   "execution_count": null,
   "metadata": {
    "collapsed": true
   },
   "outputs": [],
   "source": [
    "a_dict = {['a', 'list']: 8}\n",
    "print(a_dict)"
   ]
  },
  {
   "cell_type": "markdown",
   "metadata": {},
   "source": [
    "This should work:"
   ]
  },
  {
   "cell_type": "code",
   "execution_count": null,
   "metadata": {
    "collapsed": true
   },
   "outputs": [],
   "source": [
    "a_dict = { 8:['a', 'list']}\n",
    "print(a_dict)"
   ]
  },
  {
   "cell_type": "code",
   "execution_count": null,
   "metadata": {
    "collapsed": true
   },
   "outputs": [],
   "source": [
    "# Exercise: make dictionary which maps three cities to the size of their population\n",
    "# call it city2population\n",
    "# https://en.wikipedia.org/wiki/List_of_cities_proper_by_population\n",
    "# Print a key to see the value"
   ]
  },
  {
   "cell_type": "markdown",
   "metadata": {
    "collapsed": true
   },
   "source": [
    "### 2.2.1 Adding items to a dictionary"
   ]
  },
  {
   "cell_type": "markdown",
   "metadata": {},
   "source": [
    "There is one very simple way in order to add a **key:value** pair to a dictionary. Please look at the following code snippet:"
   ]
  },
  {
   "cell_type": "code",
   "execution_count": null,
   "metadata": {
    "collapsed": true
   },
   "outputs": [],
   "source": [
    "english2deutsch = dict()\n",
    "#or try english2deutsch = {}\n",
    "print(english2deutsch)"
   ]
  },
  {
   "cell_type": "code",
   "execution_count": null,
   "metadata": {
    "collapsed": true
   },
   "outputs": [],
   "source": [
    "english2deutsch['one'] = 'einz'\n",
    "english2deutsch['two'] = 'zwei'\n",
    "english2deutsch['three'] = 'drei'\n",
    "print(english2deutsch)"
   ]
  },
  {
   "cell_type": "markdown",
   "metadata": {},
   "source": [
    "Please note that key:value pairs get overwritten if you assign a different value to an existing key."
   ]
  },
  {
   "cell_type": "code",
   "execution_count": null,
   "metadata": {
    "collapsed": true
   },
   "outputs": [],
   "source": [
    "# Exercise add two cities to city2population"
   ]
  },
  {
   "cell_type": "code",
   "execution_count": null,
   "metadata": {
    "collapsed": true
   },
   "outputs": [],
   "source": [
    "english2deutsch = dict()\n",
    "print(english2deutsch)\n",
    "english2deutsch['one'] = 'einz?'\n",
    "print(english2deutsch)\n",
    "english2deutsch['one'] = 'zwei?'\n",
    "print(english2deutsch)\n",
    "english2deutsch['one'] = 'drei?'\n",
    "print(english2deutsch)"
   ]
  },
  {
   "cell_type": "markdown",
   "metadata": {},
   "source": [
    "## 2.3 Inspecting the dictionary\n",
    "\n",
    "In dictionary variable we store values we'd like to inspect later by their keys. Common situations are:\n",
    "- mapping words to frequencies (values are integers, floats)\n",
    "- mapping names to the individual characterstics of the person (age, gender, etc) (values are strings, numbers)\n",
    "- mapping dates to counts (creating timelines) (values are integers, floats)\n",
    "- mapping bands to their songs titles (values are lists)\n",
    "\n",
    "The most basic operation on a dictionary is a **look-up**. Simply enter the key and the dictionary returns the value. In the example below, we mapped movies to their box-office performance. Keys are the Movie Titles, and values represent the ticket sale."
   ]
  },
  {
   "cell_type": "code",
   "execution_count": null,
   "metadata": {
    "collapsed": true
   },
   "outputs": [],
   "source": [
    "bo = {'Avatar': 27879650875, 'Titanic': 2187463944, 'Star Wars: The Force Awakens': 2068223624}"
   ]
  },
  {
   "cell_type": "code",
   "execution_count": null,
   "metadata": {
    "collapsed": true
   },
   "outputs": [],
   "source": [
    "print(bo['Avatar'])"
   ]
  },
  {
   "cell_type": "markdown",
   "metadata": {
    "collapsed": true
   },
   "source": [
    "If the key is not in the dictionary, Python will raise a ``KeyError``."
   ]
  },
  {
   "cell_type": "code",
   "execution_count": null,
   "metadata": {
    "collapsed": true
   },
   "outputs": [],
   "source": [
    "bo['The Lion King']"
   ]
  },
  {
   "cell_type": "markdown",
   "metadata": {},
   "source": [
    "## 2.3 Dictionary Methods\n",
    "### .get()"
   ]
  },
  {
   "cell_type": "markdown",
   "metadata": {},
   "source": [
    "In order to avoid getting a `KeyError` every time a key does not appear in the dictionary, you can use the ``get`` method. The **first argument** is the **key** to look up, the **second argument** defines the **value** to be returned if the key is not found:"
   ]
  },
  {
   "cell_type": "code",
   "execution_count": null,
   "metadata": {},
   "outputs": [],
   "source": [
    "print(bo.get('The Lion King','Not in Dictionary'))\n",
    "# a good alternative could be \n",
    "print(bo.get('Avatar',False))\n",
    "print(bo.get('The Lion King',False))"
   ]
  },
  {
   "cell_type": "code",
   "execution_count": null,
   "metadata": {
    "collapsed": true
   },
   "outputs": [],
   "source": [
    "Other methods allow us to access the different components of the dictionary:"
   ]
  },
  {
   "cell_type": "markdown",
   "metadata": {},
   "source": [
    "### .keys()"
   ]
  },
  {
   "cell_type": "markdown",
   "metadata": {},
   "source": [
    "the **keys** method returns the keys in a dictionary "
   ]
  },
  {
   "cell_type": "code",
   "execution_count": null,
   "metadata": {
    "collapsed": true
   },
   "outputs": [],
   "source": [
    "student_grades = {'Frank': 8, 'Susan': 7, 'Guido': 10}\n",
    "the_keys = student_grades.keys()\n",
    "print(the_keys)"
   ]
  },
  {
   "cell_type": "markdown",
   "metadata": {},
   "source": [
    "### .values()"
   ]
  },
  {
   "cell_type": "markdown",
   "metadata": {},
   "source": [
    "the **values** method returns the values in a dictionary"
   ]
  },
  {
   "cell_type": "code",
   "execution_count": null,
   "metadata": {
    "collapsed": true
   },
   "outputs": [],
   "source": [
    "the_values = student_grades.values()\n",
    "print(the_values)"
   ]
  },
  {
   "cell_type": "markdown",
   "metadata": {},
   "source": [
    "We can use the other built-in functions to inspect the keys and values. For example:"
   ]
  },
  {
   "cell_type": "code",
   "execution_count": null,
   "metadata": {
    "collapsed": true
   },
   "outputs": [],
   "source": [
    "the_values = student_grades.values()\n",
    "print(len(the_values)) # number of values in a dict\n",
    "print(max(the_values)) # highest value of values in a dict\n",
    "print(min(the_values)) # lowest value of values in a dict\n",
    "print(sum(the_values)) # sum of all values of values in a dict"
   ]
  },
  {
   "cell_type": "markdown",
   "metadata": {},
   "source": [
    "### .items()"
   ]
  },
  {
   "cell_type": "markdown",
   "metadata": {},
   "source": [
    "the **items** method returns a list of **tuples** (we have a look at tuples later), which allows us to easily loop through a dictionary."
   ]
  },
  {
   "cell_type": "code",
   "execution_count": null,
   "metadata": {
    "collapsed": true
   },
   "outputs": [],
   "source": [
    "student_grades = {'Frank': 8, 'Susan': 7, 'Guido': 10}\n",
    "print(student_grades.items())"
   ]
  },
  {
   "cell_type": "markdown",
   "metadata": {},
   "source": [
    "## 2.4 Example Counting with dictionaries\n",
    "\n",
    "Dictionaries are very useful to keep track of our data, for example by counting words:"
   ]
  },
  {
   "cell_type": "code",
   "execution_count": null,
   "metadata": {},
   "outputs": [],
   "source": [
    "sentence = 'Obama was the president of the USA' # assign the string to the variable sentence\n",
    "words = sentence.split() # split the sentence\n",
    "word2freq = {} # initialize an empty dictionary, here we store the word counts\n",
    "# i.e. word2freq is a mapping from words to their frequencies\n",
    " \n",
    "\n",
    "for word in words: # loop over all the words, word takes each word in turn\n",
    "    if word in word2freq: # add 1 to the dictionary if the keys exists, here we perform membership check on the keys\n",
    "        word2freq[word] += 1 # notice that we use the shorthand for incremental count\n",
    "                             # which as an abbraviations for  word2freq[word] =  word2freq[word] + 1\n",
    "    else: # if the above condition does not hold (word does not appear as key in the dictionary) than set the key's value to one\n",
    "        word2freq[word] = 1 # set default value to 1 if key does not exists \n",
    "\n",
    "    print('Word added = ',word, 'Updated dictionary = ',word2freq)\n",
    "\n",
    "print('\\n')\n",
    "print(word2freq)"
   ]
  },
  {
   "cell_type": "markdown",
   "metadata": {},
   "source": [
    "#### `if` and `else`: see Notebook 2.2"
   ]
  },
  {
   "cell_type": "code",
   "execution_count": 4,
   "metadata": {},
   "outputs": [
    {
     "name": "stdout",
     "output_type": "stream",
     "text": [
      "5  is positive or zero.\n"
     ]
    }
   ],
   "source": [
    "# change x to see how if else works\n",
    "\n",
    "x = 5\n",
    "\n",
    "if x >= 0:\n",
    "    print(x,' is positive or zero.')\n",
    "else:\n",
    "    print(x, ' is negative.')"
   ]
  },
  {
   "cell_type": "markdown",
   "metadata": {},
   "source": [
    "A lot is happening in the previous code block; the examples below aim to clarify the individual steps.\n",
    "\n",
    "##### Line 8 (and implicitly line 11): Membership check on the keys of the dictionary"
   ]
  },
  {
   "cell_type": "code",
   "execution_count": 2,
   "metadata": {},
   "outputs": [
    {
     "name": "stdout",
     "output_type": "stream",
     "text": [
      "True\n",
      "False\n",
      "True\n"
     ]
    }
   ],
   "source": [
    "w2fr = {'USA': 1, 'of': 1, 'president': 1, 'the': 2, 'was': 1, 'Obama': 1}\n",
    "\n",
    "\n",
    "print('USA' in w2fr) # in does memership check on the keys if not method is appended to the dictionary\n",
    "print(1 in w2fr) # it does not check if an items appears as values\n",
    "print(1 in w2fr.values()) # unless you caled th values methods of course"
   ]
  },
  {
   "cell_type": "markdown",
   "metadata": {},
   "source": [
    "##### Line 9 and line 12: Updating (9) and setting (12) dictionaries a key\n",
    "\n",
    "Why do we distinguish between updating and setting a key? I we'd only update (which makes sense) Python would raise a `KeyError` because the key we are incrementing does not appear in the dictionary. For this reason we explicitly set a default (start) value for each new key (i.e. each word which does not appear in the dictionary, in which case the boolean or membership condition `in` returns `False`)"
   ]
  },
  {
   "cell_type": "code",
   "execution_count": 7,
   "metadata": {},
   "outputs": [
    {
     "name": "stdout",
     "output_type": "stream",
     "text": [
      "Obama has frequency  1\n",
      "Obama has frequency  2\n",
      "Obama has frequency  3\n"
     ]
    }
   ],
   "source": [
    "w2fr = {'USA': 1, 'of': 1, 'president': 1, 'the': 2, 'was': 1, 'Obama': 1}\n",
    "\n",
    "print('Obama has frequency ',w2fr['Obama'])\n",
    "w2fr['Obama']+=1 \n",
    "print('Obama has frequency ',w2fr['Obama'])\n",
    "\n",
    "# remember +=1 is equal to var = var + 1 \n",
    "# but this is not recommended\n",
    "w2fr['Obama'] = w2fr['Obama'] + 1 \n",
    "print('Obama has frequency ',w2fr['Obama'])"
   ]
  },
  {
   "cell_type": "markdown",
   "metadata": {},
   "source": [
    "Now if we want to update the value for a word which key is not in the dictionary, Python throws back a `KeyError`:"
   ]
  },
  {
   "cell_type": "code",
   "execution_count": 8,
   "metadata": {},
   "outputs": [
    {
     "ename": "KeyError",
     "evalue": "'Barack'",
     "output_type": "error",
     "traceback": [
      "\u001b[0;31m---------------------------------------------------------------------------\u001b[0m",
      "\u001b[0;31mKeyError\u001b[0m                                  Traceback (most recent call last)",
      "\u001b[0;32m<ipython-input-8-e8a6b3c76d3d>\u001b[0m in \u001b[0;36m<module>\u001b[0;34m()\u001b[0m\n\u001b[0;32m----> 1\u001b[0;31m \u001b[0mw2fr\u001b[0m\u001b[0;34m[\u001b[0m\u001b[0;34m'Barack'\u001b[0m\u001b[0;34m]\u001b[0m\u001b[0;34m+=\u001b[0m\u001b[0;36m1\u001b[0m\u001b[0;34m\u001b[0m\u001b[0m\n\u001b[0m",
      "\u001b[0;31mKeyError\u001b[0m: 'Barack'"
     ]
    }
   ],
   "source": [
    "w2fr['Barack']+=1 "
   ]
  },
  {
   "cell_type": "markdown",
   "metadata": {},
   "source": [
    "### `setdefault()` method\n",
    "\n",
    "The `setdefault()` method simplifies the above code by automatically checking if a key exists, and if not, setting a default value for this key. This method takes two arguments, the key to be set, and the default value for the key."
   ]
  },
  {
   "cell_type": "code",
   "execution_count": null,
   "metadata": {},
   "outputs": [],
   "source": [
    "sentence = 'Obama was the president of the USA' # assign the string to the variable sentence\n",
    "words = sentence.split() # split the sentence\n",
    "word2freq = {} # initialize an empty dictionary, here we store the word counts\n",
    "# i.e. word2freq is a mapping from words to their frequencies\n",
    " \n",
    "\n",
    "for word in words: # loop over all the words, word takes each word in turn\n",
    "    \n",
    "    word2freq.setdefault(word,0) # if keys not appear\n",
    "    word2freq[word] += 1 # notice that we use the shorthand for incremental count\n",
    "    \n",
    "    print('Word added = ',word, 'Updated dictionary = ',word2freq)\n",
    "\n",
    "print('\\n')\n",
    "print(word2freq)"
   ]
  },
  {
   "cell_type": "markdown",
   "metadata": {},
   "source": [
    "### An example: count songs about by year"
   ]
  },
  {
   "cell_type": "markdown",
   "metadata": {},
   "source": [
    "Now let's apply these techniques to studying our song titles corpus. \n",
    "\n",
    "First we make a little program that collects the counts of a search term by year. This will allow is to make timelines that plot the evolution of a topic by year. "
   ]
  },
  {
   "cell_type": "code",
   "execution_count": 10,
   "metadata": {
    "collapsed": true
   },
   "outputs": [],
   "source": [
    "# load the data\n",
    "import requests\n",
    "url = 'https://labrosa.ee.columbia.edu/millionsong/sites/default/files/AdditionalFiles/tracks_per_year.txt'\n",
    "data = requests.get(url).text.strip() # download the song titles\n",
    "song_titles = data.strip().split('\\n') # split the string into lines"
   ]
  },
  {
   "cell_type": "code",
   "execution_count": 12,
   "metadata": {},
   "outputs": [
    {
     "name": "stdout",
     "output_type": "stream",
     "text": [
      "[(1922, 1), (1924, 0), (1925, 1), (1926, 0), (1927, 0), (1928, 1), (1929, 1), (1930, 1), (1931, 0), (1932, 0), (1933, 1), (1934, 2), (1935, 0), (1936, 0), (1937, 3), (1938, 0), (1939, 0), (1940, 0), (1941, 0), (1942, 1), (1943, 0), (1944, 0), (1945, 0), (1946, 0), (1947, 2), (1948, 5), (1949, 9), (1950, 8), (1951, 1), (1952, 2), (1953, 2), (1954, 5), (1955, 19), (1956, 42), (1957, 57), (1958, 29), (1959, 55), (1960, 39), (1961, 23), (1962, 41), (1963, 43), (1964, 41), (1965, 31), (1966, 66), (1967, 89), (1968, 85), (1969, 96), (1970, 105), (1971, 93), (1972, 101), (1973, 112), (1974, 117), (1975, 131), (1976, 121), (1977, 126), (1978, 140), (1979, 150), (1980, 126), (1981, 125), (1982, 146), (1983, 154), (1984, 126), (1985, 116), (1986, 187), (1987, 212), (1988, 246), (1989, 254), (1990, 328), (1991, 387), (1992, 313), (1993, 331), (1994, 370), (1995, 349), (1996, 364), (1997, 373), (1998, 404), (1999, 414), (2000, 414), (2001, 434), (2002, 465), (2003, 594), (2004, 623), (2005, 679), (2006, 756), (2007, 826), (2008, 823), (2009, 682), (2010, 225), (2011, 0)]\n"
     ]
    }
   ],
   "source": [
    "year2counts = {} # create an empty dictionary here we map years to the frequency of a word\n",
    "\n",
    "search = 'love' # define your search term here\n",
    "\n",
    "for row in song_titles: # iterate over the song_titles variable\n",
    "\n",
    "    year,song_id,group,title = row.split('<SEP>') # parse the row using multiple assignment\n",
    "    year = int(year) # cast year as an integer\n",
    "    \n",
    "    year2counts.setdefault(year,0) # the value for key year to the default value of 0\n",
    "    \n",
    "    title_lower = title.lower() # lowercase the title\n",
    "    words = title_lower.split() # split the lowercased string into words\n",
    "    \n",
    "    if search in words: # membership check, does the word love appear in the list called words\n",
    "        year2counts[year] +=1 # add one if the above condition holds\n",
    "\n",
    "# print the results sorted by year\n",
    "print(sorted(year2counts.items()))"
   ]
  },
  {
   "cell_type": "markdown",
   "metadata": {},
   "source": [
    "We can easily plot the time series using functions from an external library called Pandas. The code below is just to help you plotting your data, do not worry about it now."
   ]
  },
  {
   "cell_type": "code",
   "execution_count": 14,
   "metadata": {},
   "outputs": [
    {
     "data": {
      "text/plain": [
       "<matplotlib.axes._subplots.AxesSubplot at 0x11d631828>"
      ]
     },
     "execution_count": 14,
     "metadata": {},
     "output_type": "execute_result"
    },
    {
     "data": {
      "image/png": "[encoded data removed]",
      "text/plain": [
       "<matplotlib.figure.Figure at 0x11d6801d0>"
      ]
     },
     "metadata": {},
     "output_type": "display_data"
    }
   ],
   "source": [
    "import pandas\n",
    "%matplotlib inline\n",
    "series = pandas.Series(year2counts)\n",
    "series.plot()"
   ]
  },
  {
   "cell_type": "markdown",
   "metadata": {},
   "source": [
    "**Question**: Can we conclude that \"love\" became a more popular theme in pop culture over time?"
   ]
  },
  {
   "cell_type": "markdown",
   "metadata": {
    "collapsed": true
   },
   "source": [
    "Ideailly, we'd like to calculate the propability whether or not a song from a certain year is about love. This is relatively straightforward: we have to divide the number of songs about love from year X by the total number of songs from year X.\n",
    "\n",
    "To program below features therefore a small addition: the dictionary `wf` that tracks the number of songs by year."
   ]
  },
  {
   "cell_type": "code",
   "execution_count": 23,
   "metadata": {},
   "outputs": [],
   "source": [
    "year2counts = {} # create an empty dictionary here we map years to the frequency of a word\n",
    "wf = {} # an empty dictionary where we will save \n",
    "\n",
    "search = 'love' # define your search term here\n",
    "\n",
    "for row in song_titles: # iterate over the song_titles variable\n",
    "\n",
    "    year,song_id,group,title = row.split('<SEP>') # parse the row using multiple assignment\n",
    "    year = int(year) # cast year as an integer\n",
    "    \n",
    "    year2counts.setdefault(year,0) # the value for key year to the default value of 0\n",
    "    # here we add some lines to keep track of the total number of song titles by year\n",
    "    wf.setdefault(year,0)\n",
    "    wf[year]+=1\n",
    "    \n",
    "    title_lower = title.lower() # lowercase the title\n",
    "    words = title_lower.split() # split the lowercased string into words\n",
    "    \n",
    "    if search in words: # membership check, does the word love appear in the list called words\n",
    "        year2counts[year] +=1 # add one if the above condition holds\n"
   ]
  },
  {
   "cell_type": "markdown",
   "metadata": {},
   "source": [
    "If we take a moment to study the total number of songs by year, we also see an increase:"
   ]
  },
  {
   "cell_type": "code",
   "execution_count": 19,
   "metadata": {},
   "outputs": [
    {
     "data": {
      "text/plain": [
       "<matplotlib.axes._subplots.AxesSubplot at 0x11d79fda0>"
      ]
     },
     "execution_count": 19,
     "metadata": {},
     "output_type": "execute_result"
    },
    {
     "data": {
      "image/png": "[encoded data removed]",
      "text/plain": [
       "<matplotlib.figure.Figure at 0x11d79f5f8>"
      ]
     },
     "metadata": {},
     "output_type": "display_data"
    }
   ],
   "source": [
    "# plot the total number of songs by year"
   ]
  },
  {
   "cell_type": "markdown",
   "metadata": {},
   "source": [
    "For this reason, the relative frequency of a word will tell us more than the absolute frequency--almost every search term we define will show an increase over time. Below we add a few more lines to divide the number of songs about love by the total number of songs for that specific year. \n",
    "\n",
    "Because we defined two mapping earlier, this becomes a relatively straightforward task:"
   ]
  },
  {
   "cell_type": "code",
   "execution_count": 21,
   "metadata": {},
   "outputs": [],
   "source": [
    "# calculate the probability that a song is about love \n",
    "\n",
    "# create an empty dictionary\n",
    "ratios = {}\n",
    "\n",
    "for key, value in year2counts.items():\n",
    "    ratios[key] = year2counts.get(key,0) / wf[key]"
   ]
  },
  {
   "cell_type": "code",
   "execution_count": 22,
   "metadata": {},
   "outputs": [
    {
     "data": {
      "text/plain": [
       "<matplotlib.axes._subplots.AxesSubplot at 0x11d7a4da0>"
      ]
     },
     "execution_count": 22,
     "metadata": {},
     "output_type": "execute_result"
    },
    {
     "data": {
      "image/png": "[encoded data removed]",
      "text/plain": [
       "<matplotlib.figure.Figure at 0x11d885f60>"
      ]
     },
     "metadata": {},
     "output_type": "display_data"
    }
   ],
   "source": [
    "# plot the results\n",
    "pandas.Series(ratios).plot()"
   ]
  },
  {
   "cell_type": "markdown",
   "metadata": {},
   "source": [
    "Exercise: Can you plot the chronological evolution of another term (such as \"dirty\")?"
   ]
  },
  {
   "cell_type": "code",
   "execution_count": null,
   "metadata": {
    "collapsed": true
   },
   "outputs": [],
   "source": [
    "# copy-paste your code here"
   ]
  },
  {
   "cell_type": "markdown",
   "metadata": {},
   "source": [
    "## Advanced Examples"
   ]
  },
  {
   "cell_type": "markdown",
   "metadata": {},
   "source": [
    "### Advanced Example 1: Nested Dictionaries\n",
    "\n",
    "The example above is already useful, but let's just improve it a little. For each query we now have to iterate over all the 500.000+ songs. We can make this more efficient by using **nested dictionaries**. \n",
    "\n",
    "... What?"
   ]
  },
  {
   "cell_type": "code",
   "execution_count": 24,
   "metadata": {
    "collapsed": true
   },
   "outputs": [],
   "source": [
    "a_nested_dict = {1960:{'a':5,'the':9},\n",
    "                1961:{'a':3,'the':10}}"
   ]
  },
  {
   "cell_type": "markdown",
   "metadata": {},
   "source": [
    "How to access the word frequencies?"
   ]
  },
  {
   "cell_type": "code",
   "execution_count": 25,
   "metadata": {},
   "outputs": [
    {
     "data": {
      "text/plain": [
       "5"
      ]
     },
     "execution_count": 25,
     "metadata": {},
     "output_type": "execute_result"
    }
   ],
   "source": [
    "a_nested_dict[1960]['a']"
   ]
  },
  {
   "cell_type": "code",
   "execution_count": null,
   "metadata": {
    "collapsed": true
   },
   "outputs": [],
   "source": [
    "# print the value of the at year 1961"
   ]
  },
  {
   "cell_type": "markdown",
   "metadata": {},
   "source": [
    "In a nested dictionary, a key maps to the value of type `dict`. In the example we map years to word frequencies for that year (we map years to a mapping between words and their frequencies). This will make it much faster to compute the historical change over time for different words."
   ]
  },
  {
   "cell_type": "code",
   "execution_count": 26,
   "metadata": {
    "collapsed": true
   },
   "outputs": [],
   "source": [
    "wf = {} # an empty dictionary where we will save \n",
    "\n",
    "search = 'love' # define your search term here\n",
    "\n",
    "for row in song_titles: # iterate over the song_titles variable\n",
    "\n",
    "    year,song_id,group,title = row.split('<SEP>') # parse the row using multiple assignment\n",
    "    year = int(year) # cast year as an integer\n",
    "    \n",
    "    \n",
    "    # here we add some lines to keep track of the total number of words by year\n",
    "    wf.setdefault(year,{})\n",
    "    \n",
    "    title_lower = title.lower() # lowercase the title\n",
    "    words = title_lower.split() # split the lowercased string into words\n",
    "    \n",
    "    # here start collecting yearly word frequencies\n",
    "    for w in words:\n",
    "        wf[year].setdefault(w,0) # set the default values for word w at year year to zero\n",
    "        wf[year][w] += 1"
   ]
  },
  {
   "cell_type": "markdown",
   "metadata": {},
   "source": [
    "Now we have to loop through our corpus only once to get the frequency of a word at a certain point in time!"
   ]
  },
  {
   "cell_type": "code",
   "execution_count": 27,
   "metadata": {},
   "outputs": [
    {
     "data": {
      "text/plain": [
       "24"
      ]
     },
     "execution_count": 27,
     "metadata": {},
     "output_type": "execute_result"
    }
   ],
   "source": [
    "wf[1960]['a']"
   ]
  },
  {
   "cell_type": "markdown",
   "metadata": {},
   "source": [
    "For sure, sometimes a word might not appear. To avoid `KeyErrors` we use the `.get()` method."
   ]
  },
  {
   "cell_type": "code",
   "execution_count": 28,
   "metadata": {},
   "outputs": [
    {
     "ename": "KeyError",
     "evalue": "'madonna'",
     "output_type": "error",
     "traceback": [
      "\u001b[0;31m---------------------------------------------------------------------------\u001b[0m",
      "\u001b[0;31mKeyError\u001b[0m                                  Traceback (most recent call last)",
      "\u001b[0;32m<ipython-input-28-bd5031d38a25>\u001b[0m in \u001b[0;36m<module>\u001b[0;34m()\u001b[0m\n\u001b[0;32m----> 1\u001b[0;31m \u001b[0mwf\u001b[0m\u001b[0;34m[\u001b[0m\u001b[0;36m1960\u001b[0m\u001b[0;34m]\u001b[0m\u001b[0;34m[\u001b[0m\u001b[0;34m'madonna'\u001b[0m\u001b[0;34m]\u001b[0m\u001b[0;34m\u001b[0m\u001b[0m\n\u001b[0m",
      "\u001b[0;31mKeyError\u001b[0m: 'madonna'"
     ]
    }
   ],
   "source": [
    "# this does not work\n",
    "wf[1960]['madonna']"
   ]
  },
  {
   "cell_type": "code",
   "execution_count": 29,
   "metadata": {},
   "outputs": [
    {
     "data": {
      "text/plain": [
       "0.0"
      ]
     },
     "execution_count": 29,
     "metadata": {},
     "output_type": "execute_result"
    }
   ],
   "source": [
    "# this works, do you understand the syntax?\n",
    "wf[1960].get('madonna',0.0)"
   ]
  },
  {
   "cell_type": "markdown",
   "metadata": {},
   "source": [
    "The code below returns the same as the long program above but is much faster because we prepared everything as a nest dictionary!"
   ]
  },
  {
   "cell_type": "code",
   "execution_count": 31,
   "metadata": {},
   "outputs": [
    {
     "data": {
      "text/plain": [
       "<matplotlib.axes._subplots.AxesSubplot at 0x11ff14748>"
      ]
     },
     "execution_count": 31,
     "metadata": {},
     "output_type": "execute_result"
    },
    {
     "data": {
      "image/png": "[encoded data removed]",
      "text/plain": [
       "<matplotlib.figure.Figure at 0x11d91a278>"
      ]
     },
     "metadata": {},
     "output_type": "display_data"
    }
   ],
   "source": [
    "search = 'tears' # define query\n",
    "results = {} # empty dictionary to save frequencies by years\n",
    "for year in wf: # loop over all the keys in the wf dictionary which are the years\n",
    "    results[year] = wf[year].get(search,0.0) # get the value for word search in year year\n",
    "pandas.Series(results).plot() # plot the results"
   ]
  },
  {
   "cell_type": "markdown",
   "metadata": {},
   "source": [
    "For sure we can also normalize the results:"
   ]
  },
  {
   "cell_type": "code",
   "execution_count": 33,
   "metadata": {},
   "outputs": [
    {
     "data": {
      "text/plain": [
       "<matplotlib.axes._subplots.AxesSubplot at 0x11da083c8>"
      ]
     },
     "execution_count": 33,
     "metadata": {},
     "output_type": "execute_result"
    },
    {
     "data": {
      "image/png": "[encoded data removed]",
      "text/plain": [
       "<matplotlib.figure.Figure at 0x11da08cc0>"
      ]
     },
     "metadata": {},
     "output_type": "display_data"
    }
   ],
   "source": [
    "search = 'tears' # define query\n",
    "results = {} # empty dictionary to save frequencies by years\n",
    "for year in wf: # loop over all the keys in the wf dictionary which are the years\n",
    "    total = sum(wf[year].values()) # the sum of all the values equals the total word count \n",
    "    results[year] = wf[year].get(search,0.0) / total # get the value for word search in year year and divide it by total \n",
    "pandas.Series(results).plot() # plot the results"
   ]
  },
  {
   "cell_type": "code",
   "execution_count": 34,
   "metadata": {},
   "outputs": [
    {
     "name": "stdout",
     "output_type": "stream",
     "text": [
      "{'a': 5, 'the': 9}\n",
      "dict_values([5, 9])\n",
      "14\n"
     ]
    }
   ],
   "source": [
    "# to understand line five\n",
    "a_nested_dict = {1960:{'a':5,'the':9},\n",
    "                1961:{'a':3,'the':10}}\n",
    "print(a_nested_dict[1960])\n",
    "print(a_nested_dict[1960].values())\n",
    "print(sum(a_nested_dict[1960].values()))"
   ]
  },
  {
   "cell_type": "markdown",
   "metadata": {},
   "source": [
    "### Advanced Examples 2: The Lexical Diversity of Pop Culture\n"
   ]
  },
  {
   "cell_type": "markdown",
   "metadata": {},
   "source": [
    "We can also compute now (approximately) if topics of songs titles are becoming more or less diverse. \n",
    "\n",
    "This can be done by computing the type-token ratio or the \"lexical diversity\".\n",
    "\n",
    "From the [NLTK book](http://www.nltk.org/book/ch01.html):\n",
    "    \n",
    "> A token is the technical name for a sequence of characters — such as hairy, his, or :) — that we want to treat as a group. [...] A word type is the form or spelling of the word independently of its specific occurrences in a text — that is, the word considered as a unique item of vocabulary. \n",
    "\n",
    "The type-token ratio is then a measure of lexical diversity. It can be calculated as follows:"
   ]
  },
  {
   "cell_type": "code",
   "execution_count": null,
   "metadata": {
    "collapsed": true
   },
   "outputs": [],
   "source": [
    "song_title = 'love love love all I want is candy'\n",
    "tokens = song_title.split()\n",
    "print(tokens)\n",
    "types = set(tokens)\n",
    "print(types)\n",
    "ratio = len(types) / len(tokens)\n",
    "print(ratio)"
   ]
  },
  {
   "cell_type": "markdown",
   "metadata": {},
   "source": [
    "The maximum lexical diversity is one (each word in the corpus appears only once)."
   ]
  },
  {
   "cell_type": "code",
   "execution_count": null,
   "metadata": {
    "collapsed": true
   },
   "outputs": [],
   "source": [
    "song_title = 'love all I want is candy'\n",
    "tokens = song_title.split()\n",
    "print(tokens)\n",
    "types = set(tokens)\n",
    "print(types)\n",
    "ratio = len(types) / len(tokens)\n",
    "print(ratio)"
   ]
  },
  {
   "cell_type": "markdown",
   "metadata": {
    "collapsed": true
   },
   "source": [
    "Now we can compute the lexical diversity of song titles by year."
   ]
  },
  {
   "cell_type": "code",
   "execution_count": 36,
   "metadata": {},
   "outputs": [
    {
     "data": {
      "text/plain": [
       "<matplotlib.axes._subplots.AxesSubplot at 0x11da02978>"
      ]
     },
     "execution_count": 36,
     "metadata": {},
     "output_type": "execute_result"
    },
    {
     "data": {
      "image/png": "[encoded data removed]",
      "text/plain": [
       "<matplotlib.figure.Figure at 0x11fef8630>"
      ]
     },
     "metadata": {},
     "output_type": "display_data"
    }
   ],
   "source": [
    "lexdiv = {}\n",
    "for year in wf:\n",
    "    lexdiv[year] = len(wf[year]) / sum(wf[year].values())\n",
    "pandas.Series(lexdiv).plot()"
   ]
  },
  {
   "cell_type": "code",
   "execution_count": null,
   "metadata": {
    "collapsed": true
   },
   "outputs": [],
   "source": [
    "# if you are interested, try some of the above code to study band names!"
   ]
  },
  {
   "cell_type": "markdown",
   "metadata": {},
   "source": [
    "## 2.5 Recap\n",
    "\n",
    "To finish this section, here is an overview of the new concepts and functions you have learnt. Make sure you understand them all.\n",
    "\n",
    "-  dictionary\n",
    "-  indexing or accessing keys of dictionaries\n",
    "-  adding items to a dictionary\n",
    "-  `.keys()`\n",
    "-  `.values()`"
   ]
  },
  {
   "cell_type": "markdown",
   "metadata": {},
   "source": [
    "## Exercises - DIY Lists and dictionaries"
   ]
  },
  {
   "cell_type": "markdown",
   "metadata": {},
   "source": [
    "Inspired by *Think Python* by Allen B. Downey (http://thinkpython.com), *Introduction to Programming Using Python* by Y. Liang (Pearson, 2013). Some exercises below have been taken from: http://www.ling.gu.se/~lager/python_exercises.html."
   ]
  },
  {
   "cell_type": "markdown",
   "metadata": {},
   "source": [
    "- Ex. 1: Consider the following strings `sentence1 = \"Mike and Lars kick the bucket\"` and `sentence2 = \"Bonny and Clyde are really famous\"`. Split these strings into words and create the following strings via list manipulation: `sentence3 = \"Mike and Lars are really famous\"` and `sentence4=\"Bonny+and+Clyde+kick+the+bucket\"` (mind the plus signs!). Can you print the middle letter of the fourth sentence?"
   ]
  },
  {
   "cell_type": "code",
   "execution_count": null,
   "metadata": {
    "collapsed": true
   },
   "outputs": [],
   "source": []
  },
  {
   "cell_type": "markdown",
   "metadata": {},
   "source": [
    "- Ex. 2: Create an empty list and add three names (strings) to it using the *append* method"
   ]
  },
  {
   "cell_type": "code",
   "execution_count": null,
   "metadata": {
    "collapsed": true
   },
   "outputs": [],
   "source": []
  },
  {
   "cell_type": "markdown",
   "metadata": {
    "collapsed": true
   },
   "source": [
    "Please use a built-in function to determine the number of strings in the list below"
   ]
  },
  {
   "cell_type": "code",
   "execution_count": null,
   "metadata": {
    "collapsed": true
   },
   "outputs": [],
   "source": [
    "friend_list = ['John', 'Bob', 'John', 'Marry', 'Bob']\n",
    "#  your code here"
   ]
  },
  {
   "cell_type": "code",
   "execution_count": null,
   "metadata": {
    "collapsed": true
   },
   "outputs": [],
   "source": []
  },
  {
   "cell_type": "code",
   "execution_count": null,
   "metadata": {
    "collapsed": true
   },
   "outputs": [],
   "source": [
    "Please remove both *John* names from the list below using a list method"
   ]
  },
  {
   "cell_type": "code",
   "execution_count": null,
   "metadata": {
    "collapsed": true
   },
   "outputs": [],
   "source": [
    "friend_list = ['John', 'Bob', 'John', 'Marry', 'Bob']\n",
    "# your code here"
   ]
  },
  {
   "cell_type": "markdown",
   "metadata": {},
   "source": [
    "-  Ex. 3: Consider the `lookup` dictionary below. The following letters are still missing from it: 'k':'kilo', 'l':'lima', 'm':'mike'. Add them to `lookup`! Could you spell the word \"marvellous\" in code language now? Collect these codes into the list object `msg`. Next, join the items in this list together with a comma and print the spelled out version!\n",
    "\n",
    "> lookup = {'a':'alfa', 'b':'bravo', 'c':'charlie', 'd':'delta', 'e':'echo', 'f':'foxtrot', 'g':'golf', 'h':'hotel', 'i':'india', 'j':'juliett', 'n':'november', 'o':'oscar', 'p':'papa', 'q':'quebec', 'r':'romeo', 's':'sierra', 't':'tango', 'u':'uniform', 'v':'victor', 'w':'whiskey', 'x':'x-ray', 'y':'yankee', 'z':'zulu'}\n"
   ]
  },
  {
   "cell_type": "code",
   "execution_count": null,
   "metadata": {
    "collapsed": true
   },
   "outputs": [],
   "source": []
  },
  {
   "cell_type": "markdown",
   "metadata": {},
   "source": [
    "-  Ex. 4: Collect the code terms in the lookup dict (`alpha`, `bravo`, ...) from the previous exercise into a list called `code_words`. Is this list alphabetically sorted? No? Then make sure that this list is sorted alphabetically. Now remove the items `victor`, `india` and `papa`. Append the words `pigeon` and `potato` at the end of this list. Combine this new list of items into a single string, using a semicolon as a delimiter and print this string. "
   ]
  },
  {
   "cell_type": "code",
   "execution_count": null,
   "metadata": {
    "collapsed": true
   },
   "outputs": [],
   "source": []
  },
  {
   "cell_type": "markdown",
   "metadata": {},
   "source": [
    "- Ex. 5: Write a program that given a long string containing multiple words, prints  the same string, except with the words in backwards order. For example, say I type the string:\n",
    "\n",
    "`My name is Kaspar von Beelen`\n",
    "Then I would see the string:\n",
    "\n",
    "`Beelen von Kaspar is name My`\n",
    "\n",
    "**Tip**: Try using a negative `step`.\n",
    "\n",
    "Extra: Try to do this in just one line of code!"
   ]
  }
 ],
 "metadata": {
  "kernelspec": {
   "display_name": "Python 3",
   "language": "python",
   "name": "python3"
  },
  "language_info": {
   "codemirror_mode": {
    "name": "ipython",
    "version": 3
   },
   "file_extension": ".py",
   "mimetype": "text/x-python",
   "name": "python",
   "nbconvert_exporter": "python",
   "pygments_lexer": "ipython3",
   "version": "3.6.3"
  }
 },
 "nbformat": 4,
 "nbformat_minor": 2
}
