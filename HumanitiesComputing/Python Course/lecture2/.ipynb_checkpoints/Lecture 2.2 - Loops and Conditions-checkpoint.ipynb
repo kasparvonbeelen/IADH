{
 "cells": [
  {
   "cell_type": "markdown",
   "metadata": {},
   "source": [
    "# Conditions and Loops"
   ]
  },
  {
   "cell_type": "markdown",
   "metadata": {},
   "source": [
    "# 1. Conditions"
   ]
  },
  {
   "cell_type": "markdown",
   "metadata": {},
   "source": [
    "Coding partly boils down to **automating** the boring, repetitive stuff. Computers are excellent creatures for performing **identical operations** at very high speed. Generally, we'd like our program to adjust its behaviour to specific contexts.\n",
    "\n",
    "In other words we need some tools that give is more control over the **flow of our program**, tools that handle the automation in an appropriate way and act according to certain input. \n",
    "\n",
    "**Control** is mostly exercise by **conditional execution** or an if-statement: it only executes a piece of code if certain conditions hold.\n",
    "\n",
    "`if condition x then do y`\n",
    "\n"
   ]
  },
  {
   "cell_type": "markdown",
   "metadata": {},
   "source": [
    "Below we scrutinize the exact Python syntax creating such conditional expressions, but let's first look at the examples below. Can you understand what these conditions do?"
   ]
  },
  {
   "cell_type": "code",
   "execution_count": null,
   "metadata": {
    "collapsed": true
   },
   "outputs": [],
   "source": [
    "print(\"2 < 5 =\", 2 < 5)\n",
    "print(\"3 > 7 =\", 3 >= 7)\n",
    "print(\"3 == 4 =\", 3 == 4)\n",
    "print(\"school == homework =\", \"school\" == \"homework\")\n",
    "print(\"Python != perl =\", \"Python\" != \"perl\")"
   ]
  },
  {
   "cell_type": "markdown",
   "metadata": {},
   "source": [
    "## 1.1. Boolean Expressions\n",
    "\n",
    "The above expressions are termed **\"boolean\"** as they either return `True` or `False`. \n",
    "These are very useful for building conditional statements, and generally follow the pattern (we have a closer look at `if` and `else` below):\n",
    "\n",
    "`if (boolean expresion):`\n",
    "\n",
    "    (another statement)\n",
    "\n",
    "The `another statement` is executed when the `boolean expression` is True. Change the value of the variable retweet_count in the code block below to see how this works."
   ]
  },
  {
   "cell_type": "code",
   "execution_count": null,
   "metadata": {
    "collapsed": true
   },
   "outputs": [],
   "source": [
    "retweet_count = #ENTER AN INTEGER HERE\n",
    "\n",
    "if retweet_count > 100:\n",
    "    print('Popular')\n"
   ]
  },
  {
   "cell_type": "markdown",
   "metadata": {},
   "source": [
    "Below we list the most common comparison operators:"
   ]
  },
  {
   "cell_type": "markdown",
   "metadata": {
    "collapsed": true
   },
   "source": [
    "### 1.1 Comparison operators\n",
    "\n",
    "Here is a list of **[comparison operators](https://docs.python.org/3.5/library/stdtypes.html#comparisons)** used in Boolean expressions:\n",
    "\n",
    "| Operator | function |\n",
    "|-----------|--------|\n",
    "| `<` | less than|\n",
    "| `<=` |\tless than or equal to \t|  \t \n",
    "| `>` |\tgreater than \t  \t |\n",
    "| `>=` |\tgreather than or equal to \t  \t |\n",
    "| `==` |\tequal\t |\n",
    "| `!=` |\tnot equal\t|\n"
   ]
  },
  {
   "cell_type": "markdown",
   "metadata": {},
   "source": [
    "**Note:** A common error is to use a single equal sign (=) instead of a double equal sign (==). Remember that = is an assignment operator and == is a relational operator."
   ]
  },
  {
   "cell_type": "markdown",
   "metadata": {},
   "source": [
    "Exercise: Make a small program that prints \"Try Again\" if length of the variable password is less than 5."
   ]
  },
  {
   "cell_type": "code",
   "execution_count": null,
   "metadata": {
    "collapsed": true
   },
   "outputs": [],
   "source": [
    "# Enter your code here!"
   ]
  },
  {
   "cell_type": "code",
   "execution_count": null,
   "metadata": {
    "collapsed": true
   },
   "outputs": [],
   "source": [
    "We can make this a bit more realistic with the `input()` function."
   ]
  },
  {
   "cell_type": "code",
   "execution_count": 4,
   "metadata": {},
   "outputs": [
    {
     "name": "stdout",
     "output_type": "stream",
     "text": [
      "Enter your password here: dfsdf\n"
     ]
    }
   ],
   "source": [
    "password = input('Enter your password here: ')\n",
    "# Enter your code here!"
   ]
  },
  {
   "cell_type": "markdown",
   "metadata": {},
   "source": [
    "## 1.2. Conditional execution: if, elif and else"
   ]
  },
  {
   "cell_type": "markdown",
   "metadata": {},
   "source": [
    "Python contains more operators, but let's inspect the main handles to control the flow of a script: the `if` and `else` statements. The following picture explains what happens in an `if else` statement in Python.\n",
    "![if_else](images/if_else_statement.jpg)"
   ]
  },
  {
   "cell_type": "code",
   "execution_count": null,
   "metadata": {
    "collapsed": true
   },
   "outputs": [],
   "source": [
    "x = 5\n",
    "if x > 0:\n",
    "    print(str(x) + \" is positive\")"
   ]
  },
  {
   "cell_type": "markdown",
   "metadata": {},
   "source": [
    "The boolean expression after if is called the condition. If `if` is `True`, then the **indented statement** gets executed. If not, nothing happens. `if` statements have a minimal two-level structure: a **header** followed by an indented body. Statements like this are called **compound statements**."
   ]
  },
  {
   "cell_type": "markdown",
   "metadata": {},
   "source": [
    "A lot of new syntax here. Let's go through it step by step. \n",
    "\n",
    "First we ask if the value we assigned to `x` is greater than zero. The part after `if` evaluates to either `True` or to `False`. Let's type that in:"
   ]
  },
  {
   "cell_type": "code",
   "execution_count": null,
   "metadata": {
    "collapsed": true
   },
   "outputs": [],
   "source": [
    "x = 5\n",
    "x > 0"
   ]
  },
  {
   "cell_type": "code",
   "execution_count": null,
   "metadata": {
    "collapsed": true
   },
   "outputs": [],
   "source": [
    "x = -1\n",
    "x > 0"
   ]
  },
  {
   "cell_type": "markdown",
   "metadata": {},
   "source": [
    "Back to our `if` statement. If the expression after `if` evaluates to `True`, our program will go on to the next line and print `Positive!`. Let's try that as well:"
   ]
  },
  {
   "cell_type": "code",
   "execution_count": null,
   "metadata": {
    "collapsed": true
   },
   "outputs": [],
   "source": [
    "x = 5\n",
    "if x > 0:\n",
    "    print(\"Positive!\")"
   ]
  },
  {
   "cell_type": "code",
   "execution_count": null,
   "metadata": {
    "collapsed": true
   },
   "outputs": [],
   "source": [
    "x = -1\n",
    "if x > 0:\n",
    "    print(\"Positive!\")"
   ]
  },
  {
   "cell_type": "markdown",
   "metadata": {},
   "source": [
    "Notice that the print statement in the last code block is **not executed**. That is because the value we assigned to `x` is not positive and thus the part after `if` did not evaluate to `True`. "
   ]
  },
  {
   "cell_type": "markdown",
   "metadata": {},
   "source": [
    "### Intermezzo: Indentation\n",
    "\n",
    "Before we continue, we must first explain to you that the layout of our code is **not optional**. Unlike in other languages, Python does not make use of curly braces to mark the start and end of expressions. The only **delimiter** is a colon (`:`) and the **indentation** of the code. This indentation must be used consistently throughout your code. The convention is to use 4 spaces as indentation. This means that after you have used a colon (such as in our `if` statement) the next line should be indented by four spaces more than the previous line.\n",
    "\n",
    "If the script is not properly indentated, Python will throw you an IndentationError back! See example below:"
   ]
  },
  {
   "cell_type": "code",
   "execution_count": null,
   "metadata": {
    "collapsed": true
   },
   "outputs": [],
   "source": [
    "x = 5\n",
    "if x > 0:\n",
    "print('Positive')"
   ]
  },
  {
   "cell_type": "markdown",
   "metadata": {
    "collapsed": true
   },
   "source": [
    "The example below shows how indentation should look like:"
   ]
  },
  {
   "cell_type": "code",
   "execution_count": null,
   "metadata": {
    "collapsed": true
   },
   "outputs": [],
   "source": [
    "person = \"John\"\n",
    "print(\"hello!\")\n",
    "if person == \"Alice\":\n",
    "    print(\"how are you today?\")                  #this is indented under the if condition\n",
    "    print(\"do you want to join me for lunch?\")   #this is indented under the if condition\n",
    "elif person == \"Lisa\":\n",
    "    print(\"let's talk some other time!\")         #this is indented under the elif condition\n",
    "else:\n",
    "    print(\"goodbye!\")                            #this is indented under else"
   ]
  },
  {
   "cell_type": "markdown",
   "metadata": {},
   "source": [
    "#### End of intermezzo"
   ]
  },
  {
   "cell_type": "markdown",
   "metadata": {},
   "source": [
    "But let's return to our example earlier. We want a **program to print the sign of an integer variable**: it declares explicitly whether the variable is positive or negative. Try this out. What will happen if we set `x` to 0?"
   ]
  },
  {
   "cell_type": "code",
   "execution_count": null,
   "metadata": {
    "collapsed": true
   },
   "outputs": [],
   "source": [
    "x = 0\n",
    "if x > 0:\n",
    "    print(str(x) + \" is positive\")\n",
    "else:\n",
    "    print(str(x) + \" is negative\")"
   ]
  },
  {
   "cell_type": "markdown",
   "metadata": {},
   "source": [
    "This is not really what we want. In this case we have **more than two conditions** that all should evaluate to something different. For that Python provides the `elif` statement. We use it similar to `if` and `else`. Note however that you can only use `elif` after an `if` statement! We'd like to script to stop mingling zeros with negative number. If a number is negative, it should state this explicitly. The image below explains this type of information flow: \n",
    "![if_elif_else](images/if_elif_else.png)"
   ]
  },
  {
   "cell_type": "code",
   "execution_count": null,
   "metadata": {
    "collapsed": true
   },
   "outputs": [],
   "source": [
    "x = 5\n",
    "if x > 0:\n",
    "    print(str(x) + \" is positive\")\n",
    "elif x < 0:\n",
    "    print(str(x) + \" is negative\")\n",
    "else:\n",
    "    print(str(x) + \" is zero\")"
   ]
  },
  {
   "cell_type": "markdown",
   "metadata": {},
   "source": [
    "This type of flow is termed a **chained conditional**. `elif` is an abbreviation for \"else if\".\n",
    "\n",
    "Exactly one branch will be executed but there is no limit of the number of `elif` statements. The last branch, however, has to be an `else` statement."
   ]
  },
  {
   "cell_type": "markdown",
   "metadata": {},
   "source": [
    "*Exercise*: make a chained conditional that evaluates to variables `x` and `y` and prints whether `x` is smaller than, greater than or equal to `y`."
   ]
  },
  {
   "cell_type": "code",
   "execution_count": null,
   "metadata": {
    "collapsed": true
   },
   "outputs": [],
   "source": [
    "# put your code here"
   ]
  },
  {
   "cell_type": "markdown",
   "metadata": {},
   "source": [
    "Important to know is that empty objects (`''`, `[]` and `{}`) evaluate to `False`, all others to `True`:"
   ]
  },
  {
   "cell_type": "code",
   "execution_count": null,
   "metadata": {
    "collapsed": true
   },
   "outputs": [],
   "source": [
    "# Empty Object\n",
    "name = ''\n",
    "\n",
    "if name:\n",
    "    print('The condition was evaluated as True')"
   ]
  },
  {
   "cell_type": "code",
   "execution_count": null,
   "metadata": {
    "collapsed": true
   },
   "outputs": [],
   "source": [
    "# Empty Object\n",
    "name = 'Kaspar'\n",
    "\n",
    "if name:\n",
    "    print('The condition was evaluated as True')"
   ]
  },
  {
   "cell_type": "markdown",
   "metadata": {},
   "source": [
    "Note also that we wrote `if name` and not `if name==True` as the previous is considered more elegant and Pythonesque!"
   ]
  },
  {
   "cell_type": "code",
   "execution_count": null,
   "metadata": {
    "collapsed": true
   },
   "outputs": [],
   "source": [
    "# Empty Object\n",
    "name = 'Kaspar'\n",
    "\n",
    "if bool(name) == True:\n",
    "    print('The condition was evaluated as True')"
   ]
  },
  {
   "cell_type": "markdown",
   "metadata": {},
   "source": [
    "**Exercise**: Make a program that checks if the entered password is longer than five character. If so, print \"Ok!\", otherwise print \"Try again!\"."
   ]
  },
  {
   "cell_type": "code",
   "execution_count": null,
   "metadata": {
    "collapsed": true
   },
   "outputs": [],
   "source": [
    "# enter your code here"
   ]
  },
  {
   "cell_type": "code",
   "execution_count": null,
   "metadata": {
    "collapsed": true
   },
   "outputs": [],
   "source": []
  },
  {
   "cell_type": "markdown",
   "metadata": {},
   "source": [
    "## 1.3 Nesting\n",
    "\n",
    "We have seen that all statements with the same distance to the right belong to the same block of code, i.e. the statements within a block line up vertically. The block ends at a line less indented or the end of the file. \n",
    "Blocks can contain blocks as welll; this way, we get a nested block structure. The block that has to be more deeply **nested** is simply indented further to the right:\n",
    "\n",
    "![Blocks](images/blocks.png)\n",
    "\n",
    "There may be a situation when you want to check for another condition after a condition resolves to `True`. In such a situation, you can use the nested `if` construct. As you can see if you run the code below, the second `if` statement is only executed if the first `if` statement returns `True`. Try changing the value of x to see what the code does."
   ]
  },
  {
   "cell_type": "code",
   "execution_count": null,
   "metadata": {
    "collapsed": true
   },
   "outputs": [],
   "source": [
    "x = -1\n",
    "if x >= 0:\n",
    "    if x == 0:\n",
    "        print(\"Zero\")\n",
    "    else:\n",
    "        print(\"Positive number\")\n",
    "else:\n",
    "    print(\"Negative number\")"
   ]
  },
  {
   "cell_type": "markdown",
   "metadata": {},
   "source": [
    "## 1.4. Membership Operators"
   ]
  },
  {
   "cell_type": "markdown",
   "metadata": {},
   "source": [
    "Python also contains **[membership operators](https://docs.python.org/3.5/reference/expressions.html#not-in)**:\n",
    "\n",
    "| Operator | function |\n",
    "|-----------|--------|\n",
    "| `in` | True if object (left of operator) is in other object (right of operator) |\n",
    "| `not in` |\t True if object (left of operator) is NOT in other object (right of operator) \t|  "
   ]
  },
  {
   "cell_type": "markdown",
   "metadata": {
    "collapsed": true
   },
   "source": [
    "Membership operators:"
   ]
  },
  {
   "cell_type": "code",
   "execution_count": null,
   "metadata": {
    "collapsed": true
   },
   "outputs": [],
   "source": [
    "# this works\n",
    "print(\"fun\" in \"function\")"
   ]
  },
  {
   "cell_type": "markdown",
   "metadata": {},
   "source": [
    "We can use membership operators with other types of 'containers', such as *lists*. We can use *in* and *not in* to check whether an object is a member of a list:"
   ]
  },
  {
   "cell_type": "code",
   "execution_count": null,
   "metadata": {
    "collapsed": true
   },
   "outputs": [],
   "source": [
    "print('a' in ['a','b','c'])"
   ]
  },
  {
   "cell_type": "code",
   "execution_count": null,
   "metadata": {
    "collapsed": true
   },
   "outputs": [],
   "source": [
    "# this as well but returns False\n",
    "print(['a','b'] in ['a','b','c'])"
   ]
  },
  {
   "cell_type": "markdown",
   "metadata": {},
   "source": [
    "We can only use membership operators with *iterables* (strings and lists). The following will therefore not work, because an integer is not iterable:"
   ]
  },
  {
   "cell_type": "code",
   "execution_count": null,
   "metadata": {
    "collapsed": true
   },
   "outputs": [],
   "source": [
    "# this doesn't\n",
    "print(0 in 10)"
   ]
  },
  {
   "cell_type": "markdown",
   "metadata": {},
   "source": [
    "Membership operators appear often to check whether a dictionary contains a specific key. Let's assume we posses a dictionary that maps writers to their dates of birth."
   ]
  },
  {
   "cell_type": "code",
   "execution_count": null,
   "metadata": {
    "collapsed": true
   },
   "outputs": [],
   "source": [
    "writer2dob = {'Edgar Allan Poe': 'January 19, 1809',\n",
    "             'Virginia Woolf':'January 25, 1882',\n",
    "             'James Joyce':'February 2, 1882'}"
   ]
  },
  {
   "cell_type": "markdown",
   "metadata": {},
   "source": [
    "I am curious whether I appear in this illustrous set of authors. "
   ]
  },
  {
   "cell_type": "code",
   "execution_count": null,
   "metadata": {
    "collapsed": true
   },
   "outputs": [],
   "source": [
    "print('Do I appear in this dictionary?')\n",
    "writer2dob['Kaspar von Beelen']\n",
    "print('Yes!')"
   ]
  },
  {
   "cell_type": "markdown",
   "metadata": {},
   "source": [
    "Damn, obviously I am not, and Python raises a `KeyError`, which would be annoying when running a larger program, because, as you'd have noticed, it did not get to the last `print()` statement. So, tet's write a little program that prints \"X is in the dictionary\" if a particular writer is in the collection and \"X is NOT in the dictionary\" if it is not."
   ]
  },
  {
   "cell_type": "code",
   "execution_count": null,
   "metadata": {
    "collapsed": true
   },
   "outputs": [],
   "source": [
    "name = 'Kaspar von Beelen' \n",
    "\n",
    "print('Does ' + name +' appear in this dictionary?')\n",
    "print('\\n')\n",
    "\n",
    "if name in writer2dob:\n",
    "    print('Yes!')\n",
    "    print('Such a great writer')\n",
    "    print(name+' is in the dictionary')\n",
    "else:\n",
    "    print('No, njet, non!')\n",
    "    print(name+' is NOT in the dictionary')"
   ]
  },
  {
   "cell_type": "markdown",
   "metadata": {},
   "source": [
    "**Exercise:** we can now rewrite our password exercise and check if a string contain punctuation or numbers. Python provides us with a string that contains all punctuation characters."
   ]
  },
  {
   "cell_type": "code",
   "execution_count": 11,
   "metadata": {},
   "outputs": [
    {
     "name": "stdout",
     "output_type": "stream",
     "text": [
      "!\"#$%&'()*+,-./:;<=>?@[\\]^_`{|}~\n"
     ]
    }
   ],
   "source": [
    "import string\n",
    "punct = string.punctuation\n",
    "print(punct)"
   ]
  },
  {
   "cell_type": "code",
   "execution_count": null,
   "metadata": {
    "collapsed": true
   },
   "outputs": [],
   "source": [
    "We first assume the password contains no punctuation characters."
   ]
  },
  {
   "cell_type": "code",
   "execution_count": null,
   "metadata": {
    "collapsed": true
   },
   "outputs": [],
   "source": [
    "has_punct = False"
   ]
  },
  {
   "cell_type": "markdown",
   "metadata": {},
   "source": [
    "Then we iterate over the character in the password and perform a membership operator:"
   ]
  },
  {
   "cell_type": "code",
   "execution_count": 12,
   "metadata": {},
   "outputs": [
    {
     "name": "stdout",
     "output_type": "stream",
     "text": [
      "Enter your password here: fsdf(\n",
      "True\n"
     ]
    }
   ],
   "source": [
    "has_punct = False\n",
    "\n",
    "password = input('Enter your password here: ')\n",
    "for ch in password:\n",
    "    if ch in punct:\n",
    "        has_punct = True\n",
    "        \n",
    "print(has_punct)"
   ]
  },
  {
   "cell_type": "markdown",
   "metadata": {},
   "source": [
    "We do not need to loop over all numbers. Once we encounter a punctuation character, it does not matter what else follows. For we can use the `break` statement, which breaks of the loop if a certain condition is met."
   ]
  },
  {
   "cell_type": "code",
   "execution_count": 25,
   "metadata": {},
   "outputs": [
    {
     "name": "stdout",
     "output_type": "stream",
     "text": [
      "0\n",
      "1\n",
      "2\n",
      "3\n",
      "4\n",
      "5\n"
     ]
    }
   ],
   "source": [
    "# break of loop at 5\n",
    "for i in range(10):\n",
    "    print(i)\n",
    "    if i >= 5:\n",
    "        break"
   ]
  },
  {
   "cell_type": "code",
   "execution_count": null,
   "metadata": {
    "collapsed": true
   },
   "outputs": [],
   "source": [
    "# copy past the previous code here and add a break statement"
   ]
  },
  {
   "cell_type": "markdown",
   "metadata": {},
   "source": [
    "Now do the same with numbers!"
   ]
  },
  {
   "cell_type": "code",
   "execution_count": null,
   "metadata": {
    "collapsed": true
   },
   "outputs": [],
   "source": [
    "# has_num =\n",
    "# put all numbers from 0 to 9 in one string\n",
    "# enter your input"
   ]
  },
  {
   "cell_type": "markdown",
   "metadata": {},
   "source": [
    "These program provides a more elegant way for handling dictionaries--better than crashing your program!"
   ]
  },
  {
   "cell_type": "markdown",
   "metadata": {},
   "source": [
    "## 1.5. Logical Operators: `and`, `or` and `not`"
   ]
  },
  {
   "cell_type": "markdown",
   "metadata": {},
   "source": [
    "Python contains three [logical operators](https://docs.python.org/3.5/library/stdtypes.html#boolean-operations-and-or-not): `and`, `or` and `not`, whose semantics is similar to their meaning in English. Given two boolean expressions, **bool1** and **bool2**, this is how they work:\n",
    "\n",
    "| operation | function |\n",
    "|-----------|--------|\n",
    "| **bool1** `and` **bool2** | True if both **bool1** and **bool2** are True, otherwise False |\n",
    "| **bool1** `or` **bool2** |\tTrue when at least one of the boolean expressions is True, otherwise False\t|  \n",
    "| `not` **bool1** | True if **bool1** is False, otherwise True | \n"
   ]
  },
  {
   "cell_type": "code",
   "execution_count": null,
   "metadata": {
    "collapsed": true
   },
   "outputs": [],
   "source": [
    "Remember that: "
   ]
  },
  {
   "cell_type": "code",
   "execution_count": null,
   "metadata": {
    "collapsed": true
   },
   "outputs": [],
   "source": [
    "print(['a','b'] in ['a','b','c'])"
   ]
  },
  {
   "cell_type": "markdown",
   "metadata": {},
   "source": [
    "returns `False`. To check if two variables appear in a list, you can use `and` as in:"
   ]
  },
  {
   "cell_type": "code",
   "execution_count": 14,
   "metadata": {},
   "outputs": [
    {
     "name": "stdout",
     "output_type": "stream",
     "text": [
      "True\n"
     ]
    }
   ],
   "source": [
    "print(('a' and 'b') in ['a','b','c'])"
   ]
  },
  {
   "cell_type": "markdown",
   "metadata": {},
   "source": [
    "This is more elegant than:"
   ]
  },
  {
   "cell_type": "code",
   "execution_count": 16,
   "metadata": {},
   "outputs": [
    {
     "name": "stdout",
     "output_type": "stream",
     "text": [
      "True\n"
     ]
    }
   ],
   "source": [
    "print(('a' in ['a','b','c']) and ('b' in ['a','b','c']))"
   ]
  },
  {
   "cell_type": "markdown",
   "metadata": {},
   "source": [
    "Now we start overplaying our hand:"
   ]
  },
  {
   "cell_type": "code",
   "execution_count": null,
   "metadata": {
    "collapsed": true
   },
   "outputs": [],
   "source": [
    "print(('a' and 'b' and 'd') in ['a','b','c'])"
   ]
  },
  {
   "cell_type": "markdown",
   "metadata": {},
   "source": [
    "Can you guess what these other examples return?"
   ]
  },
  {
   "cell_type": "code",
   "execution_count": null,
   "metadata": {
    "collapsed": true
   },
   "outputs": [],
   "source": [
    "print(('a' or 'd') in ['a','b','c'])"
   ]
  },
  {
   "cell_type": "code",
   "execution_count": null,
   "metadata": {
    "collapsed": true
   },
   "outputs": [],
   "source": [
    "print(('d' or 'e') in ['a','b','c'])"
   ]
  },
  {
   "cell_type": "code",
   "execution_count": null,
   "metadata": {
    "collapsed": true
   },
   "outputs": [],
   "source": [
    "print(not 'd' in ['a','b','c'])"
   ]
  },
  {
   "cell_type": "markdown",
   "metadata": {},
   "source": [
    "The logical operators useful for checking if multiple conditions hold:"
   ]
  },
  {
   "cell_type": "code",
   "execution_count": 17,
   "metadata": {
    "collapsed": true
   },
   "outputs": [],
   "source": [
    "has_x = True\n",
    "has_y = True\n",
    "has_z = False"
   ]
  },
  {
   "cell_type": "markdown",
   "metadata": {},
   "source": [
    "For example, if only one condition needs to apply we can write:"
   ]
  },
  {
   "cell_type": "code",
   "execution_count": 18,
   "metadata": {},
   "outputs": [
    {
     "data": {
      "text/plain": [
       "True"
      ]
     },
     "execution_count": 18,
     "metadata": {},
     "output_type": "execute_result"
    }
   ],
   "source": [
    "has_y or has_z"
   ]
  },
  {
   "cell_type": "markdown",
   "metadata": {},
   "source": [
    "**Exercise**: which of the statements below return `True`?"
   ]
  },
  {
   "cell_type": "code",
   "execution_count": 23,
   "metadata": {},
   "outputs": [
    {
     "data": {
      "text/plain": [
       "False"
      ]
     },
     "execution_count": 23,
     "metadata": {},
     "output_type": "execute_result"
    }
   ],
   "source": [
    "has_x\n",
    "has_y\n",
    "has_z\n",
    "has_x or has_z\n",
    "has_x and has_z\n",
    "not(has_x and has_z)\n",
    "has_x and not has_z\n",
    "(has_y and has_x) or has_z\n",
    "(has_z and has_x) or has_z\n",
    "(has_z and has_x) and not has_z\n",
    "# etc."
   ]
  },
  {
   "cell_type": "markdown",
   "metadata": {},
   "source": [
    "#### What we have learnt so far:\n",
    "-  conditions\n",
    "-  indentation\n",
    "-  `if`\n",
    "-  `elif`\n",
    "-  `else`\n",
    "-  `True`\n",
    "-  `False`\n",
    "-  empty objects are false\n",
    "-  `not`\n",
    "-  `in`\n",
    "-  `and`\n",
    "-  `or`\n",
    "-  multiple conditions\n",
    "-  `==`\n",
    "-  `<`\n",
    "-  `>`\n",
    "-  `!=`\n",
    "-  `KeyError`"
   ]
  },
  {
   "cell_type": "markdown",
   "metadata": {},
   "source": [
    "**Exercise**: At this stage we can put everything together and make a program the checks if a give password is long enough contain. If it matches three condition (length, punctuation and numbers) is prints \"Password Saved...\" otherwise \"Try Again!\""
   ]
  },
  {
   "cell_type": "code",
   "execution_count": null,
   "metadata": {
    "collapsed": true
   },
   "outputs": [],
   "source": []
  },
  {
   "cell_type": "markdown",
   "metadata": {},
   "source": [
    "**Exercise**: Require that the password also contains a capital character.\n",
    "> Tip: use str.isupper() it takes a string a argument and returns a boolean value (True, False)"
   ]
  },
  {
   "cell_type": "code",
   "execution_count": 29,
   "metadata": {},
   "outputs": [
    {
     "name": "stdout",
     "output_type": "stream",
     "text": [
      "Help on method_descriptor:\n",
      "\n",
      "isupper(...)\n",
      "    S.isupper() -> bool\n",
      "    \n",
      "    Return True if all cased characters in S are uppercase and there is\n",
      "    at least one cased character in S, False otherwise.\n",
      "\n"
     ]
    }
   ],
   "source": [
    "help(str.isupper)"
   ]
  },
  {
   "cell_type": "code",
   "execution_count": 26,
   "metadata": {},
   "outputs": [
    {
     "name": "stdout",
     "output_type": "stream",
     "text": [
      "True\n",
      "False\n",
      "True\n",
      "False\n",
      "True\n",
      "False\n"
     ]
    }
   ],
   "source": [
    "name = 'RaRaUo'\n",
    "for n in name:\n",
    "    print(n.isupper())"
   ]
  },
  {
   "cell_type": "code",
   "execution_count": null,
   "metadata": {
    "collapsed": true
   },
   "outputs": [],
   "source": [
    "# Enter your code here"
   ]
  },
  {
   "cell_type": "markdown",
   "metadata": {},
   "source": [
    "**Exercise**: Use a `while` loop that keeps asking a user to enter a password until it matches all the requirements."
   ]
  },
  {
   "cell_type": "code",
   "execution_count": null,
   "metadata": {
    "collapsed": true
   },
   "outputs": [],
   "source": [
    "has_len, has_punct, has_num = False, False, False\n",
    "password = input('Enter password here:')\n",
    "is_correct = False\n",
    "\n",
    "numbers = '0123456789'\n",
    "\n",
    "while not is_correct:\n",
    "    if len(name) > 5:\n",
    "        has_len = True\n",
    "    for ch in name:\n",
    "        if ch in punct:\n",
    "            has_punct = True\n",
    "            break\n",
    "            \n",
    "    for ch in name:\n",
    "        "
   ]
  },
  {
   "cell_type": "markdown",
   "metadata": {},
   "source": [
    "In practice, there is a more elegant technique for pattern matching, namely [Regular Expressions](https://en.wikipedia.org/wiki/Regular_expression)."
   ]
  },
  {
   "cell_type": "markdown",
   "metadata": {},
   "source": [
    "# 2. Loops"
   ]
  },
  {
   "cell_type": "markdown",
   "metadata": {},
   "source": [
    "Programming is most useful if we can perform a certain action on a range of different elements. For example, given a list of words, we would like to know the length of all words, not just one. Now you *could* do this by going through all the indexes of a list of words and print the length of the words one at a time, taking up as many lines of code as you have indices. Needless to say, this is rather cumbersome as the example below shows:"
   ]
  },
  {
   "cell_type": "code",
   "execution_count": 6,
   "metadata": {},
   "outputs": [
    {
     "name": "stdout",
     "output_type": "stream",
     "text": [
      "['It', 'was', 'the', 'best', 'of', 'times', ',', 'it', 'was', 'the', 'worst', 'of', 'times', ',', 'it', 'was', 'the', 'age', 'of', 'wisdom', ',', 'it', 'was', 'the', 'age', 'of', 'foolishness,', 'it', 'was', 'the', 'epoch', 'of', 'belief', ',', 'it', 'was', 'the', 'epoch', 'of', 'incredulity', ',', 'it', 'was', 'the', 'season', 'of', 'Light', ',', 'it', 'was', 'the', 'season', 'of', 'Darkness', ',', 'it', 'was', 'the', 'spring', 'of', 'hope', ',', 'it', 'was', 'the', 'winter', 'of', 'despair', '.']\n"
     ]
    }
   ],
   "source": [
    "sentence = ' It was the best of times , it was the worst of times , it was the age of wisdom , it was the age of foolishness, it was the epoch of belief , it was the epoch of incredulity , it was the season of Light , it was the season of Darkness , it was the spring of hope , it was the winter of despair .'\n",
    "words = sentence.split()\n",
    "print(words)"
   ]
  },
  {
   "cell_type": "code",
   "execution_count": null,
   "metadata": {
    "collapsed": true
   },
   "outputs": [],
   "source": [
    "print(len(words[0]))\n",
    "print(len(words[1]))\n",
    "print(len(words[2]))\n",
    "print(len(words[3]))\n",
    "print('...')\n",
    "print('etc.  till the end.')\n",
    "print('...')\n",
    "print(len(words[-4]))\n",
    "print(len(words[-3]))\n",
    "print(len(words[-2]))\n",
    "print(len(words[-1]))"
   ]
  },
  {
   "cell_type": "markdown",
   "metadata": {},
   "source": [
    "## 2.1 `for` statement"
   ]
  },
  {
   "cell_type": "markdown",
   "metadata": {},
   "source": [
    "Python provides the so-called `for`-statements that allow us to iterate through any iterable object and perform actions on its elements. The basic format of a `for`-statement is: \n",
    "\n",
    "    for X in iterable:\n",
    "\n",
    "That reads almost like English. We can collect all letters of the lengths of the words in the previous sentence:"
   ]
  },
  {
   "cell_type": "markdown",
   "metadata": {},
   "source": [
    "### 2.1.1 Iterating over lists"
   ]
  },
  {
   "cell_type": "markdown",
   "metadata": {},
   "source": [
    "The `for` loop might be confusing at first. Let's have a closer look at a simple example: "
   ]
  },
  {
   "cell_type": "code",
   "execution_count": 5,
   "metadata": {},
   "outputs": [
    {
     "name": "stdout",
     "output_type": "stream",
     "text": [
      "John\n",
      "Anna\n",
      "Bert\n"
     ]
    }
   ],
   "source": [
    "names = ['John', 'Anna', 'Bert']\n",
    "for name in names:\n",
    "    print(name)"
   ]
  },
  {
   "cell_type": "markdown",
   "metadata": {},
   "source": [
    "The name variable is not explicitly assigned in advance. It acts somewhat as a placeholder, and is assigned to each element in the list in turn. You are free to choose the name of this variable, but it has be consistent in the indented block below."
   ]
  },
  {
   "cell_type": "code",
   "execution_count": null,
   "metadata": {
    "collapsed": true
   },
   "outputs": [],
   "source": [
    "names = ['John', 'Anna', 'Bert']\n",
    "for LALALALALA in names:\n",
    "    print(LALALALALA)"
   ]
  },
  {
   "cell_type": "markdown",
   "metadata": {},
   "source": [
    "... this works just fine, but is less readable.\n",
    "\n",
    "We can, now, make a simple program that and stores the word length of each word in `words`."
   ]
  },
  {
   "cell_type": "code",
   "execution_count": 8,
   "metadata": {},
   "outputs": [
    {
     "name": "stdout",
     "output_type": "stream",
     "text": [
      "[2, 3, 3, 4, 2, 5, 1, 2, 3, 3, 5, 2, 5, 1, 2, 3, 3, 3, 2, 6, 1, 2, 3, 3, 3, 2, 12, 2, 3, 3, 5, 2, 6, 1, 2, 3, 3, 5, 2, 11, 1, 2, 3, 3, 6, 2, 5, 1, 2, 3, 3, 6, 2, 8, 1, 2, 3, 3, 6, 2, 4, 1, 2, 3, 3, 6, 2, 7, 1]\n"
     ]
    }
   ],
   "source": [
    "# Initialize and empty list, in which we will store all word lengths\n",
    "word_lengths = []\n",
    "# now we iterate over the iterable (i.e. list) called words\n",
    "for word in words:\n",
    "    # get the name of the word\n",
    "    w_l = len(word)\n",
    "    # append it to the list\n",
    "    word_lengths.append(w_l)\n",
    "\n",
    "print(word_lengths)"
   ]
  },
  {
   "cell_type": "markdown",
   "metadata": {
    "collapsed": true
   },
   "source": [
    "We could make the previous code a bit more concise:"
   ]
  },
  {
   "cell_type": "code",
   "execution_count": null,
   "metadata": {
    "collapsed": true
   },
   "outputs": [],
   "source": [
    "# Initialize and empty list, in which we will store all word lengths\n",
    "word_lengths = []\n",
    "# now we iterate over the iterable (i.e. list) called words\n",
    "for word in words:\n",
    "    # get the name of the word\n",
    "    word_lengths.append(len(word))\n",
    "    # append it to the list\n",
    "\n",
    "print(word_lengths)"
   ]
  },
  {
   "cell_type": "markdown",
   "metadata": {},
   "source": [
    "An ever shorter syntax is called **list comprehension**:"
   ]
  },
  {
   "cell_type": "code",
   "execution_count": 9,
   "metadata": {},
   "outputs": [
    {
     "name": "stdout",
     "output_type": "stream",
     "text": [
      "[2, 3, 3, 4, 2, 5, 1, 2, 3, 3, 5, 2, 5, 1, 2, 3, 3, 3, 2, 6, 1, 2, 3, 3, 3, 2, 12, 2, 3, 3, 5, 2, 6, 1, 2, 3, 3, 5, 2, 11, 1, 2, 3, 3, 6, 2, 5, 1, 2, 3, 3, 6, 2, 8, 1, 2, 3, 3, 6, 2, 4, 1, 2, 3, 3, 6, 2, 7, 1]\n"
     ]
    }
   ],
   "source": [
    "word_lengths = [len(word) for word in words]\n",
    "print(word_lengths)"
   ]
  },
  {
   "cell_type": "markdown",
   "metadata": {},
   "source": [
    "The list comprehension generates exactly the same result as the longer for loop in the preceding code block."
   ]
  },
  {
   "cell_type": "markdown",
   "metadata": {},
   "source": [
    "### 2.1.2 Iterating over strings"
   ]
  },
  {
   "cell_type": "markdown",
   "metadata": {},
   "source": [
    "The `for` loop can also iterate over strings."
   ]
  },
  {
   "cell_type": "code",
   "execution_count": null,
   "metadata": {
    "collapsed": true,
    "scrolled": true
   },
   "outputs": [],
   "source": [
    "for letter in \"supercalifragilisticexpialidocious\":\n",
    "    print(letter)"
   ]
  },
  {
   "cell_type": "markdown",
   "metadata": {},
   "source": [
    "The code in the loop is executed as many times as their are letters, with a different value for the variable `letter` at each iteration. Read the previous sentence again."
   ]
  },
  {
   "cell_type": "markdown",
   "metadata": {},
   "source": [
    "### 2.1.3 Iterating over dictionaries"
   ]
  },
  {
   "cell_type": "markdown",
   "metadata": {},
   "source": [
    "Since dictionaries are iterable objects as well, we can iterate through our good reads collection as well. This will iterate over the *keys* of a dictionary:"
   ]
  },
  {
   "cell_type": "code",
   "execution_count": null,
   "metadata": {
    "collapsed": true
   },
   "outputs": [],
   "source": [
    "good_reads = {\"The Magic Mountain\":9,\n",
    "             \"The Idiot\":7,\n",
    "             \"Don Quixote\": 9.5}\n",
    "\n",
    "for book in good_reads:\n",
    "    print(book)"
   ]
  },
  {
   "cell_type": "markdown",
   "metadata": {},
   "source": [
    "We can also iterate over both the keys and the values of a dictionary, this is done as follows:"
   ]
  },
  {
   "cell_type": "code",
   "execution_count": null,
   "metadata": {
    "collapsed": true
   },
   "outputs": [],
   "source": [
    "good_reads[\"Pride and Prejudice\"] = 8\n",
    "good_reads[\"A Clockwork Orange\"] = 9"
   ]
  },
  {
   "cell_type": "code",
   "execution_count": null,
   "metadata": {
    "collapsed": true
   },
   "outputs": [],
   "source": [
    "good_reads.items()"
   ]
  },
  {
   "cell_type": "code",
   "execution_count": null,
   "metadata": {
    "collapsed": true
   },
   "outputs": [],
   "source": [
    "for x, y in good_reads.items():\n",
    "    print(x + \" has score \" + str(y))"
   ]
  },
  {
   "cell_type": "markdown",
   "metadata": {},
   "source": [
    "Using `items()` will, at each iteration, return a nice pair of the key and the value. In the example above the variable `book` will loop over the keys of the dictionary, and the variable `score` loops over the respective values."
   ]
  },
  {
   "cell_type": "markdown",
   "metadata": {},
   "source": [
    "## 2.2 While loops"
   ]
  },
  {
   "cell_type": "code",
   "execution_count": 31,
   "metadata": {},
   "outputs": [
    {
     "name": "stdout",
     "output_type": "stream",
     "text": [
      "0\n",
      "1\n",
      "2\n",
      "3\n",
      "4\n",
      "5\n",
      "6\n",
      "7\n",
      "8\n",
      "9\n"
     ]
    }
   ],
   "source": [
    "x = 0\n",
    "\n",
    "while x < 10:\n",
    "    print(x)\n",
    "    x+=1"
   ]
  },
  {
   "cell_type": "markdown",
   "metadata": {},
   "source": [
    "## Exercises DIY: Loops, Conditions and Collections"
   ]
  },
  {
   "cell_type": "markdown",
   "metadata": {},
   "source": [
    "Take a list, say for example this one:\n",
    "\n",
    "  `a = [1, 1, 2, 3, 5, 8, 13, 21, 34, 55, 89]`\n",
    "\n",
    "and write a program that prints out all the elements of the list that are less than 5.\n",
    "\n",
    "Extras:\n",
    "\n",
    "- Instead of printing the elements one by one, make a new list that has all the elements less than 5 from this list in it and print out this new list."
   ]
  },
  {
   "cell_type": "code",
   "execution_count": null,
   "metadata": {
    "collapsed": true
   },
   "outputs": [],
   "source": []
  },
  {
   "cell_type": "markdown",
   "metadata": {},
   "source": [
    "- Ex. 6: Write code that multiplies all items in the list \n",
    "    \n",
    "`a = [1,2,3,4,5]`"
   ]
  },
  {
   "cell_type": "code",
   "execution_count": null,
   "metadata": {
    "collapsed": true
   },
   "outputs": [],
   "source": []
  },
  {
   "cell_type": "code",
   "execution_count": null,
   "metadata": {
    "collapsed": true
   },
   "outputs": [],
   "source": [
    "1*2*3*4*5==result"
   ]
  },
  {
   "cell_type": "markdown",
   "metadata": {},
   "source": [
    "- Ex. 7: Write a Python program to get the smallest number from a list of integers. \n",
    "    \n",
    "`a = [6,9,4,2,7,8,9]`"
   ]
  },
  {
   "cell_type": "code",
   "execution_count": null,
   "metadata": {
    "collapsed": true
   },
   "outputs": [],
   "source": []
  },
  {
   "cell_type": "markdown",
   "metadata": {},
   "source": [
    "- Ex. 8: Write a Python program to get the highest number from a list of integers. \n",
    "    \n",
    "`a = [6,9,4,2,7,8,9]`"
   ]
  },
  {
   "cell_type": "code",
   "execution_count": null,
   "metadata": {
    "collapsed": true
   },
   "outputs": [],
   "source": []
  },
  {
   "cell_type": "markdown",
   "metadata": {},
   "source": [
    "- Ex. 9: Write a Python program that prints the longest word in the following sentence:\n",
    "\n",
    "`sentence = \"Zunächst ein etwas abgenutzter Koffer aus weißem Leder, dem man es ansah, daß er nicht zum erstenmal eine Reise machte.\"`"
   ]
  },
  {
   "cell_type": "code",
   "execution_count": null,
   "metadata": {
    "collapsed": true
   },
   "outputs": [],
   "source": []
  }
 ],
 "metadata": {
  "kernelspec": {
   "display_name": "Python 3",
   "language": "python",
   "name": "python3"
  },
  "language_info": {
   "codemirror_mode": {
    "name": "ipython",
    "version": 3
   },
   "file_extension": ".py",
   "mimetype": "text/x-python",
   "name": "python",
   "nbconvert_exporter": "python",
   "pygments_lexer": "ipython3",
   "version": "3.6.3"
  }
 },
 "nbformat": 4,
 "nbformat_minor": 2
}
