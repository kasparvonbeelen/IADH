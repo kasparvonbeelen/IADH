{
 "cells": [
  {
   "cell_type": "markdown",
   "metadata": {},
   "source": [
    "# Lecture 3\n",
    "## 1. Opening, Reading and Writing Files"
   ]
  },
  {
   "cell_type": "markdown",
   "metadata": {},
   "source": [
    "In the previous lectures we covered the Python basics, inspected some of the internal data types and syntax. The real power of programming lays in power of computers to perform thousands of operations in very little time. In other words, coding helps us to interrogate \"big data\", and for humanities more than we are able to read in a lifetime.\n",
    "\n",
    "Until now all \"data\" was mostly confined to mock examples: strings, lists or other values we manually entered. In this lecture we turn finally turn to some more realistic use of coding in the Humanities, and show how Python assists us with analysing larger, external information sources. \n",
    "\n",
    "In this series of lecture we focus on:\n",
    "- Reading files from disk.\n",
    "- Reading data from the web.\n",
    "- Performing some analysis on these data.\n",
    "- Write results to a file."
   ]
  },
  {
   "cell_type": "markdown",
   "metadata": {},
   "source": [
    "## 1.1. Locating files: `os` and `path`"
   ]
  },
  {
   "cell_type": "markdown",
   "metadata": {},
   "source": [
    "Before opening a file, Python has to locate it. Create a string variable that tells your program where it has to to look. \n",
    "Generally, Python will look in the current directory where your script (or Notebook such as this one) is located. Therefore you have to create a **relative path**, i.e. starting from where your script is located. \n",
    "Let's try to find John Locke's \"An Essay Concerning Human Understanding\", which is saved in the `data` subdirectory."
   ]
  },
  {
   "cell_type": "code",
   "execution_count": null,
   "metadata": {
    "collapsed": true
   },
   "outputs": [],
   "source": [
    "file_name = 'data/pg10615.txt'"
   ]
  },
  {
   "cell_type": "markdown",
   "metadata": {},
   "source": [
    "In the above cell we assigned the relative path to the 'file_name' variable. Using relative path is highly recommended. Not only is this often shorter, it also makes your scripts and data more transportable. The relative path will work on any computer (as long as you don't start moving the folders) while the absolute path only points to the right file on my laptop.\n",
    "\n",
    "relative path: `'data/pg10615.txt'`\n",
    "\n",
    "absolute path: `'/Users/kasparbeelen/Documents/Onderwijsea/CTH/lectures/lecture3/data/pg10615.txt'`\n"
   ]
  },
  {
   "cell_type": "markdown",
   "metadata": {},
   "source": [
    "[VU] Sometimes you see double dots in the beginning of the file path; this means 'the parent of the current directory'. When writing a file path, you can use the following:\n",
    "\n",
    "- /     go to the root of the current drive\n",
    "- ./    go to current directory\n",
    "- ~/    go home directory\n",
    "- -    go previous directory\n",
    "- ../   go to parent directory (one up in the tree)"
   ]
  },
  {
   "cell_type": "markdown",
   "metadata": {},
   "source": [
    "You can use your Notebook to navigate your computer with as you would do in your terminal. `cd` (change directory) and `ls` (list directory) provide \n",
    "For example to go your home directory"
   ]
  },
  {
   "cell_type": "code",
   "execution_count": null,
   "metadata": {
    "collapsed": true
   },
   "outputs": [],
   "source": [
    "Print the current directory:"
   ]
  },
  {
   "cell_type": "code",
   "execution_count": 2,
   "metadata": {},
   "outputs": [
    {
     "data": {
      "text/plain": [
       "'/Users/kasparbeelen/Documents/Onderwijsea/CTH/lectures/lecture3'"
      ]
     },
     "execution_count": 2,
     "metadata": {},
     "output_type": "execute_result"
    }
   ],
   "source": [
    "pwd"
   ]
  },
  {
   "cell_type": "markdown",
   "metadata": {},
   "source": [
    "Go to the User directory:"
   ]
  },
  {
   "cell_type": "code",
   "execution_count": 4,
   "metadata": {},
   "outputs": [
    {
     "name": "stdout",
     "output_type": "stream",
     "text": [
      "/Users/kasparbeelen\n"
     ]
    }
   ],
   "source": [
    "cd ~/"
   ]
  },
  {
   "cell_type": "markdown",
   "metadata": {},
   "source": [
    "List all items in the User directory:"
   ]
  },
  {
   "cell_type": "code",
   "execution_count": 5,
   "metadata": {},
   "outputs": [
    {
     "name": "stdout",
     "output_type": "stream",
     "text": [
      "\u001b[34mApplications\u001b[m\u001b[m/      \u001b[34mDownloads\u001b[m\u001b[m/         \u001b[34mPictures\u001b[m\u001b[m/          \u001b[34mautoconf-2.69\u001b[m\u001b[m/\r\n",
      "\u001b[34mCalibre Library\u001b[m\u001b[m/   \u001b[34mLibrary\u001b[m\u001b[m/           \u001b[34mPublic\u001b[m\u001b[m/            \u001b[34mnltk_data\u001b[m\u001b[m/\r\n",
      "\u001b[34mDesktop\u001b[m\u001b[m/           \u001b[34mMovies\u001b[m\u001b[m/            \u001b[34mSites\u001b[m\u001b[m/             \u001b[34mpolyglot_data\u001b[m\u001b[m/\r\n",
      "\u001b[34mDocuments\u001b[m\u001b[m/         \u001b[34mMusic\u001b[m\u001b[m/             \u001b[34manaconda3\u001b[m\u001b[m/         \u001b[34mscikit_learn_data\u001b[m\u001b[m/\r\n"
     ]
    }
   ],
   "source": [
    "ls ./ "
   ]
  },
  {
   "cell_type": "markdown",
   "metadata": {},
   "source": [
    "Go back to the previous directory:"
   ]
  },
  {
   "cell_type": "code",
   "execution_count": 6,
   "metadata": {},
   "outputs": [
    {
     "name": "stdout",
     "output_type": "stream",
     "text": [
      "/Users/kasparbeelen/Documents/Onderwijsea/CTH/lectures/lecture3\n"
     ]
    }
   ],
   "source": [
    "cd -"
   ]
  },
  {
   "cell_type": "markdown",
   "metadata": {},
   "source": [
    "Go to the parent's parent folder (go two up):"
   ]
  },
  {
   "cell_type": "code",
   "execution_count": 8,
   "metadata": {},
   "outputs": [
    {
     "name": "stdout",
     "output_type": "stream",
     "text": [
      "/Users/kasparbeelen/Documents/Onderwijsea/CTH\n"
     ]
    }
   ],
   "source": [
    "cd ../../"
   ]
  },
  {
   "cell_type": "code",
   "execution_count": 9,
   "metadata": {},
   "outputs": [
    {
     "name": "stdout",
     "output_type": "stream",
     "text": [
      "\u001b[34mexamples\u001b[m\u001b[m/   \u001b[34mlectures\u001b[m\u001b[m/   \u001b[34mliterature\u001b[m\u001b[m/ \u001b[34mnotes\u001b[m\u001b[m/\r\n"
     ]
    }
   ],
   "source": [
    "ls ./"
   ]
  },
  {
   "cell_type": "code",
   "execution_count": null,
   "metadata": {
    "collapsed": true
   },
   "outputs": [],
   "source": [
    "Go back to the previous directory:"
   ]
  },
  {
   "cell_type": "code",
   "execution_count": 11,
   "metadata": {},
   "outputs": [
    {
     "name": "stdout",
     "output_type": "stream",
     "text": [
      "/Users/kasparbeelen/Documents/Onderwijsea/CTH/lectures/lecture3\n"
     ]
    }
   ],
   "source": [
    "cd -"
   ]
  },
  {
   "cell_type": "markdown",
   "metadata": {},
   "source": [
    "Go one up:"
   ]
  },
  {
   "cell_type": "code",
   "execution_count": 12,
   "metadata": {},
   "outputs": [
    {
     "name": "stdout",
     "output_type": "stream",
     "text": [
      "/Users/kasparbeelen/Documents/Onderwijsea/CTH/lectures\n"
     ]
    }
   ],
   "source": [
    "cd .."
   ]
  },
  {
   "cell_type": "markdown",
   "metadata": {},
   "source": [
    "Go one down do, to the 'lecture3' folder:"
   ]
  },
  {
   "cell_type": "code",
   "execution_count": 13,
   "metadata": {},
   "outputs": [
    {
     "name": "stdout",
     "output_type": "stream",
     "text": [
      "/Users/kasparbeelen/Documents/Onderwijsea/CTH/lectures/lecture3\n"
     ]
    }
   ],
   "source": [
    "cd lecture3"
   ]
  },
  {
   "cell_type": "markdown",
   "metadata": {},
   "source": [
    "...and we should be home again after a long travel:"
   ]
  },
  {
   "cell_type": "code",
   "execution_count": 14,
   "metadata": {},
   "outputs": [
    {
     "data": {
      "text/plain": [
       "'/Users/kasparbeelen/Documents/Onderwijsea/CTH/lectures/lecture3'"
      ]
     },
     "execution_count": 14,
     "metadata": {},
     "output_type": "execute_result"
    }
   ],
   "source": [
    "pwd"
   ]
  },
  {
   "cell_type": "markdown",
   "metadata": {},
   "source": [
    "The code you are running in the above cells is not Python, but bash, the command line language. Jupyer Notebook allows you to combine both language to some extent."
   ]
  },
  {
   "cell_type": "markdown",
   "metadata": {},
   "source": [
    "## 1.2 Opening Documents"
   ]
  },
  {
   "cell_type": "markdown",
   "metadata": {},
   "source": [
    "Python has built-in function `open()`, which returns a 'file object'.\n",
    "\n",
    "`open()` has the following crucial arguments: \n",
    "- **location** of the file (see above)\n",
    "- **mode** combination of characters, indicates the purpose of file opening\n",
    "- **encoding** encoding of the text file\n",
    "\n",
    "What do **mode** and **encoding** actually mean?"
   ]
  },
  {
   "cell_type": "markdown",
   "metadata": {},
   "source": [
    "### 1.2.1 Encoding \n",
    "\n",
    "**UTF-8**\n",
    "\n",
    "You may wonder what an encoding is and what *utf-8* is. For anyone working with texts and computers this is vital to know. Internally, a computer knows no characters whatsoever: every piece of information is represented as numbers (which in turn are represented in a binary format, as zeroes and ones). An encoding specifies which numbers represent which characters. A famous and long-standing encoding scheme is ASCII, in which for example the letter 'A' is encoded using the number 65. ASCII however only has a very limited alphabet and can not encode a lot of writing systems. A modern-day encoding supporting countless writing systems is *unicode* and *utf-8* is a kind of unicode. This the type of encoding that you will want to use for your data whenever possible. Whenever you have a choice, you should use unicode!"
   ]
  },
  {
   "cell_type": "markdown",
   "metadata": {},
   "source": [
    "### 1.2.2 Mode\n",
    "[VU]\n",
    "* **r** = Opens a file for reading only. The file pointer is placed at the beginning of the file.\n",
    "* **w** = Opens a file for writing only. Overwrites the file if the file exists. If the file does not exist, creates a new file for writing.\n",
    "* **a** = Opens a file for appending. The file pointer is at the end of the file if the file exists. If the file does not exist, it creates a new file for writing. Use it if you would like to add something to the end of a file\n",
    "* **t** = Text mode"
   ]
  },
  {
   "cell_type": "markdown",
   "metadata": {},
   "source": [
    "## 1.3 Reading Documents"
   ]
  },
  {
   "cell_type": "markdown",
   "metadata": {},
   "source": [
    "Let's try Python to read in a few paragraphs from Locke's \"An Essay Concerning Human Understanding\"."
   ]
  },
  {
   "cell_type": "code",
   "execution_count": 15,
   "metadata": {
    "collapsed": true
   },
   "outputs": [],
   "source": [
    "locke = open('data/locke_excerpt.txt','r')"
   ]
  },
  {
   "cell_type": "markdown",
   "metadata": {},
   "source": [
    "Reminder: The `open()` function requires the file path as its first argument. The second (optional) argument specifies the *mode* in which the file is opened. The third (optional) argument specifies the encoding of the file.\n",
    "\n",
    "Even though 'opened' the file in 'read', this function does not return the actual content or text. To assign the text to a variable we have to call the read function on this object"
   ]
  },
  {
   "cell_type": "code",
   "execution_count": 16,
   "metadata": {},
   "outputs": [
    {
     "name": "stdout",
     "output_type": "stream",
     "text": [
      "THE EPISTLE TO THE READER\n",
      "\n",
      "READER,\n",
      "\n",
      "I have put into thy hands what has been the diversion of some of my idle and heavy hours. \n",
      "If it has the good luck to prove so of any of thine, and thou hast but half so much pleasure in reading as I had in writing it, thou wilt as little think thy money, as I do my pains, ill bestowed.\n",
      "Mistake not this for a commendation of my work; nor conclude, because I was pleased with the doing of it, that therefore I am fondly taken with\n",
      "it now it is done. \n",
      "He that hawks at larks and sparrows has no less sport, though a much less considerable quarry, than he that flies at nobler game: and he is little acquainted with the subject of this treatise--the UNDERSTANDING--who does not know that, as it is the most elevated faculty of the soul, so it is employed with a greater and more constant delight than any of the other. \n",
      "Its searches after truth are a sort of hawking and hunting, wherein the very pursuit makes a great part of the pleasure. \n",
      "Every step the mind takes in its progress towards Knowledge makes some discovery, which is not only new, but the best too, for the time at least.\n",
      "\n",
      "For the understanding, like the eye, judging of objects only by its own sight, cannot but be pleased with what it discovers, having less regret\n",
      "for what has escaped it, because it is unknown. \n",
      "Thus he who has raised himself above the alms-basket, and, not content to live lazily on scraps of begged opinions, sets his own thoughts on work, to find and follow truth, will (whatever he lights on) not miss the hunter’s satisfaction; every moment of his pursuit will reward his pains with some delight; and he will have reason to think his time not ill spent, even when he cannot much boast of any great acquisition.\n",
      "\n"
     ]
    }
   ],
   "source": [
    "locke_text = locke.read()\n",
    "print(locke_text)"
   ]
  },
  {
   "cell_type": "markdown",
   "metadata": {
    "collapsed": true
   },
   "source": [
    "After reading, it is recommendable to close the file"
   ]
  },
  {
   "cell_type": "code",
   "execution_count": 17,
   "metadata": {
    "collapsed": true
   },
   "outputs": [],
   "source": [
    "locke.close()"
   ]
  },
  {
   "cell_type": "markdown",
   "metadata": {
    "collapsed": true
   },
   "source": [
    "The code below will rais a ValueError, because the content is no longer accessible after closing the file"
   ]
  },
  {
   "cell_type": "code",
   "execution_count": 18,
   "metadata": {},
   "outputs": [
    {
     "ename": "ValueError",
     "evalue": "I/O operation on closed file.",
     "output_type": "error",
     "traceback": [
      "\u001b[0;31m---------------------------------------------------------------------------\u001b[0m",
      "\u001b[0;31mValueError\u001b[0m                                Traceback (most recent call last)",
      "\u001b[0;32m<ipython-input-18-5a249164145b>\u001b[0m in \u001b[0;36m<module>\u001b[0;34m()\u001b[0m\n\u001b[0;32m----> 1\u001b[0;31m \u001b[0mlocke\u001b[0m\u001b[0;34m.\u001b[0m\u001b[0mread\u001b[0m\u001b[0;34m(\u001b[0m\u001b[0;34m)\u001b[0m\u001b[0;34m\u001b[0m\u001b[0m\n\u001b[0m",
      "\u001b[0;31mValueError\u001b[0m: I/O operation on closed file."
     ]
    }
   ],
   "source": [
    "locke.read()"
   ]
  },
  {
   "cell_type": "markdown",
   "metadata": {},
   "source": [
    "## 1.4 `read()`, `readlines()` and `readline()`"
   ]
  },
  {
   "cell_type": "markdown",
   "metadata": {},
   "source": [
    "In order to *read* the contents of the file, Python provides three related operations. The first operation is `read()`:"
   ]
  },
  {
   "cell_type": "markdown",
   "metadata": {
    "collapsed": true
   },
   "source": [
    "`f = open(path,'r').read()` assigns the entire document to a variable `f`:"
   ]
  },
  {
   "cell_type": "code",
   "execution_count": 33,
   "metadata": {
    "collapsed": true
   },
   "outputs": [],
   "source": [
    "document = open('data/locke_excerpt.txt','r')\n",
    "text = document.read()\n",
    "document.close()"
   ]
  },
  {
   "cell_type": "markdown",
   "metadata": {},
   "source": [
    "The variable `text` now holds the entire content of the file located at `data/locke_excerpt.txt` as a single string and we can access and manipulate it just like any other string. We can print the first 100 characters of this string:"
   ]
  },
  {
   "cell_type": "code",
   "execution_count": 34,
   "metadata": {},
   "outputs": [
    {
     "name": "stdout",
     "output_type": "stream",
     "text": [
      "THE EPISTLE TO THE READER\n",
      "\n",
      "READER,\n",
      "\n",
      "I have put into thy hands what has been the diversion of some of\n"
     ]
    }
   ],
   "source": [
    "print(text[:100])"
   ]
  },
  {
   "cell_type": "markdown",
   "metadata": {},
   "source": [
    "The second operation is `readlines()`, which returns a list of the lines in the file, where each item of the list represents a single line:"
   ]
  },
  {
   "cell_type": "code",
   "execution_count": 36,
   "metadata": {},
   "outputs": [
    {
     "name": "stdout",
     "output_type": "stream",
     "text": [
      "['THE EPISTLE TO THE READER\\n', '\\n', 'READER,\\n', '\\n', 'I have put into thy hands what has been the diversion of some of my idle and heavy hours. \\n', 'If it has the good luck to prove so of any of thine, and thou hast but half so much pleasure in reading as I had in writing it, thou wilt as little think thy money, as I do my pains, ill bestowed.\\n', 'Mistake not this for a commendation of my work; nor conclude, because I was pleased with the doing of it, that therefore I am fondly taken with\\n', 'it now it is done. \\n', 'He that hawks at larks and sparrows has no less sport, though a much less considerable quarry, than he that flies at nobler game: and he is little acquainted with the subject of this treatise--the UNDERSTANDING--who does not know that, as it is the most elevated faculty of the soul, so it is employed with a greater and more constant delight than any of the other. \\n', 'Its searches after truth are a sort of hawking and hunting, wherein the very pursuit makes a great part of the pleasure. \\n', 'Every step the mind takes in its progress towards Knowledge makes some discovery, which is not only new, but the best too, for the time at least.\\n', '\\n', 'For the understanding, like the eye, judging of objects only by its own sight, cannot but be pleased with what it discovers, having less regret\\n', 'for what has escaped it, because it is unknown. \\n', 'Thus he who has raised himself above the alms-basket, and, not content to live lazily on scraps of begged opinions, sets his own thoughts on work, to find and follow truth, will (whatever he lights on) not miss the hunter’s satisfaction; every moment of his pursuit will reward his pains with some delight; and he will have reason to think his time not ill spent, even when he cannot much boast of any great acquisition.\\n']\n",
      "<class 'list'>\n"
     ]
    }
   ],
   "source": [
    "document = open('data/locke_excerpt.txt','r')\n",
    "lines = document.readlines()\n",
    "print(lines)\n",
    "print(type(lines))\n",
    "document.close()"
   ]
  },
  {
   "cell_type": "markdown",
   "metadata": {},
   "source": [
    "The third operation `readline()` returns the next line of the file, returning the text up to and including the next newline character (*\\n*, or *\\r\\n* on Windows). More simply put, this operation will read a file line-by-line. So if you call this operation again, it will return the next line in the file. Try it out below!"
   ]
  },
  {
   "cell_type": "code",
   "execution_count": 37,
   "metadata": {},
   "outputs": [
    {
     "name": "stdout",
     "output_type": "stream",
     "text": [
      "THE EPISTLE TO THE READER\n",
      "\n"
     ]
    }
   ],
   "source": [
    "infile = open('data/locke_excerpt.txt', \"r\")\n",
    "next_line = infile.readline()\n",
    "print(next_line)"
   ]
  },
  {
   "cell_type": "markdown",
   "metadata": {},
   "source": [
    "Repeat pressing `ctrl+enter` below, this show you a new line each time."
   ]
  },
  {
   "cell_type": "code",
   "execution_count": 43,
   "metadata": {},
   "outputs": [
    {
     "name": "stdout",
     "output_type": "stream",
     "text": [
      "Mistake not this for a commendation of my work; nor conclude, because I was pleased with the doing of it, that therefore I am fondly taken with\n",
      "\n"
     ]
    }
   ],
   "source": [
    "print(infile.readline())"
   ]
  },
  {
   "cell_type": "markdown",
   "metadata": {},
   "source": [
    "But what about **big data**? So far, we managed to load the complete file. But what if the file size ran into the Gigabytes, and we are only interested in a small subsection of the data. Loading the entire file into memory, will significantly slow down your computer (unless you possess one with generous RAM, but even then) "
   ]
  },
  {
   "cell_type": "code",
   "execution_count": null,
   "metadata": {
    "collapsed": true
   },
   "outputs": [],
   "source": [
    "infile = open('data/locke_excerpt.txt', \"rt\")\n",
    "for line in infile:\n",
    "    print(line)\n",
    "infile.close()"
   ]
  },
  {
   "cell_type": "markdown",
   "metadata": {},
   "source": [
    "`infile.close()`. This closes our file, which is a very important operation. This prevents Python of keeping files that are unneccessary anymore still open."
   ]
  },
  {
   "cell_type": "markdown",
   "metadata": {},
   "source": [
    "### Intermezzo: The 'newline' character\n",
    "\n",
    "[MK]The 'newline' character is probably something new to you. If you are dealing with plain text files (typically files whose name ends in the '.txt' extension), your machine uses a special character internally to signal that a new line should begin. Internally, such newlines are represented as `\"\\n\"`. Normally, this character is visualized on your screen as if the enter key were pressed. See what happens below: "
   ]
  },
  {
   "cell_type": "code",
   "execution_count": null,
   "metadata": {
    "collapsed": true
   },
   "outputs": [],
   "source": [
    "s = \"This is the first line.\\nThis is the second line.\"\n",
    "print(s)"
   ]
  },
  {
   "cell_type": "markdown",
   "metadata": {},
   "source": [
    "There exists a similar character to encode 'tab' characters, namely `\\t`. You can use this character to play around with the indentation of your (e.g. hierarchically structured) output:\n"
   ]
  },
  {
   "cell_type": "code",
   "execution_count": null,
   "metadata": {
    "collapsed": true
   },
   "outputs": [],
   "source": [
    "s = \"First line\\n\\t* Second line\\n\\t* Third line\\n\\t* Fourth line\\nFifth line\"\n",
    "print(s)"
   ]
  },
  {
   "cell_type": "markdown",
   "metadata": {},
   "source": [
    "[MK]In the code block above in which you read the Austen file, the newline is still included with the original line that preceded it in the file: this is why you see all the extra empty lines in the output above! If you wish to remove all preceding and trailing whitespace in a string (newlines, spaces, but also tabs), you can use the `strip()` function:"
   ]
  },
  {
   "cell_type": "code",
   "execution_count": null,
   "metadata": {
    "collapsed": true
   },
   "outputs": [],
   "source": [
    "s = \"   strip me!    \"\n",
    "print(s)\n",
    "print(s.strip())"
   ]
  },
  {
   "cell_type": "markdown",
   "metadata": {},
   "source": [
    "*Exercise*: loop through file and print each line without the preceding and trailing whitespace."
   ]
  },
  {
   "cell_type": "markdown",
   "metadata": {},
   "source": [
    "#### End of intermezzo"
   ]
  },
  {
   "cell_type": "markdown",
   "metadata": {},
   "source": [
    "## 1.5 Processing Files"
   ]
  },
  {
   "cell_type": "markdown",
   "metadata": {
    "collapsed": true
   },
   "source": [
    "Besides printing we can also manipulate the content of the file or extract information from it such as counting the number of lines. "
   ]
  },
  {
   "cell_type": "code",
   "execution_count": null,
   "metadata": {
    "collapsed": true
   },
   "outputs": [],
   "source": [
    "infile = open('data/pg10615.txt', \"rt\")\n",
    "count = 0\n",
    "for line in infile:\n",
    "    count+=1\n",
    "    \n",
    "print(count)\n",
    "infile.close()"
   ]
  },
  {
   "cell_type": "code",
   "execution_count": null,
   "metadata": {
    "collapsed": true
   },
   "outputs": [],
   "source": [
    "In the above code we "
   ]
  },
  {
   "cell_type": "code",
   "execution_count": null,
   "metadata": {
    "collapsed": true
   },
   "outputs": [],
   "source": [
    "infile = open('data/locke_excerpt.txt', \"rt\")\n",
    "count = 0\n",
    "new_lines = []\n",
    "for line in infile:\n",
    "    if len(line) > 5:\n",
    "        new_lines.append(line.lower().strip())\n",
    "    \n",
    "print(new_lines)\n",
    "infile.close()"
   ]
  },
  {
   "cell_type": "markdown",
   "metadata": {},
   "source": [
    "This is just a small teaser. During the next lectures we "
   ]
  },
  {
   "cell_type": "markdown",
   "metadata": {},
   "source": [
    "## 1.6 Context Manager"
   ]
  },
  {
   "cell_type": "markdown",
   "metadata": {
    "collapsed": true
   },
   "source": [
    "In many situations you have read in and process large collection of text. Keeping all these files stored in memory is often pointless and might slow down your computer. [VU]In fact, it is good practice to close the file as soon as you do not need it anymore. Now, lo and behold, we can achieve that with the following:"
   ]
  },
  {
   "cell_type": "code",
   "execution_count": null,
   "metadata": {
    "collapsed": true
   },
   "outputs": [],
   "source": [
    "file.close()"
   ]
  },
  {
   "cell_type": "markdown",
   "metadata": {},
   "source": [
    "[VU] There is actually an easier (and preferred) way to make sure that the file is closed as soon as you don't need it anymore, namely using what is called a <span style=\"background-color:yellow\">context manager</span>:"
   ]
  },
  {
   "cell_type": "code",
   "execution_count": null,
   "metadata": {
    "collapsed": true
   },
   "outputs": [],
   "source": [
    "with open(filename, \"r\") as infile:\n",
    "    content = infile.read()\n",
    "    \n",
    "print(content)"
   ]
  },
  {
   "cell_type": "markdown",
   "metadata": {},
   "source": [
    "[VU] The main advantage of using the with-statement is that it automatically closes the file once you leave the local context defined by the indentation level. If you 'manually' open and close the file, you risk forgetting to close the file. Therefore, context managers are considered a best-practice, and we will use the with-statement in all of our following code. "
   ]
  },
  {
   "cell_type": "markdown",
   "metadata": {},
   "source": [
    "## 1.7 Writing Files"
   ]
  },
  {
   "cell_type": "markdown",
   "metadata": {},
   "source": [
    "## Processing File Content"
   ]
  },
  {
   "cell_type": "markdown",
   "metadata": {},
   "source": [
    "Reading files is just the first step of your research process. In most cases, we'd like to process\n",
    "from document to a word frequency. In what follows below, we performs some basic string processing that prepare your document for further analysis: counting the words in the document. \n",
    "\n",
    "Word-counting is very rudimentary, but nonetheless useful form of content analysis. Moretti coined the term 'distant reading' to argue that texts can be interpreted at some level of abstraction. Below, we compare two British philosophers from the Enlightement.\n",
    "\n",
    "Before counting words, we first have to decide what, exactly, constitutes a word. To make things easier we can define a word as everything between to whitespaces (space, but also hard returns such as '\\n'.\n",
    "\n",
    "Also, what distinction to retain? For a computer 'Tree' and 'tree' are different things. To we want to counts them as the same item?"
   ]
  },
  {
   "cell_type": "markdown",
   "metadata": {},
   "source": [
    "### Convert to lower case\n",
    "\n",
    "A standard procedure in text-processing is lowercasing. This converts all capital characters to lowercase, such as in:"
   ]
  },
  {
   "cell_type": "code",
   "execution_count": 8,
   "metadata": {},
   "outputs": [
    {
     "name": "stdout",
     "output_type": "stream",
     "text": [
      "donald duck\n",
      "trevor noah\n"
     ]
    }
   ],
   "source": [
    "print('Donald Duck'.lower())\n",
    "\n",
    "# Or the same\n",
    "\n",
    "name = 'Trevor Noah'\n",
    "print(name.lower())"
   ]
  },
  {
   "cell_type": "markdown",
   "metadata": {},
   "source": [
    "Again, why would we do this? The choice for lowercasing is arbitrary, we could as uppercase the whole text. The point here is **uniformisation**, i.e. we want to discard differences between elements that are not relevant to our research question. We, here, make the explicit choice to treat 'Hamburger' and 'hamburger' as the same item. We want to count them as the same word. \n",
    "\n",
    "But equally, if a word starts with a capital because it is located at the beginning, or somewhere else in the sentence, it remains the same word from a semantic point of view (in the majority of the cases)."
   ]
  },
  {
   "cell_type": "code",
   "execution_count": 10,
   "metadata": {},
   "outputs": [
    {
     "name": "stdout",
     "output_type": "stream",
     "text": [
      "DON'T LOWERCASE THIS!\n"
     ]
    }
   ],
   "source": [
    "print(\"Don't lowercase this!\".upper())"
   ]
  },
  {
   "cell_type": "markdown",
   "metadata": {},
   "source": [
    "Of course, this is a choice, and should always be reported."
   ]
  },
  {
   "cell_type": "markdown",
   "metadata": {},
   "source": [
    "### Delete punctuation\n",
    "\n",
    "Lowercasing discards largely unimportant differences in the text."
   ]
  },
  {
   "cell_type": "code",
   "execution_count": 25,
   "metadata": {},
   "outputs": [
    {
     "name": "stdout",
     "output_type": "stream",
     "text": [
      "not to envy\n",
      "them, since they afford thee an opportunity of the like diversion, if\n",
      "thou wilt make use of thy own thoughts in reading. it is to them, if\n",
      "they are thy own, that i refer myself: but if they are taken upon trust\n",
      "from others, it is no great matter what they are; they are not following\n",
      "truth, but some meaner consideration; and it is not worth while to be\n",
      "concerned what he says or thinks, who says or thinks only as he is\n",
      "directed by another. if thou judgest for thyself i know thou wilt \n"
     ]
    }
   ],
   "source": [
    "with open('data/pg10615.txt', \"r\") as infile:\n",
    "    content = infile.read()\n",
    "    \n",
    "subsample = content[10000:10499].lower()\n",
    "print(subsample)"
   ]
  },
  {
   "cell_type": "markdown",
   "metadata": {},
   "source": [
    "to transform this string to a list of words, we can split it by the whitespace using the `split()` function."
   ]
  },
  {
   "cell_type": "code",
   "execution_count": 26,
   "metadata": {},
   "outputs": [
    {
     "name": "stdout",
     "output_type": "stream",
     "text": [
      "['not', 'to', 'envy', 'them,', 'since', 'they', 'afford', 'thee', 'an', 'opportunity', 'of', 'the', 'like', 'diversion,', 'if', 'thou', 'wilt', 'make', 'use', 'of', 'thy', 'own', 'thoughts', 'in', 'reading.', 'it', 'is', 'to', 'them,', 'if', 'they', 'are', 'thy', 'own,', 'that', 'i', 'refer', 'myself:', 'but', 'if', 'they', 'are', 'taken', 'upon', 'trust', 'from', 'others,', 'it', 'is', 'no', 'great', 'matter', 'what', 'they', 'are;', 'they', 'are', 'not', 'following', 'truth,', 'but', 'some', 'meaner', 'consideration;', 'and', 'it', 'is', 'not', 'worth', 'while', 'to', 'be', 'concerned', 'what', 'he', 'says', 'or', 'thinks,', 'who', 'says', 'or', 'thinks', 'only', 'as', 'he', 'is', 'directed', 'by', 'another.', 'if', 'thou', 'judgest', 'for', 'thyself', 'i', 'know', 'thou', 'wilt']\n"
     ]
    }
   ],
   "source": [
    "print(subsample.split())"
   ]
  },
  {
   "cell_type": "markdown",
   "metadata": {},
   "source": [
    "This looks better, but not perfect yet. If you have a closer look, you notice that some punctution marks are still glued to the word (for example 'are' and 'are;'). Again, a computer would count these as two totally different items, and lead us to underestimate the use this verb (as they are kept distinct. \n",
    "\n",
    "Ignore the code for now, just look at 'are' in the output, which shows that frequency of the words in this short fragment."
   ]
  },
  {
   "cell_type": "code",
   "execution_count": 34,
   "metadata": {},
   "outputs": [
    {
     "data": {
      "text/plain": [
       "Counter({'afford': 1,\n",
       "         'an': 1,\n",
       "         'and': 1,\n",
       "         'another.': 1,\n",
       "         'are': 3,\n",
       "         'are;': 1,\n",
       "         'as': 1,\n",
       "         'be': 1,\n",
       "         'but': 2,\n",
       "         'by': 1,\n",
       "         'concerned': 1,\n",
       "         'consideration;': 1,\n",
       "         'directed': 1,\n",
       "         'diversion,': 1,\n",
       "         'envy': 1,\n",
       "         'following': 1,\n",
       "         'for': 1,\n",
       "         'from': 1,\n",
       "         'great': 1,\n",
       "         'he': 2,\n",
       "         'i': 2,\n",
       "         'if': 4,\n",
       "         'in': 1,\n",
       "         'is': 4,\n",
       "         'it': 3,\n",
       "         'judgest': 1,\n",
       "         'know': 1,\n",
       "         'like': 1,\n",
       "         'make': 1,\n",
       "         'matter': 1,\n",
       "         'meaner': 1,\n",
       "         'myself:': 1,\n",
       "         'no': 1,\n",
       "         'not': 3,\n",
       "         'of': 2,\n",
       "         'only': 1,\n",
       "         'opportunity': 1,\n",
       "         'or': 2,\n",
       "         'others,': 1,\n",
       "         'own': 1,\n",
       "         'own,': 1,\n",
       "         'reading.': 1,\n",
       "         'refer': 1,\n",
       "         'says': 2,\n",
       "         'since': 1,\n",
       "         'some': 1,\n",
       "         'taken': 1,\n",
       "         'that': 1,\n",
       "         'the': 1,\n",
       "         'thee': 1,\n",
       "         'them,': 2,\n",
       "         'they': 5,\n",
       "         'thinks': 1,\n",
       "         'thinks,': 1,\n",
       "         'thou': 3,\n",
       "         'thoughts': 1,\n",
       "         'thy': 2,\n",
       "         'thyself': 1,\n",
       "         'to': 3,\n",
       "         'trust': 1,\n",
       "         'truth,': 1,\n",
       "         'upon': 1,\n",
       "         'use': 1,\n",
       "         'what': 2,\n",
       "         'while': 1,\n",
       "         'who': 1,\n",
       "         'wilt': 2,\n",
       "         'worth': 1})"
      ]
     },
     "execution_count": 34,
     "metadata": {},
     "output_type": "execute_result"
    }
   ],
   "source": [
    "from collections import Counter\n",
    "Counter(subsample.split())"
   ]
  },
  {
   "cell_type": "markdown",
   "metadata": {},
   "source": [
    "Almost there! We almost have a clean list of words. The code below helps you to remove interpunctions. \n",
    "First we define what punctuation actually comprise, using a standard list provided by Python"
   ]
  },
  {
   "cell_type": "code",
   "execution_count": 36,
   "metadata": {},
   "outputs": [
    {
     "name": "stdout",
     "output_type": "stream",
     "text": [
      "!\"#$%&'()*+,-./:;<=>?@[\\]^_`{|}~\n",
      "<class 'str'>\n"
     ]
    }
   ],
   "source": [
    "import string\n",
    "punct = string.punctuation\n",
    "print(punct)\n",
    "print(type(punct))"
   ]
  },
  {
   "cell_type": "markdown",
   "metadata": {},
   "source": [
    "This returns a string, which contains most of the frequent forms of punctuation.\n",
    "\n",
    "In the code below, we start with defining a an empty string. The we loop over all lines in John Locke's treatise. For each line, we again loop over all characters (notice the double for loop in this example) and add a whitespace to the initial string if the the character if belongs to the set of punctuation marks, otherwise we just add the character."
   ]
  },
  {
   "cell_type": "code",
   "execution_count": null,
   "metadata": {
    "collapsed": true
   },
   "outputs": [],
   "source": [
    "chars = ''\n",
    "for line in open('data/pg10615.txt','rt'):\n",
    "    line_lowered = line.lower()\n",
    "    for char in line_lowered:\n",
    "        if char in punct:\n",
    "            chars+=' '\n",
    "        else:\n",
    "            chars+=char"
   ]
  },
  {
   "cell_type": "markdown",
   "metadata": {},
   "source": [
    "The result of this looks as follows:"
   ]
  },
  {
   "cell_type": "code",
   "execution_count": null,
   "metadata": {
    "collapsed": true
   },
   "outputs": [],
   "source": [
    "print(chars[10000:10499].split())"
   ]
  },
  {
   "cell_type": "code",
   "execution_count": null,
   "metadata": {
    "collapsed": true
   },
   "outputs": [],
   "source": [
    "### Counting Words"
   ]
  },
  {
   "cell_type": "markdown",
   "metadata": {},
   "source": [
    "Now, we are ready to count all the words in using a in-built function `Counter()`. There are other ways to count the frequency of elements in a list, but for now, this is the easiest option."
   ]
  },
  {
   "cell_type": "code",
   "execution_count": 37,
   "metadata": {},
   "outputs": [
    {
     "name": "stdout",
     "output_type": "stream",
     "text": [
      "The number of words is 153643\n"
     ]
    }
   ],
   "source": [
    "words = chars.split()\n",
    "print('The number of words is %s'%len(words))\n",
    "wf = Counter(words)"
   ]
  },
  {
   "cell_type": "markdown",
   "metadata": {},
   "source": [
    "`Counter()` is a rather convenient function. It allows you to easily list the most comment words.\n",
    "\n",
    "To list the most common words, the call the 'most_common()' method on the `wf` variable, which is a Counter() object."
   ]
  },
  {
   "cell_type": "code",
   "execution_count": 38,
   "metadata": {},
   "outputs": [
    {
     "data": {
      "text/plain": [
       "[('the', 7653),\n",
       " ('of', 7256),\n",
       " ('and', 4943),\n",
       " ('to', 4723),\n",
       " ('in', 3126),\n",
       " ('that', 2966),\n",
       " ('it', 2761),\n",
       " ('is', 2494),\n",
       " ('a', 2299),\n",
       " ('be', 1999)]"
      ]
     },
     "execution_count": 38,
     "metadata": {},
     "output_type": "execute_result"
    }
   ],
   "source": [
    "wf.most_common(10)"
   ]
  },
  {
   "cell_type": "markdown",
   "metadata": {},
   "source": [
    "What a disappointment, you might think at this point. All this work, just to obtain a list of these 'boring' words? The most frequents words are mostly not very informative, at least not if you want to pin down the topic of a text. These most frequent words are often called stopwords. \n",
    "\n",
    "On a side note: words have a rather persistent distribution, as small set of words is very frequent. For example the 10 most frequent words take around 26% of the total, put differently 0.1% of the total vocabulary (the ten most frequent) alone are enough to compose 26% of the text. For n=100: 60% of the text is composed from solely 1.4 percent of the vocabulary. If you want to compress your text, just throw away the 10 most frequent words!\n",
    "\n",
    "The code below allows you to verify this."
   ]
  },
  {
   "cell_type": "code",
   "execution_count": 61,
   "metadata": {},
   "outputs": [
    {
     "name": "stdout",
     "output_type": "stream",
     "text": [
      "1.4779781259237363\n",
      "60.47590843709118\n"
     ]
    }
   ],
   "source": [
    "topn = 100\n",
    "total_words = len(words)\n",
    "total_topn = sum([v for w,v in wf.most_common(topn)])\n",
    "print(topn/len(set(words))*100)\n",
    "print(total_topn/total_words*100)"
   ]
  },
  {
   "cell_type": "markdown",
   "metadata": {},
   "source": [
    "### Filtering \"Function\" Words"
   ]
  },
  {
   "cell_type": "code",
   "execution_count": null,
   "metadata": {
    "collapsed": true
   },
   "outputs": [],
   "source": []
  },
  {
   "cell_type": "code",
   "execution_count": 49,
   "metadata": {},
   "outputs": [
    {
     "name": "stdout",
     "output_type": "stream",
     "text": [
      "[nltk_data] Downloading package stopwords to\n",
      "[nltk_data]     /Users/kasparbeelen/nltk_data...\n",
      "[nltk_data]   Unzipping corpora/stopwords.zip.\n"
     ]
    },
    {
     "data": {
      "text/plain": [
       "True"
      ]
     },
     "execution_count": 49,
     "metadata": {},
     "output_type": "execute_result"
    }
   ],
   "source": [
    "import nltk\n",
    "nltk.download('stopwords')"
   ]
  },
  {
   "cell_type": "code",
   "execution_count": 52,
   "metadata": {},
   "outputs": [
    {
     "name": "stdout",
     "output_type": "stream",
     "text": [
      "['i', 'me', 'my', 'myself', 'we', 'our', 'ours', 'ourselves', 'you', 'your', 'yours', 'yourself', 'yourselves', 'he', 'him', 'his', 'himself', 'she', 'her', 'hers', 'herself', 'it', 'its', 'itself', 'they', 'them', 'their', 'theirs', 'themselves', 'what', 'which', 'who', 'whom', 'this', 'that', 'these', 'those', 'am', 'is', 'are', 'was', 'were', 'be', 'been', 'being', 'have', 'has', 'had', 'having', 'do', 'does', 'did', 'doing', 'a', 'an', 'the', 'and', 'but', 'if', 'or', 'because', 'as', 'until', 'while', 'of', 'at', 'by', 'for', 'with', 'about', 'against', 'between', 'into', 'through', 'during', 'before', 'after', 'above', 'below', 'to', 'from', 'up', 'down', 'in', 'out', 'on', 'off', 'over', 'under', 'again', 'further', 'then', 'once', 'here', 'there', 'when', 'where', 'why', 'how', 'all', 'any', 'both', 'each', 'few', 'more', 'most', 'other', 'some', 'such', 'no', 'nor', 'not', 'only', 'own', 'same', 'so', 'than', 'too', 'very', 's', 't', 'can', 'will', 'just', 'don', 'should', 'now', 'd', 'll', 'm', 'o', 're', 've', 'y', 'ain', 'aren', 'couldn', 'didn', 'doesn', 'hadn', 'hasn', 'haven', 'isn', 'ma', 'mightn', 'mustn', 'needn', 'shan', 'shouldn', 'wasn', 'weren', 'won', 'wouldn']\n"
     ]
    }
   ],
   "source": [
    "from nltk.corpus import stopwords\n",
    "stopw = stopwords.words('english')\n",
    "print(stopw)"
   ]
  },
  {
   "cell_type": "code",
   "execution_count": 54,
   "metadata": {},
   "outputs": [
    {
     "data": {
      "text/plain": [
       "[('ideas', 1398),\n",
       " ('one', 911),\n",
       " ('idea', 886),\n",
       " ('mind', 592),\n",
       " ('may', 501),\n",
       " ('man', 440),\n",
       " ('us', 424),\n",
       " ('men', 422),\n",
       " ('without', 381),\n",
       " ('things', 362),\n",
       " ('body', 361),\n",
       " ('think', 352),\n",
       " ('make', 341),\n",
       " ('simple', 339),\n",
       " ('yet', 328),\n",
       " ('would', 327),\n",
       " ('another', 326),\n",
       " ('power', 316),\n",
       " ('though', 313),\n",
       " ('innate', 297),\n",
       " ('motion', 290),\n",
       " ('parts', 254),\n",
       " ('duration', 251),\n",
       " ('use', 243),\n",
       " ('cannot', 240)]"
      ]
     },
     "execution_count": 54,
     "metadata": {},
     "output_type": "execute_result"
    }
   ],
   "source": [
    "wf_filtered = Counter(w for w in words if w not in stopw)\n",
    "wf_filtered.most_common(25)"
   ]
  },
  {
   "cell_type": "markdown",
   "metadata": {},
   "source": [
    "## Writing files\n",
    "### CSV Files"
   ]
  },
  {
   "cell_type": "markdown",
   "metadata": {
    "collapsed": true
   },
   "source": [
    "The previous steps reduced a book to table of word frequencies. For sure, you do not want to repeat this procedure every time but save it as an intermediate result. The optimal format is a CSV file, with CSV abbreviation Comma Separated Value. The comma in this case is called the **delimiter** the value that separates the items on each row. The end of the row is usually by a hard return.\n",
    "\n",
    "The content of an example CSV \n",
    "\n",
    "``\n",
    "'ideas', 1398\n",
    "'one', 911\n",
    "'idea', 886\n",
    "``\n",
    "\n"
   ]
  },
  {
   "cell_type": "code",
   "execution_count": 66,
   "metadata": {
    "collapsed": true
   },
   "outputs": [],
   "source": [
    "content = ''\n",
    "for key,value in wf_filtered.items():\n",
    "    line = key+','+str(value)+'\\n'\n",
    "    content+=line\n",
    "    \n",
    "# or more concise\n",
    "#content = '\\n'.join([\"{},{}\".format(k,v) for k,v in wf.items()])"
   ]
  },
  {
   "cell_type": "code",
   "execution_count": 67,
   "metadata": {
    "collapsed": true
   },
   "outputs": [],
   "source": [
    "filename = \"data/wf.csv\"\n",
    "with open(filename, \"w\") as outfile:\n",
    "    outfile.write(content)"
   ]
  },
  {
   "cell_type": "code",
   "execution_count": 68,
   "metadata": {},
   "outputs": [
    {
     "name": "stdout",
     "output_type": "stream",
     "text": [
      "locke_excerpt.txt pg10615.txt       wf.csv\n",
      "﻿the,1\n",
      "project,88\n",
      "gutenberg,98\n",
      "ebook,12\n",
      "of,7256\n",
      "an,439\n",
      "essay,18\n",
      "concerning,70\n",
      "humane,6\n",
      "understanding,158\n"
     ]
    }
   ],
   "source": [
    "!ls data\n",
    "!head data/wf.csv"
   ]
  },
  {
   "cell_type": "markdown",
   "metadata": {},
   "source": [
    "## JSON Files"
   ]
  },
  {
   "cell_type": "markdown",
   "metadata": {},
   "source": [
    "### Google Books"
   ]
  },
  {
   "cell_type": "code",
   "execution_count": 70,
   "metadata": {},
   "outputs": [
    {
     "name": "stdout",
     "output_type": "stream",
     "text": [
      "{'items': [{'accessInfo': {'accessViewStatus': 'FULL_PUBLIC_DOMAIN',\n",
      "                           'country': 'NL',\n",
      "                           'embeddable': True,\n",
      "                           'epub': {'downloadLink': 'http://books.google.nl/books/download/The_Works_of_Shakespear.epub?id=wsPe-P8lb8AC&hl=&output=epub&source=gbs_api',\n",
      "                                    'isAvailable': False},\n",
      "                           'pdf': {'downloadLink': 'http://books.google.nl/books/download/The_Works_of_Shakespear.pdf?id=wsPe-P8lb8AC&hl=&output=pdf&sig=ACfU3U07OWCZj5Z2mMdO5J4MsPgtzmmiJg&source=gbs_api',\n",
      "                                   'isAvailable': True},\n",
      "                           'publicDomain': True,\n",
      "                           'quoteSharingAllowed': False,\n",
      "                           'textToSpeechPermission': 'ALLOWED',\n",
      "                           'viewability': 'ALL_PAGES',\n",
      "                           'webReaderLink': 'http://play.google.com/books/reader?id=wsPe-P8lb8AC&hl=&printsec=frontcover&source=gbs_api'},\n",
      "            'etag': 'U9SpIQV2BOQ',\n",
      "            'id': 'wsPe-P8lb8AC',\n",
      "            'kind': 'books#volume',\n",
      "            'saleInfo': {'buyLink': 'https://play.google.com/store/books/details?id=wsPe-P8lb8AC&rdid=book-wsPe-P8lb8AC&rdot=1&source=gbs_api',\n",
      "                         'country': 'NL',\n",
      "                         'isEbook': True,\n",
      "                         'saleability': 'FREE'},\n",
      "            'selfLink': 'https://www.googleapis.com/books/v1/volumes/wsPe-P8lb8AC',\n",
      "            'volumeInfo': {'allowAnonLogging': False,\n",
      "                           'authors': ['William Shakespeare'],\n",
      "                           'canonicalVolumeLink': 'https://market.android.com/details?id=book-wsPe-P8lb8AC',\n",
      "                           'contentVersion': 'full-1.0.0',\n",
      "                           'imageLinks': {'smallThumbnail': 'http://books.google.com/books/content?id=wsPe-P8lb8AC&printsec=frontcover&img=1&zoom=5&edge=curl&source=gbs_api',\n",
      "                                          'thumbnail': 'http://books.google.com/books/content?id=wsPe-P8lb8AC&printsec=frontcover&img=1&zoom=1&edge=curl&source=gbs_api'},\n",
      "                           'industryIdentifiers': [{'identifier': 'HARVARD:32044009761388',\n",
      "                                                    'type': 'OTHER'}],\n",
      "                           'infoLink': 'https://play.google.com/store/books/details?id=wsPe-P8lb8AC&source=gbs_api',\n",
      "                           'language': 'en',\n",
      "                           'maturityRating': 'NOT_MATURE',\n",
      "                           'panelizationSummary': {'containsEpubBubbles': False,\n",
      "                                                   'containsImageBubbles': False},\n",
      "                           'previewLink': 'http://books.google.nl/books?id=wsPe-P8lb8AC&printsec=frontcover&dq=shakespeare&hl=&cd=1&source=gbs_api',\n",
      "                           'printType': 'BOOK',\n",
      "                           'publishedDate': '1747',\n",
      "                           'readingModes': {'image': True, 'text': False},\n",
      "                           'subtitle': 'In Eight Volumes',\n",
      "                           'title': 'The Works of Shakespear'}},\n",
      "           {'accessInfo': {'accessViewStatus': 'SAMPLE',\n",
      "                           'country': 'NL',\n",
      "                           'embeddable': True,\n",
      "                           'epub': {'isAvailable': False},\n",
      "                           'pdf': {'isAvailable': False},\n",
      "                           'publicDomain': False,\n",
      "                           'quoteSharingAllowed': False,\n",
      "                           'textToSpeechPermission': 'ALLOWED',\n",
      "                           'viewability': 'PARTIAL',\n",
      "                           'webReaderLink': 'http://play.google.com/books/reader?id=MLIKP5BtUXMC&hl=&printsec=frontcover&source=gbs_api'},\n",
      "            'etag': 'UKbWOHryDpU',\n",
      "            'id': 'MLIKP5BtUXMC',\n",
      "            'kind': 'books#volume',\n",
      "            'saleInfo': {'country': 'NL',\n",
      "                         'isEbook': False,\n",
      "                         'saleability': 'NOT_FOR_SALE'},\n",
      "            'searchInfo': {'textSnippet': 'First published in 1951. &#39;The '\n",
      "                                          'book has the sterling qualities of '\n",
      "                                          'shrewd sense and acumen that mark '\n",
      "                                          'the &#39;rational&#39; classical '\n",
      "                                          'school of Shakespeare '\n",
      "                                          'criticism.&#39; Notes and Queries '\n",
      "                                          '&#39;Professor Duthie&#39;s '\n",
      "                                          'approach is direct and extremely '\n",
      "                                          'objective.'},\n",
      "            'selfLink': 'https://www.googleapis.com/books/v1/volumes/MLIKP5BtUXMC',\n",
      "            'volumeInfo': {'allowAnonLogging': False,\n",
      "                           'authors': ['George Ian Duthie'],\n",
      "                           'averageRating': 3.0,\n",
      "                           'canonicalVolumeLink': 'https://books.google.com/books/about/Shakespeare.html?hl=&id=MLIKP5BtUXMC',\n",
      "                           'categories': ['Literary Criticism'],\n",
      "                           'contentVersion': '1.0.1.0.preview.1',\n",
      "                           'description': \"First published in 1951. 'The book \"\n",
      "                                          'has the sterling qualities of '\n",
      "                                          'shrewd sense and acumen that mark '\n",
      "                                          \"the 'rational' classical school of \"\n",
      "                                          \"Shakespeare criticism.' Notes and \"\n",
      "                                          \"Queries 'Professor Duthie's \"\n",
      "                                          'approach is direct and extremely '\n",
      "                                          'objective. With no axe to grind, he '\n",
      "                                          'pays impartial court to most of the '\n",
      "                                          'great schools of Shakespearian '\n",
      "                                          \"criticism.' Cambridge Daily News \"\n",
      "                                          \"'Professor Duthie has much to say \"\n",
      "                                          \"that is wise and judicious'. Times \"\n",
      "                                          'Literary Supplement. Contents '\n",
      "                                          \"include: Shakespeare's Characters \"\n",
      "                                          'and Truth to Life; Shakespeare and '\n",
      "                                          'the Order-Disorder Antithesis; '\n",
      "                                          'Comedy; Imaginative Interpretation '\n",
      "                                          'and Troilus and Cressida; History; '\n",
      "                                          'Tragedy; The Last Plays.',\n",
      "                           'imageLinks': {'smallThumbnail': 'http://books.google.com/books/content?id=MLIKP5BtUXMC&printsec=frontcover&img=1&zoom=5&edge=curl&source=gbs_api',\n",
      "                                          'thumbnail': 'http://books.google.com/books/content?id=MLIKP5BtUXMC&printsec=frontcover&img=1&zoom=1&edge=curl&source=gbs_api'},\n",
      "                           'industryIdentifiers': [{'identifier': '0415352819',\n",
      "                                                    'type': 'ISBN_10'},\n",
      "                                                   {'identifier': '9780415352819',\n",
      "                                                    'type': 'ISBN_13'}],\n",
      "                           'infoLink': 'http://books.google.nl/books?id=MLIKP5BtUXMC&dq=shakespeare&hl=&source=gbs_api',\n",
      "                           'language': 'en',\n",
      "                           'maturityRating': 'NOT_MATURE',\n",
      "                           'pageCount': 206,\n",
      "                           'previewLink': 'http://books.google.nl/books?id=MLIKP5BtUXMC&printsec=frontcover&dq=shakespeare&hl=&cd=2&source=gbs_api',\n",
      "                           'printType': 'BOOK',\n",
      "                           'publishedDate': '1951',\n",
      "                           'publisher': 'Psychology Press',\n",
      "                           'ratingsCount': 1,\n",
      "                           'readingModes': {'image': True, 'text': False},\n",
      "                           'title': 'Shakespeare'}},\n",
      "           {'accessInfo': {'accessViewStatus': 'SAMPLE',\n",
      "                           'country': 'NL',\n",
      "                           'embeddable': True,\n",
      "                           'epub': {'isAvailable': False},\n",
      "                           'pdf': {'isAvailable': False},\n",
      "                           'publicDomain': False,\n",
      "                           'quoteSharingAllowed': False,\n",
      "                           'textToSpeechPermission': 'ALLOWED',\n",
      "                           'viewability': 'PARTIAL',\n",
      "                           'webReaderLink': 'http://play.google.com/books/reader?id=wIPZ3qbiXNQC&hl=&printsec=frontcover&source=gbs_api'},\n",
      "            'etag': 'zX8GWhkHLy4',\n",
      "            'id': 'wIPZ3qbiXNQC',\n",
      "            'kind': 'books#volume',\n",
      "            'saleInfo': {'country': 'NL',\n",
      "                         'isEbook': False,\n",
      "                         'saleability': 'NOT_FOR_SALE'},\n",
      "            'searchInfo': {'textSnippet': 'The main contention of the book is '\n",
      "                                          'that Shakespeare&#39;s life was the '\n",
      "                                          'lure of the stage itself which '\n",
      "                                          'inspired him to transform what '\n",
      "                                          'everyday life provided into the '\n",
      "                                          'worlds of Hamlet, King Lear and '\n",
      "                                          'Prospero.'},\n",
      "            'selfLink': 'https://www.googleapis.com/books/v1/volumes/wIPZ3qbiXNQC',\n",
      "            'volumeInfo': {'allowAnonLogging': False,\n",
      "                           'authors': ['M. C. Bradbrook'],\n",
      "                           'averageRating': 4.0,\n",
      "                           'canonicalVolumeLink': 'https://books.google.com/books/about/Shakespeare.html?hl=&id=wIPZ3qbiXNQC',\n",
      "                           'categories': ['Literary Criticism'],\n",
      "                           'contentVersion': '0.0.1.0.preview.1',\n",
      "                           'description': 'First published in 1978. In this '\n",
      "                                          \"study, Shakespeare's own life story \"\n",
      "                                          'and the development of English '\n",
      "                                          'theatrical history are placed in '\n",
      "                                          'the wider context of Elizabethan '\n",
      "                                          'and Jacobean times, but the works '\n",
      "                                          'themselves are the final objective '\n",
      "                                          \"of this 'applied biography'. The \"\n",
      "                                          'main contention of the book is that '\n",
      "                                          \"Shakespeare's life was the lure of \"\n",
      "                                          'the stage itself which inspired him '\n",
      "                                          'to transform what everyday life '\n",
      "                                          'provided into the worlds of Hamlet, '\n",
      "                                          'King Lear and Prospero.',\n",
      "                           'imageLinks': {'smallThumbnail': 'http://books.google.com/books/content?id=wIPZ3qbiXNQC&printsec=frontcover&img=1&zoom=5&edge=curl&source=gbs_api',\n",
      "                                          'thumbnail': 'http://books.google.com/books/content?id=wIPZ3qbiXNQC&printsec=frontcover&img=1&zoom=1&edge=curl&source=gbs_api'},\n",
      "                           'industryIdentifiers': [{'identifier': '0415352746',\n",
      "                                                    'type': 'ISBN_10'},\n",
      "                                                   {'identifier': '9780415352741',\n",
      "                                                    'type': 'ISBN_13'}],\n",
      "                           'infoLink': 'http://books.google.nl/books?id=wIPZ3qbiXNQC&dq=shakespeare&hl=&source=gbs_api',\n",
      "                           'language': 'en',\n",
      "                           'maturityRating': 'NOT_MATURE',\n",
      "                           'pageCount': 272,\n",
      "                           'previewLink': 'http://books.google.nl/books?id=wIPZ3qbiXNQC&printsec=frontcover&dq=shakespeare&hl=&cd=3&source=gbs_api',\n",
      "                           'printType': 'BOOK',\n",
      "                           'publishedDate': '2004-12-23',\n",
      "                           'publisher': 'Psychology Press',\n",
      "                           'ratingsCount': 1,\n",
      "                           'readingModes': {'image': True, 'text': False},\n",
      "                           'subtitle': 'The Poet in His World',\n",
      "                           'title': 'Shakespeare'}},\n",
      "           {'accessInfo': {'accessViewStatus': 'SAMPLE',\n",
      "                           'country': 'NL',\n",
      "                           'embeddable': True,\n",
      "                           'epub': {'acsTokenLink': 'http://books.google.nl/books/download/Shakespeare-sample-epub.acsm?id=KwTm1l6eD68C&format=epub&output=acs4_fulfillment_token&dl_type=sample&source=gbs_api',\n",
      "                                    'isAvailable': True},\n",
      "                           'pdf': {'acsTokenLink': 'http://books.google.nl/books/download/Shakespeare-sample-pdf.acsm?id=KwTm1l6eD68C&format=pdf&output=acs4_fulfillment_token&dl_type=sample&source=gbs_api',\n",
      "                                   'isAvailable': True},\n",
      "                           'publicDomain': False,\n",
      "                           'quoteSharingAllowed': False,\n",
      "                           'textToSpeechPermission': 'ALLOWED',\n",
      "                           'viewability': 'PARTIAL',\n",
      "                           'webReaderLink': 'http://play.google.com/books/reader?id=KwTm1l6eD68C&hl=&printsec=frontcover&source=gbs_api'},\n",
      "            'etag': 'a+Nx/g0PwDg',\n",
      "            'id': 'KwTm1l6eD68C',\n",
      "            'kind': 'books#volume',\n",
      "            'saleInfo': {'buyLink': 'https://play.google.com/store/books/details?id=KwTm1l6eD68C&rdid=book-KwTm1l6eD68C&rdot=1&source=gbs_api',\n",
      "                         'country': 'NL',\n",
      "                         'isEbook': True,\n",
      "                         'listPrice': {'amount': 45.71, 'currencyCode': 'EUR'},\n",
      "                         'offers': [{'finskyOfferType': 1,\n",
      "                                     'listPrice': {'amountInMicros': 45710000.0,\n",
      "                                                   'currencyCode': 'EUR'},\n",
      "                                     'retailPrice': {'amountInMicros': 32000000.0,\n",
      "                                                     'currencyCode': 'EUR'}}],\n",
      "                         'retailPrice': {'amount': 32.0, 'currencyCode': 'EUR'},\n",
      "                         'saleability': 'FOR_SALE'},\n",
      "            'searchInfo': {'textSnippet': 'In the process she contributed some '\n",
      "                                          'of the best work on Shakespeare '\n",
      "                                          'that was then extant, as this '\n",
      "                                          'collection demonstrates.'},\n",
      "            'selfLink': 'https://www.googleapis.com/books/v1/volumes/KwTm1l6eD68C',\n",
      "            'volumeInfo': {'allowAnonLogging': False,\n",
      "                           'authors': ['Susan Snyder'],\n",
      "                           'canonicalVolumeLink': 'https://market.android.com/details?id=book-KwTm1l6eD68C',\n",
      "                           'categories': ['Literary Criticism'],\n",
      "                           'contentVersion': '0.0.1.0.preview.3',\n",
      "                           'description': 'Before her death in September 2001, '\n",
      "                                          'Susan Snyder collected a number of '\n",
      "                                          'her essays that she felt '\n",
      "                                          'represented some of her best work '\n"
     ]
    },
    {
     "name": "stdout",
     "output_type": "stream",
     "text": [
      "                                          'in Shakespearean criticism over a '\n",
      "                                          'period of about three decades. Many '\n",
      "                                          'of them were written for specific '\n",
      "                                          'occasions or specific reasons '\n",
      "                                          'having to do with teaching or with '\n",
      "                                          'panel discussions before diverse '\n",
      "                                          'audiences, which she entered into '\n",
      "                                          'along with others. In the process '\n",
      "                                          'she contributed some of the best '\n",
      "                                          'work on Shakespeare that was then '\n",
      "                                          'extant, as this collection '\n",
      "                                          'demonstrates. Searching for a '\n",
      "                                          'principle of organization, '\n",
      "                                          'Professor Snyder decided that it '\n",
      "                                          'would be best to arrange the essays '\n",
      "                                          'in chronological order. The result '\n",
      "                                          'was a kind of \"intellectual '\n",
      "                                          'autobiography,\" as she calls it in '\n",
      "                                          'her Preface, and the title she '\n",
      "                                          'chose was Shakespeare: A Wayward '\n",
      "                                          'Journey, since it reflects her '\n",
      "                                          'travels over the various avenues of '\n",
      "                                          'Shakespearean criticism.',\n",
      "                           'imageLinks': {'smallThumbnail': 'http://books.google.com/books/content?id=KwTm1l6eD68C&printsec=frontcover&img=1&zoom=5&edge=curl&source=gbs_api',\n",
      "                                          'thumbnail': 'http://books.google.com/books/content?id=KwTm1l6eD68C&printsec=frontcover&img=1&zoom=1&edge=curl&source=gbs_api'},\n",
      "                           'industryIdentifiers': [{'identifier': '0874137950',\n",
      "                                                    'type': 'ISBN_10'},\n",
      "                                                   {'identifier': '9780874137958',\n",
      "                                                    'type': 'ISBN_13'}],\n",
      "                           'infoLink': 'https://play.google.com/store/books/details?id=KwTm1l6eD68C&source=gbs_api',\n",
      "                           'language': 'en',\n",
      "                           'maturityRating': 'NOT_MATURE',\n",
      "                           'pageCount': 237,\n",
      "                           'panelizationSummary': {'containsEpubBubbles': False,\n",
      "                                                   'containsImageBubbles': False},\n",
      "                           'previewLink': 'http://books.google.nl/books?id=KwTm1l6eD68C&printsec=frontcover&dq=shakespeare&hl=&cd=4&source=gbs_api',\n",
      "                           'printType': 'BOOK',\n",
      "                           'publishedDate': '2002',\n",
      "                           'publisher': 'University of Delaware Press',\n",
      "                           'readingModes': {'image': True, 'text': True},\n",
      "                           'subtitle': 'A Wayward Journey',\n",
      "                           'title': 'Shakespeare'}},\n",
      "           {'accessInfo': {'accessViewStatus': 'SAMPLE',\n",
      "                           'country': 'NL',\n",
      "                           'embeddable': True,\n",
      "                           'epub': {'isAvailable': False},\n",
      "                           'pdf': {'isAvailable': False},\n",
      "                           'publicDomain': False,\n",
      "                           'quoteSharingAllowed': False,\n",
      "                           'textToSpeechPermission': 'ALLOWED',\n",
      "                           'viewability': 'PARTIAL',\n",
      "                           'webReaderLink': 'http://play.google.com/books/reader?id=dkfqjidatFAC&hl=&printsec=frontcover&source=gbs_api'},\n",
      "            'etag': 'mDBU0Ajqnx8',\n",
      "            'id': 'dkfqjidatFAC',\n",
      "            'kind': 'books#volume',\n",
      "            'saleInfo': {'country': 'NL',\n",
      "                         'isEbook': False,\n",
      "                         'saleability': 'NOT_FOR_SALE'},\n",
      "            'searchInfo': {'textSnippet': 'Provides information on how to read '\n",
      "                                          'and understand Shakespeare, '\n",
      "                                          'including how to interpret his '\n",
      "                                          'language and prose, and how to '\n",
      "                                          'analyze his literary comedies, '\n",
      "                                          'dramas, and tragedies.'},\n",
      "            'selfLink': 'https://www.googleapis.com/books/v1/volumes/dkfqjidatFAC',\n",
      "            'volumeInfo': {'allowAnonLogging': False,\n",
      "                           'authors': ['Sean McEvoy'],\n",
      "                           'averageRating': 5.0,\n",
      "                           'canonicalVolumeLink': 'https://books.google.com/books/about/Shakespeare.html?hl=&id=dkfqjidatFAC',\n",
      "                           'categories': ['Literary Criticism'],\n",
      "                           'contentVersion': 'preview-1.0.0',\n",
      "                           'description': 'Provides information on how to read '\n",
      "                                          'and understand Shakespeare, '\n",
      "                                          'including how to interpret his '\n",
      "                                          'language and prose, and how to '\n",
      "                                          'analyze his literary comedies, '\n",
      "                                          'dramas, and tragedies.',\n",
      "                           'imageLinks': {'smallThumbnail': 'http://books.google.com/books/content?id=dkfqjidatFAC&printsec=frontcover&img=1&zoom=5&edge=curl&source=gbs_api',\n",
      "                                          'thumbnail': 'http://books.google.com/books/content?id=dkfqjidatFAC&printsec=frontcover&img=1&zoom=1&edge=curl&source=gbs_api'},\n",
      "                           'industryIdentifiers': [{'identifier': '9780415212892',\n",
      "                                                    'type': 'ISBN_13'},\n",
      "                                                   {'identifier': '0415212898',\n",
      "                                                    'type': 'ISBN_10'}],\n",
      "                           'infoLink': 'http://books.google.nl/books?id=dkfqjidatFAC&dq=shakespeare&hl=&source=gbs_api',\n",
      "                           'language': 'en',\n",
      "                           'maturityRating': 'NOT_MATURE',\n",
      "                           'pageCount': 282,\n",
      "                           'previewLink': 'http://books.google.nl/books?id=dkfqjidatFAC&printsec=frontcover&dq=shakespeare&hl=&cd=5&source=gbs_api',\n",
      "                           'printType': 'BOOK',\n",
      "                           'publishedDate': '2000',\n",
      "                           'publisher': 'Psychology Press',\n",
      "                           'ratingsCount': 1,\n",
      "                           'readingModes': {'image': True, 'text': False},\n",
      "                           'subtitle': 'The Basics',\n",
      "                           'title': 'Shakespeare'}},\n",
      "           {'accessInfo': {'accessViewStatus': 'SAMPLE',\n",
      "                           'country': 'NL',\n",
      "                           'embeddable': True,\n",
      "                           'epub': {'isAvailable': False},\n",
      "                           'pdf': {'isAvailable': False},\n",
      "                           'publicDomain': False,\n",
      "                           'quoteSharingAllowed': False,\n",
      "                           'textToSpeechPermission': 'ALLOWED',\n",
      "                           'viewability': 'PARTIAL',\n",
      "                           'webReaderLink': 'http://play.google.com/books/reader?id=ozCsAAAAIAAJ&hl=&printsec=frontcover&source=gbs_api'},\n",
      "            'etag': 'dp1/VK6StM4',\n",
      "            'id': 'ozCsAAAAIAAJ',\n",
      "            'kind': 'books#volume',\n",
      "            'saleInfo': {'country': 'NL',\n",
      "                         'isEbook': False,\n",
      "                         'saleability': 'NOT_FOR_SALE'},\n",
      "            'selfLink': 'https://www.googleapis.com/books/v1/volumes/ozCsAAAAIAAJ',\n",
      "            'volumeInfo': {'allowAnonLogging': False,\n",
      "                           'authors': ['Derek Traversi'],\n",
      "                           'canonicalVolumeLink': 'https://books.google.com/books/about/Shakespeare_the_Roman_Plays.html?hl=&id=ozCsAAAAIAAJ',\n",
      "                           'categories': ['Drama'],\n",
      "                           'contentVersion': 'preview-1.0.0',\n",
      "                           'imageLinks': {'smallThumbnail': 'http://books.google.com/books/content?id=ozCsAAAAIAAJ&printsec=frontcover&img=1&zoom=5&edge=curl&source=gbs_api',\n",
      "                                          'thumbnail': 'http://books.google.com/books/content?id=ozCsAAAAIAAJ&printsec=frontcover&img=1&zoom=1&edge=curl&source=gbs_api'},\n",
      "                           'industryIdentifiers': [{'identifier': '0804701822',\n",
      "                                                    'type': 'ISBN_10'},\n",
      "                                                   {'identifier': '9780804701822',\n",
      "                                                    'type': 'ISBN_13'}],\n",
      "                           'infoLink': 'http://books.google.nl/books?id=ozCsAAAAIAAJ&dq=shakespeare&hl=&source=gbs_api',\n",
      "                           'language': 'en',\n",
      "                           'maturityRating': 'NOT_MATURE',\n",
      "                           'pageCount': 288,\n",
      "                           'previewLink': 'http://books.google.nl/books?id=ozCsAAAAIAAJ&printsec=frontcover&dq=shakespeare&hl=&cd=6&source=gbs_api',\n",
      "                           'printType': 'BOOK',\n",
      "                           'publishedDate': '1963',\n",
      "                           'publisher': 'Stanford University Press',\n",
      "                           'readingModes': {'image': True, 'text': False},\n",
      "                           'title': 'Shakespeare: the Roman Plays'}},\n",
      "           {'accessInfo': {'accessViewStatus': 'SAMPLE',\n",
      "                           'country': 'NL',\n",
      "                           'embeddable': True,\n",
      "                           'epub': {'acsTokenLink': 'http://books.google.nl/books/download/Shakespeare_Italy_and_Intertextuality-sample-epub.acsm?id=HgfJe5zFMzIC&format=epub&output=acs4_fulfillment_token&dl_type=sample&source=gbs_api',\n",
      "                                    'isAvailable': True},\n",
      "                           'pdf': {'isAvailable': False},\n",
      "                           'publicDomain': False,\n",
      "                           'quoteSharingAllowed': False,\n",
      "                           'textToSpeechPermission': 'ALLOWED',\n",
      "                           'viewability': 'PARTIAL',\n",
      "                           'webReaderLink': 'http://play.google.com/books/reader?id=HgfJe5zFMzIC&hl=&printsec=frontcover&source=gbs_api'},\n",
      "            'etag': 'FNqANN4Qb+U',\n",
      "            'id': 'HgfJe5zFMzIC',\n",
      "            'kind': 'books#volume',\n",
      "            'saleInfo': {'country': 'NL',\n",
      "                         'isEbook': False,\n",
      "                         'saleability': 'NOT_FOR_SALE'},\n",
      "            'searchInfo': {'textSnippet': 'This collection of essays, written '\n",
      "                                          'by distinguished international '\n",
      "                                          'scholars, focuses on the structural '\n",
      "                                          'influence of Italian literature, '\n",
      "                                          'culture and society at large on '\n",
      "                                          'Shakespeare&#39;s dramatic canon.'},\n",
      "            'selfLink': 'https://www.googleapis.com/books/v1/volumes/HgfJe5zFMzIC',\n",
      "            'volumeInfo': {'allowAnonLogging': False,\n",
      "                           'authors': ['Michele Marrapodi'],\n",
      "                           'canonicalVolumeLink': 'https://books.google.com/books/about/Shakespeare_Italy_and_Intertextuality.html?hl=&id=HgfJe5zFMzIC',\n",
      "                           'categories': ['Drama'],\n",
      "                           'contentVersion': '0.0.2.0.preview.3',\n",
      "                           'description': 'Introduction; Part I: Theory And '\n",
      "                                          'Practice; Part II: Culture And '\n",
      "                                          'Tradition; Part III: Text And '\n",
      "                                          'Ideology; Part IV: Stage And '\n",
      "                                          'Spectacle; Afterword; Select '\n",
      "                                          'bibliography; Index.',\n",
      "                           'imageLinks': {'smallThumbnail': 'http://books.google.com/books/content?id=HgfJe5zFMzIC&printsec=frontcover&img=1&zoom=5&edge=curl&source=gbs_api',\n",
      "                                          'thumbnail': 'http://books.google.com/books/content?id=HgfJe5zFMzIC&printsec=frontcover&img=1&zoom=1&edge=curl&source=gbs_api'},\n",
      "                           'industryIdentifiers': [{'identifier': '0719066662',\n",
      "                                                    'type': 'ISBN_10'},\n",
      "                                                   {'identifier': '9780719066665',\n",
      "                                                    'type': 'ISBN_13'}],\n",
      "                           'infoLink': 'http://books.google.nl/books?id=HgfJe5zFMzIC&dq=shakespeare&hl=&source=gbs_api',\n",
      "                           'language': 'en',\n",
      "                           'maturityRating': 'NOT_MATURE',\n",
      "                           'pageCount': 278,\n",
      "                           'previewLink': 'http://books.google.nl/books?id=HgfJe5zFMzIC&printsec=frontcover&dq=shakespeare&hl=&cd=7&source=gbs_api',\n",
      "                           'printType': 'BOOK',\n",
      "                           'publishedDate': '2004',\n",
      "                           'publisher': 'Manchester University Press',\n",
      "                           'readingModes': {'image': True, 'text': True},\n",
      "                           'title': 'Shakespeare, Italy, and Intertextuality'}},\n",
      "           {'accessInfo': {'accessViewStatus': 'SAMPLE',\n",
      "                           'country': 'NL',\n",
      "                           'embeddable': True,\n",
      "                           'epub': {'isAvailable': False},\n",
      "                           'pdf': {'isAvailable': False},\n",
      "                           'publicDomain': False,\n",
      "                           'quoteSharingAllowed': False,\n",
      "                           'textToSpeechPermission': 'ALLOWED',\n",
      "                           'viewability': 'PARTIAL',\n",
      "                           'webReaderLink': 'http://play.google.com/books/reader?id=X2EJ5LS5HcsC&hl=&printsec=frontcover&source=gbs_api'},\n",
      "            'etag': 'tAAdY8uocA4',\n",
      "            'id': 'X2EJ5LS5HcsC',\n",
      "            'kind': 'books#volume',\n",
      "            'saleInfo': {'country': 'NL',\n",
      "                         'isEbook': False,\n",
      "                         'saleability': 'NOT_FOR_SALE'},\n",
      "            'searchInfo': {'textSnippet': 'Explores the life of Shakespeare '\n",
      "                                          'and his attitudes towards women '\n",
      "                                          'through his relationships with Anne '\n",
      "                                          'Hathaway and his daughters'},\n",
      "            'selfLink': 'https://www.googleapis.com/books/v1/volumes/X2EJ5LS5HcsC',\n",
      "            'volumeInfo': {'allowAnonLogging': False,\n",
      "                           'authors': ['Park Honan'],\n",
      "                           'averageRating': 4.0,\n",
      "                           'canonicalVolumeLink': 'https://books.google.com/books/about/Shakespeare.html?hl=&id=X2EJ5LS5HcsC',\n",
      "                           'categories': ['Biography & Autobiography'],\n",
      "                           'contentVersion': '1.1.1.0.preview.1',\n",
      "                           'description': 'Explores the life of Shakespeare '\n",
      "                                          'and his attitudes towards women '\n",
      "                                          'through his relationships with Anne '\n",
      "                                          'Hathaway and his daughters',\n",
      "                           'imageLinks': {'smallThumbnail': 'http://books.google.com/books/content?id=X2EJ5LS5HcsC&printsec=frontcover&img=1&zoom=5&edge=curl&source=gbs_api',\n",
      "                                          'thumbnail': 'http://books.google.com/books/content?id=X2EJ5LS5HcsC&printsec=frontcover&img=1&zoom=1&edge=curl&source=gbs_api'},\n",
      "                           'industryIdentifiers': [{'identifier': '9780198117926',\n",
      "                                                    'type': 'ISBN_13'},\n",
      "                                                   {'identifier': '0198117922',\n",
      "                                                    'type': 'ISBN_10'}],\n",
      "                           'infoLink': 'http://books.google.nl/books?id=X2EJ5LS5HcsC&dq=shakespeare&hl=&source=gbs_api',\n",
      "                           'language': 'en',\n",
      "                           'maturityRating': 'NOT_MATURE',\n",
      "                           'pageCount': 479,\n",
      "                           'previewLink': 'http://books.google.nl/books?id=X2EJ5LS5HcsC&printsec=frontcover&dq=shakespeare&hl=&cd=8&source=gbs_api',\n",
      "                           'printType': 'BOOK',\n",
      "                           'publishedDate': '1998-10-29',\n",
      "                           'publisher': 'Oxford University Press on Demand',\n",
      "                           'ratingsCount': 1,\n",
      "                           'readingModes': {'image': True, 'text': False},\n",
      "                           'subtitle': 'A Life',\n",
      "                           'title': 'Shakespeare'}},\n",
      "           {'accessInfo': {'accessViewStatus': 'SAMPLE',\n",
      "                           'country': 'NL',\n",
      "                           'embeddable': True,\n",
      "                           'epub': {'acsTokenLink': 'http://books.google.nl/books/download/Shakespeare-sample-epub.acsm?id=Nh4-pJmvpEIC&format=epub&output=acs4_fulfillment_token&dl_type=sample&source=gbs_api',\n",
      "                                    'isAvailable': True},\n",
      "                           'pdf': {'isAvailable': False},\n",
      "                           'publicDomain': False,\n",
      "                           'quoteSharingAllowed': False,\n",
      "                           'textToSpeechPermission': 'ALLOWED',\n",
      "                           'viewability': 'PARTIAL',\n",
      "                           'webReaderLink': 'http://play.google.com/books/reader?id=Nh4-pJmvpEIC&hl=&printsec=frontcover&source=gbs_api'},\n",
      "            'etag': 'NA9hY6r71RU',\n",
      "            'id': 'Nh4-pJmvpEIC',\n",
      "            'kind': 'books#volume',\n",
      "            'saleInfo': {'country': 'NL',\n",
      "                         'isEbook': False,\n",
      "                         'saleability': 'NOT_FOR_SALE'},\n",
      "            'selfLink': 'https://www.googleapis.com/books/v1/volumes/Nh4-pJmvpEIC',\n",
      "            'volumeInfo': {'allowAnonLogging': False,\n",
      "                           'authors': ['Derek Traversi'],\n",
      "                           'canonicalVolumeLink': 'https://books.google.com/books/about/Shakespeare.html?hl=&id=Nh4-pJmvpEIC',\n",
      "                           'categories': ['Literary Criticism'],\n",
      "                           'contentVersion': '0.0.2.0.preview.3',\n",
      "                           'imageLinks': {'smallThumbnail': 'http://books.google.com/books/content?id=Nh4-pJmvpEIC&printsec=frontcover&img=1&zoom=5&edge=curl&source=gbs_api',\n",
      "                                          'thumbnail': 'http://books.google.com/books/content?id=Nh4-pJmvpEIC&printsec=frontcover&img=1&zoom=1&edge=curl&source=gbs_api'},\n",
      "                           'industryIdentifiers': [{'identifier': '0804705089',\n",
      "                                                    'type': 'ISBN_10'},\n",
      "                                                   {'identifier': '9780804705080',\n",
      "                                                    'type': 'ISBN_13'}],\n",
      "                           'infoLink': 'http://books.google.nl/books?id=Nh4-pJmvpEIC&dq=shakespeare&hl=&source=gbs_api',\n",
      "                           'language': 'en',\n",
      "                           'maturityRating': 'NOT_MATURE',\n",
      "                           'pageCount': 272,\n",
      "                           'panelizationSummary': {'containsEpubBubbles': False,\n",
      "                                                   'containsImageBubbles': False},\n",
      "                           'previewLink': 'http://books.google.nl/books?id=Nh4-pJmvpEIC&printsec=frontcover&dq=shakespeare&hl=&cd=9&source=gbs_api',\n",
      "                           'printType': 'BOOK',\n",
      "                           'publishedDate': '1955-06-01',\n",
      "                           'publisher': 'Stanford University Press',\n",
      "                           'readingModes': {'image': True, 'text': True},\n",
      "                           'subtitle': 'The Last Phase',\n",
      "                           'title': 'Shakespeare'}},\n",
      "           {'accessInfo': {'accessViewStatus': 'SAMPLE',\n",
      "                           'country': 'NL',\n",
      "                           'embeddable': True,\n",
      "                           'epub': {'isAvailable': False},\n",
      "                           'pdf': {'isAvailable': False},\n",
      "                           'publicDomain': False,\n",
      "                           'quoteSharingAllowed': False,\n",
      "                           'textToSpeechPermission': 'ALLOWED',\n",
      "                           'viewability': 'PARTIAL',\n",
      "                           'webReaderLink': 'http://play.google.com/books/reader?id=tHFRZlXnxQ4C&hl=&printsec=frontcover&source=gbs_api'},\n",
      "            'etag': 'MURlOJ7tT7Y',\n",
      "            'id': 'tHFRZlXnxQ4C',\n",
      "            'kind': 'books#volume',\n",
      "            'saleInfo': {'country': 'NL',\n",
      "                         'isEbook': False,\n",
      "                         'saleability': 'NOT_FOR_SALE'},\n",
      "            'searchInfo': {'textSnippet': 'Updating the previous standard work '\n",
      "                                          '(E.'},\n",
      "            'selfLink': 'https://www.googleapis.com/books/v1/volumes/tHFRZlXnxQ4C',\n",
      "            'volumeInfo': {'allowAnonLogging': False,\n",
      "                           'authors': ['Jonathan Hope'],\n",
      "                           'canonicalVolumeLink': 'https://books.google.com/books/about/Shakespeare_s_Grammar.html?hl=&id=tHFRZlXnxQ4C',\n",
      "                           'categories': ['Drama'],\n",
      "                           'contentVersion': 'preview-1.0.0',\n",
      "                           'description': 'A comparative reference guide to '\n",
      "                                          \"Shakespeare's grammar, based on a \"\n",
      "                                          'complete revision of an extremely '\n",
      "                                          'elderly but still much-cited '\n",
      "                                          \"volume, Abbott's Shakespearean \"\n",
      "                                          'Grammar, first published in 1869 '\n",
      "                                          'and still regarded by default as an '\n",
      "                                          'essential component of Shakespeare '\n",
      "                                          'research. This volume meets the '\n",
      "                                          'identified need for an '\n",
      "                                          'authoritative and systematic '\n",
      "                                          'grammar of Shakespeare which takes '\n",
      "                                          'account both of current linguistic '\n",
      "                                          'developments and of the current '\n",
      "                                          'state of knowledge about Early '\n",
      "                                          'Modern English and enable editors '\n",
      "                                          'and readers both to understand and '\n",
      "                                          \"to contextualise Shakespeare's use \"\n",
      "                                          'and manipulation of language, i.e. '\n",
      "                                          'to locate it in the context of '\n",
      "                                          'other writings in Early Modern '\n",
      "                                          \"English.'Should be an essential \"\n",
      "                                          'reference tool not only for '\n",
      "                                          'Shakespeare editors but for '\n",
      "                                          \"university and school teachers' ' \"\n",
      "                                          'Professor Ernst Honigmann, editor '\n",
      "                                          \"of Arden 3 Othello'…should become \"\n",
      "                                          \"part of every reader's, and \"\n",
      "                                          \"certainly every teacher's, arsenal \"\n",
      "                                          \"of central reference books' - Ruth \"\n",
      "                                          'Morse, Shakespeare Survey',\n",
      "                           'imageLinks': {'smallThumbnail': 'http://books.google.com/books/content?id=tHFRZlXnxQ4C&printsec=frontcover&img=1&zoom=5&edge=curl&source=gbs_api',\n",
      "                                          'thumbnail': 'http://books.google.com/books/content?id=tHFRZlXnxQ4C&printsec=frontcover&img=1&zoom=1&edge=curl&source=gbs_api'},\n",
      "                           'industryIdentifiers': [{'identifier': '1903436362',\n",
      "                                                    'type': 'ISBN_10'},\n",
      "                                                   {'identifier': '9781903436363',\n",
      "                                                    'type': 'ISBN_13'}],\n",
      "                           'infoLink': 'http://books.google.nl/books?id=tHFRZlXnxQ4C&dq=shakespeare&hl=&source=gbs_api',\n",
      "                           'language': 'en',\n",
      "                           'maturityRating': 'NOT_MATURE',\n",
      "                           'pageCount': 210,\n",
      "                           'previewLink': 'http://books.google.nl/books?id=tHFRZlXnxQ4C&printsec=frontcover&dq=shakespeare&hl=&cd=10&source=gbs_api',\n",
      "                           'printType': 'BOOK',\n",
      "                           'publishedDate': '2003-06-05',\n",
      "                           'publisher': 'Cengage Learning EMEA',\n",
      "                           'readingModes': {'image': True, 'text': False},\n",
      "                           'title': \"Shakespeare's Grammar\"}}],\n",
      " 'kind': 'books#volumes',\n",
      " 'totalItems': 880}\n"
     ]
    }
   ],
   "source": [
    "from urllib.request import urlopen\n",
    "import json\n",
    "from pprint import pprint\n",
    "antwoord=urlopen(\"https://www.googleapis.com/books/v1/volumes?q=shakespeare\").read()\n",
    "data=json.loads(antwoord.decode(\"utf-8\"))\n",
    "pprint(data)"
   ]
  },
  {
   "cell_type": "markdown",
   "metadata": {},
   "source": [
    "## Obtaining Reading Web Pages"
   ]
  },
  {
   "cell_type": "markdown",
   "metadata": {},
   "source": [
    "focua on specific HTML structures: tables\n",
    "scraping specific context from Web pages"
   ]
  },
  {
   "cell_type": "code",
   "execution_count": null,
   "metadata": {
    "collapsed": true
   },
   "outputs": [],
   "source": [
    "from bs4 import BeautifulSoup as bs\n",
    "import requests\n",
    "\n",
    "base_url = \"https://www.poemhunter.com/charles-bukowski/poems\"\n",
    "\n",
    "content = requests.get(url).content"
   ]
  },
  {
   "cell_type": "code",
   "execution_count": null,
   "metadata": {
    "collapsed": true
   },
   "outputs": [],
   "source": [
    "soup = bs(content,'lxml')\n",
    "tables=soup.find_all('table')\n",
    "len(tables)"
   ]
  },
  {
   "cell_type": "code",
   "execution_count": null,
   "metadata": {
    "collapsed": true
   },
   "outputs": [],
   "source": [
    "#!pip install python-louvain==0.5"
   ]
  },
  {
   "cell_type": "code",
   "execution_count": null,
   "metadata": {
    "collapsed": true
   },
   "outputs": [],
   "source": [
    "for table in tables:\n",
    "    print(table.get('class','NaN'))"
   ]
  },
  {
   "cell_type": "code",
   "execution_count": null,
   "metadata": {
    "collapsed": true
   },
   "outputs": [],
   "source": [
    "poems=soup.find('table',{'class':'poems'})"
   ]
  },
  {
   "cell_type": "code",
   "execution_count": null,
   "metadata": {
    "collapsed": true
   },
   "outputs": [],
   "source": [
    "print(len(poems))"
   ]
  },
  {
   "cell_type": "code",
   "execution_count": null,
   "metadata": {
    "collapsed": true
   },
   "outputs": [],
   "source": [
    "links = poems.find_all('a')"
   ]
  },
  {
   "cell_type": "code",
   "execution_count": null,
   "metadata": {
    "collapsed": true
   },
   "outputs": [],
   "source": [
    "first_link = links[0]\n",
    "url = first_link['href']\n",
    "print(url)"
   ]
  },
  {
   "cell_type": "code",
   "execution_count": null,
   "metadata": {
    "collapsed": true
   },
   "outputs": [],
   "source": [
    "import urllib.parse\n",
    "poem_url = urllib.parse.urljoin(base_url,url)\n",
    "print(poem_url)"
   ]
  },
  {
   "cell_type": "code",
   "execution_count": null,
   "metadata": {
    "collapsed": true
   },
   "outputs": [],
   "source": [
    "poem = bs(requests.get(poem_url).content,'lxml')\n",
    "poem_div = poem.find('div',{'class':'KonaBody'}).find('p')#.find_all('br')\n",
    "#print(poem_div)\n",
    "print(str(poem_div).replace('<p>','').replace('</p>','').replace('<br/>','\\n').strip())"
   ]
  }
 ],
 "metadata": {
  "kernelspec": {
   "display_name": "Python 3",
   "language": "python",
   "name": "python3"
  },
  "language_info": {
   "codemirror_mode": {
    "name": "ipython",
    "version": 3
   },
   "file_extension": ".py",
   "mimetype": "text/x-python",
   "name": "python",
   "nbconvert_exporter": "python",
   "pygments_lexer": "ipython3",
   "version": "3.6.3"
  }
 },
 "nbformat": 4,
 "nbformat_minor": 2
}
