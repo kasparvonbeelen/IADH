{
 "cells": [
  {
   "cell_type": "markdown",
   "metadata": {},
   "source": [
    "# Python Dictionaries and JSON"
   ]
  },
  {
   "cell_type": "markdown",
   "metadata": {},
   "source": [
    "### Overview\n",
    "- Dictionaries\n",
    "- Counting words, mapping information\n",
    "- Importing JSON data\n",
    "- Nested dictionaries"
   ]
  },
  {
   "cell_type": "markdown",
   "metadata": {},
   "source": [
    "## 1 Introduction\n",
    "\n",
    "A dictionary resembles a list, but is more generic data type. In a list, the indices have to be **integers** (i.e. to the position of an item in a sequence); in a dictionary, the indices can be of (almost) **any type**. \n",
    "\n",
    "Before inspecting dictionaries, let's revisit lists for just a moment.\n",
    "\n",
    "Using the index operator, we can retrieve the elements at a certain position (for example my first friend):"
   ]
  },
  {
   "cell_type": "code",
   "execution_count": null,
   "metadata": {
    "collapsed": true
   },
   "outputs": [],
   "source": [
    "# Example \n",
    "all_my_friends = ['John','Mary','Benny']\n",
    "# retrieve element by index\n",
    "my_first_friend = all_my_friends[0]\n",
    "print(my_first_friend)"
   ]
  },
  {
   "cell_type": "markdown",
   "metadata": {},
   "source": [
    "Imagine having to look up someone's number. Here the index (or key) would be the names of all citizens with a telephone, and the values their numbers. A numerical index does not make sense here because **we want to retrieve the number by name, not by position in the book**. The same applies, of course, to a normal dictionary, where we'd look up translations or descriptions by word. \n",
    "\n",
    "Dictionaries provide you with the data structure that makes such tasks (**looking up values by keys**) exceptionally easy.\n",
    "\n",
    "For example, if we look at the dictionary `telephone_numbers` below, what is Susan's phone number?\n",
    "\n",
    "In Pyhon you can easily look-up a key (the element before the `:`) in a dictionary:"
   ]
  },
  {
   "cell_type": "code",
   "execution_count": null,
   "metadata": {
    "collapsed": true
   },
   "outputs": [],
   "source": [
    "telephone_numbers = {'Frank': 4334030, 'Susan': 400230, 'Guido': 487239}\n",
    "print(telephone_numbers)"
   ]
  },
  {
   "cell_type": "markdown",
   "metadata": {},
   "source": [
    "... and now print Susan's telephone number:"
   ]
  },
  {
   "cell_type": "code",
   "execution_count": null,
   "metadata": {
    "collapsed": true
   },
   "outputs": [],
   "source": [
    "print(telephone_numbers['Susan'])"
   ]
  },
  {
   "cell_type": "code",
   "execution_count": null,
   "metadata": {
    "collapsed": true
   },
   "outputs": [],
   "source": [
    "# What is Guido's phone number?\n",
    "print(telephone_numbers['Guido'])"
   ]
  },
  {
   "cell_type": "markdown",
   "metadata": {},
   "source": [
    "Note how similar `telephone_numbers['Susan']` looks to retrieving the *n*-th element in a list, e.g. `my_list[n]`.\n",
    "\n",
    "Of course, you could do something similar with a list (the look-up by key), but that would be very impractical."
   ]
  },
  {
   "cell_type": "code",
   "execution_count": null,
   "metadata": {
    "collapsed": true
   },
   "outputs": [],
   "source": [
    "telephone_numbers = ['Frank', 4334030, 'Susan', 400230, 'Guido', 487239]\n",
    "print(telephone_numbers[telephone_numbers.index('Susan')+1])"
   ]
  },
  {
   "cell_type": "markdown",
   "metadata": {},
   "source": [
    " That's pretty inefficient. The take-home message here is **that lists are not really good if we want two pieces of information together**. Dictionaries come to the rescue!"
   ]
  },
  {
   "cell_type": "markdown",
   "metadata": {},
   "source": [
    "Generally, you can think of a dictionary as **a mapping** between a set of indices (which are called keys) and a set of values. **Each key maps to a value.** \n",
    "\n",
    "The **association** of a key and a value is called a **key-value** pair or sometimes an **item**.\n",
    "\n",
    "Essentialy, a dictionary **is a mapping between to keys and values**: for example words (key) to their frequencies (value), but we will cover other examples below."
   ]
  },
  {
   "cell_type": "markdown",
   "metadata": {},
   "source": [
    "## 2.2 Creating a dictionary\n",
    "\n",
    "* a dictionary is surrounded by **curly brackets** \n",
    "\n",
    "* a dictionary consists of one or more **key:value pairs**, the key is the 'identifier' or \"name\" that is used to describe the value.\n",
    "* the **keys** in a dictionary are **unique**\n",
    "* the syntax for a key/value pair is: `key : value`\n",
    "* and the **key/value** pairs (i.e. **items**) are separated by **commas**.\n",
    "* the keys (e.g. 'Frank') in a dictionary have to be **immutable**\n",
    "* the values (e.g. 8) in a dictionary can by **any python object**\n",
    "* a dictionary can be empty\n"
   ]
  },
  {
   "cell_type": "markdown",
   "metadata": {},
   "source": [
    "An empty dictionary:"
   ]
  },
  {
   "cell_type": "code",
   "execution_count": null,
   "metadata": {
    "collapsed": true
   },
   "outputs": [],
   "source": [
    "x = {}"
   ]
  },
  {
   "cell_type": "markdown",
   "metadata": {},
   "source": [
    "A mapping between English and German words:"
   ]
  },
  {
   "cell_type": "code",
   "execution_count": null,
   "metadata": {
    "collapsed": true
   },
   "outputs": [],
   "source": [
    "english2deutsch = {'ambulance':'Krankenwagen',\n",
    "                  'clever':'klug',\n",
    "                  'concrete':'Beton'}"
   ]
  },
  {
   "cell_type": "markdown",
   "metadata": {
    "collapsed": true
   },
   "source": [
    "* Please note that **keys** in a dictionary have to be **immutable and uniques**. Lists, therefore, can not appear as keys. \n",
    "* **Anything** can be a value."
   ]
  },
  {
   "cell_type": "markdown",
   "metadata": {},
   "source": [
    "\n",
    "Because keys have to be immutable, a list can not appear in this location. This should raise an error:"
   ]
  },
  {
   "cell_type": "code",
   "execution_count": null,
   "metadata": {
    "collapsed": true
   },
   "outputs": [],
   "source": [
    "a_dict = {['a', 'list']: 8}\n",
    "print(a_dict)"
   ]
  },
  {
   "cell_type": "markdown",
   "metadata": {},
   "source": [
    "This should work:"
   ]
  },
  {
   "cell_type": "code",
   "execution_count": null,
   "metadata": {
    "collapsed": true
   },
   "outputs": [],
   "source": [
    "a_dict = { 8:['a', 'list']}\n",
    "print(a_dict)"
   ]
  },
  {
   "cell_type": "markdown",
   "metadata": {
    "collapsed": true
   },
   "source": [
    "**Exercise**: correct the code below."
   ]
  },
  {
   "cell_type": "code",
   "execution_count": null,
   "metadata": {
    "collapsed": true
   },
   "outputs": [],
   "source": [
    "# fout\n",
    "d = ['a'=4:\n",
    "     'a':5,\n",
    "     ['b'] = [1,2,34]\n",
    "    'f':'bb'\n",
    "    }"
   ]
  },
  {
   "cell_type": "code",
   "execution_count": null,
   "metadata": {
    "collapsed": true
   },
   "outputs": [],
   "source": [
    "# correct\n",
    "d = {'a' : 4,\n",
    "     'a_2': 5,\n",
    "     'b' : [1,2,34],\n",
    "    'f':'bb'\n",
    "    }\n",
    "print(d)"
   ]
  },
  {
   "cell_type": "markdown",
   "metadata": {},
   "source": [
    "**Exercise**: make dictionary which maps three cities to the size of their population. Call it `city2population`."
   ]
  },
  {
   "cell_type": "code",
   "execution_count": null,
   "metadata": {
    "collapsed": true
   },
   "outputs": [],
   "source": [
    "city2population = {'Shanghai' : 24256800,'Beijing' : 21516000, 'Delhi': 16349831}\n",
    "print(city2population)"
   ]
  },
  {
   "cell_type": "markdown",
   "metadata": {
    "collapsed": true
   },
   "source": [
    "### 2.2.1 Adding items to a dictionary"
   ]
  },
  {
   "cell_type": "markdown",
   "metadata": {},
   "source": [
    "There is one very simple way in order to add a **key:value** pair to a dictionary. Please look at the following code snippet:"
   ]
  },
  {
   "cell_type": "code",
   "execution_count": null,
   "metadata": {
    "collapsed": true
   },
   "outputs": [],
   "source": [
    "english2deutsch = dict()\n",
    "#or try english2deutsch = {}\n",
    "print(english2deutsch)"
   ]
  },
  {
   "cell_type": "code",
   "execution_count": null,
   "metadata": {
    "collapsed": true
   },
   "outputs": [],
   "source": [
    "english2deutsch['one'] = 'einz'\n",
    "english2deutsch['two'] = 'zwei'\n",
    "english2deutsch['three'] = 'drei'\n",
    "print(english2deutsch)"
   ]
  },
  {
   "cell_type": "markdown",
   "metadata": {},
   "source": [
    "**Exercise**: add two more cities to `city2population`"
   ]
  },
  {
   "cell_type": "code",
   "execution_count": null,
   "metadata": {
    "collapsed": true
   },
   "outputs": [],
   "source": [
    "city2population['Lagos'] = 16060303\n",
    "city2population['Tianjin'] = 15200000\n",
    "print(city2population)"
   ]
  },
  {
   "cell_type": "markdown",
   "metadata": {},
   "source": [
    "Please note that key:value pairs get overwritten if you assign a different value to an existing key."
   ]
  },
  {
   "cell_type": "code",
   "execution_count": null,
   "metadata": {
    "collapsed": true
   },
   "outputs": [],
   "source": [
    "english2deutsch = dict()\n",
    "print(english2deutsch)\n",
    "english2deutsch['one'] = 'einz?'\n",
    "print(english2deutsch)\n",
    "english2deutsch['one'] = 'zwei?'\n",
    "print(english2deutsch)\n",
    "english2deutsch['one'] = 'drei?'\n",
    "print(english2deutsch)"
   ]
  },
  {
   "cell_type": "markdown",
   "metadata": {
    "collapsed": true
   },
   "source": [
    "**Exercise**: overwrite the value for the last key you added."
   ]
  },
  {
   "cell_type": "code",
   "execution_count": null,
   "metadata": {
    "collapsed": true
   },
   "outputs": [],
   "source": [
    "city2population['Tianjin'] = 15200001\n",
    "print(city2population)"
   ]
  },
  {
   "cell_type": "markdown",
   "metadata": {},
   "source": [
    "## 2.3 Inspecting the dictionary\n",
    "\n",
    "In a dictionary we store values we'd like to inspect later by their keys. **Common situations are**:\n",
    "- mapping words to frequencies (values are integers, floats)\n",
    "- mapping names to a person's individual characteristics (age, gender, etc) (values are strings or numbers)\n",
    "- mapping dates to counts (creating timelines) (values are integers, floats)\n",
    "- mapping bands to their songs titles (values are lists)"
   ]
  },
  {
   "cell_type": "markdown",
   "metadata": {},
   "source": [
    "The most basic operation on a dictionary is a **look-up**. Simply enter the key and the dictionary returns the value. In the example below, we mapped movies to their box-office performance. Keys are the Movie Titles, and values represent the ticket sale."
   ]
  },
  {
   "cell_type": "code",
   "execution_count": null,
   "metadata": {
    "collapsed": true
   },
   "outputs": [],
   "source": [
    "bo = {'Avatar': 27879650875, 'Titanic': 2187463944, 'Star Wars: The Force Awakens': 2068223624}"
   ]
  },
  {
   "cell_type": "code",
   "execution_count": null,
   "metadata": {
    "collapsed": true
   },
   "outputs": [],
   "source": [
    "print(bo['Avatar'])"
   ]
  },
  {
   "cell_type": "markdown",
   "metadata": {
    "collapsed": true
   },
   "source": [
    "If the key is not in the dictionary, Python will raise a ``KeyError``."
   ]
  },
  {
   "cell_type": "code",
   "execution_count": null,
   "metadata": {
    "collapsed": true
   },
   "outputs": [],
   "source": [
    "bo['The Lion King']"
   ]
  },
  {
   "cell_type": "markdown",
   "metadata": {},
   "source": [
    "**Membership operators** appear often to check whether a dictionary contains a specific key. Let's assume we posses a dictionary that maps writers to their date of birth."
   ]
  },
  {
   "cell_type": "code",
   "execution_count": null,
   "metadata": {
    "collapsed": true
   },
   "outputs": [],
   "source": [
    "writer2dob = {'Edgar Allan Poe': 'January 19, 1809',\n",
    "             'Virginia Woolf':'January 25, 1882',\n",
    "             'James Joyce':'February 2, 1882'}"
   ]
  },
  {
   "cell_type": "markdown",
   "metadata": {},
   "source": [
    "I am curious whether I appear in this illustrous set of authors. "
   ]
  },
  {
   "cell_type": "code",
   "execution_count": null,
   "metadata": {
    "collapsed": true
   },
   "outputs": [],
   "source": [
    "print('Do I appear in this dictionary?')\n",
    "writer2dob['Kaspar von Beelen']\n",
    "print('Yes!')"
   ]
  },
  {
   "cell_type": "markdown",
   "metadata": {},
   "source": [
    "Damn, obviously I am not, and Python raises a `KeyError`, which would be annoying when running a larger program, because, as you've noticed, **the program did not get to the last `print()` statement** (meaning it crashed). So, let's write a little program that prints \"X is in the dictionary\" if a particular writer appears in the collection and \"X is NOT in the dictionary\" if it does not."
   ]
  },
  {
   "cell_type": "code",
   "execution_count": null,
   "metadata": {
    "collapsed": true
   },
   "outputs": [],
   "source": [
    "# Tip a membership operation looks as follows:\n",
    "'Edgar Allan Poe' in writer2dob"
   ]
  },
  {
   "cell_type": "code",
   "execution_count": null,
   "metadata": {
    "collapsed": true
   },
   "outputs": [],
   "source": [
    "name = 'Kaspar von Beelen' \n",
    "\n",
    "print('Does ' + name +' appear in this dictionary?')\n",
    "print('\\n')\n",
    "\n",
    "if name in writer2dob:\n",
    "    print(writer2dob[name])\n",
    "else:\n",
    "    print(name + ' not in dictionary')"
   ]
  },
  {
   "cell_type": "markdown",
   "metadata": {},
   "source": [
    "## 2.4 Dictionary Methods\n",
    "### .get()"
   ]
  },
  {
   "cell_type": "markdown",
   "metadata": {},
   "source": [
    "In order to avoid checking all the time for membership or getting a `KeyError` when a key does not appear in the dictionary, you can use the ``get`` method. The **first argument** is the **key** to look up, the **second argument** defines the **value** to be returned if the key is not found:"
   ]
  },
  {
   "cell_type": "code",
   "execution_count": null,
   "metadata": {
    "collapsed": true
   },
   "outputs": [],
   "source": [
    "print(bo.get('The Lion King','Not in Dictionary'))\n",
    "# a good alternative could be \n",
    "print(bo.get('Avatar',False))\n",
    "print(bo.get('The Lion King',False))"
   ]
  },
  {
   "cell_type": "markdown",
   "metadata": {
    "collapsed": true
   },
   "source": [
    "Other methods allow us to access the different components of the dictionary:"
   ]
  },
  {
   "cell_type": "markdown",
   "metadata": {},
   "source": [
    "### .keys()"
   ]
  },
  {
   "cell_type": "markdown",
   "metadata": {},
   "source": [
    "the **keys** method returns the keys in a dictionary "
   ]
  },
  {
   "cell_type": "code",
   "execution_count": null,
   "metadata": {
    "collapsed": true
   },
   "outputs": [],
   "source": [
    "student_grades = {'Frank': 8, 'Susan': 7, 'Guido': 10}\n",
    "the_keys = student_grades.keys()\n",
    "print(the_keys)"
   ]
  },
  {
   "cell_type": "markdown",
   "metadata": {},
   "source": [
    "### .values()"
   ]
  },
  {
   "cell_type": "markdown",
   "metadata": {},
   "source": [
    "the **values** method returns the values in a dictionary"
   ]
  },
  {
   "cell_type": "code",
   "execution_count": null,
   "metadata": {
    "collapsed": true
   },
   "outputs": [],
   "source": [
    "the_values = student_grades.values()\n",
    "print(the_values)"
   ]
  },
  {
   "cell_type": "markdown",
   "metadata": {},
   "source": [
    "We can use the other built-in functions to inspect the keys and values. For example:"
   ]
  },
  {
   "cell_type": "code",
   "execution_count": null,
   "metadata": {
    "collapsed": true
   },
   "outputs": [],
   "source": [
    "the_values = student_grades.values()\n",
    "print(len(the_values)) # number of values in a dict\n",
    "print(max(the_values)) # highest value of values in a dict\n",
    "print(min(the_values)) # lowest value of values in a dict\n",
    "print(sum(the_values)) # sum of all values of values in a dict"
   ]
  },
  {
   "cell_type": "markdown",
   "metadata": {},
   "source": [
    "### .items()"
   ]
  },
  {
   "cell_type": "markdown",
   "metadata": {},
   "source": [
    "the **items** method returns a list of **tuples** (we have a look at tuples later), which allows us to easily loop through a dictionary."
   ]
  },
  {
   "cell_type": "code",
   "execution_count": null,
   "metadata": {
    "collapsed": true
   },
   "outputs": [],
   "source": [
    "student_grades = {'Frank': 8, 'Susan': 7, 'Guido': 10}\n",
    "print(student_grades.items())"
   ]
  },
  {
   "cell_type": "markdown",
   "metadata": {},
   "source": [
    "### `sorted()`"
   ]
  },
  {
   "cell_type": "markdown",
   "metadata": {},
   "source": [
    "Often we want to sort the dictionary by either their keys or values. The Python `sorted()` function is very useful here."
   ]
  },
  {
   "cell_type": "code",
   "execution_count": null,
   "metadata": {
    "collapsed": true
   },
   "outputs": [],
   "source": [
    "student_grades = {'Frank': 8, 'Susan': 7, 'Guido': 10}\n",
    "print(student_grades.items())"
   ]
  },
  {
   "cell_type": "markdown",
   "metadata": {},
   "source": [
    "Sort by key:"
   ]
  },
  {
   "cell_type": "code",
   "execution_count": null,
   "metadata": {
    "collapsed": true
   },
   "outputs": [],
   "source": [
    "sorted(student_grades.items())"
   ]
  },
  {
   "cell_type": "markdown",
   "metadata": {},
   "source": [
    "Sort by value, in ascending order:"
   ]
  },
  {
   "cell_type": "code",
   "execution_count": null,
   "metadata": {
    "collapsed": true
   },
   "outputs": [],
   "source": [
    "sorted(student_grades.items(),key=lambda x:x[1])"
   ]
  },
  {
   "cell_type": "markdown",
   "metadata": {},
   "source": [
    "Sort by value, in descending order:"
   ]
  },
  {
   "cell_type": "code",
   "execution_count": null,
   "metadata": {
    "collapsed": true
   },
   "outputs": [],
   "source": [
    "sorted(student_grades.items(),key=lambda x:x[1],reverse=True)"
   ]
  },
  {
   "cell_type": "markdown",
   "metadata": {},
   "source": [
    "**Exercise**: Sort `word_counts`\n",
    "- Alphabetically\n",
    "- By word frequency in descending order:"
   ]
  },
  {
   "cell_type": "code",
   "execution_count": null,
   "metadata": {
    "collapsed": true
   },
   "outputs": [],
   "source": [
    "word_counts = {',': 1, '.': 1, 'announced': 1, 'are': 1,  'be': 2, 'bosses': 1, 'by': 1,\n",
    "         'company': 1,'failing': 1,'fines': 1,'government': 1, 'hit': 1, 'huge': 1,'irresponsible': 1,\n",
    "         'line': 1, 'may': 1, 'own': 1,'pension': 1, 'plans': 1, 'protect': 1,'schemes': 1,\n",
    "         'their': 1,'theresa': 1, 'to': 3, 'under': 1, 'weeks': 1, 'while': 1, 'who': 1,\n",
    "         'with': 1, 'within': 1, 'workers': 1,}"
   ]
  },
  {
   "cell_type": "code",
   "execution_count": null,
   "metadata": {
    "collapsed": true
   },
   "outputs": [],
   "source": [
    "print(sorted(word_counts.items()))\n",
    "print(sorted(word_counts.items(),key = lambda x: x[1], reverse=True))"
   ]
  },
  {
   "cell_type": "markdown",
   "metadata": {},
   "source": [
    "## 2.5 Iterating over dictionaries"
   ]
  },
  {
   "cell_type": "markdown",
   "metadata": {},
   "source": [
    "Since dictionaries are iterable objects, we can iterate through our good reads collection as well. This will iterate over the *keys* of a dictionary:"
   ]
  },
  {
   "cell_type": "code",
   "execution_count": null,
   "metadata": {
    "collapsed": true
   },
   "outputs": [],
   "source": [
    "good_reads = {\"The Magic Mountain\":9,\n",
    "             \"The Idiot\":7,\n",
    "             \"Don Quixote\": 9.5}\n",
    "\n",
    "for book in good_reads:\n",
    "    print(book)"
   ]
  },
  {
   "cell_type": "markdown",
   "metadata": {},
   "source": [
    "We can also iterate over both the keys and the values of a dictionary, this is done as follows:"
   ]
  },
  {
   "cell_type": "code",
   "execution_count": null,
   "metadata": {
    "collapsed": true
   },
   "outputs": [],
   "source": [
    "good_reads.items()"
   ]
  },
  {
   "cell_type": "code",
   "execution_count": null,
   "metadata": {
    "collapsed": true
   },
   "outputs": [],
   "source": [
    "for x, y in good_reads.items():\n",
    "    print(x + \" has score \" + str(y))"
   ]
  },
  {
   "cell_type": "markdown",
   "metadata": {},
   "source": [
    "**Important**: Notice that we write `for x, y in` and not `for x in`. Because we are interested in titles and scores as seperate items we unpack the item."
   ]
  },
  {
   "cell_type": "code",
   "execution_count": null,
   "metadata": {
    "collapsed": true
   },
   "outputs": [],
   "source": [
    "# just to compare\n",
    "for x in good_reads.items():\n",
    "    print(x + \" has score \" + str(x))"
   ]
  },
  {
   "cell_type": "markdown",
   "metadata": {},
   "source": [
    "## 2.6 Example Counting with dictionaries\n",
    "\n",
    "Dictionaries are very useful to keep track of our data, for example by counting words:"
   ]
  },
  {
   "cell_type": "code",
   "execution_count": null,
   "metadata": {
    "collapsed": true
   },
   "outputs": [],
   "source": [
    "sentence = 'Obama was the president of the USA' # assign the string to the variable sentence\n",
    "words = sentence.split() # split the sentence\n",
    "word2freq = {} # initialize an empty dictionary, here we store the word counts\n",
    "# i.e. word2freq is a mapping from words to their frequencies\n",
    " \n",
    "\n",
    "for word in words: # loop over all the words, word takes each word in turn\n",
    "    if word in word2freq: # add 1 to the dictionary if the keys exists, here we perform membership check on the keys\n",
    "        word2freq[word] += 1 # notice that we use the shorthand for incremental count\n",
    "                             # which as an abbraviations for  word2freq[word] =  word2freq[word] + 1\n",
    "    else: # if the above condition does not hold (word does not appear as key in the dictionary) than set the key's value to one\n",
    "        word2freq[word] = 1 # set default value to 1 if key does not exists \n",
    "\n",
    "    print('Word added = ',word, 'Updated dictionary = ',word2freq)\n",
    "\n",
    "print('\\n')\n",
    "print(word2freq)"
   ]
  },
  {
   "cell_type": "markdown",
   "metadata": {},
   "source": [
    "A lot is happening in the previous code block; the examples below aim to clarify the individual steps."
   ]
  },
  {
   "cell_type": "markdown",
   "metadata": {},
   "source": [
    "#### `if` and `else`: see Notebook 3.1"
   ]
  },
  {
   "cell_type": "code",
   "execution_count": null,
   "metadata": {
    "collapsed": true
   },
   "outputs": [],
   "source": [
    "# change x to see how if else works\n",
    "\n",
    "x = 5\n",
    "\n",
    "if x >= 0:\n",
    "    print(x,' is positive or zero.')\n",
    "else:\n",
    "    print(x, ' is negative.')"
   ]
  },
  {
   "cell_type": "markdown",
   "metadata": {},
   "source": [
    "##### Line 8 (and implicitly line 11): Membership check on the keys of the dictionary"
   ]
  },
  {
   "cell_type": "code",
   "execution_count": null,
   "metadata": {
    "collapsed": true
   },
   "outputs": [],
   "source": [
    "w2fr = {'USA': 1, 'of': 1, 'president': 1, 'the': 2, 'was': 1, 'Obama': 1}\n",
    "\n",
    "\n",
    "print('USA' in w2fr) # in does memership check on the keys if not method is appended to the dictionary\n",
    "print(1 in w2fr) # it does not check if an items appears as values\n",
    "print(1 in w2fr.values()) # unless you caled th values methods of course"
   ]
  },
  {
   "cell_type": "markdown",
   "metadata": {},
   "source": [
    "##### Line 9 and line 12: Updating (9) and setting (12) dictionaries a key\n",
    "\n",
    "Why do we distinguish between updating and setting a key? \n",
    "\n",
    "If we'd only update (which makes sense somehow) Python would raise a `KeyError` because the value for the key we want to increment does not appear yet in the dictionary. For this reason we explicitly set a default (start) value for each new key (i.e. each word which does not appear in the dictionary--in which case the membership condition `in` returns `False`)"
   ]
  },
  {
   "cell_type": "code",
   "execution_count": null,
   "metadata": {
    "collapsed": true
   },
   "outputs": [],
   "source": [
    "w2fr = {'USA': 1, 'of': 1, 'president': 1, 'the': 2, 'was': 1, 'Obama': 1}\n",
    "\n",
    "print('Obama has frequency ',w2fr['Obama'])\n",
    "w2fr['Obama']+=1 \n",
    "print('Obama has frequency ',w2fr['Obama'])\n",
    "\n",
    "# remember +=1 is equal to var = var + 1 \n",
    "# but this is not recommended\n",
    "#w2fr['Obama'] = w2fr['Obama'] + 1 \n",
    "#print('Obama has frequency ',w2fr['Obama'])"
   ]
  },
  {
   "cell_type": "markdown",
   "metadata": {},
   "source": [
    "Now if we want to update the value for a word which key is not in the dictionary, Python throws back a `KeyError`:"
   ]
  },
  {
   "cell_type": "code",
   "execution_count": null,
   "metadata": {
    "collapsed": true
   },
   "outputs": [],
   "source": [
    "w2fr['Barack']+=1 "
   ]
  },
  {
   "cell_type": "markdown",
   "metadata": {},
   "source": [
    "Therefore we have to add the key first, and update it once we encounter it a second time."
   ]
  },
  {
   "cell_type": "code",
   "execution_count": null,
   "metadata": {
    "collapsed": true
   },
   "outputs": [],
   "source": [
    "w2fr['Barack'] = 1 # set key\n",
    "w2fr['Barack'] += 1 # update key, increment count with one"
   ]
  },
  {
   "cell_type": "markdown",
   "metadata": {},
   "source": [
    "### `setdefault()` method\n",
    "\n",
    "The `setdefault()` method simplifies the above code by automatically checking if a key exists, and if not, setting a default value for this key. This method takes two arguments, the key to be set, and the default value for the key."
   ]
  },
  {
   "cell_type": "code",
   "execution_count": null,
   "metadata": {
    "collapsed": true
   },
   "outputs": [],
   "source": [
    "sentence = 'Obama was the president of the USA' # assign the string to the variable sentence\n",
    "words = sentence.split() # split the sentence\n",
    "word2freq = {} # initialize an empty dictionary, here we store the word counts\n",
    "# i.e. word2freq is a mapping from words to their frequencies\n",
    " \n",
    "\n",
    "for word in words: # loop over all the words, word takes each word in turn\n",
    "    \n",
    "    word2freq.setdefault(word,0) # if keys not appear\n",
    "    word2freq[word] += 1 # notice that we use the shorthand for incremental count\n",
    "    \n",
    "    print('Word added = ',word, 'Updated dictionary = ',word2freq)\n",
    "\n",
    "print('\\n')\n",
    "print(word2freq)"
   ]
  },
  {
   "cell_type": "markdown",
   "metadata": {},
   "source": [
    "### Easier ways to count words with Python\n",
    "\n",
    "As counting items in a list is such a common task, Python comes with other tools that make it user to obtain frequencies."
   ]
  },
  {
   "cell_type": "markdown",
   "metadata": {},
   "source": [
    "#### Counter()"
   ]
  },
  {
   "cell_type": "code",
   "execution_count": null,
   "metadata": {
    "collapsed": true
   },
   "outputs": [],
   "source": [
    "from collections import Counter\n",
    "sentence = 'Obama was the president of the USA he is no longer the president of the USA' # assign the string to the variable sentence\n",
    "words = sentence.split() # split the sentence\n",
    "wf = Counter(words)\n",
    "print(wf) # Counter works very much like a dictionary\n",
    "print(wf['the']) # you can look up a word by key\n",
    "print(wf['aa']) # it returns zero if the word does not appear\n",
    "print(wf.most_common(2)) # you can rank the words by their frequency"
   ]
  },
  {
   "cell_type": "markdown",
   "metadata": {},
   "source": [
    "Again, to discover what you can do with a `Counter` object use `help()` or `dir()`."
   ]
  },
  {
   "cell_type": "markdown",
   "metadata": {},
   "source": [
    "### `pop()`"
   ]
  },
  {
   "cell_type": "markdown",
   "metadata": {},
   "source": [
    "We can also delete keys with the `pop` method."
   ]
  },
  {
   "cell_type": "code",
   "execution_count": null,
   "metadata": {
    "collapsed": true
   },
   "outputs": [],
   "source": [
    "print(wf)\n",
    "wf.pop('the')\n",
    "print(wf)"
   ]
  },
  {
   "cell_type": "markdown",
   "metadata": {},
   "source": [
    "### `update()`"
   ]
  },
  {
   "cell_type": "markdown",
   "metadata": {},
   "source": [
    "`update()` merges to dictionaries, i.e. combines the word counts of two different documents in this case."
   ]
  },
  {
   "cell_type": "code",
   "execution_count": null,
   "metadata": {
    "collapsed": true
   },
   "outputs": [],
   "source": [
    "help(Counter.update)"
   ]
  },
  {
   "cell_type": "code",
   "execution_count": null,
   "metadata": {
    "collapsed": true
   },
   "outputs": [],
   "source": [
    "wf1 = Counter('Obama was the president of the USA '.split())\n",
    "wf2 = Counter('he is no longer the president of the USA'.split())\n",
    "print(wf1)\n",
    "print(wf2)\n",
    "wf1.update(wf2)\n",
    "print('')\n",
    "print(wf1)"
   ]
  },
  {
   "cell_type": "markdown",
   "metadata": {},
   "source": [
    "**Exercise**: download Volume I and II of Schopenhauer's 'The World as Will and Idea'\n",
    "- As previously, use requests to download the page from Gutenberg\n",
    "- `word_tokenize()` each of the books\n",
    "- Compute the word frequencies using `Counter()`\n",
    "- Get the hundred most common words (`most_common`)\n",
    "- Which of the common words in volume I are not that common in volume II? "
   ]
  },
  {
   "cell_type": "code",
   "execution_count": null,
   "metadata": {
    "collapsed": true
   },
   "outputs": [],
   "source": [
    "import requests\n",
    "from collections import Counter\n",
    "from nltk.tokenize import word_tokenize\n",
    "\n",
    "vol_i = 'http://www.gutenberg.org/files/38427/38427-0.txt'\n",
    "vol_ii = 'http://www.gutenberg.org/files/40097/40097-0.txt'"
   ]
  },
  {
   "cell_type": "code",
   "execution_count": null,
   "metadata": {
    "collapsed": true
   },
   "outputs": [],
   "source": [
    "text_vol_i = requests.get(vol_i).text\n",
    "tokens = word_tokenize(text_vol_i)\n",
    "wf = Counter(tokens)\n",
    "wf.most_common(100)"
   ]
  },
  {
   "cell_type": "markdown",
   "metadata": {},
   "source": [
    "### 2.6.1 Count song titles by year (making timelines)"
   ]
  },
  {
   "cell_type": "markdown",
   "metadata": {},
   "source": [
    "Now let's apply these techniques to studying our song titles corpus. \n",
    "\n",
    "First we make a little program that collects the counts of a search term by year. This will allow is to make timelines that plot the evolution of a topic by year. "
   ]
  },
  {
   "cell_type": "code",
   "execution_count": null,
   "metadata": {
    "collapsed": true
   },
   "outputs": [],
   "source": [
    "# load the data\n",
    "import requests\n",
    "from nltk.tokenize import word_tokenize\n",
    "url = 'https://labrosa.ee.columbia.edu/millionsong/sites/default/files/AdditionalFiles/tracks_per_year.txt'\n",
    "data = requests.get(url).text.strip() # download the song titles\n",
    "song_titles = data.strip().split('\\n') # split the string into lines"
   ]
  },
  {
   "cell_type": "code",
   "execution_count": null,
   "metadata": {
    "collapsed": true
   },
   "outputs": [],
   "source": [
    "year2counts = {} # create an empty dictionary here we map years to the frequency of a word\n",
    "\n",
    "search = 'love' # define your search term here\n",
    "\n",
    "for row in song_titles: # iterate over the song_titles variable\n",
    "\n",
    "    year,song_id,group,title = row.split('<SEP>') # unpack the row using multiple assignment\n",
    "    # cast year as an integer with int()\n",
    "    year = int(year)\n",
    "    # set the default value for key year to 0\n",
    "    year2counts.setdefault(year,0)\n",
    "    # lowercase the title\n",
    "    title_lower = title.lower()\n",
    "    # tokenize the lowercased title\n",
    "    words = word_tokenize(title_lower)\n",
    "    \n",
    "    if search in words: # membership check, does the word love appear in the list called words\n",
    "        year2counts[year] +=1 # add one if the condition holds\n",
    "\n",
    "# print the results sorted by year\n",
    "print(sorted(year2counts.items()))"
   ]
  },
  {
   "cell_type": "markdown",
   "metadata": {},
   "source": [
    "We can easily plot the time series using functions from an external library called **Pandas**. The code below is just to help you plotting your data, do not worry about it now."
   ]
  },
  {
   "cell_type": "code",
   "execution_count": null,
   "metadata": {
    "collapsed": true
   },
   "outputs": [],
   "source": [
    "import pandas\n",
    "%matplotlib inline\n",
    "series = pandas.Series(year2counts)\n",
    "series.plot()"
   ]
  },
  {
   "cell_type": "markdown",
   "metadata": {},
   "source": [
    "**Question**: Can we conclude that \"love\" has become a more popular theme in pop culture over time?"
   ]
  },
  {
   "cell_type": "markdown",
   "metadata": {
    "collapsed": true
   },
   "source": [
    "Ideally, we'd like to calculate the propability that a song from a certain year is about love. This is relatively straightforward: we have to divide the number of songs about love from year X by the total number of songs from year X.\n",
    "\n",
    "To program below features therefore a small addition: the dictionary `wf` that *also* tracks the number of songs by year."
   ]
  },
  {
   "cell_type": "code",
   "execution_count": null,
   "metadata": {
    "collapsed": true
   },
   "outputs": [],
   "source": [
    "year2counts = {} # create an empty dictionary here we map years to the frequency of a word\n",
    "year2counts_all = {}\n",
    "\n",
    "search = 'love' # define your search term here\n",
    "\n",
    "for row in song_titles: # iterate over the song_titles variable\n",
    "\n",
    "    year,song_id,group,title = row.split('<SEP>') # unpack the row using multiple assignment\n",
    "    # cast year as an integer with int()\n",
    "    year = int(year)\n",
    "    # set the default value for key year to 0\n",
    "    year2counts.setdefault(year,0)\n",
    "    # lowercase the title\n",
    "    title_lower = title.lower()\n",
    "    # tokenize the lowercased title\n",
    "    words = word_tokenize(title_lower)\n",
    "    \n",
    "    year2counts_all.setdefault(year,0)\n",
    "    year2counts_all[year]+=1\n",
    "    \n",
    "    if search in words: # membership check, does the word love appear in the list called words\n",
    "        year2counts[year] +=1 # add one if the condition holds\n",
    "\n",
    "# print the results sorted by year\n",
    "print(sorted(year2counts.items()))"
   ]
  },
  {
   "cell_type": "markdown",
   "metadata": {},
   "source": [
    "If we take a moment to study the total number of songs by year, we also see an increase:"
   ]
  },
  {
   "cell_type": "code",
   "execution_count": null,
   "metadata": {
    "collapsed": true
   },
   "outputs": [],
   "source": [
    "# plot the total number of songs by year\n",
    "series = pandas.Series(year2counts_all)\n",
    "series.plot()"
   ]
  },
  {
   "cell_type": "markdown",
   "metadata": {},
   "source": [
    "For this reason, the **relative frequency of a word will tell us more than the absolute frequency**--almost every search term we define will show an increase over time. Below we add a few more lines to divide the number of songs about love **by the total number of songs** for that specific year. This is called **normalization**.\n",
    "\n",
    "Because we defined the two mappings (year to counts) earlier, this becomes a relatively straightforward task:"
   ]
  },
  {
   "cell_type": "code",
   "execution_count": null,
   "metadata": {
    "collapsed": true
   },
   "outputs": [],
   "source": [
    "# calculate the probability that a song is about love \n",
    "# create an empty dictionary\n",
    "\n",
    "ratios = {}\n",
    "\n",
    "for key, value in year2counts.items():\n",
    "    ratios[key] = year2counts.get(key,0) / year2counts_all[key]"
   ]
  },
  {
   "cell_type": "code",
   "execution_count": null,
   "metadata": {
    "collapsed": true
   },
   "outputs": [],
   "source": [
    "# plot the results\n",
    "pandas.Series(ratios).plot()"
   ]
  },
  {
   "cell_type": "markdown",
   "metadata": {},
   "source": [
    "Exercise: Can you plot the chronological evolution of another term (such as \"dirty\")?"
   ]
  },
  {
   "cell_type": "code",
   "execution_count": null,
   "metadata": {
    "collapsed": true
   },
   "outputs": [],
   "source": [
    "# copy-paste your code here"
   ]
  },
  {
   "cell_type": "markdown",
   "metadata": {},
   "source": [
    "## 2.7 Recap\n",
    "\n",
    "To finish this section, here is an overview of the new concepts and functions you have learnt. Make sure you understand them all.\n",
    "\n",
    "-  dictionary\n",
    "-  indexing or accessing keys of dictionaries\n",
    "-  adding items to a dictionary\n",
    "-  `.keys()`\n",
    "-  `.values()`\n",
    "-  `.get()`\n",
    "-  `pandas.Series().plot()`"
   ]
  },
  {
   "cell_type": "markdown",
   "metadata": {},
   "source": [
    "## 2.8 JSON"
   ]
  },
  {
   "cell_type": "markdown",
   "metadata": {},
   "source": [
    "The previous section covered the most basic elements of Python dictionaries. You know now how to assign values to variables, keys to values etc. A variable is a **box** that can contain almost anything. Instead of strings and integers, we can also analyse  **a whole corpus of Tweets**."
   ]
  },
  {
   "cell_type": "markdown",
   "metadata": {},
   "source": [
    "As an example we used all tweets of the current American President. These we obtained via the [Trump Twitter Archive](http://www.trumptwitterarchive.com/archive)."
   ]
  },
  {
   "cell_type": "markdown",
   "metadata": {},
   "source": [
    "The database is a [JSON](https://en.wikipedia.org/wiki/JSON) file in which each item is a tweet. The cell below shows the first tweet of the collection. It may seem difficult to read JSON notation, but there are various tools to help you. Go for example to this [JSON viewer](http://jsonviewer.stack.hu/) and copy paste the text into the cell below.\n",
    "\n",
    "Basically as JSON object combines Python lists and dictionaries. As it is a very common data type, Python has some libraries to process and read JSON data."
   ]
  },
  {
   "cell_type": "markdown",
   "metadata": {},
   "source": [
    "``{\"source\":\"Twitter for iPhone\",\n",
    "   \"text\":\"The Tax Cut Bill is coming along very well, great support. With just a few changes, some mathematical, the middle class and job producers can get even more in actual dollars and savings and the pass through provision becomes simpler and really works well!\",\n",
    "   \"created_at\":\"Mon Nov 27 14:24:36 +0000 2017\",\n",
    "   \"retweet_count\":15663,\n",
    "   \"favorite_count\":79868,\n",
    "   \"is_retweet\":false,\n",
    "   \"id_str\":\"935152378747195392\"}``"
   ]
  },
  {
   "cell_type": "markdown",
   "metadata": {},
   "source": [
    "This looks almost exactly as a dictionary! To **convert** this JSON item to a proper Python object we can use the `json.loads()` method from the `json` library. `loads()` reads a string and transforms it to a Python readable object."
   ]
  },
  {
   "cell_type": "code",
   "execution_count": null,
   "metadata": {
    "collapsed": true
   },
   "outputs": [],
   "source": [
    "import json\n",
    "tweet = json.loads('''{\"source\":\"Twitter for iPhone\",\n",
    "                    \"text\":\"The Tax Cut Bill is coming along very well, great support. With just a few changes, some mathematical, the middle class and job producers can get even more in actual dollars and savings and the pass through provision becomes simpler and really works well!\",\n",
    "                    \"created_at\":\"Mon Nov 27 14:24:36 +0000 2017\",\n",
    "                    \"retweet_count\":15663,\n",
    "                    \"favorite_count\":79868,\n",
    "                    \"is_retweet\":false,\n",
    "                    \"id_str\":\"935152378747195392\"}''')\n",
    "print(tweet)"
   ]
  },
  {
   "cell_type": "markdown",
   "metadata": {},
   "source": [
    "now we can treat the `tweet` as a dictionary..."
   ]
  },
  {
   "cell_type": "code",
   "execution_count": null,
   "metadata": {
    "collapsed": true
   },
   "outputs": [],
   "source": [
    "# print the number of retweets of the tweet defined above\n",
    "print(tweet['retweet_count'])"
   ]
  },
  {
   "cell_type": "markdown",
   "metadata": {},
   "source": [
    "We can also load the whole corpus from disk, but we need some additional syntax."
   ]
  },
  {
   "cell_type": "code",
   "execution_count": null,
   "metadata": {
    "collapsed": true
   },
   "outputs": [],
   "source": [
    "data = json.load(open('data/trump_tweets.json','r'))\n",
    "print(data[:2])"
   ]
  },
  {
   "cell_type": "markdown",
   "metadata": {},
   "source": [
    "If the previous cell raised a `UnicodeError`, try this:"
   ]
  },
  {
   "cell_type": "code",
   "execution_count": null,
   "metadata": {
    "collapsed": true
   },
   "outputs": [],
   "source": [
    "import codecs\n",
    "data = json.load(codecs.open('data/trump_tweets.json','r',encoding='utf-8'))\n",
    "print(data[:2])"
   ]
  },
  {
   "cell_type": "markdown",
   "metadata": {},
   "source": [
    "We can now see that the loaded JSON corpus is actually a `list`"
   ]
  },
  {
   "cell_type": "code",
   "execution_count": null,
   "metadata": {
    "collapsed": true
   },
   "outputs": [],
   "source": [
    "type(data)"
   ]
  },
  {
   "cell_type": "markdown",
   "metadata": {},
   "source": [
    "Each item in this `list` is a `dict`."
   ]
  },
  {
   "cell_type": "code",
   "execution_count": null,
   "metadata": {
    "collapsed": true
   },
   "outputs": [],
   "source": [
    "type(data[0])"
   ]
  },
  {
   "cell_type": "markdown",
   "metadata": {},
   "source": [
    "**Exercise**: Store all retweet counts in a list named `retweet_count`. Ignore the retweets."
   ]
  },
  {
   "cell_type": "code",
   "execution_count": null,
   "metadata": {
    "collapsed": true
   },
   "outputs": [],
   "source": [
    "retweet_counts = []\n",
    "for tweet in data:\n",
    "    retweet_counts.append(tweet['retweet_count'])\n",
    "print(retweet_counts)"
   ]
  },
  {
   "cell_type": "markdown",
   "metadata": {},
   "source": [
    "**Exercise**: What is the maximum retweet count? What is the minimum?\n",
    "> use max(list)"
   ]
  },
  {
   "cell_type": "code",
   "execution_count": null,
   "metadata": {
    "collapsed": true
   },
   "outputs": [],
   "source": [
    "max(retweet_counts)"
   ]
  },
  {
   "cell_type": "markdown",
   "metadata": {},
   "source": [
    "**Exercise**: Compute the the average retweet count? Use the `sum` and `len` functions.\n",
    "> average = sum of items in the list / number of items in the list"
   ]
  },
  {
   "cell_type": "code",
   "execution_count": null,
   "metadata": {
    "collapsed": true
   },
   "outputs": [],
   "source": [
    "average = sum(retweet_counts)/len(retweet_counts)\n",
    "print(average)"
   ]
  },
  {
   "cell_type": "markdown",
   "metadata": {},
   "source": [
    "The numpy library provides tools for computing such values."
   ]
  },
  {
   "cell_type": "code",
   "execution_count": null,
   "metadata": {
    "collapsed": true
   },
   "outputs": [],
   "source": [
    "import numpy as np\n",
    "mock_example = [i**2 for i in range(4,100,3)]\n",
    "print(mock_example)\n",
    "print(np.mean(mock_example))\n",
    "print(np.median(mock_example))"
   ]
  },
  {
   "cell_type": "markdown",
   "metadata": {},
   "source": [
    "Dictionaries are useful for **mapping** two series. Let's map the 'id_str' to the actual 'text' of the tweet:"
   ]
  },
  {
   "cell_type": "code",
   "execution_count": null,
   "metadata": {
    "collapsed": true
   },
   "outputs": [],
   "source": [
    "id2text = {}\n",
    "for tweet in data:\n",
    "    id2text[tweet['id_str']] = tweet['text']"
   ]
  },
  {
   "cell_type": "code",
   "execution_count": null,
   "metadata": {
    "collapsed": true
   },
   "outputs": [],
   "source": [
    "list(id2text.items())[:4]"
   ]
  },
  {
   "cell_type": "markdown",
   "metadata": {},
   "source": [
    "**Exercise**: Printing the most popular tweets.\n",
    "- Map 'text' to 'retweet_count' (Assume for a moment that each tweet text is unique);\n",
    "- sort the mappying by value in the descending order `sorted()`;\n",
    "- and print the text of the five most popular tweets."
   ]
  },
  {
   "cell_type": "code",
   "execution_count": null,
   "metadata": {
    "collapsed": true
   },
   "outputs": [],
   "source": [
    "text2retweet = {}\n",
    "for tweet in data:\n",
    "    text2retweet[tweet['text']] = tweet['retweet_count']\n",
    "\n",
    "sorted(text2retweet.items(),key = lambda x: x[1],reverse=True)[:5]"
   ]
  },
  {
   "cell_type": "markdown",
   "metadata": {},
   "source": [
    "**Exercise**: Lastly, make a frequency dictionary for tweets that are more popular on average with respect to  their retweet count. Save these word counts in `is_popular`, the others in `not_popular`."
   ]
  },
  {
   "cell_type": "code",
   "execution_count": null,
   "metadata": {
    "collapsed": true
   },
   "outputs": [],
   "source": [
    "popular, not_popular = [],[]\n",
    "for tweet in data:\n",
    "    if tweet['retweet_count'] > average:\n",
    "        popular.extend(word_tokenize(tweet['text']))\n",
    "    else:\n",
    "        not_popular.extend(word_tokenize(tweet['text']))\n",
    "        \n",
    "print(Counter(popular).most_common(100))\n",
    "print(Counter(not_popular).most_common(100))"
   ]
  },
  {
   "cell_type": "markdown",
   "metadata": {},
   "source": [
    "## Vader Sentiment Analyzer\n",
    "[from Github](https://github.com/cjhutto/vaderSentiment): VADER (Valence Aware Dictionary and sEntiment Reasoner) is a lexicon and rule-based sentiment analysis tool that is specifically attuned to sentiments expressed in social media.\n",
    "\n",
    "VADER uses a lexicon (a mapping of words to sentiment values, e.g bad=-1.0, good=+1.0) to compute the sentiment (positivity or negativity) of a text."
   ]
  },
  {
   "cell_type": "code",
   "execution_count": null,
   "metadata": {
    "collapsed": true
   },
   "outputs": [],
   "source": [
    "import nltk\n",
    "nltk.download('vader_lexicon')"
   ]
  },
  {
   "cell_type": "code",
   "execution_count": null,
   "metadata": {
    "collapsed": true
   },
   "outputs": [],
   "source": [
    "from nltk.sentiment import vader\n",
    "analyzer = vader.SentimentIntensityAnalyzer()"
   ]
  },
  {
   "cell_type": "markdown",
   "metadata": {},
   "source": [
    "Below you can test VADER yourself by changing the value of the ``text`` variable, and running the code block. \n",
    "\n",
    "Can you trick the system? Not very easy isn't it?!"
   ]
  },
  {
   "cell_type": "code",
   "execution_count": null,
   "metadata": {
    "collapsed": true
   },
   "outputs": [],
   "source": [
    "text = \"Not interesting.\"\n",
    "vs = analyzer.polarity_scores(text)['compound']\n",
    "print(\"{:_<65} {}\".format(text, str(vs)))"
   ]
  },
  {
   "cell_type": "markdown",
   "metadata": {},
   "source": [
    "**Exercise**: Find the most positive and negative tweets in the corpus. Map tweets text to their sentiment values."
   ]
  },
  {
   "cell_type": "code",
   "execution_count": null,
   "metadata": {
    "collapsed": true
   },
   "outputs": [],
   "source": [
    "text2sentiment = {}\n",
    "for tweet in data:\n",
    "    text2sentiment[tweet['text']] = analyzer.polarity_scores(tweet['text'])['compound']\n",
    "sorted(text2sentiment.items(),key = lambda x:x[1])"
   ]
  },
  {
   "cell_type": "markdown",
   "metadata": {},
   "source": [
    "### Example: JSON and the New York Times API\n",
    "Retrieving data from the **New York Times API** (Application Programming Interface)."
   ]
  },
  {
   "cell_type": "markdown",
   "metadata": {},
   "source": [
    "\n",
    "Below you see an example of a JSOM file that represent an article retrieved via the New York Times API. Copy-paste this example http://jsonviewer.stack.hu/ to inspect the document's structure.\n",
    "\n",
    "``\n",
    "{\"status\":\"OK\", \"copyright\":\"Copyright (c) 2017 The New York Times Company. All Rights Reserved.\", \"response\": {\"docs\":[{\"web_url\": \"https://query.nytimes.com/gst/abstract.html?res=9D03E5D71E3AE433A25753C3A9649D946696D6CF\", \"snippet\":\"\\\"But Colonel ROOSEVELT,\\\" I suggested, \\\"is advocating universal service as a permanent thing.\\\"\",\"abstract\":\"for endless militarism, editorial\",\"print_page\":\"E2\",\"blog\":{},\"source\":\"The New York Times\",\"multimedia\":[],\"headline\":{\"main\":\"FOR ENDLESS MILITARISM.\"},\"keywords\":[{\"isMajor\":null,\"rank\":0,\"name\":\"subject\",\"value\":\"EUROPEAN WAR\"},{\"isMajor\":null,\"rank\":0,\"name\":\"subject\",\"value\":\"PEACE AND MEDIATION\"},{\"isMajor\":null,\"rank\":0,\"name\":\"subject\",\"value\":\"OFFICIAL OVERTURES AND STATEMENTS\"}],\"pub_date\":\"1917-12-30T00:00:00Z\", \"document_type\":\"article\",\"type_of_material\":\"Editorial\",\"_id\":\"4fc079c745c1498b0d307c64\",\"word_count\":692,\"score\":0.0}]}}\n",
    "``\n",
    "\n",
    "Please note that the JSON document has a **tree-like shape** (head nodes with branches).\n",
    "\n",
    "Many institutions provide web APIs, allowing users to access information about their collections in JSON via simple HTTP requests. But how to access the historical archive of the New York Times?\n",
    "\n",
    "First, get an API Key on: https://developer.nytimes.com/\n",
    "\n",
    "In the examples below, the api-key is replaced by ``###``. Please put your own key there.\n",
    "\n",
    "After you received the key, you can interact with the API using URLs as queries. The URL below is an example in which I wanted to find all articles mentioning \"Armenia\" during the First World War. \n",
    "\n",
    "https://api.nytimes.com/svc/search/v2/articlesearch.json?q=armenia&begin_date=19140101&end_date=19180101&api-key=###\n",
    "\n",
    "The URL contains the following parts:\n",
    "* the **base URL** **``https://api.nytimes.com/svc/search/v2/articlesearch.json``**\n",
    "* the base URL is followed by a question mark **``?``**, which introduces the **query**.\n",
    "* The query contains different **parameters**: **``q``**, **``begin``**, **``end``** and **``api-key``**\n",
    "* We want to search for the term \"Armenia\" in broadly the Second World War.\n",
    "* A list of all available parameters can be found [here]( https://developer.nytimes.com/article_search_v2.json#/Documentation/GET/articlesearch.json) and then click **Show details**.\n",
    "* all the parameters are joined using the **``&``** symbol."
   ]
  },
  {
   "cell_type": "code",
   "execution_count": 15,
   "metadata": {
    "collapsed": true
   },
   "outputs": [],
   "source": [
    "import requests\n",
    "key = open('/Users/kasparbeelen/Desktop/apikey.txt','r').read()\n",
    "#key = # put you API key here\n",
    "url = 'https://api.nytimes.com/svc/search/v2/articlesearch.json?q=armenia&begin_date=19140101&page=2&end_date=19180101&api-key='\n",
    "call = url+key\n",
    "data = requests.get(call).json()"
   ]
  },
  {
   "cell_type": "markdown",
   "metadata": {},
   "source": [
    "**Exercise**: Inspect the data using the JSON Viewer. Write `print(json.dumps(data))` and copy-paste the result [here](http://jsonviewer.stack.hu/)."
   ]
  },
  {
   "cell_type": "markdown",
   "metadata": {},
   "source": [
    "All the articles are hidden under the 'response' key and then the 'docs' key."
   ]
  },
  {
   "cell_type": "code",
   "execution_count": 16,
   "metadata": {},
   "outputs": [
    {
     "data": {
      "text/plain": [
       "[{'_id': '4fc079fe45c1498b0d308c57',\n",
       "  'abstract': 'report on relief work by War Council',\n",
       "  'blog': {},\n",
       "  'document_type': 'article',\n",
       "  'headline': {'content_kicker': None,\n",
       "   'kicker': None,\n",
       "   'main': 'RED CROSS REPORTS 5,000,000 MEMBERS; War Council of the American Branch Describes Work in Allied Countries. MILLIONS OF WOMEN AID Value of Articles to be Made by Them in Year Estimated at About $40,000,000. Funds Fast Dwindling. 5,580 in Ambulance Work. Relief Work in France. 95,000 in Brooklyn Join Red Cross.',\n",
       "   'name': None,\n",
       "   'print_headline': None,\n",
       "   'seo': None,\n",
       "   'sub': None},\n",
       "  'keywords': [{'major': None,\n",
       "    'name': 'organizations',\n",
       "    'rank': 0,\n",
       "    'value': 'RED CROSS SOC.'},\n",
       "   {'major': None,\n",
       "    'name': 'organizations',\n",
       "    'rank': 0,\n",
       "    'value': 'RED CROSS SOC.'},\n",
       "   {'major': None, 'name': 'organizations', 'rank': 0, 'value': 'WAR COUNCIL'},\n",
       "   {'major': None,\n",
       "    'name': 'organizations',\n",
       "    'rank': 0,\n",
       "    'value': 'RED CROSS SOC.'},\n",
       "   {'major': None,\n",
       "    'name': 'subject',\n",
       "    'rank': 0,\n",
       "    'value': 'MEMBERSHIP CAMPAIGN'},\n",
       "   {'major': None,\n",
       "    'name': 'subject',\n",
       "    'rank': 0,\n",
       "    'value': 'MISSION TO FRANCE'}],\n",
       "  'multimedia': [],\n",
       "  'print_page': '15',\n",
       "  'pub_date': '1917-12-03T00:00:00Z',\n",
       "  'score': 0.0,\n",
       "  'snippet': 'The firs semi-annual report of the War Council of the American Red Cross, which was appointed by President Wilson last May, and of which Henry P. Davison is the Chairman, was made  public yesterday. The report is addressed to the American people, ...',\n",
       "  'source': 'The New York Times',\n",
       "  'type_of_material': 'Article',\n",
       "  'web_url': 'https://query.nytimes.com/gst/abstract.html?res=9905E7D9133BEE3ABC4B53DFB467838C609EDE',\n",
       "  'word_count': 1052},\n",
       " {'_id': '4fc06c0245c1498b0d2c302b',\n",
       "  'abstract': 'poem on the war written for benefit of Library Fund',\n",
       "  'blog': {},\n",
       "  'document_type': 'article',\n",
       "  'headline': {'content_kicker': None,\n",
       "   'kicker': None,\n",
       "   'main': 'WAR AS SEEN BY FAMOUS AUTHORS; British and American Literary Men\\'s Views Written for the Library Fund. G.B.S. ON \"SILLY SPITES\" \"Fight Like a Man,\" He Says, \"Respecting Enemy as You Respect Yourself.\"',\n",
       "   'name': None,\n",
       "   'print_headline': None,\n",
       "   'seo': None,\n",
       "   'sub': None},\n",
       "  'keywords': [{'major': None,\n",
       "    'name': 'persons',\n",
       "    'rank': 0,\n",
       "    'value': 'CONE, HELEN GRAY'}],\n",
       "  'multimedia': [],\n",
       "  'print_page': 'E8',\n",
       "  'pub_date': '1917-12-02T00:00:00Z',\n",
       "  'score': 0.0,\n",
       "  'snippet': 'An intresting contribution to the work of the War Library Fund has been made by Mrs. Annie Nathan Meyer in a collection of autographed opinions on the war by famous American and English authors. Mrs. Meyer is having a book made of the signed contr...',\n",
       "  'source': 'The New York Times',\n",
       "  'type_of_material': 'Article',\n",
       "  'web_url': 'https://query.nytimes.com/gst/abstract.html?res=9B04E0DE1E3AE433A25751C0A9649D946696D6CF',\n",
       "  'word_count': 1060},\n",
       " {'_id': '4fc08b9d45c1498b0d359114',\n",
       "  'abstract': 'fraternization reported near Skrobova and Ovokhvshtchina',\n",
       "  'blog': {},\n",
       "  'document_type': 'article',\n",
       "  'headline': {'content_kicker': None,\n",
       "   'kicker': None,\n",
       "   'main': 'RUSSIANS REPEL TURKS.; More Fraternization with Teutons Observed in North.',\n",
       "   'name': None,\n",
       "   'print_headline': None,\n",
       "   'seo': None,\n",
       "   'sub': None},\n",
       "  'keywords': [{'major': None,\n",
       "    'name': 'subject',\n",
       "    'rank': 0,\n",
       "    'value': 'EUROPEAN WAR'},\n",
       "   {'major': None,\n",
       "    'name': 'subject',\n",
       "    'rank': 0,\n",
       "    'value': 'CAMPAIGN, IN ASIA MINOR AND EGYPT'},\n",
       "   {'major': None, 'name': 'subject', 'rank': 0, 'value': 'EUROPEAN WAR'},\n",
       "   {'major': None,\n",
       "    'name': 'subject',\n",
       "    'rank': 0,\n",
       "    'value': 'CAMPAIGN IN EUROPE, EASTERN'}],\n",
       "  'multimedia': [],\n",
       "  'print_page': '2',\n",
       "  'pub_date': '1917-11-27T00:00:00Z',\n",
       "  'score': 0.0,\n",
       "  'snippet': 'fraternization reported near Skrobova and Ovokhvshtchina',\n",
       "  'source': 'The New York Times',\n",
       "  'type_of_material': 'Article',\n",
       "  'web_url': 'https://query.nytimes.com/gst/abstract.html?res=9403E3D6113AE433A25754C2A9679D946696D6CF',\n",
       "  'word_count': 122},\n",
       " {'_id': '4fc08bd245c1498b0d35a3fa',\n",
       "  'abstract': 'speaks in behalf of Syrian relief at mass meeting in Brooklyn Academy of Music',\n",
       "  'blog': {},\n",
       "  'document_type': 'article',\n",
       "  'headline': {'content_kicker': None,\n",
       "   'kicker': None,\n",
       "   'main': '$45,000 MORE FOR SYRIANS.; Brooklyn Mass Meeting Adds to Relief Fund.',\n",
       "   'name': None,\n",
       "   'print_headline': None,\n",
       "   'seo': None,\n",
       "   'sub': None},\n",
       "  'keywords': [{'major': None,\n",
       "    'name': 'persons',\n",
       "    'rank': 0,\n",
       "    'value': 'MORGENTHAU, HENRY'},\n",
       "   {'major': None, 'name': 'persons', 'rank': 0, 'value': 'WILLIAMS, TALCOTT'},\n",
       "   {'major': None, 'name': 'subject', 'rank': 0, 'value': 'EUROPEAN WAR'},\n",
       "   {'major': None, 'name': 'subject', 'rank': 0, 'value': 'RELIEF WORK'},\n",
       "   {'major': None,\n",
       "    'name': 'subject',\n",
       "    'rank': 0,\n",
       "    'value': 'CONTRIBUTIONS AND BENEFITS'}],\n",
       "  'multimedia': [],\n",
       "  'print_page': '15',\n",
       "  'pub_date': '1917-11-26T00:00:00Z',\n",
       "  'score': 0.0,\n",
       "  'snippet': 'At the close of a mass meeting held at the Academy of Music in Brooklyn yesterday afternoon and attended by 2,500 persons, it was announced that $45,000 had been pledged for Syrian relief work.',\n",
       "  'source': 'The New York Times',\n",
       "  'type_of_material': 'Article',\n",
       "  'web_url': 'https://query.nytimes.com/gst/abstract.html?res=9900E4D6113AE433A25755C2A9679D946696D6CF',\n",
       "  'word_count': 372},\n",
       " {'_id': '4fc0756b45c1498b0d2f41ee',\n",
       "  'abstract': 'editorial',\n",
       "  'blog': {},\n",
       "  'document_type': 'article',\n",
       "  'headline': {'content_kicker': None,\n",
       "   'kicker': None,\n",
       "   'main': 'WOMAN SUFFRAGE AS THE HIGHEST DUTY.',\n",
       "   'name': None,\n",
       "   'print_headline': None,\n",
       "   'seo': None,\n",
       "   'sub': None},\n",
       "  'keywords': [{'major': None,\n",
       "    'name': 'glocations',\n",
       "    'rank': 0,\n",
       "    'value': 'UNITED STATES'},\n",
       "   {'major': None, 'name': 'glocations', 'rank': 0, 'value': 'NEW YORK STATE'},\n",
       "   {'major': None, 'name': 'glocations', 'rank': 0, 'value': 'UNITED STATES'},\n",
       "   {'major': None,\n",
       "    'name': 'glocations',\n",
       "    'rank': 0,\n",
       "    'value': 'RUSSIA, RELATIONS WITH'},\n",
       "   {'major': None, 'name': 'subject', 'rank': 0, 'value': 'WOMAN SUFFRAGE'}],\n",
       "  'multimedia': [],\n",
       "  'print_page': '12',\n",
       "  'pub_date': '1917-11-22T00:00:00Z',\n",
       "  'score': 0.0,\n",
       "  'snippet': 'Wisdom was not justified of her children on the \"Victory Night\" of the State Woman Suffrage Party. Rejoicing and pitiless, the suffragists are to make a campaign in every Congress district and Legislative district against candidates who refuse ...',\n",
       "  'source': 'The New York Times',\n",
       "  'type_of_material': 'Editorial',\n",
       "  'web_url': 'https://query.nytimes.com/gst/abstract.html?res=9400E2D8113AE433A25751C2A9679D946696D6CF',\n",
       "  'word_count': 729},\n",
       " {'_id': '4fc0756f45c1498b0d2f4300',\n",
       "  'abstract': 'Hippodrome audience responds to appeals from prominent speakers for aid of Armenians',\n",
       "  'blog': {},\n",
       "  'document_type': 'article',\n",
       "  'headline': {'content_kicker': None,\n",
       "   'kicker': None,\n",
       "   'main': 'GIVE $75,000 TO AID ARMENIAN CHILDREN; Hippodrome Audience Loosens Purse Strings in Answer to Stirring Pleas. BELGIAN JOINS IN APPEAL Rabbi Wise Thrills Hearers by Declaration That America Will Fight Until Victory Is Won.',\n",
       "   'name': None,\n",
       "   'print_headline': None,\n",
       "   'seo': None,\n",
       "   'sub': None},\n",
       "  'keywords': [{'major': None,\n",
       "    'name': 'persons',\n",
       "    'rank': 0,\n",
       "    'value': 'WISE, STEPHEN SAMUEL'},\n",
       "   {'major': None,\n",
       "    'name': 'persons',\n",
       "    'rank': 0,\n",
       "    'value': 'FINLEY, JOHN HUSTON'},\n",
       "   {'major': None, 'name': 'persons', 'rank': 0, 'value': 'MORGENTHAU, HENRY'},\n",
       "   {'major': None, 'name': 'subject', 'rank': 0, 'value': 'EUROPEAN WAR'},\n",
       "   {'major': None, 'name': 'subject', 'rank': 0, 'value': 'RELIEF WORK'},\n",
       "   {'major': None,\n",
       "    'name': 'subject',\n",
       "    'rank': 0,\n",
       "    'value': 'CONTRIBUTIONS AND BENEFITS'}],\n",
       "  'multimedia': [],\n",
       "  'print_page': '12',\n",
       "  'pub_date': '1917-11-12T00:00:00Z',\n",
       "  'score': 0.0,\n",
       "  'snippet': \"While patriotic and religious music of Armenia and America, echoed through the Hippodrome's galleries yesterday afternoon, men well known in public life made stirring and successful ...\",\n",
       "  'source': 'The New York Times',\n",
       "  'type_of_material': 'Article',\n",
       "  'web_url': 'https://query.nytimes.com/gst/abstract.html?res=9D07E5D6123FE433A25751C1A9679D946696D6CF',\n",
       "  'word_count': 747},\n",
       " {'_id': '4fc06cc645c1498b0d2c7213',\n",
       "  'abstract': 'Peace only after victory, editorial on U. S. aims',\n",
       "  'blog': {},\n",
       "  'document_type': 'article',\n",
       "  'headline': {'content_kicker': None,\n",
       "   'kicker': None,\n",
       "   'main': 'PEACE ONLY AFTER VICTORY.',\n",
       "   'name': None,\n",
       "   'print_headline': None,\n",
       "   'seo': None,\n",
       "   'sub': None},\n",
       "  'keywords': [{'major': None,\n",
       "    'name': 'persons',\n",
       "    'rank': 0,\n",
       "    'value': 'WILSON, WOODROW'},\n",
       "   {'major': None, 'name': 'subject', 'rank': 0, 'value': 'EUROPEAN WAR'},\n",
       "   {'major': None, 'name': 'subject', 'rank': 0, 'value': 'DISCUSSION'},\n",
       "   {'major': None, 'name': 'subject', 'rank': 0, 'value': 'EDITORIALS'},\n",
       "   {'major': None, 'name': 'subject', 'rank': 0, 'value': 'EUROPEAN WAR'},\n",
       "   {'major': None, 'name': 'subject', 'rank': 0, 'value': 'EUROPEAN WAR'},\n",
       "   {'major': None,\n",
       "    'name': 'subject',\n",
       "    'rank': 0,\n",
       "    'value': 'PEACE AND MEDIATION'},\n",
       "   {'major': None,\n",
       "    'name': 'subject',\n",
       "    'rank': 0,\n",
       "    'value': 'GENERAL DISCUSSION'}],\n",
       "  'multimedia': [],\n",
       "  'print_page': '12',\n",
       "  'pub_date': '1917-11-12T00:00:00Z',\n",
       "  'score': 0.0,\n",
       "  'snippet': 'In this moment of anxiety and of peril, when virtual anarchy in Russia and reverses in Italy have brought into view the full magnitude of the work Great Britain, France, and the ...',\n",
       "  'source': 'The New York Times',\n",
       "  'type_of_material': 'Editorial',\n",
       "  'web_url': 'https://query.nytimes.com/gst/abstract.html?res=9F04E5D6123FE433A25751C1A9679D946696D6CF',\n",
       "  'word_count': 2074},\n",
       " {'_id': '4fc0652545c1498b0d2a2993',\n",
       "  'blog': {},\n",
       "  'byline': {'organization': None,\n",
       "   'original': 'By AGNES REPPLIER',\n",
       "   'person': [{'firstname': 'Agnes',\n",
       "     'lastname': 'REPPLIER',\n",
       "     'middlename': None,\n",
       "     'organization': '',\n",
       "     'qualifier': None,\n",
       "     'rank': 1,\n",
       "     'role': 'reported',\n",
       "     'title': None}]},\n",
       "  'document_type': 'article',\n",
       "  'headline': {'content_kicker': None,\n",
       "   'kicker': '1',\n",
       "   'main': 'SAVAGERY UP-TO-DATE; Attila the Hun and His Untutored Hordes Were Often Less Cruel Invaders Than Their Modern Successors of 1917 A.D.',\n",
       "   'name': None,\n",
       "   'print_headline': None,\n",
       "   'seo': None,\n",
       "   'sub': None},\n",
       "  'keywords': [],\n",
       "  'multimedia': [],\n",
       "  'print_page': '66',\n",
       "  'pub_date': '1917-11-11T00:00:00Z',\n",
       "  'score': 0.0,\n",
       "  'snippet': 'THERE is one illusion which the world--that portion of the world, at least, which we rashly call civilized--has for a century and  more hogged to its benighted soul. Mankind, we believed and said, had grown humane.  ',\n",
       "  'source': 'The New York Times',\n",
       "  'type_of_material': 'Article',\n",
       "  'web_url': 'https://query.nytimes.com/gst/abstract.html?res=9B07E3D7123FE433A25752C1A9679D946696D6CF',\n",
       "  'word_count': 3897},\n",
       " {'_id': '4fc0713845c1498b0d2ddb41',\n",
       "  'blog': {},\n",
       "  'document_type': 'article',\n",
       "  'headline': {'content_kicker': None,\n",
       "   'kicker': '1',\n",
       "   'main': 'Shipping News; Miniature Almanac for Today. Official Shipping List.',\n",
       "   'name': None,\n",
       "   'print_headline': None,\n",
       "   'seo': None,\n",
       "   'sub': None},\n",
       "  'keywords': [],\n",
       "  'multimedia': [],\n",
       "  'print_page': '19',\n",
       "  'pub_date': '1917-11-10T00:00:00Z',\n",
       "  'score': 0.0,\n",
       "  'snippet': '',\n",
       "  'source': 'The New York Times',\n",
       "  'type_of_material': 'Article',\n",
       "  'web_url': 'https://query.nytimes.com/gst/abstract.html?res=9E01E1D8123FE433A25753C1A9679D946696D6CF',\n",
       "  'word_count': 166},\n",
       " {'_id': '4fc079fd45c1498b0d308be0',\n",
       "  'abstract': 'speaks on devastation in France and Armenia in address at luncheon given in his honor by the Aldine Club',\n",
       "  'blog': {},\n",
       "  'document_type': 'article',\n",
       "  'headline': {'content_kicker': None,\n",
       "   'kicker': None,\n",
       "   'main': 'ALDINE CLUB HONORS ELKUS.; Ex-Ambassador Tells of Devastation He Saw While Abroad.',\n",
       "   'name': None,\n",
       "   'print_headline': None,\n",
       "   'seo': None,\n",
       "   'sub': None},\n",
       "  'keywords': [{'major': None,\n",
       "    'name': 'persons',\n",
       "    'rank': 0,\n",
       "    'value': 'ELKUS, ABRAM I.'}],\n",
       "  'multimedia': [],\n",
       "  'print_page': '14',\n",
       "  'pub_date': '1917-11-08T00:00:00Z',\n",
       "  'score': 0.0,\n",
       "  'snippet': 'Ruthless devastation by Germans in France and by Turks in Armenia was dramatically described by ex-Ambassador to Turkey A.I. Elkus yesterday at a luncheon in his honor at the Aldine Club. More than 500,000 Armenians have either been murdered by vi...',\n",
       "  'source': 'The New York Times',\n",
       "  'type_of_material': 'Article',\n",
       "  'web_url': 'https://query.nytimes.com/gst/abstract.html?res=9501E3D9123FE433A2575BC0A9679D946696D6CF',\n",
       "  'word_count': 303}]"
      ]
     },
     "execution_count": 16,
     "metadata": {},
     "output_type": "execute_result"
    }
   ],
   "source": [
    "data['response']['docs']"
   ]
  },
  {
   "cell_type": "markdown",
   "metadata": {},
   "source": [
    "**Exercise**: print the abstract of each article. Use the `get()` method, return \"NaN\" if the article lacks an abstract."
   ]
  },
  {
   "cell_type": "code",
   "execution_count": 4,
   "metadata": {},
   "outputs": [
    {
     "name": "stdout",
     "output_type": "stream",
     "text": [
      "report on relief work by War Council\n",
      "poem on the war written for benefit of Library Fund\n",
      "fraternization reported near Skrobova and Ovokhvshtchina\n",
      "speaks in behalf of Syrian relief at mass meeting in Brooklyn Academy of Music\n",
      "editorial\n",
      "Hippodrome audience responds to appeals from prominent speakers for aid of Armenians\n",
      "Peace only after victory, editorial on U. S. aims\n",
      "NaN\n",
      "NaN\n",
      "speaks on devastation in France and Armenia in address at luncheon given in his honor by the Aldine Club\n"
     ]
    }
   ],
   "source": [
    "for doc in data['response']['docs']:\n",
    "    print(doc.get('abstract','NaN'))"
   ]
  },
  {
   "cell_type": "markdown",
   "metadata": {},
   "source": [
    "This prints only the first ten hits, while the total numbers of articles the mention Armenia is:"
   ]
  },
  {
   "cell_type": "code",
   "execution_count": 17,
   "metadata": {},
   "outputs": [
    {
     "data": {
      "text/plain": [
       "464"
      ]
     },
     "execution_count": 17,
     "metadata": {},
     "output_type": "execute_result"
    }
   ],
   "source": [
    "data['response']['meta']['hits']"
   ]
  },
  {
   "cell_type": "code",
   "execution_count": 34,
   "metadata": {},
   "outputs": [],
   "source": [
    "urls = []\n",
    "for i in list(range(10)):\n",
    "    url = 'https://api.nytimes.com/svc/search/v2/articlesearch.json?q=stalin&begin_date=19450101&page='+str(i)+'&end_date=19500101&api-key='\n",
    "    urls.append(url)\n",
    "#print(urls)\n",
    "\n",
    "data = []\n",
    "import time\n",
    "for u in urls:\n",
    "    time.sleep(1)\n",
    "    call = u+key\n",
    "    data.append(requests.get(call).json())\n",
    "    "
   ]
  },
  {
   "cell_type": "code",
   "execution_count": 29,
   "metadata": {},
   "outputs": [
    {
     "data": {
      "text/plain": [
       "'\\ufeff\"id\",\"index\",\"type\",\"score\",\"date\",\"speaker\",\"party\",\"function\",\"role\",\"paragraphs_count\",\"house\",\"highlight text\"\\n\"nl.proc.sgd.d.197919800000751.1.11.2\",\"nl.proc\",\"speech\",1.4645857,\"1980-01-28\",\"Schakel\",\"null\",\"voorzitter\",\"chair\",3,\"commons\",\"Door de leden Beckersde Bruijn, Van den Berg, Wessel-Tuinstra, Kappeyne van de Coppello en Nijpels word t de volgende motie voorgesteld: De Kamer, gehoord de beraadslaging; overwegende, dat in verschillende landen mensen worden vervolgd op grond van hun <em>homosexualiteit</em>, hetgeen niet zelden leidt tot langdurige vrijheidsstraf of zelfs de doodstraf\"\\n\"nl.proc.sgd.d.198619870000873.27.2.2\",\"nl.proc\",\"speech\",1.3808246,\"1986-12-16\",\"Dolman\",\"null\",\"voorzitter\",\"chair\",5,\"commons\",\"Op verzoek van Tweede Kamer Overheidsbeleid en <em>homosexualiteit</em> 16 december 1986 TK3 6 36-206 6 Svildens-Rozendaa l mevrouw Swildens-Rozendaal stel ik voor, haar motie ( 1 9 504 , nr. 5) van de agenda af te voeren. Daartoe wordt besloten.\"\\n\"nl.proc.sgd.d.197919800000761.1.23.2\",\"nl.proc\",\"speech\",1.0356184,\"1980-03-17\",\"Joekes\",\"null\",\"voorzitter\",\"chair\",3,\"commons\",\"Door de leden Bolkestein, Verkerk-Terpstra, Scholten, Gualthérie van Weezel, Van den Bergh en Van der Spek wordt de volgende motie voorgesteld: De Kamer, gehoord de beraadslaging; kennis genomen hebbende van de bepalingen in de Ierse strafwet betreffende <em>homosexualiteit</em>; overwegende, dat Ierland als lidstaat van de Europese Gemeenschap een land is\"\\n\"nl.proc.sgd.d.191019110000285.2.34\",\"nl.proc\",\"speech\",0.9763904,\"1911-03-01\",\"Regout\",\"null\",\"minister\",\"government\",5,\"commons\",\" handelen. Ik meet met twee maten. Ik beschouw <em>homosexualiteit</em> als veel grooter en intenser kwaad dan heterosexueele vergrijpen; ik heb voor het eerste een afzonderlijk artikel, met een zware strafbepaling. Ik maak verschil, naargelang het homosexueele dan wel heterosexueele handelingen geldt, de heer Troelstra en de zijnen doen dit niet. Tegen het niet\"\\n\"nl.proc.sgd.d.197919800000701.3.17\",\"nl.proc\",\"speech\",0.89687186,\"1980-05-06\",\"van Rossum\",\"SGP\",\"De heer\",\"mp\",4,\"commons\",\" verkregen informatie doet, dan werkt het niet. Onze houding ten opzichte van de Sanctiewet is bekend. Wij vonden deze motie wat in het verlengde daarvan liggen en daarom hebben wi j ertegen gestemd. Wij hebben gestemd tegen alle moties over de <em>homosexualiteit</em>, omdat wi j vrezen dat wanneer de Kamer op deze wijze uitspraken gaat doen de\"\\n\"nl.proc.sgd.d.197919800000761.1.10.4\",\"nl.proc\",\"speech\",0.86301535,\"1980-03-17\",\"Joekes\",\"null\",\"voorzitter\",\"chair\",3,\"commons\",\"Door de leden Waltmans, Van den Bergh, Bischoff van Heemskerck, Scholten, Bolkestein en Van der Spek wordt de volgende motie voorgesteld: De Kamer, gehoord de beraadslaging; overwegende, dat in verschillende landen mensen worden vervolgd op grond van hun <em>homosexualiteit</em>, hetgeen niet zelden leidt tot langdurige vrijheidsstraf of zelfs tot\"\\n\"nl.proc.sgd.d.198319840000974.2.11.15\",\"nl.proc\",\"speech\",0.73229283,\"1984-06-21\",\"Buikema\",\"CDA\",\"De heer\",\"mp\",5,\"commons\",\"Het gaat om het voeren van een creatief beleid op het punt van civiele of administratiefrechtelijke sancties, wat naar mijn idee in het algemeen zou moeten gebeuren. Ik heb nog een vraag over de strafrechtelijke bestrijding van discriminatie wegens <em>homosexualiteit</em>. De staatssecretaris heeft gezegd, dat dit onderdeel uitmaakt van de beraadslagingen\"\\n\"nl.proc.sgd.d.197019710000642.5.13\",\"nl.proc\",\"speech\",0.7116607,\"1971-01-27\",\"Diepenhorst\",\"ARP\",\"De heer\",\"mp\",18,\"commons\",\"Mijnheer \\\\\"S& Voorzitter! Dit ogenschijnlijk eenvoudige en beknopte wetsontwerp heeft iets van een ijsberg, waarbij het overgrote deel van de totale massa verborgen blijft. Het lijkt alles heel simpel: Er verdwijnt een bestaande strafbepaling ter zake van <em>homosexualiteit</em> met minderjarigen; verder is er nog een kleine technische verandering in het\"\\n\"nl.proc.sgd.d.198519860000767.2.15.8\",\"nl.proc\",\"speech\",0.6904123,\"1985-10-02\",\"Wagenaar\",\"null\",\"De heer\",\"mp\",2,\"commons\",\" over <em>homosexualiteit</em> binnen het kader van schoolverenigingen enzovoorsts het kabinet zelf ook spreekt. Daarop doel ik, als ik spreek over het maken van een onderscheid tussen objectieve normen in openbaar gedrag en gedragingen binnen de samenlevingsverbanden. Als de minister dat onderscheid niet maakt, komt hij met zijn standpunt toch in de buurt van hetgeen waaraan ook de oppositie wel denkt: een tè ambitieuze bestrijding van discriminatie.\"\\n\"nl.proc.sgd.d.198619870000855.2.4.3\",\"nl.proc\",\"speech\",0.6904123,\"1986-10-30\",\"Dolman\",\"null\",\"voorzitter\",\"chair\",3,\"commons\",\" <em>Homosexualiteit</em> ( 19 504 ) ; III. van 11.15 uur tot uiterlijk 18.00 uur van de vaste commissie voor Economische Zaken over het deel Energiebeleid van hoofdstuk XIII (Economische Zaken) van de begroting voor 1987 ( 19 700-XIII ); woensdag 19 november: I. van 10.15 tot uiterlijk 16.00 uur van de vaste commissie voor Onderwijs en Wetenschappen over de\"\\n\"nl.proc.sgd.d.196819690000733.2.47\",\"nl.proc\",\"speech\",0.6341842,\"1969-01-21\",\"Nuijens\",\"BP\",\"De heer\",\"mp\",21,\"commons\",\" <em>homosexualiteit</em> ontzien zich niet in hun blaadje \\'Dialoog\\' het volgende te publiceren. Ik wil een stukje van de heer Van het Reve citeren, dan weten wij precies uit welke hoek dit komt. Dit citaat luidt: „Als God zich opnieuw in de levende stof gevangen geeft, zal hij als een ezel terugkeren, hoogstens in staat, een paar lettergrepen te formuleren, miskend\"\\n\"nl.proc.sgd.d.191019110000283.2.65\",\"nl.proc\",\"speech\",0.61024404,\"1911-02-24\",\"Limburg\",\"null\",\"De heer\",\"mp\",11,\"commons\",\" hetgeen do heer Troelstra ten aanzien van de <em>homosexualiteit</em> heeft gezegd, de Minister strafmaatregelen mag nemen om minderjarigen te beschermen tegen meerderjarigen. Mijn amendement dient nu alleen om, waar wij hier in do wet een gedeeltelijk nieuw, zeer zwaar misdrijf scheppen, een van de f uudainenteele cischen van het strafrecht, nl. het opzet\"\\n\"nl.proc.sgd.d.198519860000034.4.4.1\",\"nl.proc\",\"speech\",0.61024404,\"1986-06-10\",\"Hofman\",\"VVD\",\"De heer\",\"mp\",8,\"senate\",\" een aantal wijzigingen aangebracht, die wij evenzovele verbeteringen vinden. Ik doel hierbij op het opnemen van <em>homosexualiteit</em> als grond voor vervolging en het handhaven van de status quo voor de tweede generatie. De hardnekkigheid waarmee de staatssecretaris zich verzette tegen deze initiatieven, die in zeer indringende betogen naar voren werden\"\\n\"nl.proc.sgd.d.198519860000767.2.7.2\",\"nl.proc\",\"speech\",0.6041107,\"1985-10-02\",\"Schutte\",\"GPV\",\"De heer\",\"mp\",7,\"commons\",\"-president heeft gesproken over een wezenskenmerk en de daaruit vanzelfsprekend voortvloeiende gedragingen. Is hij het met mij eens dat de vraag wat een wezenskenmerk is nog een punt van discussie kan zijn? Daar is wellicht aanleiding toe als wij het oordeel van de Nederlandse wetgever over bij voorbeeld de <em>homosexualiteit</em> in het verleden en heden bezien\"\\n\"nl.proc.sgd.d.197019710000034.6.5\",\"nl.proc\",\"speech\",0.6041107,\"1971-04-06\",\"van der Werff\",\"VVD\",\"De heer\",\"mp\",2,\"senate\",\" minder telden en over eventueel bederf, een vrouw aangedaan - want zo beschouwde men hetero- en <em>homosexualiteit</em> — aanzienlijk vlotter zijn heengestapt. Minister Regout, die het oorspronkelijk door Minister Nelissen in 1909 geïnitieerde wetsontwerp opnieuw en verbeterd inbracht, zegt dat ook bij de verdediging met zoveel woorden aan de overzijde. Hij\"\\n\"nl.proc.sgd.d.197019710000642.5.14\",\"nl.proc\",\"speech\",0.5789283,\"1971-01-27\",\"Abma\",\"SGP\",\"De heer\",\"mp\",25,\"commons\",\" ingenomen standpunt menen te moeten handhaven. Het kan bekend zijn, dat wij als Staatkundig Gereformeerden ernaar streven, de beginselen van Gods Woord op staatkundig terrein tot meer erkenning te brengen. Dit impliceert, dat de homofilie of de <em>homosexualiteit</em> in het algemeen en de ontucht van meerderjarigen met minderjarigen van gelijk geslacht in\"\\n\"nl.proc.sgd.d.197019710000642.5.15\",\"nl.proc\",\"speech\",0.5789283,\"1971-01-27\",\"Nuijens\",\"BP\",\"De heer\",\"mp\",30,\"commons\",\" bepaalde mensen niet langer gebruiken als een basis voor hun denken, doen en handelen. Er bestaat ook nog een wijsheid zonder verstand. Wij blijven echter te rade gaan bij wat de Heilige Schrift vermeldt ten aanzien van de <em>homosexualiteit</em>. In deze door God zelf geïnspireerde literatuur worden ons de zedelijke waarheden gegeven die voor alle tijden\"\\n\"nl.proc.sgd.d.197019710000642.5.3\",\"nl.proc\",\"speech\",0.52848685,\"1971-01-27\",\"Wiebenga\",\"PSP\",\"De heer\",\"mp\",21,\"commons\",\" gezinsformatie, zoals die in onze maatschappij op het ogenblik als de gangbare norm wordt gesteld, niet meer bindend zal moeten zijn. Wij wijzen met name deze monopolisering af. Mijnheer de Voorzitter! Het verschijnsel en de problematiek van de <em>homosexualiteit</em> zijn mijns inziens bepaald wel aan dit wetsontwerp verbonden. Ik zou haast zeggen: dit\"\\n\"nl.proc.sgd.d.197019710000642.5.35\",\"nl.proc\",\"speech\",0.52317524,\"1971-01-27\",\"Wolff\",\"CPN\",\"De heer\",\"mp\",18,\"commons\",\" manipulaties wierpen. De uiterst conservatieve Minister Regout beriep er zich in 1911 op, toen hetzelfde artikel aan de orde was, dat de openbare mening rondom de <em>homosexualiteit</em> reeds een grote bron van chantage was en dat strafbaarstelling dit gevaar niet veel kon vergroten. De tijden zijn echter veranderd. Er is meer voorlichting gekomen, hetgeen\"\\n\"nl.proc.sgd.d.197919800000761.1.23.1\",\"nl.proc\",\"speech\",0.52317524,\"1980-03-17\",\"Bolkestein\",\"VVD\",\"De heer\",\"mp\",11,\"commons\",\". Voor Nederland is de EEG het belangrijkste verband. Wij moeten derhalve oog hebben voor wat er elders in de EEG gebeurt en niet aarzelen, onze stem te verheffen, mocht dat nodig zijn. Ik doel nu in het bijzonder op de strafbaarstelling van de <em>homosexualiteit</em> in Ierland. Volgens sectio 61 van de \\'Offences against the person act\\' van 1861 staat op\"\\n\"nl.proc.sgd.d.198319840000836.7.6.25\",\"nl.proc\",\"speech\",0.5178092,\"1984-05-16\",\"Brouwer\",\"CPN\",\"Mevrouw\",\"mp\",5,\"commons\",\" artikel 1, sub e. In dit kader wil ik iets zeggen over de buitgemaakte Nazi-archieven. Deze werden na de oorlog verdeeld onder de geallieerden van de anti-Hitler-coalitie. Volgens informatie van Westberlijnse homo-groepen liggen documenten over de abortuspolitiek van de Nazi\\'s en over hun politiek tot uitroeiing van <em>homosexualiteit</em> in Potsdam. Tot nu\"\\n\"nl.proc.sgd.d.198419850001034.2.8.1\",\"nl.proc\",\"speech\",0.5178092,\"1984-11-19\",\"Beckers-de Bruijn\",\"PPR\",\"Mevrouw\",\"mp\",5,\"commons\",\" dat nog niet is genoemd. Het COC heeft op 30 maart 1983 een gesprek gehad met minister-president Lubbers en de staatssecretaris voor emancipatiebeleid over de COC-nota \\'<em>Homosexualiteit</em> in het Overheidsbeleid\\'. Beloofd werd, dat de nota zou worden voorgelegd aan alle departementen en dat zij nog voor de zomer zouden reageren op de algemene visie en op\"\\n\"nl.proc.sgd.d.196119620000999.2.14\",\"nl.proc\",\"speech\",0.5178092,\"1962-02-14\",\"Beerman\",\"null\",\"minister\",\"government\",17,\"senate\",\" opvattingen propageert, die indruisen tegen wat de overgrote meerderheid van het Nederlandse volk als essentiële waarden beschouwt. Wat de <em>homosexualiteit</em> betreft, heeft de geachte afgevaardigde de heer Diepenhorst verontrusting uitgesproken. Mijnheer de Voorzitter! <em>Homosexualiteit</em> is uiteraard een zeer complex probleem. Hij heeft het echter in verband\"\\n\"nl.proc.sgd.d.198319840000893.2.7.15\",\"nl.proc\",\"speech\",0.5178092,\"1983-12-05\",\"van Es\",\"PSP\",\"Mevrouw\",\"mp\",9,\"commons\",\" nog slechts weinig bekend. Dat heeft onder andere te maken met het taboe dat rust op <em>homosexualiteit</em> en de in de homosubcultuur bestaande manieren o m elkaar te ontmoeten. Daarbij is er ook sprake van maatschappelijke ontkenning van het feit, Vaste commissie voor Justitie Jaarverslag van het Openbaar Ministerie over 1982 UCV33 5 december 1983 33-12\"\\n\"nl.proc.sgd.d.197019710000642.5.4\",\"nl.proc\",\"speech\",0.4881952,\"1971-01-27\",\"Geertsema\",\"VVD\",\"De heer\",\"mp\",13,\"commons\",\" leden, die destijds dorsten te stemmen tegen de gedachten van Minister Regout. Gelukkig behoorden toen de meeste liberalen en vrijzinnig-democraten tot die 34. Men mag daarvoor bewondering opbrengen, als men bedenkt, hoe in die tijd de publieke opinie reageerde op het verschijnsel <em>homosexualiteit</em>. Men behoeft daarvoor de woorden van Minister Regout\"\\n\"nl.proc.sgd.d.191019110000284.2.10\",\"nl.proc\",\"speech\",0.4881952,\"1911-02-28\",\"de Geer\",\"null\",\"De heer\",\"mp\",11,\"commons\",\" is mij, niet alleen door de debatten van dezen morgen en vau de lautsto dagen, maar ook door correspondenties die ik ontvangen heb, een klaar licht opgegaan over het groote gevaar dat er in gelegen is. wanneer wij bet voorstel van den Minister aannemen en do <em>homosexualiteit</em> afzonderli.jk in onzo Strafwet noemen. Ik zou do Kamer daartegen ernstig\"\\n\"nl.proc.sgd.d.190619070000250.2.34\",\"nl.proc\",\"speech\",0.4881952,\"1906-12-06\",\"Regout\",\"null\",\"De heer\",\"mp\",20,\"commons\",\" heeren die kennis daarvan wil nemen, kan bij m\\\\\\\\j inzage verkrijgen. De <em>homosexualiteit</em> was het tweede punt. Ik heb den Minister gevraagd om een toevoeging in de wet, omdat mijn vorig ambt my in staat gesteld heeft te weten met zekerheid, dat in de groote gemeenten van ons land, Amsterdam, 6 DECEMBEB L906. Rotterdam en \\'s < Jravenhage, vooral by het\"\\n\"nl.proc.sgd.d.197919800000761.1.10.11\",\"nl.proc\",\"speech\",0.4832886,\"1980-03-17\",\"Gualthérie van Weezel\",\"CDA\",\"De heer\",\"mp\",1,\"commons\",\"In welke landen staat de doodstraf op <em>homosexualiteit</em> en word t die straf ook ten uitvoer gebracht?\"\\n\"nl.proc.sgd.d.197019710000642.5.7\",\"nl.proc\",\"speech\",0.44843593,\"1971-01-27\",\"Jongeling\",\"GPV\",\"De heer\",\"mp\",29,\"commons\",\" zaak zelf aan vooraf gaat. Wanneer er dan mensen zijn, die zeggen, dat er geen verschil is tussen hetero- en <em>homosexualiteit</em>, dat het één eenvoudig een gelijkwaardige variant van het ander is en dat er alleen getalsmatig onderscheid is, omdat de ene aanleg meer aanwezig is dan de andere, dan kan ik dat niet geloven en mag ik dat niet geloven, op\"\\n\"nl.proc.sgd.d.197419750000701.5.5.9\",\"nl.proc\",\"speech\",0.43150768,\"1975-06-18\",\"Roethof\",\"PvdA\",\"De heer\",\"mp\",6,\"commons\",\" omstandigheden\\' ook in een ander opzicht wel bruikbaar? Minister Beernink sprak destijds in antwoord op vragen van onze collega Gortzak over een \\'levenswandel vatbaar voor chantage.\\' Als ik het begrip \\'<em>homosexualiteit</em>\\' in het verband van veiligheidsonderzoeken en sollicitaties hoor noemen, begin ik wel erg te griezelen. Nog steeds in het kader van het\"\\n\"nl.proc.sgd.d.191019110000284.2.7\",\"nl.proc\",\"speech\",0.43150768,\"1911-02-28\",\"Regout\",\"null\",\"minister\",\"government\",13,\"commons\",\" willen kennis nemen, stel ik die bij de;:o gaarne to hunner beschikking. Ik zeg dus: het euvel der <em>homosexualiteit</em> neemt hier te lande toe. Ik kan verdere feiten hier in het openbaar inderdaad niet aanduiden; ik mag dat niet, ook met het oog op de reclame, die daaruit zou voortvloeien. Ik voeg in parenthesi hieraan toe, dat ik de door mij genummerde\"\\n\"nl.proc.sgd.d.196819690000733.2.48\",\"nl.proc\",\"speech\",0.4271708,\"1969-01-21\",\"Kronenburg\",\"null\",\"De beer\",\"mp\",12,\"commons\",\" teruggelopen. Slechts vakbekwaamheid geeft de mens wezenlijk weer een positie in de maatschappij. Wat betreft de <em>homosexualiteit</em> en de problematiek daaromheen, wil ik ten aanzien van artikel 248M? voorstellen, dat de burger, die binnenkort op 18-jarige leeftijd het wel toegestaan wordt te stemmen, ook over de bestemming van zijn eigen lichaam moet kunnen\"\\n\"nl.proc.sgd.d.192919300000422.6.8\",\"nl.proc\",\"speech\",0.36614642,\"1929-12-13\",\"baron van Wijnbergen\",\"null\",\"De heer\",\"mp\",9,\"commons\",\" inrichten der universiteiten. Thans nog een enkel woord, dat ik gaarne ongesproken had gelaten, maar dat ik mij verplicht acht toch te zeggen, nl. over den hoogleeraar te Utrecht, verdacht van <em>homosexualiteit</em>, door de rechtbank veroordeeld en door het hof vrijgesproken. Dat een rechterlijk gewijsde niet afdoende is voor het nemen eener beslissing door de\"\\n\"nl.proc.sgd.d.190619070000250.2.32\",\"nl.proc\",\"speech\",0.36614642,\"1906-12-06\",\"Regout\",\"null\",\"De heer\",\"mp\",23,\"commons\",\" Uegeering, om in overweging te nemen een herziening van art. 240 van het Wetboek van .Strafrecht, en de toevoeging van een ander artikel, omtrent de <em>homosexualiteit</em>. Ik zal hieromtrent eenige beperking in acht nemen, omdat een deel van hetgeen ik zeggen wilde re ds gezegd is dooreen ander lid. Het is natuurlijk, dat de toezegging van den Minister\"\\n\"nl.proc.sgd.d.198519860000034.4.3.1\",\"nl.proc\",\"speech\",0.36614642,\"1986-06-10\",\"Ermen\",\"PvdA\",\"Mevrouw\",\"mp\",18,\"senate\",\" wetsvoorstel door opname van <em>homosexualiteit</em> als vervolgingsgrond in artikel 2, eerste lid, de aanhef. Mijn fractie is het volledig eens met de uitbreiding. Als en het is aangetoond en vermeld mensen op grond van hun sexuele geaardheid vervolgd zijn, dan is dat reden om deze vervolgingsgrond te erkennen. Het gaat hier om het beginsel, en de omvang is\"\\n\"nl.proc.sgd.d.195119520000011.6.7\",\"nl.proc\",\"speech\",0.34520614,\"1951-12-18\",\"Tjeenk Willink\",\"null\",\"Mejuffrouw\",\"mp\",4,\"senate\",\" bij onderzoek ai jaren gemerkt kunnen zijn. Ingrijpen volgde pas kort geleden. C. S., meisje, geboren 29-4-1940. Vader slappe figuur, moeder overleed in 1943. Kind kwam in huis in niet goed bekendstaand pleeggezin. Pleegmoeder beschuldigt pleegvader van <em>homosexualiteit</em>. Pleegmoeder adverteert als psychometriste en helderziende en beoefent verder\"\\n\"nl.proc.sgd.d.196319640000032.5.6\",\"nl.proc\",\"speech\",0.34520614,\"1964-05-06\",\"Cammelbeeck\",\"PvdA\",\"De heer\",\"mp\",9,\"senate\",\" aanslaat op een betoog van Van \\'t Reve, op zijn wijze, waarmede men het eens kan zijn of niet, met betrekking tot de legimiteit van <em>homosexualiteit</em>, dan moeten wij in dit tijdsgewricht, waarin wij leven, erkennen, dat het maar niet zo een probleem is, dan moeten wij toch ook nog erkennen, dat in het verleden, helaas, van christelijke en humanitaire\"\\n\"nl.proc.sgd.d.197919800000761.1.10.12\",\"nl.proc\",\"speech\",0.34520614,\"1980-03-17\",\"Waltmans\",\"PPR\",\"De heer\",\"mp\",8,\"commons\",\"Mijnheer de Voorzitter! Ik zou vanmiddag het voorstel kunnen doen, de lijst met straffen met betrekking tot <em>homosexualiteit</em>, als noot in de Handelingen te laten opnemen. Mijnheer de Voorzitter! In de nota staan beleidsconclusies die niet om streden zijn. Nu is overeenstemming en schijnovereenstemming over het mensenrechtenbeleid mogelijk. Wij\"\\n\"nl.proc.sgd.d.191019110000280.2.20\",\"nl.proc\",\"speech\",0.34520614,\"1911-02-21\",\"Regout\",\"null\",\"minister\",\"government\",11,\"commons\",\" goede zeden, niet in strijd met de wet. Zoo was <em>homosexualiteit</em> nu reeds het middel voor den chanteur, terwijl ons strafrecht op dat ge Vel 375. 1457 Tweede Kamer. 49ste .VERGADERING. 28. Bestrijding (Regout, Minister van Justitie o. a.) bied geen enkele bepaling inhoudt. Ik beweer juist bet omgekeerde. Wanneer do chanteur zieb werpt o|> ecu zaak\"\\n\"nl.proc.sgd.d.191019110000280.2.22\",\"nl.proc\",\"speech\",0.34520614,\"1911-02-21\",\"Regout\",\"null\",\"minister\",\"government\",15,\"commons\",\" moraal voorstellen gedaan werden, die voor ons onaannemelijk zijn, omdat zij in strijd zijn met onze Christelijke moraal. Dat deze uiteenzetting den heeren niet bevalt, kan ik mij wel begrijpen. De geachte afgevaardigde heeft daarbij als voorbeeld pezegd: neem nu eens aan, dat een wetenschappelijk man zou vaststellen, dat do <em>homosexualiteit</em> is een\"\\n\"nl.proc.sgd.d.197319740000034.5.2\",\"nl.proc\",\"speech\",0.34520614,\"1974-06-25\",\"Thurlings\",\"null\",\"voorzitter\",\"chair\",14,\"senate\",\" rapport „Meningen over <em>homosexualiteit</em> II, een onderzoek naar de meningen van potentiële voorlichters\\\\\", uitgebracht door de Stichting tot Bevordering Sociaal Onderzoek Minderheden; een, van de Staatssecretaris van Cultuur, Recreatie en Maatschappelijk Werk, ten geleide van een aantal exemplaren van het boekje over inheemse beschermde planten en dieren, aangewezen op grond van de Natuurbeschermingswet. De Voorzitter stelt voor, deze missives voor kennisgeving aan te nemen. EERSTE KAMER\"\\n\"nl.proc.sgd.d.191019110000285.2.6\",\"nl.proc\",\"speech\",0.34520614,\"1911-03-01\",\"Limburg\",\"null\",\"De heer\",\"mp\",11,\"commons\",\" misschien niet in plaatsen, omdat het wellicht hun bedoeling is in art. 2i8ter ook te treffen de <em>homosexualiteit</em>. I n de derde plaats — ik geloof, dat de rede van den heer van Hamel zich in dezelfde richting bewoog — wensch ik de Kamer nog hiervoor te waarschuwen. Wij hebben nu in ons Strafwetboek het begrip „uitlokken\\\\\", en dat begrip heeft\"\\n\"nl.proc.sgd.d.191019110000285.2.33\",\"nl.proc\",\"speech\",0.34520614,\"1911-03-01\",\"Troelstra\",\"null\",\"De heer\",\"mp\",1,\"commons\",\"Waar heeft Minister Nelissen gezegd, dat ontucht, die het gevolg is van <em>homosexualiteit</em>, wanneer zij overigens valt onder andere artikelen van het Wetboek van Strafrecht, niet strafbaar wordt gesteld?\"\\n\"nl.proc.sgd.d.190619070000251.2.15\",\"nl.proc\",\"speech\",0.34520614,\"1906-12-07\",\"Regout\",\"null\",\"De heer\",\"mp\",12,\"commons\",\" niets is terechtgekomen. Omtrent de <em>homosexualiteit</em> deed ik mededeelingen en verzoeken; de Minister is dit punt zelfs geheel stilzwijgend voorbijgegaan. Tegenover een dergelijke houding kan ik alleen dit zeggen: op die wijze moet de Minister niet verbaasd zijn, indien een — 7 DECEMBER 1906. (Algemeene beraadslaging over hoofdstuk IV.) Kamerlid ten\"\\n\"nl.proc.sgd.d.191019110000284.2.9\",\"nl.proc\",\"speech\",0.33770818,\"1911-02-28\",\"Rrgout\",\"null\",\"minister\",\"government\",63,\"commons\",\" telkens, in tal van artikelen, beschermt de persona miserabilis tegen de sexueele aanranding door volwassenen. Dat doet dit artikel ook. Dit artikel bepaalt niet, wat § 175 van het Duitsche Strafwetboek inhoudt, dat de <em>homosexualiteit</em> op zieh zelf, ook door volwassenen onderling gepleegd, strafbaar is, maar het zegt alleen, dat de meerderjarige\"\\n\"nl.proc.sgd.d.196719680000690.5.13\",\"nl.proc\",\"speech\",0.30205536,\"1967-10-19\",\"Polak\",\"null\",\"minister\",\"government\",22,\"commons\",\" ontucht met minderjarigen geoorloofd. Een punt, dat hierbij ook in beschouwing moet worden genomen, is de wetgeving in aangrenzende landen. In het algemeen zijn in de ons omringende landen de strafbepalingen tegen de <em>homosexualiteit</em> strenger dan hier. Al te gemakkelijke bepalingen zouden ertoe kunnen leiden, dat Nederland een soort van aantrekkingsoord\"\\n\"nl.proc.sgd.d.191019110000281.2.7\",\"nl.proc\",\"speech\",0.30205536,\"1911-02-22\",\"Roodhuyzen\",\"null\",\"De heer\",\"mp\",11,\"commons\",\" heelt gemaakt aan <em>homosexualiteit</em>. Fama crescit eundo! Dergelijke artikelen als dit kunnen niet voorzichtig genoeg geredigeerd worden, want degenen die ze moeten uitvoeren, zullen niet zoo hoog staan als de persoon die de wet maakt. ïoe u indertijd door de ketterjagers groot bezwaar werd gemaakt tegen de beroemde muurschilderingen vau Michel Angelo\"\\n\"nl.proc.sgd.d.196819690000733.2.34\",\"nl.proc\",\"speech\",0.2989573,\"1969-01-21\",\"Diepenhorst\",\"ARP\",\"De heer\",\"mp\",35,\"commons\",\" goedgekeurd. Het wil alleen dit zeggen: het instrument van de wet kan hier niet snijden. 27ste vergadering - 21 januari \\'69 1255 Ter zake van de <em>homosexualiteit</em> behoort met de grootste kiesheid te worden gesproken. Men staat tegenover andersgeaardheid, men staat tegenover iets mysterieus, men staat tegenover iets in onze huidige samenleving van grote\"\\n\"nl.proc.sgd.d.191019110000158.2.10\",\"nl.proc\",\"speech\",0.26158762,\"1911-05-17\",\"Rpgout\",\"null\",\"minister\",\"government\",71,\"senate\",\" Lucasse is hierop niet verder ingegaan ; ik meen dus ook beter te doen dit punt hier niet te bespreken, maar ik wil er op wijzen, dat ik vast overtuigd ben, dat die critiek onverdiend is. Het artikel aangaande de <em>homosexualiteit</em>. Buiten de Kamer heb ik geen zoo machtige bestrijding gevonden als juist ten opzichte van dit artikel. Zoo ben ik er dan op\"\\n\"nl.proc.sgd.d.196319640000032.4.17\",\"nl.proc\",\"speech\",0.2589046,\"1964-05-06\",\"Reinink spreekt dat niet tegen. Hij\",\"null\",\"De heer\",\"mp\",15,\"senate\",\" zijn voor een algehele erkenning van de veelvormigheid van de seksualiteit. De <em>homosexualiteit</em> was volgens drs. Gras een vorm van liefde-beleving als alle andere. Voorts was drs. Gras erop tegen, dat een vrouw met een man trouwt, voordat zij enig geslachtelijk verkeer gehad zou hebben. Er zal een nog veel grotere vrijheid moeten bestaan in de\"\\n\"nl.proc.sgd.d.198319840000974.2.9.36\",\"nl.proc\",\"speech\",0.2589046,\"1984-06-21\",\"Kappeyne van de Coppello\",\"null\",\"staatssecretaris\",\"government\",28,\"commons\",\" wel voeren. Ik wil alleen beklemtonen dat de suggestie voor mijzelf nog te onrijp is om daarvan nu te zeggen dat ik haar zal meenemen in een wetsvoorstel. Dat kan ik niet toezeggen. De heer Buikema heeft nog een opmerking gemaakt over de strafrechtelijke bestrijding van discriminatie wegens <em>homosexualiteit</em>. Bij de behandeling van de Minderhedennota\"\\n\"nl.proc.sgd.d.196819690000736.4.2\",\"nl.proc\",\"speech\",0.2589046,\"1969-02-04\",\"van Thiel\",\"null\",\"voorzitter\",\"chair\",39,\"commons\",\" tempo van de aanleg van de rijksweg E 8; een, van de afdeling Hellendoorn van de Boerenpartij, betreffende het zgn. Plan-Mansholt; een, van J. Megland, te San Francisco, met betrekking tot de <em>homosexualiteit</em>; een, van P. v. d. Abeelen, te \\'s-Gravenhage, betreffende zijn ervaringen bij het inzenden van stukken ter opneming in dagen weekbladen; een\"\\n\"nl.proc.sgd.d.191119120000011.1.2\",\"nl.proc\",\"speech\",0.2589046,\"1911-12-06\",\"baron Schimmelpenninck van der Oye\",\"null\",\"voorzitter\",\"chair\",41,\"senate\",\" geslacht (<em>Homosexualiteit</em>); Mededeelingen over eenige Atjehsche onderhoorigheden. (Overdruk uit de Bijdragen tot de Taal-, Land- en Volkenkunde van Ned.-Indië, deel 66) ; Handelingen der Nederlandsche Juristen-Vereeniging 1911 (II) ; Nederlandsche Juristen-Vereeniging. Ontwerp van wet regelende Het Burgerlijk Proces in eersten aanleg, met 63 Mededeeling\"\\n\"nl.proc.sgd.d.191019110000280.2.21\",\"nl.proc\",\"speech\",0.2440976,\"1911-02-21\",\"Hugenholtz\",\"null\",\"De heer\",\"mp\",36,\"commons\",\" worden geëischt, dat hij met die uitspraak van do wetenschap rekening zou houden. Laat ik als voorbeeld noemen de <em>homosexualiteit</em>, die ook door den Minister genoemd is. I k neem in deze geen stelling Ik behoor niet tot de deskundigen op sexologisch gebied. Ik denk er niet aan voor mrjn rekening te nemen, wat wetenschappelijke mannen na een\"\\n\"nl.proc.sgd.d.197919800000751.1.18.32\",\"nl.proc\",\"speech\",0.2416443,\"1980-01-28\",\"Beckers-de Bruijn\",\"PPR\",\"Mevrouw\",\"mp\",1,\"commons\",\"Ik heb hiertoch problemen mee; ik kan mij voorstellen dat vanuit Nederland pogingen worden gedaan om het Vluchtelingenverdrag wat dit betreft aan te passen. Onder het punt \\'sociale status\\' worden ook minderheidsgroepen als zigeuners begrepen. Ik denk derhalve, dat een bredere interpretatie van het Vluchtelingenverdrag mogelijk is zolang het niet is gewijzigd. Ik wil de Staatssecretaris vragen om onderdrukking of vervolging op grond van <em>homosexualiteit</em> aan te merken als een grond voor een vluchtelingenstatus.\"\\n\"nl.proc.sgd.d.198519860000801.4.10.35\",\"nl.proc\",\"speech\",0.2416443,\"1986-01-28\",\"Willems\",\"PSP\",\"De heer\",\"mp\",1,\"commons\",\"Voorzitter! Ik wil een vraag stellen aan de ministervan Onderwijs en Wetenschappen. Vindt hij het sowieso juist dat er scholen zijn waar men het verstandiger vindt - laat staan dat men een verbod uitvaardigt - dat er überhaupt niet over <em>homosexualiteit</em> wordt gesproken? Het gaat hier toch om een maatschappelijk verschijnsel. Gelet ook op de wetgeving die de regering op dit punt op het oog heeft, ligt het toch alleszins voor de hand dat er over dit onderwerp in het onderwijs ruimhartig gesproken wordt?\"\\n\"nl.proc.sgd.d.198519860000801.5.27\",\"nl.proc\",\"speech\",0.2416443,\"1986-01-28\",\"Willems\",\"PSP\",\"De heer\",\"mp\",1,\"commons\",\"Voorzitter! Ik wil een vraag stellen aan de ministervan Onderwijs en Wetenschappen. Vindt hij het sowieso juist dat er scholen zijn waar men het verstandiger vindt - laat staan dat men een verbod uitvaardigt - dat er überhaupt niet over <em>homosexualiteit</em> wordt gesproken? Het gaat hier toch om een maatschappelijk verschijnsel. Gelet ook op de wetgeving die de regering op dit punt op het oog heeft, ligt het toch alleszins voor de hand dat er over dit onderwerp in het onderwijs ruimhartig gesproken wordt?\"\\n\"nl.proc.sgd.d.193519360000552.2.4\",\"nl.proc\",\"speech\",0.21575384,\"1936-04-01\",\"van der Heide\",\"null\",\"De heer\",\"mp\",20,\"commons\",\" betrekkelijke onmacht van den wetgever tegenover sexueele delicten. Ik geef zeer beknopt een paar voorbeelden. I n de eerste plaats de strafbare <em>homosexualiteit</em> van het bestaande art. 24Sbis. Tegen dit artikel heb ik op zich zelf geen bezwaar, behoudens dan, dat ik meega met de meening van mr. Benno Stokvis en de Liga voor Sexueele Hervorming op\"\\n\"nl.proc.sgd.d.193819390000552.7.15\",\"nl.proc\",\"speech\",0.21575384,\"1938-11-15\",\"IJsselmuiden\",\"null\",\"De heer\",\"mp\",33,\"commons\",\" het effect in tal van gevallen volmaakt onvoldoende is. Verzending van drukwerken van het zgn. Nederlandsch Humanistisch Komitée me t zijn verderfelijke propaganda voor <em>homosexualiteit</em> en van den Nieuw-Malthusiaanschen Bond me t haar geïllustreerde boekjes voor geboorteregeling moest toch niet door de mazen kunnen sluipen. Mag ik daarom nog eens\"\\n\"nl.proc.sgd.d.192419250000045.4.45\",\"nl.proc\",\"speech\",0.21575384,\"1925-05-05\",\"Marchant\",\"null\",\"De heer\",\"mp\",36,\"commons\",\" bang te maken, dat de <em>homosexualiteit</em> bij de wet „gelijkberechtigd\\\\\" zal worden verklaard met het geslachtelijk verkeer tusschen man en vrouw, dan moet ik zeggen: wat moet het standpunt van een partijleider zwak zijn, wanneer men er zoodanigen onzin bij haalt om het vaderlandsch karakter van zijn partij te verdedigen!\"\\n\"nl.proc.sgd.d.190919100000266.2.29\",\"nl.proc\",\"speech\",0.21575384,\"1909-12-02\",\"Nelissen\",\"null\",\"minister\",\"government\",29,\"commons\",\" üuitsche ,,Vorentwurf\\\\\" verder gaan en de <em>homosexualiteit</em> qua talis onvoorwaardelijk straffen. Ik ben tot do conclusie gekomen, dat het nadeel van het stellen van dat misdrijf als zoodanig in de wet overtrof het voordeel, dat wij met strafbaarheid bereikten. Ik ga daar thans niet op in, wellicht zal daartoe gelegenheid zijn bij de behandeling van het\"\\n\"nl.proc.sgd.d.197219730000475.5.67\",\"nl.proc\",\"speech\",0.21575384,\"1973-02-21\",\"van der Lek\",\"PSP\",\"De heer\",\"mp\",38,\"commons\",\" Jeugdgemeenschap aangesloten organisaties, de „Amsterdamse Jeugdraad\\\\\", geeft een maandblad uit. Ik spreek natuurlijk uitsluitend over gesubsidieerde maandbladen. Het nummer van juni van dit jaar bevat een openlijke propaganda voor <em>homosexualiteit</em>, waarbij actie Zitting 1972-1973 TWEEDE KAMER Vaststelling van hoofdstuk XVI (Cultuur, Recr. en Maatsch\"\\n\"nl.proc.sgd.d.197519760000007.3.9.1\",\"nl.proc\",\"speech\",0.21575384,\"1975-11-18\",\"Meuleman\",\"SGP\",\"De heer\",\"mp\",38,\"senate\",\" menselijk leven maar ook van de Nederlandse wetgeving, die het leven moet beschermen. Wij stelden, dat er zijn die menen, dat ook onze wetgeving nodig moet worden gewijzigd in zaken als pornografie, huwelijk, gezin, ouderlijke macht, concubinaat, <em>homosexualiteit</em>. Wij zouden de Regering maar vooral de Minister van Justitie ernstig willen waarschuwen\"\\n\"nl.proc.sgd.d.197019710000660.3.3\",\"nl.proc\",\"speech\",0.2135854,\"1971-03-10\",\"Diepenhorst\",\"ARP\",\"De heer\",\"mp\",28,\"commons\",\" ook geldt van het vermoede getal huwelijken, dat door <em>homosexualiteit</em> van één der echtgenoten ongelukkig moet zijn. Zelfs over gemakkelijker te constateren cijfers bestaat twijfel. F. E. Smith vocht aan de juistheid van de uit de derde hand afkomstige uitlating: Lord Granville zou 5 overspelige minister-presidenten in Engeland hebben gekend. Twee\"\\n\"nl.proc.sgd.d.198619870000873.27.2.1\",\"nl.proc\",\"speech\",0.20712368,\"1986-12-16\",\"Swildens-Rozendaal\",\"PvdA\",\"Mevrouw\",\"mp\",1,\"commons\",\"Mijnheer de Voorzitter! Wij hebben bij de behandeling van de Nota overheidsbeleid en <em>homosexualiteit</em> in de UCV drie moties ingediend. De eerste op stuk nr. 5 betreft het uitnodigen van deze coördinerend minister voor het homobeleid om een visie ten aanzien van homoseksualiteit te ontwikkelen. Wij hebben inmiddels van de minister schriftelijk\"\\n\"nl.proc.sgd.d.197919800000751.1.18.33\",\"nl.proc\",\"speech\",0.20712368,\"1980-01-28\",\"Haars\",\"null\",\"staatssecretaris\",\"government\",1,\"commons\",\"Ik heb al gezegd dat ik de gevallen individueel zal bekijken; daar kunnen dan een A-status, een B-status of een gewone verblijfsvergunning tussen zitten. Het is onjuist, expliciet te zeggen: als men in het land van herkomst op grond van <em>homosexualiteit</em> problemen heeft, heeft men recht op een A-status in Nederland. Ik meen, dat je veel meer moet weten van zo\\'n individueel geval. Ik kan u wel beloven, dat deze zaken zorgvuldig zullen worden behandeld. Meer kan ik op dit moment niet toezeggen.\"\\n\"nl.proc.sgd.d.196119620000998.2.5\",\"nl.proc\",\"speech\",0.18307321,\"1962-02-13\",\"Diepenhorst\",\"ARP\",\"De heer\",\"mp\",59,\"senate\",\" zou er verder de nadruk op willen leggen, dat wij, zoals dat ook in het buitenland geschiedt, eenzijdig de aandacht wijden aan door mannen bedreven feiten en eigenlijk niet bedenken, dat de <em>homosexualiteit</em> eveneens onder de vrouwelijke kunne zich voordoet. Ik ben mij er ten volle van bewust, dat wij in het verleden ook in Nederland buitengemeen\"\\n\"nl.proc.sgd.d.191919200000433.2.37\",\"nl.proc\",\"speech\",0.17260307,\"1919-11-13\",\"Kruyt\",\"null\",\"De heer\",\"mp\",55,\"commons\",\" zich zelfs een geval van <em>homosexualiteit</em> voor. Ik hoop, dat de Minister de noodige maatregelen in deze zal nemen, en dat hij begrijpe in welk een hel de geïnterneerden verkeeren. ])e hygiënische toestand is ook beneden alle ciïtiek. Op 4 November vertrokken er 40 personen. De stroozakken verden niet verbrand, zooals dit in Bergen gebeurde, maar in\"\\n\"nl.proc.sgd.d.197919800000761.1.18.1\",\"nl.proc\",\"speech\",0.17260307,\"1980-03-17\",\"Waltmans\",\"PPR\",\"De heer\",\"mp\",1,\"commons\",\" worden echter een serie van maatregelen genoemd : afgrijselijke dingen, gevangenisstraffen voor alle mogelijke zaken die betrekking hebben op <em>homosexualiteit</em>. Het zou niet juist zijn dat in een beperkt kader, alleen in verband met de doodstraf, te zien. Er zijn echter nog meer landen waarin de doodstraf word t toegepast. Ik noem slechts Pakistan en Irak. Misschien kan de Ministervan Buitenlandse Zaken dat in zijn toekomstig gesprek daar aan de orde stellen.\"\\n\"nl.proc.sgd.d.190519060000203.2.2\",\"nl.proc\",\"speech\",0.17260307,\"1905-12-12\",\"de Ridder\",\"null\",\"De heer\",\"mp\",43,\"commons\",\". 2476is, waardoor de <em>homosexualiteit</em> doelmatiger zou kunnen gebreideld worden. Dit alles acht ik veel meer urgent dan de voorwaardelgke veroordeeling. Ik uoemde een gansche trits van bepalingen, omtrent de meeste waarvau een communis opinio bestaat. Eu nu is een groot bezwaar, dat omtrent die voorwaardely\\'ke veroordeeling geen communis opinio bestaat\"\\n\"nl.proc.sgd.d.192919300000029.2.19\",\"nl.proc\",\"speech\",0.17260307,\"1930-03-06\",\"Mendels\",\"null\",\"De heer\",\"mp\",31,\"senate\",\" niet worden verbroken. Zelfs gevallen van <em>homosexualiteit</em> zijn geen reden tot echtscheiding. Herhaalde strafvonnissen evenmin. Mij is een geval bekend van een recidivist, die bij elkaar 18 jaar in de gevangenis had doorgebracht, maar die het nog nooit zoover had gebracht, dat hij voor een zaak vier jaar had gekregen. Hij was er altijd onder\"\\n\"nl.proc.sgd.d.196819690000733.2.14\",\"nl.proc\",\"speech\",0.17260307,\"1969-01-21\",\"van Schaik\",\"KVP\",\"De heer\",\"mp\",29,\"commons\",\" vereniging propageert <em>homosexualiteit</em> en tot doel heeft om contacten te leggen tussen homosexuelen, en dat het propageren van homosexuele contacten ernstige bezwaren ontmoet, en goedkeuring dus op deze gronden van algemeen belang moet worden onthouden. De oorspronkelijke statuten, waarop toen die afwijzing stoelde, zijn echter na 1963 gewijzigd en\"\\n\"nl.proc.sgd.d.190419050000230.3.6\",\"nl.proc\",\"speech\",0.17260307,\"1904-12-20\",\"Bos\",\"null\",\"De heer\",\"mp\",41,\"commons\",\" overleven. In verband met hot onderwerp naar aanleiding waarvan die woorden werden gezegd, meen ik, «hit de zedelijkheid hier vooral werd opgevat in den zin van eerbaarheid, immers in verband met hot neo-Malthusianisme en de <em>homosexualiteit</em>. De Minister zegt, dat dit niet het geval is, en dan is er ook voor mij verder geen aanleiding om dieper op\"\\n\"nl.proc.sgd.d.198519860000824.7.3.13\",\"nl.proc\",\"speech\",0.17260307,\"1986-04-08\",\"Worrell\",\"PvdA\",\"De heer\",\"mp\",44,\"commons\",\" slechts enkelen gebruik kunnen maken van de door de Kamer in ruime meerderheid geboden mogelijkheid, na het opnemen van de erkenningsgrond van de vervolging op grond van <em>homosexualiteit</em> in de wet. Naar het oordeel van mijn fractie gaat het uiteindelijk om de erkenning dat ook deze groep op grond van zijn geaardheid slachtoffer was van de niets onziende\"\\n\"nl.proc.sgd.d.191019110000284.2.15\",\"nl.proc\",\"speech\",0.17260307,\"1911-02-28\",\"Troelstra\",\"null\",\"De heer\",\"mp\",48,\"commons\",\" het amendement en het voorstel van den Minister zou ik desnoods het voorstel van den Minister aanvaarden. Ook de geachte voorzitter van de Commissie van Rapporteurs heeft met zeer veel nadruk gevraagd: kan de Minister waar maken wat hii in de Memorie van Antwoord mededeelt, nl. dat het kwaad der <em>homosexualiteit</em> zoodanig om zich grijpt, dat\"\\n\"nl.proc.sgd.d.190719080000266.2.3\",\"nl.proc\",\"speech\",0.17260307,\"1907-11-27\",\"Regout\",\"null\",\"De heer\",\"mp\",64,\"commons\",\" Strafwet, kan worden te keer gegaan. Hierby\\' wijs ik er op, dat men my niet moet toevoegen, dat juist in dat land, waar de <em>homosexualiteit</em> by de wet wordt strafbaar gesteld, die procedure plaats had. Wan t daarop aut woord ik : vindt gij er termen voor om by de wet niet langer diefstal strafbaar te stellen, omdat er desniettegenstaande gestolen\"\\n\"nl.proc.sgd.d.198719880000023.5.7.1\",\"nl.proc\",\"speech\",0.17260307,\"1988-04-12\",\"Tiesinga-Autsema\",\"D66\",\"Mevrouw\",\"mp\",34,\"senate\",\" aanspreekpunt zou zijn voor de toen pas opgerichte Stichting <em>Homosexualiteit</em> en Krijgsmacht. De maatregelen van de staatssecretaris ter zake getuigden van grote tolerantie die de aandacht heeft getrokken van hier tot Tokio. Wij waarderen dat. Mijn fractie is van mening dat er binnen de krijgsmacht een zodanig leefklimaat moet zijn dat ieder individu er\"\\n\"nl.proc.sgd.d.191019110000283.2.64\",\"nl.proc\",\"speech\",0.15102768,\"1911-02-24\",\"de Geer\",\"null\",\"De heer\",\"mp\",74,\"commons\",\" van de opstellers en toezenders dier geschriften deze, dat zij te weinig hieraan hebben gedacht, dat ook in het artikel dat door den Minister wordt voorgesteld niet de <em>homosexualiteit</em>, de anomale neiging op zich zelf strafbaar wordt gesteld, zelfs niet alle uitingen van die abnormale neiging, maar alleen die uitingen, die daden, die uitvloeisels dier\"\\n\"nl.proc.sgd.d.191919200000436.1.5\",\"nl.proc\",\"speech\",0.15102768,\"1919-11-19\",\"baron van Wijnbergen\",\"null\",\"De heer\",\"mp\",50,\"commons\",\". In elk geval staat dit vast, dat het allerminst oorbaar is, gelijk door hem is gedaan, een parallel te trekken tusschen de lijkverbranding, die uiteraard niet rechtstreeks in strijd is met een goddelijk gebod, en de afschuwelijke zonde der <em>homosexualiteit</em>. Wat de subsidieering van het tooneel betreft, voorzichtig heeft de heer Staalman gezegd, dat\"\\n\"nl.proc.sgd.d.196519660000795.5.2\",\"nl.proc\",\"speech\",0.15102768,\"1965-10-13\",\"van Dis\",\"SGP\",\"De heer\",\"mp\",50,\"commons\",\" is. Tn plaats van hiertegen ingrijpende maatregelen te nemen, werden aan schrijvers van dergelijke lectuur opdrachten gegeven en staatsprijzen toegekend — dat gebeurde al onder de vorige kabinetten —, zelfs al werd in de produkten van deze schrijvers de tegennatuurlijke, gruwelijke zonde der <em>homosexualiteit</em> in bescherming genomen en gepropageerd\"\\n\"nl.proc.sgd.d.190419050000114.1.3\",\"nl.proc\",\"speech\",0.15102768,\"1905-02-01\",\"van den Biesen\",\"null\",\"De heer\",\"mp\",79,\"senate\",\" haar eer nagaven, heeft verklaard, dat het artikel by vergissing is opgenomen , bet was in de vacantie aangeboden ; wanneer zy geweten had wat het bevatte, zou liet nooit in der eeuwigheid zijn opgenomen. Maar liet is ook verregaand, er wordt nie t minder in verteld , dan dat de <em>homosexualiteit</em> een nieuwe naam voor paederastie, een zeer geoorloofde\"\\n\"nl.proc.sgd.d.196719680000635.2.2\",\"nl.proc\",\"speech\",0.15102768,\"1967-12-14\",\"Singer-Dekker\",\"PvdA\",\"Mevrouw\",\"mp\",37,\"commons\",\" ten grondslag ligt. nl. dat men jonge mensen boven de 16 jaar nog homofiel zou kunnen maken. Hij zegt - ik weet, dat door verschillende deskundigen die mening wordt gedeeld - , dat de <em>homosexualiteit</em> tot stand komt vóór het 6e levensjaar en dat er geen sprake meer van is, dat iemand na het 16e jaar nog door verleiding zo gemaakt zou kunnen worden. Dr\"\\n\"nl.proc.sgd.d.191019110000285.2.3\",\"nl.proc\",\"speech\",0.15102768,\"1911-03-01\",\"de Savorniii Lolunaii\",\"null\",\"Do heer\",\"mp\",49,\"commons\",\" werk zijn gestold om ook nier to lande eeu wissenscluiftlicli-humaiiitüres comité op te richten, waarvan echter was afgezien, omdat wettelijk© bepalingen ten aanzien van do <em>homosexualiteit</em> ten onzent tot nog toe ontbraken. De initiateurs van dat comité zullen waarschijnlijk niet stil blijven zitten, indien dit artikel in do Strafwet wordt opgenomen\"\\n\"nl.proc.sgd.d.198419850000916.2.2.1\",\"nl.proc\",\"speech\",0.15102768,\"1984-10-17\",\"Groenman\",\"D\\'66\",\"Mevrouw\",\"mp\",55,\"commons\",\" \\'jonger dan zestien jaar\\' grote verschillen bestaan. Wat voor een kind van tien jaar schadelijk is, hoeft dat niet te zijn voor een kind van vijftien. Ook de NVSH en de Nederlandse Vereniging tot Integratie van <em>Homosexualiteit</em> COC wijzen daarop in hun gezamenlijke brief. Wat vindt de minister ervan, artikel 240a zo te veranderen dat het erom gaat of de\"\\n\"nl.proc.sgd.d.192419250002280.2.5\",\"nl.proc\",\"speech\",0.15102768,\"1924-02-27\",\"Pothuis-Smit\",\"null\",\"Mevrouw\",\"mp\",76,\"senate\",\" het nieuwe ontwerp brengt de wet dus in overeenstemming met de werkelijkheid Het tweede onderwerp betreft de <em>homosexualiteit</em>. Daarover zegt het stuk: „Die im Gesetzvorschlage enthaltene Bestimming iiber die Strafe dieses Verbrechens entspricht im Ganzen der in spateren Jahren in der Anwendung der gegenwartig geitenden, nach ihrem Wortlaut\"\\n\"nl.proc.sgd.d.196019610000913.4.2\",\"nl.proc\",\"speech\",0.1294523,\"1961-03-07\",\"Diepenhorst\",\"ARP\",\"De heer\",\"mp\",46,\"senate\",\" eenzame wegen gering is en dat sommigen zich van stiletto\\'s en dergelijke wapenen voorzien; wie weet wat vrouwelijke mede-afgevaardigden voor een arsenaal met zich zelfs in deze zaal ronddragen. Nog somberder wordt het uitzicht voor wie overweegt hoe onze tijd de onmaatschappelijkheid niet aankan, hoe bepaalde afwijkingen zoals <em>homosexualiteit</em>\"\\n\"nl.proc.sgd.d.191019110000158.2.2\",\"nl.proc\",\"speech\",0.1294523,\"1911-05-17\",\"van den Biesen\",\"null\",\"De heer\",\"mp\",94,\"senate\",\"Mijnheer de Voorzitter! Wrj verkeeren ten opzichte van dit wetsontwerp in een zonderlinge positie. Eeuigen zeggen: is het Nederlandsche volk zoo zedeloos geworden dat deze wet noodig is? Anderen beweren: do wetgever moet niet als zedenmeester optreden. Men verdedigt zelfs brutaalweg het neo-malthusianisme en de <em>homosexualiteit</em> en men zegt, dat\"\\n\"nl.proc.sgd.d.193019310000037.2.11\",\"nl.proc\",\"speech\",0.1294523,\"1931-03-18\",\"Donner\",\"null\",\"minister\",\"government\",53,\"senate\",\" toedienen van een gevoelige straf kan, ook wanneer men de straf enkel ziet in haar waarde voor de verbetering van den persoon, onder omstandigheden stellig wel zijn gunstige uitwerking hebben. Het is echter, vooral wanneer men komt tot het vraagstuk van <em>homosexualiteit</em> en exhibitionisme, een moeilijk terrein, waar men dikwijls in de sfeer van de\"\\n\"nl.proc.sgd.d.191019110000134.2.3\",\"nl.proc\",\"speech\",0.1294523,\"1911-02-07\",\"Woltjer\",\"null\",\"Do heer\",\"mp\",66,\"senate\",\" staat: dit wordt men pas gewaar, als men de brochuro doorleest en dan blijkt deze niet anders dan een pleitrede voor de <em>homosexualiteit</em>. Slechts één citaat, niet het ergste: ,,ja zelfs dan wanneer van geeu louter zinnelijkheid sprake was, maar wanneer eene diep ingewortelde wederkeerige neiging, een waar liefdegevoel, volkomen gelijk aan dat der\"\\n'"
      ]
     },
     "execution_count": 29,
     "metadata": {},
     "output_type": "execute_result"
    }
   ],
   "source": [
    "data = open('/Users/kasparbeelen/Downloads/hits (10).csv','r').read()\n",
    "rows = data.split('\\n')"
   ]
  },
  {
   "cell_type": "code",
   "execution_count": 33,
   "metadata": {},
   "outputs": [
    {
     "name": "stdout",
     "output_type": "stream",
     "text": [
      "for endless militarism, editorial\n",
      "NaN\n",
      "review of 1917\n",
      "delegation arrives at Brest-Litovsk during peace negotiations; is boycotted by Bolsheviki for refusing to recognize authority of People's Commissaries, but are paid marked attention by Austrians and Germans\n",
      "NaN\n",
      "scarcity causes desire for peace\n",
      "Govt. upheld in Russian policy following vote of confidence by Chamber of Deputies after speech by Foreign Minister Pichon\n",
      "the Teutonic peace proposals, editorial\n",
      "War aims, editorial on Lloyd George's speech in Commons\n",
      "crew of Shilka, Bolshevist ship which arrives at U. S. port, fraternize with members; 21 members arrested for investigation\n",
      "text of Lloyd George's speech in Commons discussing the Italian defeat\n",
      "NaN\n",
      "new gifts and totals\n",
      "comments on Repr. Lunn's resolution on Zionism\n",
      "tells Hero Land audience that Germans aided Armenian killings\n",
      "plans for Armenian and Syrian Day\n",
      "speaks on glories of France at dinner given by Pennsylvania Soc.\n",
      "NaN\n",
      "NaN\n",
      "NaN\n",
      "report on relief work by War Council\n",
      "poem on the war written for benefit of Library Fund\n",
      "fraternization reported near Skrobova and Ovokhvshtchina\n",
      "speaks in behalf of Syrian relief at mass meeting in Brooklyn Academy of Music\n",
      "editorial\n",
      "Hippodrome audience responds to appeals from prominent speakers for aid of Armenians\n",
      "Peace only after victory, editorial on U. S. aims\n",
      "NaN\n",
      "NaN\n",
      "speaks on devastation in France and Armenia in address at luncheon given in his honor by the Aldine Club\n",
      "his motion proposing consideration of peace negotiations negatived without division; A. J. Balfour replies for the Govt. to his proposals\n",
      "letter comparing the Stockholm and Soviet Socialist peace programs\n",
      "Mayor Mitchel, in proclamation, designates Nov. 10 and 11 for collection of funds in N. Y. C. for Armenian and Syrian relief\n",
      "denies imputations against League for Small and Subject Nationalities made by resigning members\n",
      "plans\n",
      "Amer. Executive Committee of World Sunday School Assoc. subscribes\n",
      "NaN\n",
      "War Council of Amer. Red Cross makes appropriation for work in Near East to be carried on by Amer. Committee for Armenian and Syrian Relief\n",
      "peace program drawn up by Central Executive Committee of Russian Council of Workmen's and Soldiers' Delegates and submitted to its delegate at Paris conference, M. Skobeleff\n",
      "Peace program of Organization Committee of Stockholm conference\n",
      "NaN\n",
      "Russians throw back a Turkish battalion southwest of Erzingan\n",
      "letter on the slaughter of Greeks by the Turks\n",
      "editorial\n",
      "editorial on air reprisals for Londoners\n",
      "NaN\n",
      "tells of slaughter of Armenians by Turks\n",
      "report confirmed at State Dept.\n",
      "says in pamphlet on Germany that she must be suppressed; speaks of activity of Providence Journal in unearthing Teuton plots\n",
      "establishment of food pool announced by Baron Rhondda, who tells of food mission, headed by O. H. Smith, soon to leave for U. S. and formation of Inter-Allied Council to mobilize all surplus food in Amer.\n",
      "returns from France; tells from pulpit of Plymouth Church, Brooklyn, of German atrocities\n",
      "issues list of war charities whose affairs are considered satisfactory\n",
      "NaN\n",
      "editorial\n",
      "NaN\n",
      "Letter from E. J. Tabet on the conquest of Syria\n",
      "exiles in Switzerland are pessimistic on conditions at home, says C. H. Grasty\n",
      "NaN\n",
      "Col. Roosevelt advocates dismemberment of Austrian Empire and formation of Slavic State in address to Belgian Commission\n",
      "Vatican sees benefit in discussion\n",
      "letters by L. Calkins and L. B. Morse upholding Moffett\n",
      "Social Democratic Party of Finland holds national convention and issues appeal to the world against Russia\n",
      "Vorwaerts supports plea\n",
      "U. S. may be medium of Allies' reply\n",
      "editorial on aims in the war and the Pope's proposals\n",
      "Washington will discard peace based on map\n",
      "his note of transmission with Pope's peace note\n",
      "gives statement of why British seamen cannot fraternize with Germans\n",
      "says, in address at Chautauqua, N. Y., that Berlin is responsible for Armenian massacres\n",
      "review of important events in Kingdom of Hejaz\n",
      "NaN\n",
      "H. O. Beatty gives plans for a restored France\n",
      "letter on the status quo ante\n",
      "NaN\n",
      "H. P. Davison denies that appropriation of $10,000,000 has been made\n",
      "U. S. said to have asked Swedish Govt. to obtain particulars about Turkish cruelties in Armenia and Mesopotamia\n",
      "NaN\n",
      "Lloyd George speaks at Dundee, Scotland\n",
      "Signs order authorizing Shipping Board to take over interned German ships\n",
      "Premier Lloyd George speaks in Glasgow on occasion of being made a freeman of the city\n",
      "Amer. Rights League sends address to Petrograd urging continuation of fight\n",
      "Red Cross contributions from employes asked by Postmaster Gen.\n",
      "Germans warn of renewal of hostilities in jeering leaflet dropped from airplanes; general activity reported\n",
      "J. Cambon interviewed on terms of German majority delegates\n",
      "speaks at Frankfort on annexation\n",
      "NaN\n",
      "San Salvador and Santa Tecla destroyed\n",
      "NaN\n",
      "dispatches on the Russian situation\n",
      "NaN\n",
      "NaN\n",
      "NaN\n",
      "rally at \"Billy\" Sunday Tabernacle, A. C. James and The Christian Herald give for Armenian and Syrian relief $10,000 each\n",
      "H. Morgenthau pays Armenian Committee has overdrawn account $40,000 to aid sufferers\n",
      "Gen. Stcherbatchoff addresses delegates of military forces on Rumanian front in Odessa, May 26\n",
      "representatives of the Cossacks pledge support with special reference to restoration of order in Petrograd\n",
      "On all the fronts\n",
      "cables need of Armenians in Persia to Amer. Committee for Armenian Relief\n",
      "cheered at dinner of Mayor's Committee to French and British Commissions, talks with Marshal Joffre\n",
      "enrolls in Roosevelt division for service in France\n"
     ]
    }
   ],
   "source": [
    "for batch in data:\n",
    "    for doc in batch['response']['docs']:\n",
    "        print(doc.get('abstract','NaN'))"
   ]
  },
  {
   "cell_type": "code",
   "execution_count": 31,
   "metadata": {},
   "outputs": [
    {
     "data": {
      "text/plain": [
       "'d'"
      ]
     },
     "execution_count": 31,
     "metadata": {},
     "output_type": "execute_result"
    }
   ],
   "source": [
    "data[3]"
   ]
  },
  {
   "cell_type": "markdown",
   "metadata": {},
   "source": [
    "To retrieve the other results, we have to set the 'page' attribute:"
   ]
  },
  {
   "cell_type": "code",
   "execution_count": null,
   "metadata": {
    "collapsed": true
   },
   "outputs": [],
   "source": [
    "base_url = 'https://api.nytimes.com/svc/search/v2/articlesearch.json?'\n",
    "# instead of typing the url we use a dictionary the save the specifics of the query\n",
    "query_dict = {\n",
    "                'q':'armenia',\n",
    "                'begin_date':'19140101',\n",
    "                'end_date':'19180101',\n",
    "                'page':'3', # change the value here to download the other articles\n",
    "                'api-key':key}\n",
    "\n",
    "query = '&'.join(['='.join(item) for item in query_dict.items()])\n",
    "print(query[:-4])\n",
    "url = base_url + query\n",
    "print(url)\n",
    "data = requests.get(url).json()\n",
    "for doc in data['response']['docs']:\n",
    "    print(doc.get('abstract','NaN'))"
   ]
  },
  {
   "cell_type": "markdown",
   "metadata": {},
   "source": [
    "**Exercise**: Print the first 10 abstracts of the articles between 1938 and 1940 that mention the pattern 'jew'."
   ]
  },
  {
   "cell_type": "code",
   "execution_count": null,
   "metadata": {
    "collapsed": true
   },
   "outputs": [],
   "source": [
    "base_url = 'https://api.nytimes.com/svc/search/v2/articlesearch.json?'\n",
    "# instead of typing the url we use a dictionary the save the specifics of the query\n",
    "query_dict = {\n",
    "                'q':'jew',\n",
    "                'begin_date':'19380101',\n",
    "                'end_date':'19400101',\n",
    "                'page':'1', # change the value here to download the other articles\n",
    "                'api-key':key}\n",
    "\n",
    "query = '&'.join(['='.join(item) for item in query_dict.items()])\n",
    "print(query[:-4])\n",
    "url = base_url + query\n",
    "print(url)\n",
    "data = requests.get(url).json()\n",
    "for doc in data['response']['docs']:\n",
    "    print(doc.get('abstract','NaN'))"
   ]
  },
  {
   "cell_type": "markdown",
   "metadata": {},
   "source": [
    "Once you know how to use one API, learning the others will be a piece of cake. Try, for example, to obtain data from the [Guardian](http://open-platform.theguardian.com/) or ['Chronicling America'](https://chroniclingamerica.loc.gov/) is very similar. Let's have a look at Chronicling America."
   ]
  },
  {
   "cell_type": "code",
   "execution_count": null,
   "metadata": {
    "collapsed": true
   },
   "outputs": [],
   "source": [
    "state = 'New York'\n",
    "year = '1865'\n",
    "url=\"http://chroniclingamerica.loc.gov/search/pages/results/?state=\" +state + \"&date1=\" + year + \"&date2=\" + year + \"&dateFilterType=yearRange&sequence=1&sort=date&rows=100&format=json\"\n",
    "print(url)"
   ]
  },
  {
   "cell_type": "markdown",
   "metadata": {},
   "source": [
    "Look at the value pairs after the ? to understand the parameters of the search. Explicitly, the first query URL will ask for newspapers:\n",
    "\n",
    "- from New Yokr (state=New York)\n",
    "- from the year 1865, (date1=1865&date2=1865&dateFilterType=yearRange)\n",
    "- only the front pages (sequence=1)\n",
    "- sorting by date (sort=date)\n",
    "- returning a maximum of five (rows=100)\n",
    "0 in JSON (format=json)"
   ]
  },
  {
   "cell_type": "code",
   "execution_count": null,
   "metadata": {
    "collapsed": true
   },
   "outputs": [],
   "source": [
    "newspaper_data = requests.get(url).json()"
   ]
  },
  {
   "cell_type": "code",
   "execution_count": null,
   "metadata": {
    "collapsed": true
   },
   "outputs": [],
   "source": [
    "len(newspaper_data['items'])"
   ]
  },
  {
   "cell_type": "code",
   "execution_count": null,
   "metadata": {
    "collapsed": true
   },
   "outputs": [],
   "source": [
    "print(newspaper_data['items'][0].keys())"
   ]
  },
  {
   "cell_type": "code",
   "execution_count": null,
   "metadata": {
    "collapsed": true
   },
   "outputs": [],
   "source": [
    "print(newspaper_data['items'][0]['ocr_eng'])"
   ]
  },
  {
   "cell_type": "markdown",
   "metadata": {},
   "source": [
    "### The Google Books API"
   ]
  },
  {
   "cell_type": "code",
   "execution_count": null,
   "metadata": {
    "collapsed": true
   },
   "outputs": [],
   "source": [
    "from urllib.request import urlopen\n",
    "import json\n",
    "from pprint import pprint\n",
    "antwoord=urlopen(\"https://www.googleapis.com/books/v1/volumes?q=shakespeare\").read()\n",
    "data=json.loads(antwoord.decode(\"utf-8\"))\n",
    "pprint(data)"
   ]
  },
  {
   "cell_type": "markdown",
   "metadata": {},
   "source": [
    "## 2.9 Advanced Examples: Nested Dictionaries"
   ]
  },
  {
   "cell_type": "markdown",
   "metadata": {},
   "source": [
    "### Advanced Example 1: Topical shifts over time\n",
    "\n",
    "The example in which we plotted the evolution of 'love' useful, but it is nonetheless quite slow, if we'd like to plot many other timelines. For each query the program iterates over all the 500.000+ songs. We can make this more efficient by using **nested dictionaries**. \n",
    "\n",
    "... What?"
   ]
  },
  {
   "cell_type": "code",
   "execution_count": null,
   "metadata": {
    "collapsed": true
   },
   "outputs": [],
   "source": [
    "a_nested_dict = {1960:{'a':5,'the':9},\n",
    "                1961:{'a':3,'the':10}}"
   ]
  },
  {
   "cell_type": "markdown",
   "metadata": {},
   "source": [
    "How to access the word frequencies?"
   ]
  },
  {
   "cell_type": "code",
   "execution_count": null,
   "metadata": {
    "collapsed": true
   },
   "outputs": [],
   "source": [
    "print(a_nested_dict[1960])\n",
    "print(a_nested_dict[1960]['a'])"
   ]
  },
  {
   "cell_type": "code",
   "execution_count": null,
   "metadata": {
    "collapsed": true
   },
   "outputs": [],
   "source": [
    "# print the value of the at year 1961"
   ]
  },
  {
   "cell_type": "markdown",
   "metadata": {},
   "source": [
    "In a nested dictionary, a key maps to the value of type `dict`. In the example we map years to word frequencies for that year (we map years to a mapping between words and their frequencies). This make computing the historical change over time for different words much faster."
   ]
  },
  {
   "cell_type": "markdown",
   "metadata": {},
   "source": [
    "### The speed of your program: `Counter.update()` vs `dict.setdefault()`"
   ]
  },
  {
   "cell_type": "markdown",
   "metadata": {},
   "source": [
    "In Python there are many ways to obtain the same result. The most important factor is often **speed**."
   ]
  },
  {
   "cell_type": "code",
   "execution_count": null,
   "metadata": {
    "collapsed": true
   },
   "outputs": [],
   "source": [
    "# install tqdm to monitor the progress of your script\n",
    "!pip install tqdm"
   ]
  },
  {
   "cell_type": "code",
   "execution_count": null,
   "metadata": {
    "collapsed": true
   },
   "outputs": [],
   "source": [
    "wf = {} # an empty dictionary where we will save \n",
    "from tqdm import tqdm\n",
    "for row in tqdm(song_titles): # iterate over the song_titles variable\n",
    "\n",
    "    year,song_id,group,title = row.split('<SEP>') # parse the row using multiple assignment\n",
    "    year = int(year) # cast year as an integer\n",
    "    \n",
    "    \n",
    "    # here we add some lines to keep track of the total number of words by year\n",
    "    wf.setdefault(year,Counter())\n",
    "    \n",
    "    words = word_tokenize(title.lower()) # split the lowercased string into words\n",
    "    \n",
    "    # here start collecting yearly word frequencies\n",
    "    wf[year].update(Counter(words))"
   ]
  },
  {
   "cell_type": "code",
   "execution_count": null,
   "metadata": {
    "collapsed": true
   },
   "outputs": [],
   "source": [
    "print(wf[1960]['a'])\n",
    "print(wf[1961]['a'])"
   ]
  },
  {
   "cell_type": "code",
   "execution_count": null,
   "metadata": {
    "collapsed": true
   },
   "outputs": [],
   "source": [
    "wf = {} # an empty dictionary where we will save \n",
    "from tqdm import tqdm\n",
    "for row in tqdm(song_titles): # iterate over the song_titles variable\n",
    "\n",
    "    year,song_id,group,title = row.split('<SEP>') # parse the row using multiple assignment\n",
    "    year = int(year) # cast year as an integer\n",
    "    \n",
    "    \n",
    "    # here we add some lines to keep track of the total number of words by year\n",
    "    wf.setdefault(year,{})\n",
    "    \n",
    "    words = word_tokenize(title.lower()) # split the lowercased string into words\n",
    "    \n",
    "    # here start collecting yearly word frequencies\n",
    "    for w in words:\n",
    "        wf[year].setdefault(w,0)\n",
    "        wf[year][w] +=1"
   ]
  },
  {
   "cell_type": "markdown",
   "metadata": {},
   "source": [
    "Now we have to loop through our corpus only once to get the frequency of a word at a certain point in time!"
   ]
  },
  {
   "cell_type": "code",
   "execution_count": null,
   "metadata": {
    "collapsed": true
   },
   "outputs": [],
   "source": [
    "print(wf[1960]['a'])\n",
    "print(wf[1961]['a'])"
   ]
  },
  {
   "cell_type": "markdown",
   "metadata": {},
   "source": [
    "For sure, sometimes a word might not appear. To avoid `KeyErrors` we use the `.get()` method."
   ]
  },
  {
   "cell_type": "code",
   "execution_count": null,
   "metadata": {
    "collapsed": true
   },
   "outputs": [],
   "source": [
    "# this does not work\n",
    "wf[1960]['madonna']"
   ]
  },
  {
   "cell_type": "code",
   "execution_count": null,
   "metadata": {
    "collapsed": true
   },
   "outputs": [],
   "source": [
    "# this works, do you understand the syntax?\n",
    "wf[1960].get('madonna',0.0)"
   ]
  },
  {
   "cell_type": "markdown",
   "metadata": {},
   "source": [
    "The code below returns the same as the long program above but is much faster because we prepared everything as a nest dictionary!"
   ]
  },
  {
   "cell_type": "code",
   "execution_count": null,
   "metadata": {
    "collapsed": true
   },
   "outputs": [],
   "source": [
    "search = 'tears' # define query\n",
    "results = {} # empty dictionary to save frequencies by years\n",
    "for year in wf: # loop over all the keys in the wf dictionary which are the years\n",
    "    results[year] = wf[year].get(search,0.0) # get the value for word search in year year\n",
    "pandas.Series(results).plot() # plot the results"
   ]
  },
  {
   "cell_type": "markdown",
   "metadata": {},
   "source": [
    "For sure we can also **normalize** the results:"
   ]
  },
  {
   "cell_type": "code",
   "execution_count": null,
   "metadata": {
    "collapsed": true
   },
   "outputs": [],
   "source": [
    "search = 'tears' # define query\n",
    "results = {} # empty dictionary to save frequencies by years\n",
    "for year in wf: # loop over all the keys in the wf dictionary which are the years\n",
    "    total = sum(wf[year].values()) # the sum of all the values equals the total word count for that year\n",
    "    results[year] = wf[year].get(search,0.0) / total # get the value for word search in year year and divide it by total \n",
    "pandas.Series(results).plot() # plot the results"
   ]
  },
  {
   "cell_type": "code",
   "execution_count": null,
   "metadata": {
    "collapsed": true
   },
   "outputs": [],
   "source": [
    "# to understand line five\n",
    "a_nested_dict = {1960:{'a':5,'the':9},\n",
    "                1961:{'a':3,'the':10}}\n",
    "print(a_nested_dict[1960])\n",
    "print(a_nested_dict[1960].values())\n",
    "print(sum(a_nested_dict[1960].values()))"
   ]
  },
  {
   "cell_type": "markdown",
   "metadata": {},
   "source": [
    "**Exercise**: So far we only plotted the evolution of **one word over time**. A more realistic scenario would be to monitor topics. Instead of just one word, we'd like to see the presence of a set of semantically related words. Adapt the program below: it should iterate over a list of words and plot total word count over time.\n",
    "> Tip: use two for loops"
   ]
  },
  {
   "cell_type": "code",
   "execution_count": null,
   "metadata": {
    "collapsed": true
   },
   "outputs": [],
   "source": [
    "search = ['tears','cry','crying'] # define query\n",
    "results = {} # empty dictionary to save frequencies by years\n",
    "for year in wf: # loop over all the keys in the wf dictionary which are the years\n",
    "    total = #??\n",
    "    results.setdefault(#??)\n",
    "    for s in search:\n",
    "        #??\n",
    "    results[year] = results[year] / total # get the value for word search in year year and divide it by total \n",
    "pandas.Series #?? plot the results"
   ]
  },
  {
   "cell_type": "markdown",
   "metadata": {},
   "source": [
    "**Exercise**: In the previous exercises we only inspect evolutions over time. Can you make a nested dictionary which keeps track of word counts by band instead of by year?"
   ]
  },
  {
   "cell_type": "code",
   "execution_count": null,
   "metadata": {
    "collapsed": true
   },
   "outputs": [],
   "source": [
    "wf = {} # an empty dictionary where we will save \n",
    "from tqdm import tqdm\n",
    "for row in tqdm(song_titles): # iterate over the song_titles variable\n",
    "\n",
    "    year,song_id,group,title = row.split('<SEP>') # parse the row using multiple assignment\n",
    "    \n",
    "    # here start collecting yearly word frequencies\n",
    "    for w in words:\n",
    "    "
   ]
  },
  {
   "cell_type": "markdown",
   "metadata": {},
   "source": [
    "**Exercise**: Rank the bands by their total word count.\n",
    "> Tip: the total word count is equal to the some of the values as in sum(wf[band name].values())"
   ]
  },
  {
   "cell_type": "code",
   "execution_count": null,
   "metadata": {
    "collapsed": true
   },
   "outputs": [],
   "source": [
    "counts = Counter()\n",
    "\n",
    "for band in wf:\n",
    "    counter[band] = \n",
    "    # ??\n",
    "counts.most_common(100)"
   ]
  },
  {
   "cell_type": "code",
   "execution_count": null,
   "metadata": {
    "collapsed": true
   },
   "outputs": [],
   "source": [
    "# or use sorted"
   ]
  },
  {
   "cell_type": "markdown",
   "metadata": {},
   "source": [
    "**Exercise**: Map each group to the frequency with which they use the word 'love'."
   ]
  },
  {
   "cell_type": "code",
   "execution_count": null,
   "metadata": {
    "collapsed": true
   },
   "outputs": [],
   "source": [
    "counts = Counter()\n",
    "\n",
    "for band in wf:\n",
    "\n"
   ]
  },
  {
   "cell_type": "markdown",
   "metadata": {},
   "source": [
    "### Advanced Examples 2: The Lexical Diversity of Pop Culture"
   ]
  },
  {
   "cell_type": "markdown",
   "metadata": {},
   "source": [
    "We can also compute now (approximately) if topics of songs titles are becoming more or less diverse. \n",
    "\n",
    "This can be done by computing the type-token ratio or the \"lexical diversity\".\n",
    "\n",
    "From the [NLTK book](http://www.nltk.org/book/ch01.html):\n",
    "    \n",
    "> A token is the technical name for a sequence of characters — such as hairy, his, or :) — that we want to treat as a group. [...] A word type is the form or spelling of the word independently of its specific occurrences in a text — that is, the word considered as a unique item of vocabulary. \n",
    "\n",
    "The type-token ratio is then a measure of lexical diversity. It can be calculated as follows:"
   ]
  },
  {
   "cell_type": "code",
   "execution_count": null,
   "metadata": {
    "collapsed": true
   },
   "outputs": [],
   "source": [
    "song_title = 'love love love all I want is candy'\n",
    "tokens = song_title.split()\n",
    "print(tokens)\n",
    "types = set(tokens)\n",
    "print(types)\n",
    "ratio = len(types) / len(tokens)\n",
    "print(ratio)"
   ]
  },
  {
   "cell_type": "markdown",
   "metadata": {},
   "source": [
    "The maximum lexical diversity is one (each word in the corpus appears only once)."
   ]
  },
  {
   "cell_type": "code",
   "execution_count": null,
   "metadata": {
    "collapsed": true
   },
   "outputs": [],
   "source": [
    "song_title = 'love all I want is candy'\n",
    "tokens = song_title.split()\n",
    "print(tokens)\n",
    "types = set(tokens)\n",
    "print(types)\n",
    "ratio = len(types) / len(tokens)\n",
    "print(ratio)"
   ]
  },
  {
   "cell_type": "markdown",
   "metadata": {
    "collapsed": true
   },
   "source": [
    "Now we can compute the lexical diversity of song titles by year."
   ]
  },
  {
   "cell_type": "code",
   "execution_count": null,
   "metadata": {
    "collapsed": true
   },
   "outputs": [],
   "source": [
    "lexdiv = {}\n",
    "for year in wf:\n",
    "    lexdiv[year] = len(wf[year]) / sum(wf[year].values())\n",
    "pandas.Series(lexdiv).plot()"
   ]
  },
  {
   "cell_type": "code",
   "execution_count": null,
   "metadata": {
    "collapsed": true
   },
   "outputs": [],
   "source": [
    "# if you are interested, try some of the above code to study band names!"
   ]
  },
  {
   "cell_type": "markdown",
   "metadata": {},
   "source": [
    "## Exercises - DIY Lists and dictionaries"
   ]
  },
  {
   "cell_type": "markdown",
   "metadata": {},
   "source": [
    "Inspired by *Think Python* by Allen B. Downey (http://thinkpython.com), *Introduction to Programming Using Python* by Y. Liang (Pearson, 2013). Some exercises below have been taken from: http://www.ling.gu.se/~lager/python_exercises.html."
   ]
  },
  {
   "cell_type": "markdown",
   "metadata": {},
   "source": [
    "- Ex. 1: Consider the following strings `sentence1 = \"Mike and Lars kick the bucket\"` and `sentence2 = \"Bonny and Clyde are really famous\"`. Split these strings into words and create the following strings via list manipulation: `sentence3 = \"Mike and Lars are really famous\"` and `sentence4=\"Bonny+and+Clyde+kick+the+bucket\"` (mind the plus signs!). Can you print the middle letter of the fourth sentence?"
   ]
  },
  {
   "cell_type": "code",
   "execution_count": null,
   "metadata": {
    "collapsed": true
   },
   "outputs": [],
   "source": []
  },
  {
   "cell_type": "markdown",
   "metadata": {},
   "source": [
    "- Ex. 2: Create an empty list and add three names (strings) to it using the *append* method"
   ]
  },
  {
   "cell_type": "code",
   "execution_count": null,
   "metadata": {
    "collapsed": true
   },
   "outputs": [],
   "source": []
  },
  {
   "cell_type": "markdown",
   "metadata": {
    "collapsed": true
   },
   "source": [
    "Please use a built-in function to determine the number of strings in the list below"
   ]
  },
  {
   "cell_type": "code",
   "execution_count": null,
   "metadata": {
    "collapsed": true
   },
   "outputs": [],
   "source": [
    "friend_list = ['John', 'Bob', 'John', 'Marry', 'Bob']\n",
    "#  your code here"
   ]
  },
  {
   "cell_type": "code",
   "execution_count": null,
   "metadata": {
    "collapsed": true
   },
   "outputs": [],
   "source": []
  },
  {
   "cell_type": "code",
   "execution_count": null,
   "metadata": {
    "collapsed": true
   },
   "outputs": [],
   "source": [
    "Please remove both *John* names from the list below using a list method"
   ]
  },
  {
   "cell_type": "code",
   "execution_count": null,
   "metadata": {
    "collapsed": true
   },
   "outputs": [],
   "source": [
    "friend_list = ['John', 'Bob', 'John', 'Marry', 'Bob']\n",
    "# your code here"
   ]
  },
  {
   "cell_type": "markdown",
   "metadata": {},
   "source": [
    "-  Ex. 3: Consider the `lookup` dictionary below. The following letters are still missing from it: 'k':'kilo', 'l':'lima', 'm':'mike'. Add them to `lookup`! Could you spell the word \"marvellous\" in code language now? Collect these codes into the list object `msg`. Next, join the items in this list together with a comma and print the spelled out version!\n",
    "\n",
    "> lookup = {'a':'alfa', 'b':'bravo', 'c':'charlie', 'd':'delta', 'e':'echo', 'f':'foxtrot', 'g':'golf', 'h':'hotel', 'i':'india', 'j':'juliett', 'n':'november', 'o':'oscar', 'p':'papa', 'q':'quebec', 'r':'romeo', 's':'sierra', 't':'tango', 'u':'uniform', 'v':'victor', 'w':'whiskey', 'x':'x-ray', 'y':'yankee', 'z':'zulu'}\n"
   ]
  },
  {
   "cell_type": "code",
   "execution_count": null,
   "metadata": {
    "collapsed": true
   },
   "outputs": [],
   "source": []
  },
  {
   "cell_type": "markdown",
   "metadata": {},
   "source": [
    "-  Ex. 4: Collect the code terms in the lookup dict (`alpha`, `bravo`, ...) from the previous exercise into a list called `code_words`. Is this list alphabetically sorted? No? Then make sure that this list is sorted alphabetically. Now remove the items `victor`, `india` and `papa`. Append the words `pigeon` and `potato` at the end of this list. Combine this new list of items into a single string, using a semicolon as a delimiter and print this string. "
   ]
  },
  {
   "cell_type": "code",
   "execution_count": null,
   "metadata": {
    "collapsed": true
   },
   "outputs": [],
   "source": []
  },
  {
   "cell_type": "markdown",
   "metadata": {},
   "source": [
    "- Ex. 5: Write a program that given a long string containing multiple words, prints  the same string, except with the words in backwards order. For example, say I type the string:\n",
    "\n",
    "`My name is Kaspar von Beelen`\n",
    "Then I would see the string:\n",
    "\n",
    "`Beelen von Kaspar is name My`\n",
    "\n",
    "**Tip**: Try using a negative `step`.\n",
    "\n",
    "Extra: Try to do this in just one line of code!"
   ]
  }
 ],
 "metadata": {
  "kernelspec": {
   "display_name": "Python 3",
   "language": "python",
   "name": "python3"
  },
  "language_info": {
   "codemirror_mode": {
    "name": "ipython",
    "version": 3
   },
   "file_extension": ".py",
   "mimetype": "text/x-python",
   "name": "python",
   "nbconvert_exporter": "python",
   "pygments_lexer": "ipython3",
   "version": "3.6.3"
  }
 },
 "nbformat": 4,
 "nbformat_minor": 2
}
