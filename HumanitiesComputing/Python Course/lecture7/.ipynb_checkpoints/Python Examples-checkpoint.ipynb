{
 "cells": [
  {
   "cell_type": "markdown",
   "metadata": {},
   "source": [
    "## Example Code for Loading and Manipulating Data\n",
    "- Loading multiple files (Movie Reviews)\n",
    "- Netvizz\n",
    "- Political Mashup"
   ]
  },
  {
   "cell_type": "code",
   "execution_count": 8,
   "metadata": {
    "collapsed": true
   },
   "outputs": [],
   "source": [
    "# for more detail have a look at Notebook 5.2 Reading and Writing Files\n",
    "import os # import the operating system library\n",
    "import codecs\n",
    "import nltk"
   ]
  },
  {
   "cell_type": "markdown",
   "metadata": {},
   "source": [
    "### Loading a collection of files"
   ]
  },
  {
   "cell_type": "code",
   "execution_count": 3,
   "metadata": {
    "collapsed": true
   },
   "outputs": [],
   "source": [
    "# to use this example download this file and unzip it: http://www.cs.cornell.edu/people/pabo/movie-review-data/review_polarity.tar.gz\n",
    "path_to_neg_reviews = 'review_polarity/txt_sentoken/neg/' # assuming this folder is in same directory as the notebook"
   ]
  },
  {
   "cell_type": "code",
   "execution_count": 5,
   "metadata": {},
   "outputs": [
    {
     "name": "stdout",
     "output_type": "stream",
     "text": [
      "['cv676_22202.txt', 'cv839_22807.txt', 'cv155_7845.txt', 'cv465_23401.txt', 'cv398_17047.txt', 'cv206_15893.txt', 'cv037_19798.txt', 'cv279_19452.txt', 'cv646_16817.txt', 'cv756_23676.txt']\n"
     ]
    }
   ],
   "source": [
    "reviews = os.listdir(path_to_neg_reviews) # list all the files in the folder \n",
    "print(reviews[:10])"
   ]
  },
  {
   "cell_type": "code",
   "execution_count": 10,
   "metadata": {},
   "outputs": [],
   "source": [
    "from nltk.tokenize import regexp_tokenize\n",
    "\n",
    "neg_reviews_tokens_all = [] # here we will store all the tokens\n",
    "for review in reviews:\n",
    "    review_text = open(os.path.join(path_to_neg_reviews,review),'r').read() # open and read the file\n",
    "    # if this fails try codecs.open(os.path.join(path_to_neg_reviews,review),'r',encoding='utf-8').read()\n",
    "    tokens = regexp_tokenize(review_text,pattern='\\w+') # tokenize the text\n",
    "    neg_reviews_tokens_all.extend(tokens) # add tokens to the list"
   ]
  },
  {
   "cell_type": "code",
   "execution_count": 11,
   "metadata": {},
   "outputs": [
    {
     "name": "stdout",
     "output_type": "stream",
     "text": [
      "Displaying 25 of 111 matches:\n",
      "ie mesmerized by just how incredibly awful it was i actually forgot about the s\n",
      "here you can start trying to put the awful experience behind you ibn fahdlan an\n",
      " horse boo the performances are also awful although he s impressed me with his \n",
      "iro and the film still would ve been awful no one and i mean no one can make a \n",
      "reen cool runnings and little giants awful teams in sports comedies make miracu\n",
      "m tapeheads from a decade ago was so awful that it is considered a cult classic\n",
      "appealing in sliding doors is simply awful here she now has the dubious distinc\n",
      "ing fair game has against it is some awful comic relief would you laugh at a sc\n",
      "re scenes in the big hit that are so awful they simply defy description the mov\n",
      "out the other adults are all notably awful while the younger performers don t f\n",
      "exactly how and why this movie is so awful a minute dissection of the ending is\n",
      "man s partner in crime but he s just awful here jerry orbach gives the only cre\n",
      "just me or does skeet ulrich look an awful lot like great looking actor johnny \n",
      "ce he s infected looks and sounds an awful lot like the x files s black cancer \n",
      "red plenty to laugh at unaccountably awful performances by the otherwise fine a\n",
      "st impressions critically a close to awful film but money wise it has been doin\n",
      "rst outings of the year too drearily awful to be savoured as gleefully bad too \n",
      "ear as to why since this movie is so awful the first and most widely available \n",
      "emselves oh nevermind this movie was awful simply awful the characters are broa\n",
      "evermind this movie was awful simply awful the characters are broadly drawn car\n",
      "n before the cameras rolled murphy s awful script is the culprit let s count th\n",
      "e 2 jungle an adaptation of a really awful french film un indien dans la ville \n",
      "killer thriller of the month is just awful oh it starts deceptively okay with a\n",
      " example that car crash must ve been awful for everyone involved you can tell t\n",
      "rote the final ten minutes which are awful the special effects look nice but do\n"
     ]
    }
   ],
   "source": [
    "neg_reviews_nlkt_text = nltk.text.Text(neg_reviews_tokens_all) # convert list of tokens to an NLTK Text object\n",
    "neg_reviews_nlkt_text.concordance('awful') # use the NLTK Text methods, see Notebook 4.2 for more examples"
   ]
  },
  {
   "cell_type": "markdown",
   "metadata": {},
   "source": [
    "### Loading Data from Netvizz"
   ]
  },
  {
   "cell_type": "code",
   "execution_count": 14,
   "metadata": {
    "collapsed": true
   },
   "outputs": [],
   "source": [
    "path_to_netvizz_files = 'page_15704546335_2018_01_24_10_02_35/' # set the path to your files"
   ]
  },
  {
   "cell_type": "code",
   "execution_count": 15,
   "metadata": {},
   "outputs": [
    {
     "name": "stdout",
     "output_type": "stream",
     "text": [
      "['page_15704546335_2018_01_24_10_02_35.tab', 'page_15704546335_2018_01_24_10_02_35_topcomments.tab', 'page_15704546335_2018_01_24_10_02_35_fanspercountry.tab', 'page_15704546335_2018_01_24_10_02_35_statsperday.tab']\n"
     ]
    }
   ],
   "source": [
    "netvizz_files = os.listdir(path_to_netvizz_files) # list all the files in this directory\n",
    "print(netvizz_files)"
   ]
  },
  {
   "cell_type": "code",
   "execution_count": 17,
   "metadata": {},
   "outputs": [
    {
     "name": "stdout",
     "output_type": "stream",
     "text": [
      "page_15704546335_2018_01_24_10_02_35/page_15704546335_2018_01_24_10_02_35_topcomments.tab\n"
     ]
    }
   ],
   "source": [
    "topcomments_path = os.path.join(path_to_netvizz_files,'page_15704546335_2018_01_24_10_02_35_topcomments.tab')\n",
    "print(topcomments_path)"
   ]
  },
  {
   "cell_type": "code",
   "execution_count": 35,
   "metadata": {},
   "outputs": [
    {
     "name": "stdout",
     "output_type": "stream",
     "text": [
      "post_id\tpost_text\tpost_published\tcomment_id\tcomment_message\tcomment_published\tcomment_like_count\tatt\n"
     ]
    }
   ],
   "source": [
    "topcomments = open(topcomments_path,'r').read().strip() # open the files, delete trailing whitespaces with the .strip() method\n",
    "print(topcomments[:100])"
   ]
  },
  {
   "cell_type": "code",
   "execution_count": 31,
   "metadata": {},
   "outputs": [
    {
     "name": "stdout",
     "output_type": "stream",
     "text": [
      "9284\n",
      "post_id\tpost_text\tpost_published\tcomment_id\tcomment_message\tcomment_published\tcomment_like_count\tattachment_type\tattachment_url\n",
      "15704546335_10156559268261336\t\"Some 100 people gathered at the impromptu event at the Taco Bell location and a band called “The Baja Angels” performed.\"\t2018-01-24T09:00:01+0000\t10156559268261336_10156562491181336\t\"Don't let this distract you from the fact that tRUMP paid off a porn star which Fox news never talk about.\"\t2018-01-24T09:01:42+0000\t0\t\t\n"
     ]
    }
   ],
   "source": [
    "rows = topcomments.split('\\n')\n",
    "print(len(rows))\n",
    "print(rows[0]) # the first row is the header\n",
    "print(rows[1]) # the second row a top comment"
   ]
  },
  {
   "cell_type": "code",
   "execution_count": 32,
   "metadata": {},
   "outputs": [],
   "source": [
    "data = []\n",
    "for row in rows[1:]: # ignore the first row which is the header\n",
    "    cells = row.split('\\t') # cells are tab separated, a tab in python is \"\\t\"\n",
    "    data.append(cells) # add the cells to the data list\n"
   ]
  },
  {
   "cell_type": "code",
   "execution_count": 33,
   "metadata": {},
   "outputs": [
    {
     "data": {
      "text/plain": [
       "[['15704546335_10156559268261336',\n",
       "  '\"Some 100 people gathered at the impromptu event at the Taco Bell location and a band called “The Baja Angels” performed.\"',\n",
       "  '2018-01-24T09:00:01+0000',\n",
       "  '10156559268261336_10156562491181336',\n",
       "  '\"Don\\'t let this distract you from the fact that tRUMP paid off a porn star which Fox news never talk about.\"',\n",
       "  '2018-01-24T09:01:42+0000',\n",
       "  '0',\n",
       "  '',\n",
       "  ''],\n",
       " ['15704546335_10156559268261336',\n",
       "  '\"Some 100 people gathered at the impromptu event at the Taco Bell location and a band called “The Baja Angels” performed.\"',\n",
       "  '2018-01-24T09:00:01+0000',\n",
       "  '10156559268261336_10156562488166336',\n",
       "  '\"Any time a great Mexican restaurant is destroyed by a fire or a drunk driver a memorial must be built. Taco Bell is the greatest.\"',\n",
       "  '2018-01-24T09:00:52+0000',\n",
       "  '2',\n",
       "  '',\n",
       "  ''],\n",
       " ['15704546335_10156559268261336',\n",
       "  '\"Some 100 people gathered at the impromptu event at the Taco Bell location and a band called “The Baja Angels” performed.\"',\n",
       "  '2018-01-24T09:00:01+0000',\n",
       "  '10156559268261336_10156562493021336',\n",
       "  '\"I don\\'t know how people can still eat there.  They have had so many sanitation and health code violations it\\'s not even funny.\"',\n",
       "  '2018-01-24T09:02:28+0000',\n",
       "  '0',\n",
       "  '',\n",
       "  '']]"
      ]
     },
     "execution_count": 33,
     "metadata": {},
     "output_type": "execute_result"
    }
   ],
   "source": [
    "data[:3]"
   ]
  },
  {
   "cell_type": "code",
   "execution_count": 36,
   "metadata": {},
   "outputs": [],
   "source": [
    "taco_bell = []\n",
    "# collect all posts mentioning Taco Bell\n",
    "for row in data:\n",
    "    if 'taco bell' in row[1].lower(): # text is saved as the second item (location index 1) in each row, we also lowercase the text\n",
    "        taco_bell.append(row) # append the row to the taco bell list"
   ]
  },
  {
   "cell_type": "code",
   "execution_count": 37,
   "metadata": {},
   "outputs": [
    {
     "name": "stdout",
     "output_type": "stream",
     "text": [
      "[['15704546335_10156559268261336', '\"Some 100 people gathered at the impromptu event at the Taco Bell location and a band called “The Baja Angels” performed.\"', '2018-01-24T09:00:01+0000', '10156559268261336_10156562491181336', '\"Don\\'t let this distract you from the fact that tRUMP paid off a porn star which Fox news never talk about.\"', '2018-01-24T09:01:42+0000', '0', '', ''], ['15704546335_10156559268261336', '\"Some 100 people gathered at the impromptu event at the Taco Bell location and a band called “The Baja Angels” performed.\"', '2018-01-24T09:00:01+0000', '10156559268261336_10156562488166336', '\"Any time a great Mexican restaurant is destroyed by a fire or a drunk driver a memorial must be built. Taco Bell is the greatest.\"', '2018-01-24T09:00:52+0000', '2', '', ''], ['15704546335_10156559268261336', '\"Some 100 people gathered at the impromptu event at the Taco Bell location and a band called “The Baja Angels” performed.\"', '2018-01-24T09:00:01+0000', '10156559268261336_10156562493021336', '\"I don\\'t know how people can still eat there.  They have had so many sanitation and health code violations it\\'s not even funny.\"', '2018-01-24T09:02:28+0000', '0', '', ''], ['15704546335_10156559268261336', '\"Some 100 people gathered at the impromptu event at the Taco Bell location and a band called “The Baja Angels” performed.\"', '2018-01-24T09:00:01+0000', '10156559268261336_10156562493196336', '\"Your wife the porn star ?\"', '2018-01-24T09:02:35+0000', '0', '', ''], ['15704546335_10156559268261336', '\"Some 100 people gathered at the impromptu event at the Taco Bell location and a band called “The Baja Angels” performed.\"', '2018-01-24T09:00:01+0000', '10156559268261336_10156562492811336', '\"How embarrassing for them.\"', '2018-01-24T09:02:22+0000', '0', '', ''], ['15704546335_10156559268261336', '\"Some 100 people gathered at the impromptu event at the Taco Bell location and a band called “The Baja Angels” performed.\"', '2018-01-24T09:00:01+0000', '10156559268261336_10156562492356336', '\"Jobless idiots\"', '2018-01-24T09:02:13+0000', '1', '', '']]\n"
     ]
    }
   ],
   "source": [
    "print(taco_bell)"
   ]
  },
  {
   "cell_type": "markdown",
   "metadata": {},
   "source": [
    "### Opening and loading data from Political Mashup"
   ]
  },
  {
   "cell_type": "code",
   "execution_count": 61,
   "metadata": {},
   "outputs": [],
   "source": [
    "import csv # we need another module here because the separator (',') also appears in the text\n",
    "text = open('hits.csv','r').read()\n",
    "data = [row for row in csv.reader(text.split('\\n'), quotechar='\"', delimiter=',')]"
   ]
  },
  {
   "cell_type": "code",
   "execution_count": 63,
   "metadata": {},
   "outputs": [
    {
     "name": "stdout",
     "output_type": "stream",
     "text": [
      "['\\ufeff\"id\"', 'index', 'type', 'score', 'date', 'speaker', 'party', 'function', 'role', 'paragraphs_count', 'house', 'highlight text']\n",
      "['uk.proc.d.1924-02-18.5.4.2', 'uk.proc', 'speech', '1.707968', '1924-02-18', 'The PRIME MINISTER', 'unknown', '', 'mp', '5', 'commons', 'The PRIME MINISTER: The Union of Socialist <em>Soviet</em> Republics, as established by the Constitution of the 6th July, 1923, consists of the following four Republics: The Russian Socialist Federal <em>Soviet</em> Republic, The Ukrainian Socialist <em>Soviet</em> Republic, The White Russian Socialist <em>Soviet</em> Republic, and The Transcaucasian Socialist Federal <em>Soviet</em> Republic.']\n",
      "The PRIME MINISTER: The Union of Socialist <em>Soviet</em> Republics, as established by the Constitution of the 6th July, 1923, consists of the following four Republics: The Russian Socialist Federal <em>Soviet</em> Republic, The Ukrainian Socialist <em>Soviet</em> Republic, The White Russian Socialist <em>Soviet</em> Republic, and The Transcaucasian Socialist Federal <em>Soviet</em> Republic.\n"
     ]
    }
   ],
   "source": [
    "print(data[0])\n",
    "print(data[1])\n",
    "print(data[1][-1])"
   ]
  }
 ],
 "metadata": {
  "kernelspec": {
   "display_name": "Python 3",
   "language": "python",
   "name": "python3"
  },
  "language_info": {
   "codemirror_mode": {
    "name": "ipython",
    "version": 3
   },
   "file_extension": ".py",
   "mimetype": "text/x-python",
   "name": "python",
   "nbconvert_exporter": "python",
   "pygments_lexer": "ipython3",
   "version": "3.6.3"
  }
 },
 "nbformat": 4,
 "nbformat_minor": 2
}
